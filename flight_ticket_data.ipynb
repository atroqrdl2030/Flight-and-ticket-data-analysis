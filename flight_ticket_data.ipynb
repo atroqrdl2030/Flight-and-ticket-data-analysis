{
 "cells": [
  {
   "cell_type": "markdown",
   "id": "0bd09dad",
   "metadata": {},
   "source": [
    "### Flight and Ticket Data Anaysis\n",
    "#### Saeed Shahmiri"
   ]
  },
  {
   "cell_type": "code",
   "execution_count": 68,
   "id": "42bf60cf",
   "metadata": {},
   "outputs": [],
   "source": [
    "#Importing required packages\n",
    "import pandas as pd \n",
    "import numpy as np \n",
    "from scipy import stats\n",
    "import plotly.express as px\n",
    "import seaborn as sns\n",
    "from scipy.stats.stats import pearsonr\n",
    "from scipy.stats import chi2\n",
    "from scipy.stats import *\n",
    "import matplotlib.pyplot as plt\n",
    "import matplotlib\n",
    "import seaborn as sns\n",
    "# %matplotlib inline\n",
    "matplotlib.rcParams['figure.figsize'] = [20, 5]\n",
    "import warnings\n",
    "warnings.filterwarnings('ignore')\n",
    "# pd.options.display.float_format = '{:.2f}'.format"
   ]
  },
  {
   "cell_type": "markdown",
   "id": "713b0ce2",
   "metadata": {},
   "source": [
    "# A \n",
    "## A-1 Importing data files and looking at their information"
   ]
  },
  {
   "cell_type": "code",
   "execution_count": 69,
   "id": "38f16b40",
   "metadata": {},
   "outputs": [
    {
     "name": "stdout",
     "output_type": "stream",
     "text": [
      "<class 'pandas.core.frame.DataFrame'>\n",
      "RangeIndex: 1167285 entries, 0 to 1167284\n",
      "Data columns (total 12 columns):\n",
      " #   Column             Non-Null Count    Dtype  \n",
      "---  ------             --------------    -----  \n",
      " 0   ITIN_ID            1167285 non-null  int64  \n",
      " 1   YEAR               1167285 non-null  int64  \n",
      " 2   QUARTER            1167285 non-null  int64  \n",
      " 3   ORIGIN             1167285 non-null  object \n",
      " 4   ORIGIN_COUNTRY     1167285 non-null  object \n",
      " 5   ORIGIN_STATE_ABR   1167285 non-null  object \n",
      " 6   ORIGIN_STATE_NM    1167285 non-null  object \n",
      " 7   ROUNDTRIP          1167285 non-null  float64\n",
      " 8   REPORTING_CARRIER  1167285 non-null  object \n",
      " 9   PASSENGERS         1165308 non-null  float64\n",
      " 10  ITIN_FARE          1166325 non-null  object \n",
      " 11  DESTINATION        1167285 non-null  object \n",
      "dtypes: float64(2), int64(3), object(7)\n",
      "memory usage: 106.9+ MB\n",
      "None\n",
      "<class 'pandas.core.frame.DataFrame'>\n",
      "RangeIndex: 55369 entries, 0 to 55368\n",
      "Data columns (total 8 columns):\n",
      " #   Column        Non-Null Count  Dtype  \n",
      "---  ------        --------------  -----  \n",
      " 0   TYPE          55369 non-null  object \n",
      " 1   NAME          55369 non-null  object \n",
      " 2   ELEVATION_FT  48354 non-null  float64\n",
      " 3   CONTINENT     27526 non-null  object \n",
      " 4   ISO_COUNTRY   55122 non-null  object \n",
      " 5   MUNICIPALITY  49663 non-null  object \n",
      " 6   IATA_CODE     9182 non-null   object \n",
      " 7   COORDINATES   55369 non-null  object \n",
      "dtypes: float64(1), object(7)\n",
      "memory usage: 3.4+ MB\n",
      "None\n",
      "<class 'pandas.core.frame.DataFrame'>\n",
      "RangeIndex: 1915886 entries, 0 to 1915885\n",
      "Data columns (total 16 columns):\n",
      " #   Column             Dtype  \n",
      "---  ------             -----  \n",
      " 0   FL_DATE            object \n",
      " 1   OP_CARRIER         object \n",
      " 2   TAIL_NUM           object \n",
      " 3   OP_CARRIER_FL_NUM  object \n",
      " 4   ORIGIN_AIRPORT_ID  int64  \n",
      " 5   ORIGIN             object \n",
      " 6   ORIGIN_CITY_NAME   object \n",
      " 7   DEST_AIRPORT_ID    int64  \n",
      " 8   DESTINATION        object \n",
      " 9   DEST_CITY_NAME     object \n",
      " 10  DEP_DELAY          float64\n",
      " 11  ARR_DELAY          float64\n",
      " 12  CANCELLED          float64\n",
      " 13  AIR_TIME           object \n",
      " 14  DISTANCE           object \n",
      " 15  OCCUPANCY_RATE     float64\n",
      "dtypes: float64(4), int64(2), object(10)\n",
      "memory usage: 233.9+ MB\n",
      "None\n"
     ]
    }
   ],
   "source": [
    "flights = pd.read_csv('C:/Users/jshahms/Downloads/data/Flights.csv')\n",
    "airport_codes = pd.read_csv('C:/Users/jshahms/Downloads/data/Airport_Codes.csv')\n",
    "tickets = pd.read_csv('C:/Users/jshahms/Downloads/data/Tickets.csv')\n",
    "print(tickets.info())\n",
    "print(airport_codes.info())\n",
    "print(flights.info())"
   ]
  },
  {
   "cell_type": "code",
   "execution_count": 70,
   "id": "db484033",
   "metadata": {},
   "outputs": [
    {
     "data": {
      "text/plain": [
       "<bound method NDFrame.describe of                  TYPE                                NAME  ELEVATION_FT  \\\n",
       "0            heliport                   Total Rf Heliport          11.0   \n",
       "1       small_airport                Aero B Ranch Airport        3435.0   \n",
       "2       small_airport                        Lowell Field         450.0   \n",
       "3       small_airport                        Epps Airpark         820.0   \n",
       "4              closed  Newport Hospital & Clinic Heliport         237.0   \n",
       "...               ...                                 ...           ...   \n",
       "55364  medium_airport               Yingkou Lanqi Airport           0.0   \n",
       "55365  medium_airport             Shenyang Dongta Airport           NaN   \n",
       "55366        heliport                     Sealand Helipad          40.0   \n",
       "55367   small_airport           Glorioso Islands Airstrip          11.0   \n",
       "55368   small_airport             Satsuma IÅjima Airport         338.0   \n",
       "\n",
       "      CONTINENT ISO_COUNTRY      MUNICIPALITY IATA_CODE  \\\n",
       "0           NaN          US          Bensalem       NaN   \n",
       "1           NaN          US             Leoti       NaN   \n",
       "2           NaN          US      Anchor Point       NaN   \n",
       "3           NaN          US           Harvest       NaN   \n",
       "4           NaN          US           Newport       NaN   \n",
       "...         ...         ...               ...       ...   \n",
       "55364        AS          CN           Yingkou       YKH   \n",
       "55365        AS          CN          Shenyang       NaN   \n",
       "55366        EU          GB           Sealand       NaN   \n",
       "55367        AF          TF  Grande Glorieuse       NaN   \n",
       "55368        AS          JP      Mishima-Mura       NaN   \n",
       "\n",
       "                                   COORDINATES  \n",
       "0           -74.93360137939453, 40.07080078125  \n",
       "1                       -101.473911, 38.704022  \n",
       "2                  -151.695999146, 59.94919968  \n",
       "3        -86.77030181884766, 34.86479949951172  \n",
       "4                          -91.254898, 35.6087  \n",
       "...                                        ...  \n",
       "55364                      122.3586, 40.542524  \n",
       "55365   123.49600219726562, 41.784400939941406  \n",
       "55366                        1.4825, 51.894444  \n",
       "55367  47.296388888900005, -11.584277777799999  \n",
       "55368                    130.270556, 30.784722  \n",
       "\n",
       "[55369 rows x 8 columns]>"
      ]
     },
     "execution_count": 70,
     "metadata": {},
     "output_type": "execute_result"
    }
   ],
   "source": [
    "airport_codes.describe"
   ]
  },
  {
   "cell_type": "code",
   "execution_count": 71,
   "id": "95e386d9",
   "metadata": {},
   "outputs": [
    {
     "data": {
      "text/html": [
       "<div>\n",
       "<style scoped>\n",
       "    .dataframe tbody tr th:only-of-type {\n",
       "        vertical-align: middle;\n",
       "    }\n",
       "\n",
       "    .dataframe tbody tr th {\n",
       "        vertical-align: top;\n",
       "    }\n",
       "\n",
       "    .dataframe thead th {\n",
       "        text-align: right;\n",
       "    }\n",
       "</style>\n",
       "<table border=\"1\" class=\"dataframe\">\n",
       "  <thead>\n",
       "    <tr style=\"text-align: right;\">\n",
       "      <th></th>\n",
       "      <th>TYPE</th>\n",
       "      <th>NAME</th>\n",
       "      <th>ELEVATION_FT</th>\n",
       "      <th>CONTINENT</th>\n",
       "      <th>ISO_COUNTRY</th>\n",
       "      <th>MUNICIPALITY</th>\n",
       "      <th>IATA_CODE</th>\n",
       "      <th>COORDINATES</th>\n",
       "    </tr>\n",
       "  </thead>\n",
       "  <tbody>\n",
       "    <tr>\n",
       "      <th>0</th>\n",
       "      <td>heliport</td>\n",
       "      <td>Total Rf Heliport</td>\n",
       "      <td>11.0</td>\n",
       "      <td>NaN</td>\n",
       "      <td>US</td>\n",
       "      <td>Bensalem</td>\n",
       "      <td>NaN</td>\n",
       "      <td>-74.93360137939453, 40.07080078125</td>\n",
       "    </tr>\n",
       "    <tr>\n",
       "      <th>1</th>\n",
       "      <td>small_airport</td>\n",
       "      <td>Aero B Ranch Airport</td>\n",
       "      <td>3435.0</td>\n",
       "      <td>NaN</td>\n",
       "      <td>US</td>\n",
       "      <td>Leoti</td>\n",
       "      <td>NaN</td>\n",
       "      <td>-101.473911, 38.704022</td>\n",
       "    </tr>\n",
       "    <tr>\n",
       "      <th>2</th>\n",
       "      <td>small_airport</td>\n",
       "      <td>Lowell Field</td>\n",
       "      <td>450.0</td>\n",
       "      <td>NaN</td>\n",
       "      <td>US</td>\n",
       "      <td>Anchor Point</td>\n",
       "      <td>NaN</td>\n",
       "      <td>-151.695999146, 59.94919968</td>\n",
       "    </tr>\n",
       "    <tr>\n",
       "      <th>3</th>\n",
       "      <td>small_airport</td>\n",
       "      <td>Epps Airpark</td>\n",
       "      <td>820.0</td>\n",
       "      <td>NaN</td>\n",
       "      <td>US</td>\n",
       "      <td>Harvest</td>\n",
       "      <td>NaN</td>\n",
       "      <td>-86.77030181884766, 34.86479949951172</td>\n",
       "    </tr>\n",
       "    <tr>\n",
       "      <th>4</th>\n",
       "      <td>closed</td>\n",
       "      <td>Newport Hospital &amp; Clinic Heliport</td>\n",
       "      <td>237.0</td>\n",
       "      <td>NaN</td>\n",
       "      <td>US</td>\n",
       "      <td>Newport</td>\n",
       "      <td>NaN</td>\n",
       "      <td>-91.254898, 35.6087</td>\n",
       "    </tr>\n",
       "  </tbody>\n",
       "</table>\n",
       "</div>"
      ],
      "text/plain": [
       "            TYPE                                NAME  ELEVATION_FT CONTINENT  \\\n",
       "0       heliport                   Total Rf Heliport          11.0       NaN   \n",
       "1  small_airport                Aero B Ranch Airport        3435.0       NaN   \n",
       "2  small_airport                        Lowell Field         450.0       NaN   \n",
       "3  small_airport                        Epps Airpark         820.0       NaN   \n",
       "4         closed  Newport Hospital & Clinic Heliport         237.0       NaN   \n",
       "\n",
       "  ISO_COUNTRY  MUNICIPALITY IATA_CODE                            COORDINATES  \n",
       "0          US      Bensalem       NaN     -74.93360137939453, 40.07080078125  \n",
       "1          US         Leoti       NaN                 -101.473911, 38.704022  \n",
       "2          US  Anchor Point       NaN            -151.695999146, 59.94919968  \n",
       "3          US       Harvest       NaN  -86.77030181884766, 34.86479949951172  \n",
       "4          US       Newport       NaN                    -91.254898, 35.6087  "
      ]
     },
     "execution_count": 71,
     "metadata": {},
     "output_type": "execute_result"
    }
   ],
   "source": [
    "airport_codes.head(5)"
   ]
  },
  {
   "cell_type": "code",
   "execution_count": 72,
   "id": "85c102c6",
   "metadata": {},
   "outputs": [
    {
     "data": {
      "text/html": [
       "<div>\n",
       "<style scoped>\n",
       "    .dataframe tbody tr th:only-of-type {\n",
       "        vertical-align: middle;\n",
       "    }\n",
       "\n",
       "    .dataframe tbody tr th {\n",
       "        vertical-align: top;\n",
       "    }\n",
       "\n",
       "    .dataframe thead th {\n",
       "        text-align: right;\n",
       "    }\n",
       "</style>\n",
       "<table border=\"1\" class=\"dataframe\">\n",
       "  <thead>\n",
       "    <tr style=\"text-align: right;\">\n",
       "      <th></th>\n",
       "      <th>TYPE</th>\n",
       "      <th>NAME</th>\n",
       "      <th>ELEVATION_FT</th>\n",
       "      <th>CONTINENT</th>\n",
       "      <th>ISO_COUNTRY</th>\n",
       "      <th>MUNICIPALITY</th>\n",
       "      <th>IATA_CODE</th>\n",
       "      <th>COORDINATES</th>\n",
       "    </tr>\n",
       "  </thead>\n",
       "  <tbody>\n",
       "    <tr>\n",
       "      <th>55364</th>\n",
       "      <td>medium_airport</td>\n",
       "      <td>Yingkou Lanqi Airport</td>\n",
       "      <td>0.0</td>\n",
       "      <td>AS</td>\n",
       "      <td>CN</td>\n",
       "      <td>Yingkou</td>\n",
       "      <td>YKH</td>\n",
       "      <td>122.3586, 40.542524</td>\n",
       "    </tr>\n",
       "    <tr>\n",
       "      <th>55365</th>\n",
       "      <td>medium_airport</td>\n",
       "      <td>Shenyang Dongta Airport</td>\n",
       "      <td>NaN</td>\n",
       "      <td>AS</td>\n",
       "      <td>CN</td>\n",
       "      <td>Shenyang</td>\n",
       "      <td>NaN</td>\n",
       "      <td>123.49600219726562, 41.784400939941406</td>\n",
       "    </tr>\n",
       "    <tr>\n",
       "      <th>55366</th>\n",
       "      <td>heliport</td>\n",
       "      <td>Sealand Helipad</td>\n",
       "      <td>40.0</td>\n",
       "      <td>EU</td>\n",
       "      <td>GB</td>\n",
       "      <td>Sealand</td>\n",
       "      <td>NaN</td>\n",
       "      <td>1.4825, 51.894444</td>\n",
       "    </tr>\n",
       "    <tr>\n",
       "      <th>55367</th>\n",
       "      <td>small_airport</td>\n",
       "      <td>Glorioso Islands Airstrip</td>\n",
       "      <td>11.0</td>\n",
       "      <td>AF</td>\n",
       "      <td>TF</td>\n",
       "      <td>Grande Glorieuse</td>\n",
       "      <td>NaN</td>\n",
       "      <td>47.296388888900005, -11.584277777799999</td>\n",
       "    </tr>\n",
       "    <tr>\n",
       "      <th>55368</th>\n",
       "      <td>small_airport</td>\n",
       "      <td>Satsuma IÅjima Airport</td>\n",
       "      <td>338.0</td>\n",
       "      <td>AS</td>\n",
       "      <td>JP</td>\n",
       "      <td>Mishima-Mura</td>\n",
       "      <td>NaN</td>\n",
       "      <td>130.270556, 30.784722</td>\n",
       "    </tr>\n",
       "  </tbody>\n",
       "</table>\n",
       "</div>"
      ],
      "text/plain": [
       "                 TYPE                       NAME  ELEVATION_FT CONTINENT  \\\n",
       "55364  medium_airport      Yingkou Lanqi Airport           0.0        AS   \n",
       "55365  medium_airport    Shenyang Dongta Airport           NaN        AS   \n",
       "55366        heliport            Sealand Helipad          40.0        EU   \n",
       "55367   small_airport  Glorioso Islands Airstrip          11.0        AF   \n",
       "55368   small_airport    Satsuma IÅjima Airport         338.0        AS   \n",
       "\n",
       "      ISO_COUNTRY      MUNICIPALITY IATA_CODE  \\\n",
       "55364          CN           Yingkou       YKH   \n",
       "55365          CN          Shenyang       NaN   \n",
       "55366          GB           Sealand       NaN   \n",
       "55367          TF  Grande Glorieuse       NaN   \n",
       "55368          JP      Mishima-Mura       NaN   \n",
       "\n",
       "                                   COORDINATES  \n",
       "55364                      122.3586, 40.542524  \n",
       "55365   123.49600219726562, 41.784400939941406  \n",
       "55366                        1.4825, 51.894444  \n",
       "55367  47.296388888900005, -11.584277777799999  \n",
       "55368                    130.270556, 30.784722  "
      ]
     },
     "execution_count": 72,
     "metadata": {},
     "output_type": "execute_result"
    }
   ],
   "source": [
    "airport_codes.tail(5)"
   ]
  },
  {
   "cell_type": "code",
   "execution_count": 73,
   "id": "54cde38d",
   "metadata": {},
   "outputs": [
    {
     "data": {
      "text/plain": [
       "<bound method NDFrame.describe of             FL_DATE OP_CARRIER TAIL_NUM OP_CARRIER_FL_NUM  ORIGIN_AIRPORT_ID  \\\n",
       "0        2019-03-02         WN   N955WN              4591              14635   \n",
       "1        2019-03-02         WN   N8686A              3231              14635   \n",
       "2        2019-03-02         WN   N201LV              3383              14635   \n",
       "3        2019-03-02         WN   N413WN              5498              14635   \n",
       "4        2019-03-02         WN   N7832A              6933              14635   \n",
       "...             ...        ...      ...               ...                ...   \n",
       "1915881     3/23/19         AA   N903NN              1433              15370   \n",
       "1915882     3/24/19         AA   N965AN              1433              15370   \n",
       "1915883     3/25/19         AA   N979NN              1433              15370   \n",
       "1915884     3/26/19         AA   N872NN              1433              15370   \n",
       "1915885     3/27/19         AA   N945AN              1433              15370   \n",
       "\n",
       "        ORIGIN ORIGIN_CITY_NAME  DEST_AIRPORT_ID DESTINATION DEST_CITY_NAME  \\\n",
       "0          RSW   Fort Myers, FL            11042         CLE  Cleveland, OH   \n",
       "1          RSW   Fort Myers, FL            11066         CMH   Columbus, OH   \n",
       "2          RSW   Fort Myers, FL            11066         CMH   Columbus, OH   \n",
       "3          RSW   Fort Myers, FL            11066         CMH   Columbus, OH   \n",
       "4          RSW   Fort Myers, FL            11259         DAL     Dallas, TX   \n",
       "...        ...              ...              ...         ...            ...   \n",
       "1915881    TUL        Tulsa, OK            11057         CLT  Charlotte, NC   \n",
       "1915882    TUL        Tulsa, OK            11057         CLT  Charlotte, NC   \n",
       "1915883    TUL        Tulsa, OK            11057         CLT  Charlotte, NC   \n",
       "1915884    TUL        Tulsa, OK            11057         CLT  Charlotte, NC   \n",
       "1915885    TUL        Tulsa, OK            11057         CLT  Charlotte, NC   \n",
       "\n",
       "         DEP_DELAY  ARR_DELAY  CANCELLED AIR_TIME DISTANCE  OCCUPANCY_RATE  \n",
       "0             -8.0       -6.0        0.0    143.0   1025.0        0.970000  \n",
       "1              1.0        5.0        0.0    135.0    930.0        0.550000  \n",
       "2              0.0        4.0        0.0    132.0    930.0        0.910000  \n",
       "3             11.0       14.0        0.0    136.0    930.0        0.670000  \n",
       "4              0.0      -17.0        0.0    151.0   1005.0        0.620000  \n",
       "...            ...        ...        ...      ...      ...             ...  \n",
       "1915881       -9.0       -6.0        0.0      112     ****        0.794884  \n",
       "1915882       -2.0       -1.0        0.0      106     ****        0.538399  \n",
       "1915883       -8.0      -25.0        0.0      106     ****        0.955579  \n",
       "1915884       -9.0       -6.0        0.0      112     ****        0.595344  \n",
       "1915885       -8.0        5.0        0.0      117     ****        0.350192  \n",
       "\n",
       "[1915886 rows x 16 columns]>"
      ]
     },
     "execution_count": 73,
     "metadata": {},
     "output_type": "execute_result"
    }
   ],
   "source": [
    "flights.describe"
   ]
  },
  {
   "cell_type": "code",
   "execution_count": 74,
   "id": "30939051",
   "metadata": {},
   "outputs": [
    {
     "data": {
      "text/html": [
       "<div>\n",
       "<style scoped>\n",
       "    .dataframe tbody tr th:only-of-type {\n",
       "        vertical-align: middle;\n",
       "    }\n",
       "\n",
       "    .dataframe tbody tr th {\n",
       "        vertical-align: top;\n",
       "    }\n",
       "\n",
       "    .dataframe thead th {\n",
       "        text-align: right;\n",
       "    }\n",
       "</style>\n",
       "<table border=\"1\" class=\"dataframe\">\n",
       "  <thead>\n",
       "    <tr style=\"text-align: right;\">\n",
       "      <th></th>\n",
       "      <th>FL_DATE</th>\n",
       "      <th>OP_CARRIER</th>\n",
       "      <th>TAIL_NUM</th>\n",
       "      <th>OP_CARRIER_FL_NUM</th>\n",
       "      <th>ORIGIN_AIRPORT_ID</th>\n",
       "      <th>ORIGIN</th>\n",
       "      <th>ORIGIN_CITY_NAME</th>\n",
       "      <th>DEST_AIRPORT_ID</th>\n",
       "      <th>DESTINATION</th>\n",
       "      <th>DEST_CITY_NAME</th>\n",
       "      <th>DEP_DELAY</th>\n",
       "      <th>ARR_DELAY</th>\n",
       "      <th>CANCELLED</th>\n",
       "      <th>AIR_TIME</th>\n",
       "      <th>DISTANCE</th>\n",
       "      <th>OCCUPANCY_RATE</th>\n",
       "    </tr>\n",
       "  </thead>\n",
       "  <tbody>\n",
       "    <tr>\n",
       "      <th>0</th>\n",
       "      <td>2019-03-02</td>\n",
       "      <td>WN</td>\n",
       "      <td>N955WN</td>\n",
       "      <td>4591</td>\n",
       "      <td>14635</td>\n",
       "      <td>RSW</td>\n",
       "      <td>Fort Myers, FL</td>\n",
       "      <td>11042</td>\n",
       "      <td>CLE</td>\n",
       "      <td>Cleveland, OH</td>\n",
       "      <td>-8.0</td>\n",
       "      <td>-6.0</td>\n",
       "      <td>0.0</td>\n",
       "      <td>143.0</td>\n",
       "      <td>1025.0</td>\n",
       "      <td>0.97</td>\n",
       "    </tr>\n",
       "    <tr>\n",
       "      <th>1</th>\n",
       "      <td>2019-03-02</td>\n",
       "      <td>WN</td>\n",
       "      <td>N8686A</td>\n",
       "      <td>3231</td>\n",
       "      <td>14635</td>\n",
       "      <td>RSW</td>\n",
       "      <td>Fort Myers, FL</td>\n",
       "      <td>11066</td>\n",
       "      <td>CMH</td>\n",
       "      <td>Columbus, OH</td>\n",
       "      <td>1.0</td>\n",
       "      <td>5.0</td>\n",
       "      <td>0.0</td>\n",
       "      <td>135.0</td>\n",
       "      <td>930.0</td>\n",
       "      <td>0.55</td>\n",
       "    </tr>\n",
       "    <tr>\n",
       "      <th>2</th>\n",
       "      <td>2019-03-02</td>\n",
       "      <td>WN</td>\n",
       "      <td>N201LV</td>\n",
       "      <td>3383</td>\n",
       "      <td>14635</td>\n",
       "      <td>RSW</td>\n",
       "      <td>Fort Myers, FL</td>\n",
       "      <td>11066</td>\n",
       "      <td>CMH</td>\n",
       "      <td>Columbus, OH</td>\n",
       "      <td>0.0</td>\n",
       "      <td>4.0</td>\n",
       "      <td>0.0</td>\n",
       "      <td>132.0</td>\n",
       "      <td>930.0</td>\n",
       "      <td>0.91</td>\n",
       "    </tr>\n",
       "    <tr>\n",
       "      <th>3</th>\n",
       "      <td>2019-03-02</td>\n",
       "      <td>WN</td>\n",
       "      <td>N413WN</td>\n",
       "      <td>5498</td>\n",
       "      <td>14635</td>\n",
       "      <td>RSW</td>\n",
       "      <td>Fort Myers, FL</td>\n",
       "      <td>11066</td>\n",
       "      <td>CMH</td>\n",
       "      <td>Columbus, OH</td>\n",
       "      <td>11.0</td>\n",
       "      <td>14.0</td>\n",
       "      <td>0.0</td>\n",
       "      <td>136.0</td>\n",
       "      <td>930.0</td>\n",
       "      <td>0.67</td>\n",
       "    </tr>\n",
       "    <tr>\n",
       "      <th>4</th>\n",
       "      <td>2019-03-02</td>\n",
       "      <td>WN</td>\n",
       "      <td>N7832A</td>\n",
       "      <td>6933</td>\n",
       "      <td>14635</td>\n",
       "      <td>RSW</td>\n",
       "      <td>Fort Myers, FL</td>\n",
       "      <td>11259</td>\n",
       "      <td>DAL</td>\n",
       "      <td>Dallas, TX</td>\n",
       "      <td>0.0</td>\n",
       "      <td>-17.0</td>\n",
       "      <td>0.0</td>\n",
       "      <td>151.0</td>\n",
       "      <td>1005.0</td>\n",
       "      <td>0.62</td>\n",
       "    </tr>\n",
       "  </tbody>\n",
       "</table>\n",
       "</div>"
      ],
      "text/plain": [
       "      FL_DATE OP_CARRIER TAIL_NUM OP_CARRIER_FL_NUM  ORIGIN_AIRPORT_ID ORIGIN  \\\n",
       "0  2019-03-02         WN   N955WN              4591              14635    RSW   \n",
       "1  2019-03-02         WN   N8686A              3231              14635    RSW   \n",
       "2  2019-03-02         WN   N201LV              3383              14635    RSW   \n",
       "3  2019-03-02         WN   N413WN              5498              14635    RSW   \n",
       "4  2019-03-02         WN   N7832A              6933              14635    RSW   \n",
       "\n",
       "  ORIGIN_CITY_NAME  DEST_AIRPORT_ID DESTINATION DEST_CITY_NAME  DEP_DELAY  \\\n",
       "0   Fort Myers, FL            11042         CLE  Cleveland, OH       -8.0   \n",
       "1   Fort Myers, FL            11066         CMH   Columbus, OH        1.0   \n",
       "2   Fort Myers, FL            11066         CMH   Columbus, OH        0.0   \n",
       "3   Fort Myers, FL            11066         CMH   Columbus, OH       11.0   \n",
       "4   Fort Myers, FL            11259         DAL     Dallas, TX        0.0   \n",
       "\n",
       "   ARR_DELAY  CANCELLED AIR_TIME DISTANCE  OCCUPANCY_RATE  \n",
       "0       -6.0        0.0    143.0   1025.0            0.97  \n",
       "1        5.0        0.0    135.0    930.0            0.55  \n",
       "2        4.0        0.0    132.0    930.0            0.91  \n",
       "3       14.0        0.0    136.0    930.0            0.67  \n",
       "4      -17.0        0.0    151.0   1005.0            0.62  "
      ]
     },
     "execution_count": 74,
     "metadata": {},
     "output_type": "execute_result"
    }
   ],
   "source": [
    "flights.head(5)"
   ]
  },
  {
   "cell_type": "code",
   "execution_count": 75,
   "id": "7b8afd8a",
   "metadata": {},
   "outputs": [
    {
     "data": {
      "text/plain": [
       "<bound method NDFrame.describe of               ITIN_ID  YEAR  QUARTER ORIGIN ORIGIN_COUNTRY ORIGIN_STATE_ABR  \\\n",
       "0        201912723049  2019        1    ABI             US               TX   \n",
       "1        201912723085  2019        1    ABI             US               TX   \n",
       "2        201912723491  2019        1    ABI             US               TX   \n",
       "3        201912723428  2019        1    ABI             US               TX   \n",
       "4        201912723509  2019        1    ABI             US               TX   \n",
       "...               ...   ...      ...    ...            ...              ...   \n",
       "1167280  201911284909  2019        1    YAK             US               AK   \n",
       "1167281  201911284959  2019        1    YAK             US               AK   \n",
       "1167282  201911284940  2019        1    YAK             US               AK   \n",
       "1167283  201911284914  2019        1    YAK             US               AK   \n",
       "1167284  201911284952  2019        1    YAK             US               AK   \n",
       "\n",
       "        ORIGIN_STATE_NM  ROUNDTRIP REPORTING_CARRIER  PASSENGERS ITIN_FARE  \\\n",
       "0                 Texas        1.0                MQ         1.0     736.0   \n",
       "1                 Texas        1.0                MQ         1.0     570.0   \n",
       "2                 Texas        1.0                MQ         1.0     564.0   \n",
       "3                 Texas        1.0                MQ         1.0     345.0   \n",
       "4                 Texas        0.0                MQ         1.0     309.0   \n",
       "...                 ...        ...               ...         ...       ...   \n",
       "1167280          Alaska        0.0                AS         1.0     244.0   \n",
       "1167281          Alaska        1.0                AS         1.0     371.0   \n",
       "1167282          Alaska        0.0                AS         1.0     271.0   \n",
       "1167283          Alaska        0.0                AS         1.0     603.0   \n",
       "1167284          Alaska        1.0                AS         1.0     299.0   \n",
       "\n",
       "        DESTINATION  \n",
       "0               DAB  \n",
       "1               COS  \n",
       "2               MCO  \n",
       "3               LGA  \n",
       "4               MGM  \n",
       "...             ...  \n",
       "1167280         ANC  \n",
       "1167281         JNU  \n",
       "1167282         JNU  \n",
       "1167283         ANC  \n",
       "1167284         JNU  \n",
       "\n",
       "[1167285 rows x 12 columns]>"
      ]
     },
     "execution_count": 75,
     "metadata": {},
     "output_type": "execute_result"
    }
   ],
   "source": [
    "tickets.describe"
   ]
  },
  {
   "cell_type": "code",
   "execution_count": 76,
   "id": "30ea3c3b",
   "metadata": {},
   "outputs": [
    {
     "data": {
      "text/html": [
       "<div>\n",
       "<style scoped>\n",
       "    .dataframe tbody tr th:only-of-type {\n",
       "        vertical-align: middle;\n",
       "    }\n",
       "\n",
       "    .dataframe tbody tr th {\n",
       "        vertical-align: top;\n",
       "    }\n",
       "\n",
       "    .dataframe thead th {\n",
       "        text-align: right;\n",
       "    }\n",
       "</style>\n",
       "<table border=\"1\" class=\"dataframe\">\n",
       "  <thead>\n",
       "    <tr style=\"text-align: right;\">\n",
       "      <th></th>\n",
       "      <th>ITIN_ID</th>\n",
       "      <th>YEAR</th>\n",
       "      <th>QUARTER</th>\n",
       "      <th>ORIGIN</th>\n",
       "      <th>ORIGIN_COUNTRY</th>\n",
       "      <th>ORIGIN_STATE_ABR</th>\n",
       "      <th>ORIGIN_STATE_NM</th>\n",
       "      <th>ROUNDTRIP</th>\n",
       "      <th>REPORTING_CARRIER</th>\n",
       "      <th>PASSENGERS</th>\n",
       "      <th>ITIN_FARE</th>\n",
       "      <th>DESTINATION</th>\n",
       "    </tr>\n",
       "  </thead>\n",
       "  <tbody>\n",
       "    <tr>\n",
       "      <th>1167280</th>\n",
       "      <td>201911284909</td>\n",
       "      <td>2019</td>\n",
       "      <td>1</td>\n",
       "      <td>YAK</td>\n",
       "      <td>US</td>\n",
       "      <td>AK</td>\n",
       "      <td>Alaska</td>\n",
       "      <td>0.0</td>\n",
       "      <td>AS</td>\n",
       "      <td>1.0</td>\n",
       "      <td>244.0</td>\n",
       "      <td>ANC</td>\n",
       "    </tr>\n",
       "    <tr>\n",
       "      <th>1167281</th>\n",
       "      <td>201911284959</td>\n",
       "      <td>2019</td>\n",
       "      <td>1</td>\n",
       "      <td>YAK</td>\n",
       "      <td>US</td>\n",
       "      <td>AK</td>\n",
       "      <td>Alaska</td>\n",
       "      <td>1.0</td>\n",
       "      <td>AS</td>\n",
       "      <td>1.0</td>\n",
       "      <td>371.0</td>\n",
       "      <td>JNU</td>\n",
       "    </tr>\n",
       "    <tr>\n",
       "      <th>1167282</th>\n",
       "      <td>201911284940</td>\n",
       "      <td>2019</td>\n",
       "      <td>1</td>\n",
       "      <td>YAK</td>\n",
       "      <td>US</td>\n",
       "      <td>AK</td>\n",
       "      <td>Alaska</td>\n",
       "      <td>0.0</td>\n",
       "      <td>AS</td>\n",
       "      <td>1.0</td>\n",
       "      <td>271.0</td>\n",
       "      <td>JNU</td>\n",
       "    </tr>\n",
       "    <tr>\n",
       "      <th>1167283</th>\n",
       "      <td>201911284914</td>\n",
       "      <td>2019</td>\n",
       "      <td>1</td>\n",
       "      <td>YAK</td>\n",
       "      <td>US</td>\n",
       "      <td>AK</td>\n",
       "      <td>Alaska</td>\n",
       "      <td>0.0</td>\n",
       "      <td>AS</td>\n",
       "      <td>1.0</td>\n",
       "      <td>603.0</td>\n",
       "      <td>ANC</td>\n",
       "    </tr>\n",
       "    <tr>\n",
       "      <th>1167284</th>\n",
       "      <td>201911284952</td>\n",
       "      <td>2019</td>\n",
       "      <td>1</td>\n",
       "      <td>YAK</td>\n",
       "      <td>US</td>\n",
       "      <td>AK</td>\n",
       "      <td>Alaska</td>\n",
       "      <td>1.0</td>\n",
       "      <td>AS</td>\n",
       "      <td>1.0</td>\n",
       "      <td>299.0</td>\n",
       "      <td>JNU</td>\n",
       "    </tr>\n",
       "  </tbody>\n",
       "</table>\n",
       "</div>"
      ],
      "text/plain": [
       "              ITIN_ID  YEAR  QUARTER ORIGIN ORIGIN_COUNTRY ORIGIN_STATE_ABR  \\\n",
       "1167280  201911284909  2019        1    YAK             US               AK   \n",
       "1167281  201911284959  2019        1    YAK             US               AK   \n",
       "1167282  201911284940  2019        1    YAK             US               AK   \n",
       "1167283  201911284914  2019        1    YAK             US               AK   \n",
       "1167284  201911284952  2019        1    YAK             US               AK   \n",
       "\n",
       "        ORIGIN_STATE_NM  ROUNDTRIP REPORTING_CARRIER  PASSENGERS ITIN_FARE  \\\n",
       "1167280          Alaska        0.0                AS         1.0     244.0   \n",
       "1167281          Alaska        1.0                AS         1.0     371.0   \n",
       "1167282          Alaska        0.0                AS         1.0     271.0   \n",
       "1167283          Alaska        0.0                AS         1.0     603.0   \n",
       "1167284          Alaska        1.0                AS         1.0     299.0   \n",
       "\n",
       "        DESTINATION  \n",
       "1167280         ANC  \n",
       "1167281         JNU  \n",
       "1167282         JNU  \n",
       "1167283         ANC  \n",
       "1167284         JNU  "
      ]
     },
     "execution_count": 76,
     "metadata": {},
     "output_type": "execute_result"
    }
   ],
   "source": [
    "tickets.tail()"
   ]
  },
  {
   "cell_type": "code",
   "execution_count": 77,
   "id": "eb5de760",
   "metadata": {},
   "outputs": [],
   "source": [
    "#filtering data based on requuired fields\n",
    "#filtering on medium and large airports in the U.S\n",
    "airport_codes=airport_codes[((airport_codes['TYPE']=='medium_airport') | (airport_codes['TYPE']=='large_airport')) & (airport_codes['ISO_COUNTRY']=='US') ]\n",
    "#filtering on round trip tickets\n",
    "tickets=tickets[tickets['ROUNDTRIP']==1]\n",
    "#3filtering on flights that were not canceled\n",
    "flights=flights[flights['CANCELLED']==0]"
   ]
  },
  {
   "cell_type": "code",
   "execution_count": 78,
   "id": "a19d9cd7",
   "metadata": {},
   "outputs": [],
   "source": [
    "# tickets['ITIN_FARE'][55:59]"
   ]
  },
  {
   "cell_type": "markdown",
   "id": "2260fa8c-17cc-4cd7-85e4-37f7f8a9864a",
   "metadata": {},
   "source": [
    "# B\n",
    "## B-1 Data cleaning: duplicates removing\n",
    "checking for duplicates and removing them"
   ]
  },
  {
   "cell_type": "code",
   "execution_count": 79,
   "id": "8469fe31-1f3b-41bd-8fde-1255584c47bb",
   "metadata": {},
   "outputs": [
    {
     "name": "stdout",
     "output_type": "stream",
     "text": [
      "858\n",
      "858\n",
      "1864272\n",
      "1859862\n",
      "708600\n",
      "661036\n"
     ]
    }
   ],
   "source": [
    "print (len(airport_codes))\n",
    "print (len(airport_codes.drop_duplicates()))\n",
    "print (len(flights))\n",
    "print (len(flights.drop_duplicates()))\n",
    "print (len(tickets))\n",
    "print (len(tickets.drop_duplicates()))\n",
    "airport_codes=airport_codes.drop_duplicates()\n",
    "flights=flights.drop_duplicates()\n",
    "tickets=tickets.drop_duplicates()"
   ]
  },
  {
   "cell_type": "code",
   "execution_count": 80,
   "id": "581a392d",
   "metadata": {},
   "outputs": [
    {
     "name": "stdout",
     "output_type": "stream",
     "text": [
      "0\n",
      "4410\n",
      "47564\n"
     ]
    }
   ],
   "source": [
    "number_duplicates_airport= 858-858\n",
    "number_duplicates_flight=1864272-1859862\n",
    "number_duplicates_tickets=708600-661036\n",
    "print(number_duplicates_airport)\n",
    "print(number_duplicates_flight)\n",
    "print(number_duplicates_tickets)"
   ]
  },
  {
   "cell_type": "markdown",
   "id": "a1579447-beb6-4367-833a-0fbc265092c8",
   "metadata": {},
   "source": [
    "## B-2 Removing unnecessary columns from data files"
   ]
  },
  {
   "cell_type": "code",
   "execution_count": 81,
   "id": "76ff86a5-cc96-4744-acae-7d931a9a9ae5",
   "metadata": {},
   "outputs": [],
   "source": [
    "## Removing Unneccesary columns from each table to clean the data\n",
    "airport_codes=airport_codes.drop(['NAME','CONTINENT','ISO_COUNTRY','MUNICIPALITY','COORDINATES','ELEVATION_FT'],axis=1)\n",
    "tickets=tickets.drop(['ITIN_ID','YEAR','QUARTER','ORIGIN_COUNTRY','ORIGIN_STATE_ABR','ROUNDTRIP'],axis=1)\n",
    "flights=flights.drop(['FL_DATE','OP_CARRIER_FL_NUM','TAIL_NUM','ORIGIN_AIRPORT_ID','DEST_AIRPORT_ID'],axis=1)"
   ]
  },
  {
   "cell_type": "markdown",
   "id": "d49d18d3-9bb5-40c2-b96e-2351abb6001b",
   "metadata": {},
   "source": [
    "## B-3 Type casting some variables with object values to integer or float\n",
    "### Discrepencies in data found \n",
    "1) Numbers have sometimes dollar symbol attached to it. Removing the dollar sign\n",
    "2) DISTANCE AND AIR_TIME have sometime alphabatical values. So removing them and putting those values to null"
   ]
  },
  {
   "cell_type": "code",
   "execution_count": 82,
   "id": "0e44a507-54e3-4c6d-9fa2-a71a29e72953",
   "metadata": {},
   "outputs": [],
   "source": [
    "tickets = tickets.assign(ITIN_FARE = lambda x: x['ITIN_FARE'].str.extract('(\\d+)'))\n",
    "flights = flights.assign(AIR_TIME = lambda x: x['AIR_TIME'].str.extract('(\\d+)'))\n",
    "flights = flights.assign(DISTANCE = lambda x: x['DISTANCE'].str.extract('(\\d+)'))"
   ]
  },
  {
   "cell_type": "markdown",
   "id": "a09551ed-3e5a-4b64-850f-bf2592b68806",
   "metadata": {},
   "source": [
    "For flights distance, it irrelavant that they have hundred miles or twenty miles values so putting these values to null. Later on we would impute these null values"
   ]
  },
  {
   "cell_type": "code",
   "execution_count": 83,
   "id": "3f9b7721-71b6-4bf7-a79a-78a7bc2d1637",
   "metadata": {},
   "outputs": [],
   "source": [
    "## Finally typecasting some object columns to float. \n",
    "flights['AIR_TIME']=flights['AIR_TIME'].astype(float)\n",
    "flights['DISTANCE']=flights['DISTANCE'].astype(float)\n",
    "tickets['ITIN_FARE']=tickets['ITIN_FARE'].astype(float)\n",
    "\n",
    "## Remove negative values from DEP_DELAY and ARR_DELAY as they are later used in calculation\n",
    "\"\"\"Negating 15 minutes from Dep_Delay and Arr_delay. In case substraction is negative replacing it with 0.This would be used in later \n",
    " on calculations\"\"\"\n",
    "\n",
    "flights['DEP_DELAY'].loc[flights['DEP_DELAY']<0]=0\n",
    "flights['ARR_DELAY'].loc[flights['ARR_DELAY']<0]=0\n",
    "flights['DEP_DELAY']=np.where((flights['DEP_DELAY']-15<0),0 , flights['DEP_DELAY']-15)\n",
    "flights['ARR_DELAY']=np.where((flights['ARR_DELAY']-15<0),0 , flights['ARR_DELAY']-15)\n",
    "\n",
    "\n",
    "\"\"\"Similarly multiplying occupancy_rate by 200 as all the flights are of 200 capicity. This would also be used in later on calculations\"\"\"\n",
    "flights['OCCUPANCY_RATE']=flights[\"OCCUPANCY_RATE\"]*200"
   ]
  },
  {
   "cell_type": "markdown",
   "id": "bc987c36-cbaa-4eb8-b933-d3554c45c8dc",
   "metadata": {},
   "source": [
    "## B-4 Checking for outliers and handling them\n",
    "### FLIGHTS and TICKETS DATA"
   ]
  },
  {
   "cell_type": "code",
   "execution_count": 84,
   "id": "713db8bb",
   "metadata": {},
   "outputs": [
    {
     "data": {
      "image/png": "[encoded data removed]",
      "text/plain": [
       "<Figure size 1296x720 with 1 Axes>"
      ]
     },
     "metadata": {
      "needs_background": "light"
     },
     "output_type": "display_data"
    }
   ],
   "source": [
    "# Scatter plot\n",
    "fig, ax = plt.subplots(figsize = (18,10))\n",
    "ax.scatter(tickets['PASSENGERS'], tickets['ITIN_FARE'])\n",
    " \n",
    "# x-axis label\n",
    "ax.set_xlabel('number of passengers')\n",
    " \n",
    "# y-axis label\n",
    "ax.set_ylabel('ticket price or ITIN_FARE')\n",
    "plt.show()"
   ]
  },
  {
   "cell_type": "code",
   "execution_count": 85,
   "id": "cc1a86d9",
   "metadata": {},
   "outputs": [
    {
     "data": {
      "image/png": "[encoded data removed]",
      "text/plain": [
       "<Figure size 1296x720 with 1 Axes>"
      ]
     },
     "metadata": {
      "needs_background": "light"
     },
     "output_type": "display_data"
    }
   ],
   "source": [
    "# Scatter plot\n",
    "fig, ax = plt.subplots(figsize = (18,10))\n",
    "ax.scatter(flights['ARR_DELAY'], flights['AIR_TIME'])\n",
    " \n",
    "# x-axis label\n",
    "ax.set_xlabel('Arrival delay')\n",
    " \n",
    "# y-axis label\n",
    "ax.set_ylabel('Flight duration')\n",
    "plt.show()"
   ]
  },
  {
   "cell_type": "code",
   "execution_count": 86,
   "id": "49facaf7",
   "metadata": {},
   "outputs": [
    {
     "data": {
      "image/png": "[encoded data removed]",
      "text/plain": [
       "<Figure size 1296x720 with 1 Axes>"
      ]
     },
     "metadata": {
      "needs_background": "light"
     },
     "output_type": "display_data"
    }
   ],
   "source": [
    "# Scatter plot\n",
    "fig, ax = plt.subplots(figsize = (18,10))\n",
    "ax.scatter(flights['DEP_DELAY'], flights['AIR_TIME'])\n",
    " \n",
    "# x-axis label\n",
    "ax.set_xlabel('Departure delay')\n",
    " \n",
    "# y-axis label\n",
    "ax.set_ylabel('Flight duration')\n",
    "plt.show()"
   ]
  },
  {
   "cell_type": "code",
   "execution_count": 87,
   "id": "f4c9c429",
   "metadata": {},
   "outputs": [
    {
     "data": {
      "image/png": "[encoded data removed]",
      "text/plain": [
       "<Figure size 1296x720 with 1 Axes>"
      ]
     },
     "metadata": {
      "needs_background": "light"
     },
     "output_type": "display_data"
    }
   ],
   "source": [
    "# Scatter plot\n",
    "fig, ax = plt.subplots(figsize = (18,10))\n",
    "ax.scatter(flights['DISTANCE'], flights['AIR_TIME'])\n",
    " \n",
    "# x-axis label\n",
    "ax.set_xlabel('Distance between origin and destination')\n",
    " \n",
    "# y-axis label\n",
    "ax.set_ylabel('Flight duration')\n",
    "plt.show()"
   ]
  },
  {
   "cell_type": "code",
   "execution_count": 88,
   "id": "cfbe7d94-1bcd-4659-b56a-5ba35f479b72",
   "metadata": {},
   "outputs": [
    {
     "data": {
      "image/png": "[encoded data removed]",
      "text/plain": [
       "<Figure size 1440x360 with 2 Axes>"
      ]
     },
     "metadata": {
      "needs_background": "light"
     },
     "output_type": "display_data"
    }
   ],
   "source": [
    "fig, ax =plt.subplots(1,2)\n",
    "sns.boxplot(x='PASSENGERS',data=tickets,ax=ax[0])\n",
    "sns.boxplot(x='ITIN_FARE',data=tickets,ax=ax[1])\n",
    "fig.show()"
   ]
  },
  {
   "cell_type": "code",
   "execution_count": 89,
   "id": "1df36298-b354-43f6-9067-ed987783fabf",
   "metadata": {},
   "outputs": [
    {
     "data": {
      "image/png": "[encoded data removed]",
      "text/plain": [
       "<Figure size 1440x360 with 5 Axes>"
      ]
     },
     "metadata": {
      "needs_background": "light"
     },
     "output_type": "display_data"
    }
   ],
   "source": [
    "fig, ax =plt.subplots(1,5)\n",
    "sns.boxplot(x='AIR_TIME',data=flights,ax=ax[0])\n",
    "sns.boxplot(x='DISTANCE',data=flights,ax=ax[1])\n",
    "sns.boxplot(x='OCCUPANCY_RATE',data=flights,ax=ax[2])\n",
    "sns.boxplot(x='DEP_DELAY',data=flights,ax=ax[3])\n",
    "sns.boxplot(x='ARR_DELAY',data=flights,ax=ax[4])\n",
    "\n",
    "\n",
    "fig.show()"
   ]
  },
  {
   "cell_type": "markdown",
   "id": "24f8753f-9c1c-4162-baf7-ed13f4c296f6",
   "metadata": {},
   "source": [
    "How it could be that the fare is so low."
   ]
  },
  {
   "cell_type": "code",
   "execution_count": 90,
   "id": "606716c7-d47d-455e-8604-ed8c804fbb9f",
   "metadata": {},
   "outputs": [
    {
     "data": {
      "text/html": [
       "<div>\n",
       "<style scoped>\n",
       "    .dataframe tbody tr th:only-of-type {\n",
       "        vertical-align: middle;\n",
       "    }\n",
       "\n",
       "    .dataframe tbody tr th {\n",
       "        vertical-align: top;\n",
       "    }\n",
       "\n",
       "    .dataframe thead th {\n",
       "        text-align: right;\n",
       "    }\n",
       "</style>\n",
       "<table border=\"1\" class=\"dataframe\">\n",
       "  <thead>\n",
       "    <tr style=\"text-align: right;\">\n",
       "      <th></th>\n",
       "      <th>ORIGIN</th>\n",
       "      <th>ORIGIN_STATE_NM</th>\n",
       "      <th>REPORTING_CARRIER</th>\n",
       "      <th>PASSENGERS</th>\n",
       "      <th>ITIN_FARE</th>\n",
       "      <th>DESTINATION</th>\n",
       "    </tr>\n",
       "  </thead>\n",
       "  <tbody>\n",
       "    <tr>\n",
       "      <th>36135</th>\n",
       "      <td>PIH</td>\n",
       "      <td>Idaho</td>\n",
       "      <td>OO</td>\n",
       "      <td>1.0</td>\n",
       "      <td>13790.0</td>\n",
       "      <td>SLC</td>\n",
       "    </tr>\n",
       "    <tr>\n",
       "      <th>110692</th>\n",
       "      <td>BDL</td>\n",
       "      <td>Connecticut</td>\n",
       "      <td>YV</td>\n",
       "      <td>1.0</td>\n",
       "      <td>12225.0</td>\n",
       "      <td>IAH</td>\n",
       "    </tr>\n",
       "    <tr>\n",
       "      <th>355172</th>\n",
       "      <td>EWR</td>\n",
       "      <td>New Jersey</td>\n",
       "      <td>UA</td>\n",
       "      <td>1.0</td>\n",
       "      <td>12882.0</td>\n",
       "      <td>ORD</td>\n",
       "    </tr>\n",
       "    <tr>\n",
       "      <th>527911</th>\n",
       "      <td>LAX</td>\n",
       "      <td>California</td>\n",
       "      <td>UA</td>\n",
       "      <td>1.0</td>\n",
       "      <td>10944.0</td>\n",
       "      <td>ORD</td>\n",
       "    </tr>\n",
       "    <tr>\n",
       "      <th>586574</th>\n",
       "      <td>MCI</td>\n",
       "      <td>Missouri</td>\n",
       "      <td>UA</td>\n",
       "      <td>1.0</td>\n",
       "      <td>10564.0</td>\n",
       "      <td>PHX</td>\n",
       "    </tr>\n",
       "    <tr>\n",
       "      <th>927914</th>\n",
       "      <td>SFO</td>\n",
       "      <td>California</td>\n",
       "      <td>UA</td>\n",
       "      <td>1.0</td>\n",
       "      <td>13474.0</td>\n",
       "      <td>LAS</td>\n",
       "    </tr>\n",
       "    <tr>\n",
       "      <th>929787</th>\n",
       "      <td>SFO</td>\n",
       "      <td>California</td>\n",
       "      <td>UA</td>\n",
       "      <td>1.0</td>\n",
       "      <td>15365.0</td>\n",
       "      <td>EWR</td>\n",
       "    </tr>\n",
       "    <tr>\n",
       "      <th>968736</th>\n",
       "      <td>SLC</td>\n",
       "      <td>Utah</td>\n",
       "      <td>OO</td>\n",
       "      <td>1.0</td>\n",
       "      <td>38400.0</td>\n",
       "      <td>TWF</td>\n",
       "    </tr>\n",
       "  </tbody>\n",
       "</table>\n",
       "</div>"
      ],
      "text/plain": [
       "       ORIGIN ORIGIN_STATE_NM REPORTING_CARRIER  PASSENGERS  ITIN_FARE  \\\n",
       "36135     PIH           Idaho                OO         1.0    13790.0   \n",
       "110692    BDL     Connecticut                YV         1.0    12225.0   \n",
       "355172    EWR      New Jersey                UA         1.0    12882.0   \n",
       "527911    LAX      California                UA         1.0    10944.0   \n",
       "586574    MCI        Missouri                UA         1.0    10564.0   \n",
       "927914    SFO      California                UA         1.0    13474.0   \n",
       "929787    SFO      California                UA         1.0    15365.0   \n",
       "968736    SLC            Utah                OO         1.0    38400.0   \n",
       "\n",
       "       DESTINATION  \n",
       "36135          SLC  \n",
       "110692         IAH  \n",
       "355172         ORD  \n",
       "527911         ORD  \n",
       "586574         PHX  \n",
       "927914         LAS  \n",
       "929787         EWR  \n",
       "968736         TWF  "
      ]
     },
     "execution_count": 90,
     "metadata": {},
     "output_type": "execute_result"
    }
   ],
   "source": [
    "tickets[tickets['ITIN_FARE']>10000]"
   ]
  },
  {
   "cell_type": "markdown",
   "id": "600c8278-e88b-4d6d-a4e2-02a7e5edac92",
   "metadata": {},
   "source": [
    "Some ticket fares are too high. The last one which is 38400 seems unreasonable"
   ]
  },
  {
   "cell_type": "markdown",
   "id": "5d5bc02c-0306-4101-85e9-a8b6a35d50ca",
   "metadata": {},
   "source": [
    "## B-5 Dealing with outliers\n",
    "Here are three techniques we can use to handle outliers:\n",
    "\n",
    "1. Drop the outliers\n",
    "2. Cap the outliers\n",
    "3. Replace outliers using imputation as if they were missing values\n",
    "\n",
    "By seeing various plots we could determine what values we want to consider as outliers and how do we want to replace them \n"
   ]
  },
  {
   "cell_type": "code",
   "execution_count": 91,
   "id": "853b8bf7-b99b-427f-a5e8-cfa588dcaf2e",
   "metadata": {},
   "outputs": [],
   "source": [
    "def find_outliers_IQR(df):\n",
    "    q1=df.quantile(0.25)\n",
    "    q3=df.quantile(0.75)\n",
    "    IQR=q3-q1\n",
    "    outliers = df[((df<(q1-1.5*IQR)) | (df>(q3+1.5*IQR)))]\n",
    "    return outliers"
   ]
  },
  {
   "cell_type": "code",
   "execution_count": 92,
   "id": "854acd22",
   "metadata": {},
   "outputs": [
    {
     "name": "stdout",
     "output_type": "stream",
     "text": [
      "number of outliers:336022\n",
      "max outlier value: 2926.0\n",
      "min outlier value:1.0\n"
     ]
    }
   ],
   "source": [
    "#let's check and see if values for outliers have changed\n",
    "outliers = find_outliers_IQR(flights['DEP_DELAY'])\n",
    "\n",
    "print('number of outliers:'+ str(len(outliers)))\n",
    "\n",
    "print('max outlier value: '+ str(outliers.max()))\n",
    "\n",
    "print('min outlier value:'+ str(outliers.min()))"
   ]
  },
  {
   "cell_type": "code",
   "execution_count": 93,
   "id": "5162bf14",
   "metadata": {},
   "outputs": [],
   "source": [
    "#defining  afunction \n",
    "def impute_outliers_IQR(df):\n",
    "    q1=df.quantile(0.25)\n",
    "    q3=df.quantile(0.75)\n",
    "    IQR=q3-q1\n",
    "    upper = df[~(df>(q3+1.5*IQR))].max()\n",
    "    lower = df[~(df<(q1-1.5*IQR))].min()\n",
    "    df = np.where(df > upper, df.mean(), np.where(df < lower,df.mean(),df))\n",
    "    return df"
   ]
  },
  {
   "cell_type": "code",
   "execution_count": 137,
   "id": "d38b4a99",
   "metadata": {},
   "outputs": [],
   "source": [
    "flights['AIR_TIME']=impute_outliers_IQR(flights['AIR_TIME'])\n",
    "flights['DISTANCE']=impute_outliers_IQR(flights['DISTANCE'])\n",
    "flights['DEP_DELAY']=impute_outliers_IQR(flights['DEP_DELAY'])\n",
    "flights['ARR_DELAY']=impute_outliers_IQR(flights['ARR_DELAY'])\n"
   ]
  },
  {
   "cell_type": "code",
   "execution_count": 95,
   "id": "a96608c6",
   "metadata": {},
   "outputs": [],
   "source": [
    "tickets['PASSENGERS']=impute_outliers_IQR(tickets['PASSENGERS'])\n",
    "tickets['ITIN_FARE']=impute_outliers_IQR(tickets['ITIN_FARE'])"
   ]
  },
  {
   "cell_type": "markdown",
   "id": "e48d760f-d8b0-476e-8ad0-643a0f536190",
   "metadata": {},
   "source": [
    "## B-6  Dealing with null values\n",
    "\n",
    "The missing data for each dataframe is less than 1%. So will be filling the values with median as it is robust to outliers. It is seen that there are many outliers in our data and we could not confirm that if they are actual outliers. "
   ]
  },
  {
   "cell_type": "code",
   "execution_count": 96,
   "id": "486a46e3-48cc-454d-b83a-3b324c994533",
   "metadata": {},
   "outputs": [
    {
     "name": "stdout",
     "output_type": "stream",
     "text": [
      "TYPE         0.000000\n",
      "IATA_CODE    4.312354\n",
      "dtype: float64\n",
      "ORIGIN               0.000000\n",
      "ORIGIN_STATE_NM      0.000000\n",
      "REPORTING_CARRIER    0.000000\n",
      "PASSENGERS           0.145227\n",
      "ITIN_FARE            0.068226\n",
      "DESTINATION          0.000000\n",
      "dtype: float64\n",
      "OP_CARRIER           0.000000\n",
      "ORIGIN               0.000000\n",
      "ORIGIN_CITY_NAME     0.000000\n",
      "DESTINATION          0.000000\n",
      "DEST_CITY_NAME       0.000000\n",
      "DEP_DELAY            0.000000\n",
      "ARR_DELAY            0.234856\n",
      "CANCELLED            0.000000\n",
      "AIR_TIME            99.447163\n",
      "DISTANCE            99.446518\n",
      "OCCUPANCY_RATE       0.001667\n",
      "dtype: float64\n"
     ]
    }
   ],
   "source": [
    "print (airport_codes.isnull().sum()* 100 / len(airport_codes))\n",
    "## IATA_CODE missing we could remove those rows. As it is the basic necessity and nothing could be done for it. \n",
    "\n",
    "print (tickets.isnull().sum()* 100 / len(tickets))\n",
    "## PASSENGERS and ITIN_FARE is missing. We will try to replace nulls with median as it is robust to outliers.\n",
    "\n",
    "print (flights.isnull().sum()* 100 / len(flights))\n",
    "##  ARR_DELAY , AIR_TIME,DISTANCE,OCCUPANCY_RATE. Replace with median"
   ]
  },
  {
   "cell_type": "code",
   "execution_count": 97,
   "id": "79cde415",
   "metadata": {},
   "outputs": [
    {
     "data": {
      "text/plain": [
       "TYPE         0.000000\n",
       "IATA_CODE    0.043124\n",
       "dtype: float64"
      ]
     },
     "execution_count": 97,
     "metadata": {},
     "output_type": "execute_result"
    }
   ],
   "source": [
    "airport_codes.isnull().sum()/len(airport_codes)"
   ]
  },
  {
   "cell_type": "code",
   "execution_count": 98,
   "id": "b6573b0b",
   "metadata": {},
   "outputs": [
    {
     "name": "stdout",
     "output_type": "stream",
     "text": [
      "(661036, 6)\n"
     ]
    }
   ],
   "source": [
    "print(tickets.shape)"
   ]
  },
  {
   "cell_type": "code",
   "execution_count": 99,
   "id": "29806c08-358e-47a0-b037-f569c06b33b2",
   "metadata": {},
   "outputs": [],
   "source": [
    "airport_codes=airport_codes.fillna(airport_codes.median())\n",
    "tickets=tickets.fillna(tickets.median())\n",
    "flights=flights.fillna(flights.median())"
   ]
  },
  {
   "cell_type": "code",
   "execution_count": 100,
   "id": "4d707f4e-e01b-43e5-9099-63bf942e72c0",
   "metadata": {},
   "outputs": [
    {
     "name": "stdout",
     "output_type": "stream",
     "text": [
      "TYPE          0\n",
      "IATA_CODE    37\n",
      "dtype: int64\n",
      "ORIGIN               0\n",
      "ORIGIN_STATE_NM      0\n",
      "REPORTING_CARRIER    0\n",
      "PASSENGERS           0\n",
      "ITIN_FARE            0\n",
      "DESTINATION          0\n",
      "dtype: int64\n",
      "OP_CARRIER          0\n",
      "ORIGIN              0\n",
      "ORIGIN_CITY_NAME    0\n",
      "DESTINATION         0\n",
      "DEST_CITY_NAME      0\n",
      "DEP_DELAY           0\n",
      "ARR_DELAY           0\n",
      "CANCELLED           0\n",
      "AIR_TIME            0\n",
      "DISTANCE            0\n",
      "OCCUPANCY_RATE      0\n",
      "dtype: int64\n"
     ]
    }
   ],
   "source": [
    "print (airport_codes.isnull().sum())\n",
    "## IATA_CODE missing we could remove those rows. As it is the basic necessity and nothing could be done for it. \n",
    "\n",
    "print (tickets.isnull().sum())\n",
    "## PASSENGERS and ITIN_FARE is missing. We will try to replace nulls with median as it is robust to outliers.\n",
    "\n",
    "print (flights.isnull().sum())\n",
    "##  ARR_DELAY , AIR_TIME,DISTANCE,OCCUPANCY_RATE. Replace with median"
   ]
  },
  {
   "cell_type": "markdown",
   "id": "02b2a151-c4f4-4753-9e6e-c57f03ecaba2",
   "metadata": {},
   "source": [
    "## B-7 Aggregating tickets and flights datasets "
   ]
  },
  {
   "cell_type": "raw",
   "id": "3a1e183b",
   "metadata": {},
   "source": [
    "Rather than merging each individual ticket with flights and airport_codes we are grouping the tickets on the basis of origin, and destination and taking mean hence it will save us time and complexity.\n",
    "\n",
    "Similarty we will do the same thing with flights dataframe \n",
    " \n",
    "After these we would merge all the dataframes"
   ]
  },
  {
   "cell_type": "code",
   "execution_count": 101,
   "id": "04352939-69b6-412f-9810-7a839e3af450",
   "metadata": {},
   "outputs": [
    {
     "name": "stdout",
     "output_type": "stream",
     "text": [
      "(40290, 5)\n",
      "(5917, 10)\n",
      "(858, 2)\n"
     ]
    }
   ],
   "source": [
    "tickets=tickets.groupby(['ORIGIN','DESTINATION']).agg({'ORIGIN_STATE_NM':'first',\n",
    "                                                   'PASSENGERS': np.sum,\n",
    "                                                   'ITIN_FARE': np.sum}).reset_index()\n",
    "\n",
    "## cancelled is not needed as we have filtered already for non-cancelled flights but still taking count as it could be used to find total number of fligts in the route\n",
    "flights=flights.groupby(['ORIGIN','DESTINATION']).agg({'ORIGIN_CITY_NAME':'first',\n",
    "                                                                        'DEST_CITY_NAME': 'first',\n",
    "                                                                        'DEP_DELAY': np.sum,\n",
    "                                                                        'ARR_DELAY': np.sum,\n",
    "                                                                        'AIR_TIME': np.sum,\n",
    "                                                                        'DISTANCE': np.sum,\n",
    "                                                                        'OCCUPANCY_RATE':np.sum,\n",
    "                                                                        'CANCELLED':'count'}).reset_index()\n",
    "print(tickets.shape)\n",
    "print(flights.shape)\n",
    "print(airport_codes.shape)"
   ]
  },
  {
   "cell_type": "markdown",
   "id": "7e204e15",
   "metadata": {},
   "source": [
    "## B-8 Building a final dataset by joining tickets, flights and airport datasets by primary keys"
   ]
  },
  {
   "cell_type": "code",
   "execution_count": 143,
   "id": "c0c033c9-80e4-40a6-a2ec-f39f851b13e8",
   "metadata": {},
   "outputs": [
    {
     "name": "stdout",
     "output_type": "stream",
     "text": [
      "     ORIGIN DESTINATION ORIGIN_STATE_NM  PASSENGERS  ITIN_FARE  \\\n",
      "0       ABE         ATL    Pennsylvania   54.844939    25820.0   \n",
      "1       ABE         CLT    Pennsylvania   28.883704    13369.0   \n",
      "2       ABE         DTW    Pennsylvania   12.844939     3279.0   \n",
      "3       ABE         FLL    Pennsylvania   66.379756    13569.0   \n",
      "4       ABE         ORD    Pennsylvania   19.883704     9887.0   \n",
      "...     ...         ...             ...         ...        ...   \n",
      "5793    YAK         CDV          Alaska    1.000000       11.0   \n",
      "5794    YAK         JNU          Alaska   13.922470     3698.0   \n",
      "5795    YKM         SEA      Washington   25.728643     5097.0   \n",
      "5796    YUM         DFW         Arizona    4.000000     1837.0   \n",
      "5797    YUM         PHX         Arizona    2.000000      671.0   \n",
      "\n",
      "                    ORIGIN_CITY_NAME         DEST_CITY_NAME   DEP_DELAY  \\\n",
      "0     Allentown/Bethlehem/Easton, PA            Atlanta, GA  218.259122   \n",
      "1     Allentown/Bethlehem/Easton, PA          Charlotte, NC  342.978621   \n",
      "2     Allentown/Bethlehem/Easton, PA            Detroit, MI  457.304828   \n",
      "3     Allentown/Bethlehem/Easton, PA    Fort Lauderdale, FL   41.573166   \n",
      "4     Allentown/Bethlehem/Easton, PA            Chicago, IL  415.731662   \n",
      "...                              ...                    ...         ...   \n",
      "5793                     Yakutat, AK            Cordova, AK  124.719499   \n",
      "5794                     Yakutat, AK             Juneau, AK   93.539624   \n",
      "5795                      Yakima, WA            Seattle, WA  758.710283   \n",
      "5796                        Yuma, AZ  Dallas/Fort Worth, TX   41.573166   \n",
      "5797                        Yuma, AZ            Phoenix, AZ  301.405455   \n",
      "\n",
      "       ARR_DELAY  AIR_TIME  DISTANCE  OCCUPANCY_RATE  CANCELLED  \n",
      "0     441.825018   21049.0  139314.0         27844.0        217  \n",
      "1     473.383948   24347.0  161142.0         33432.0        251  \n",
      "2     525.982164   24056.0  159216.0         31698.0        248  \n",
      "3      52.598216    1940.0   12840.0          2320.0         20  \n",
      "4     483.903591   15499.0  102150.0         21344.0        159  \n",
      "...          ...       ...       ...             ...        ...  \n",
      "5793  115.716076    8051.0   53286.0         10304.0         83  \n",
      "5794   84.157146    8536.0   56496.0         11944.0         88  \n",
      "5795  799.492890   29585.0  195810.0         40284.0        305  \n",
      "5796   31.558930    2716.0   17976.0          3568.0         28  \n",
      "5797  357.667872   33659.0  222774.0         45134.0        347  \n",
      "\n",
      "[5798 rows x 13 columns]\n",
      "     ORIGIN DESTINATION ORIGIN_STATE_NM  PASSENGERS  ITIN_FARE  \\\n",
      "0       ABE         ATL    Pennsylvania   54.844939    25820.0   \n",
      "1       ABE         CLT    Pennsylvania   28.883704    13369.0   \n",
      "2       ABE         DTW    Pennsylvania   12.844939     3279.0   \n",
      "3       ABE         FLL    Pennsylvania   66.379756    13569.0   \n",
      "4       ABE         ORD    Pennsylvania   19.883704     9887.0   \n",
      "...     ...         ...             ...         ...        ...   \n",
      "5650    YAK         CDV          Alaska    1.000000       11.0   \n",
      "5651    YAK         JNU          Alaska   13.922470     3698.0   \n",
      "5652    YKM         SEA      Washington   25.728643     5097.0   \n",
      "5653    YUM         DFW         Arizona    4.000000     1837.0   \n",
      "5654    YUM         PHX         Arizona    2.000000      671.0   \n",
      "\n",
      "                    ORIGIN_CITY_NAME         DEST_CITY_NAME   DEP_DELAY  \\\n",
      "0     Allentown/Bethlehem/Easton, PA            Atlanta, GA  218.259122   \n",
      "1     Allentown/Bethlehem/Easton, PA          Charlotte, NC  342.978621   \n",
      "2     Allentown/Bethlehem/Easton, PA            Detroit, MI  457.304828   \n",
      "3     Allentown/Bethlehem/Easton, PA    Fort Lauderdale, FL   41.573166   \n",
      "4     Allentown/Bethlehem/Easton, PA            Chicago, IL  415.731662   \n",
      "...                              ...                    ...         ...   \n",
      "5650                     Yakutat, AK            Cordova, AK  124.719499   \n",
      "5651                     Yakutat, AK             Juneau, AK   93.539624   \n",
      "5652                      Yakima, WA            Seattle, WA  758.710283   \n",
      "5653                        Yuma, AZ  Dallas/Fort Worth, TX   41.573166   \n",
      "5654                        Yuma, AZ            Phoenix, AZ  301.405455   \n",
      "\n",
      "       ARR_DELAY  AIR_TIME  DISTANCE  OCCUPANCY_RATE  CANCELLED  \\\n",
      "0     441.825018   21049.0  139314.0         27844.0        217   \n",
      "1     473.383948   24347.0  161142.0         33432.0        251   \n",
      "2     525.982164   24056.0  159216.0         31698.0        248   \n",
      "3      52.598216    1940.0   12840.0          2320.0         20   \n",
      "4     483.903591   15499.0  102150.0         21344.0        159   \n",
      "...          ...       ...       ...             ...        ...   \n",
      "5650  115.716076    8051.0   53286.0         10304.0         83   \n",
      "5651   84.157146    8536.0   56496.0         11944.0         88   \n",
      "5652  799.492890   29585.0  195810.0         40284.0        305   \n",
      "5653   31.558930    2716.0   17976.0          3568.0         28   \n",
      "5654  357.667872   33659.0  222774.0         45134.0        347   \n",
      "\n",
      "                TYPE IATA_CODE  \n",
      "0     medium_airport       ABE  \n",
      "1     medium_airport       ABE  \n",
      "2     medium_airport       ABE  \n",
      "3     medium_airport       ABE  \n",
      "4     medium_airport       ABE  \n",
      "...              ...       ...  \n",
      "5650  medium_airport       YAK  \n",
      "5651  medium_airport       YAK  \n",
      "5652  medium_airport       YKM  \n",
      "5653  medium_airport       YUM  \n",
      "5654  medium_airport       YUM  \n",
      "\n",
      "[5655 rows x 15 columns]\n"
     ]
    },
    {
     "data": {
      "text/plain": [
       "(5525, 16)"
      ]
     },
     "execution_count": 143,
     "metadata": {},
     "output_type": "execute_result"
    }
   ],
   "source": [
    "## merging all datasets \n",
    "final=tickets.merge(flights,on=['ORIGIN','DESTINATION'])\n",
    "print(final)\n",
    "final=final.merge(airport_codes,left_on='ORIGIN',right_on='IATA_CODE',suffixes=('_left', '_right'))\n",
    "print(final)\n",
    "final=final.merge(airport_codes,left_on='DESTINATION',right_on='IATA_CODE',suffixes=('_left', '_right'))\n",
    "final.drop(columns={'IATA_CODE_left','IATA_CODE_right'},inplace=True)\n",
    "final.rename(columns={'CANCELLED':'total_count'},inplace=True)\n",
    "final['route']=final['ORIGIN_CITY_NAME']+' TO '+final['DEST_CITY_NAME']\n",
    "data=final.copy()\n",
    "data.shape"
   ]
  },
  {
   "cell_type": "code",
   "execution_count": 103,
   "id": "5ab2722e",
   "metadata": {},
   "outputs": [
    {
     "data": {
      "text/html": [
       "<div>\n",
       "<style scoped>\n",
       "    .dataframe tbody tr th:only-of-type {\n",
       "        vertical-align: middle;\n",
       "    }\n",
       "\n",
       "    .dataframe tbody tr th {\n",
       "        vertical-align: top;\n",
       "    }\n",
       "\n",
       "    .dataframe thead th {\n",
       "        text-align: right;\n",
       "    }\n",
       "</style>\n",
       "<table border=\"1\" class=\"dataframe\">\n",
       "  <thead>\n",
       "    <tr style=\"text-align: right;\">\n",
       "      <th></th>\n",
       "      <th>ORIGIN</th>\n",
       "      <th>DESTINATION</th>\n",
       "      <th>ORIGIN_STATE_NM</th>\n",
       "      <th>PASSENGERS</th>\n",
       "      <th>ITIN_FARE</th>\n",
       "      <th>ORIGIN_CITY_NAME</th>\n",
       "      <th>DEST_CITY_NAME</th>\n",
       "      <th>DEP_DELAY</th>\n",
       "      <th>ARR_DELAY</th>\n",
       "      <th>AIR_TIME</th>\n",
       "      <th>DISTANCE</th>\n",
       "      <th>OCCUPANCY_RATE</th>\n",
       "      <th>total_count</th>\n",
       "      <th>TYPE_left</th>\n",
       "      <th>TYPE_right</th>\n",
       "      <th>route</th>\n",
       "    </tr>\n",
       "  </thead>\n",
       "  <tbody>\n",
       "    <tr>\n",
       "      <th>0</th>\n",
       "      <td>ABE</td>\n",
       "      <td>ATL</td>\n",
       "      <td>Pennsylvania</td>\n",
       "      <td>54.844939</td>\n",
       "      <td>25820.000000</td>\n",
       "      <td>Allentown/Bethlehem/Easton, PA</td>\n",
       "      <td>Atlanta, GA</td>\n",
       "      <td>218.259122</td>\n",
       "      <td>441.825018</td>\n",
       "      <td>21049.0</td>\n",
       "      <td>139314.0</td>\n",
       "      <td>27844.0</td>\n",
       "      <td>217</td>\n",
       "      <td>medium_airport</td>\n",
       "      <td>large_airport</td>\n",
       "      <td>Allentown/Bethlehem/Easton, PA TO Atlanta, GA</td>\n",
       "    </tr>\n",
       "    <tr>\n",
       "      <th>1</th>\n",
       "      <td>ABQ</td>\n",
       "      <td>ATL</td>\n",
       "      <td>New Mexico</td>\n",
       "      <td>61.767409</td>\n",
       "      <td>24876.945610</td>\n",
       "      <td>Albuquerque, NM</td>\n",
       "      <td>Atlanta, GA</td>\n",
       "      <td>103.932915</td>\n",
       "      <td>115.716076</td>\n",
       "      <td>16005.0</td>\n",
       "      <td>105930.0</td>\n",
       "      <td>21348.0</td>\n",
       "      <td>165</td>\n",
       "      <td>large_airport</td>\n",
       "      <td>large_airport</td>\n",
       "      <td>Albuquerque, NM TO Atlanta, GA</td>\n",
       "    </tr>\n",
       "    <tr>\n",
       "      <th>2</th>\n",
       "      <td>ABY</td>\n",
       "      <td>ATL</td>\n",
       "      <td>Georgia</td>\n",
       "      <td>5.000000</td>\n",
       "      <td>1729.000000</td>\n",
       "      <td>Albany, GA</td>\n",
       "      <td>Atlanta, GA</td>\n",
       "      <td>374.158496</td>\n",
       "      <td>305.069655</td>\n",
       "      <td>24153.0</td>\n",
       "      <td>159858.0</td>\n",
       "      <td>32362.0</td>\n",
       "      <td>249</td>\n",
       "      <td>medium_airport</td>\n",
       "      <td>large_airport</td>\n",
       "      <td>Albany, GA TO Atlanta, GA</td>\n",
       "    </tr>\n",
       "    <tr>\n",
       "      <th>3</th>\n",
       "      <td>AEX</td>\n",
       "      <td>ATL</td>\n",
       "      <td>Louisiana</td>\n",
       "      <td>13.961235</td>\n",
       "      <td>5623.000000</td>\n",
       "      <td>Alexandria, LA</td>\n",
       "      <td>Atlanta, GA</td>\n",
       "      <td>384.551787</td>\n",
       "      <td>357.667872</td>\n",
       "      <td>31040.0</td>\n",
       "      <td>205440.0</td>\n",
       "      <td>41078.0</td>\n",
       "      <td>320</td>\n",
       "      <td>medium_airport</td>\n",
       "      <td>large_airport</td>\n",
       "      <td>Alexandria, LA TO Atlanta, GA</td>\n",
       "    </tr>\n",
       "    <tr>\n",
       "      <th>4</th>\n",
       "      <td>AGS</td>\n",
       "      <td>ATL</td>\n",
       "      <td>Georgia</td>\n",
       "      <td>3.000000</td>\n",
       "      <td>723.000000</td>\n",
       "      <td>Augusta, GA</td>\n",
       "      <td>Atlanta, GA</td>\n",
       "      <td>935.396239</td>\n",
       "      <td>904.689323</td>\n",
       "      <td>66251.0</td>\n",
       "      <td>438486.0</td>\n",
       "      <td>89280.0</td>\n",
       "      <td>683</td>\n",
       "      <td>large_airport</td>\n",
       "      <td>large_airport</td>\n",
       "      <td>Augusta, GA TO Atlanta, GA</td>\n",
       "    </tr>\n",
       "    <tr>\n",
       "      <th>5</th>\n",
       "      <td>ALB</td>\n",
       "      <td>ATL</td>\n",
       "      <td>New York</td>\n",
       "      <td>79.573582</td>\n",
       "      <td>33832.891221</td>\n",
       "      <td>Albany, NY</td>\n",
       "      <td>Atlanta, GA</td>\n",
       "      <td>197.472539</td>\n",
       "      <td>252.471439</td>\n",
       "      <td>24250.0</td>\n",
       "      <td>160500.0</td>\n",
       "      <td>31998.0</td>\n",
       "      <td>250</td>\n",
       "      <td>medium_airport</td>\n",
       "      <td>large_airport</td>\n",
       "      <td>Albany, NY TO Atlanta, GA</td>\n",
       "    </tr>\n",
       "    <tr>\n",
       "      <th>6</th>\n",
       "      <td>ASE</td>\n",
       "      <td>ATL</td>\n",
       "      <td>Colorado</td>\n",
       "      <td>7.000000</td>\n",
       "      <td>2670.836831</td>\n",
       "      <td>Aspen, CO</td>\n",
       "      <td>Atlanta, GA</td>\n",
       "      <td>218.259122</td>\n",
       "      <td>231.432152</td>\n",
       "      <td>8148.0</td>\n",
       "      <td>53928.0</td>\n",
       "      <td>10504.0</td>\n",
       "      <td>84</td>\n",
       "      <td>medium_airport</td>\n",
       "      <td>large_airport</td>\n",
       "      <td>Aspen, CO TO Atlanta, GA</td>\n",
       "    </tr>\n",
       "    <tr>\n",
       "      <th>7</th>\n",
       "      <td>AUS</td>\n",
       "      <td>ATL</td>\n",
       "      <td>Texas</td>\n",
       "      <td>200.945443</td>\n",
       "      <td>67383.836831</td>\n",
       "      <td>Austin, TX</td>\n",
       "      <td>Atlanta, GA</td>\n",
       "      <td>800.283449</td>\n",
       "      <td>788.973246</td>\n",
       "      <td>81092.0</td>\n",
       "      <td>536712.0</td>\n",
       "      <td>108974.0</td>\n",
       "      <td>836</td>\n",
       "      <td>large_airport</td>\n",
       "      <td>large_airport</td>\n",
       "      <td>Austin, TX TO Atlanta, GA</td>\n",
       "    </tr>\n",
       "    <tr>\n",
       "      <th>8</th>\n",
       "      <td>AVL</td>\n",
       "      <td>ATL</td>\n",
       "      <td>North Carolina</td>\n",
       "      <td>12.961235</td>\n",
       "      <td>4391.000000</td>\n",
       "      <td>Asheville, NC</td>\n",
       "      <td>Atlanta, GA</td>\n",
       "      <td>1112.082195</td>\n",
       "      <td>1293.916124</td>\n",
       "      <td>55581.0</td>\n",
       "      <td>367866.0</td>\n",
       "      <td>74596.0</td>\n",
       "      <td>573</td>\n",
       "      <td>large_airport</td>\n",
       "      <td>large_airport</td>\n",
       "      <td>Asheville, NC TO Atlanta, GA</td>\n",
       "    </tr>\n",
       "    <tr>\n",
       "      <th>9</th>\n",
       "      <td>AVP</td>\n",
       "      <td>ATL</td>\n",
       "      <td>Pennsylvania</td>\n",
       "      <td>21.961235</td>\n",
       "      <td>10407.000000</td>\n",
       "      <td>Scranton/Wilkes-Barre, PA</td>\n",
       "      <td>Atlanta, GA</td>\n",
       "      <td>10.393292</td>\n",
       "      <td>73.637503</td>\n",
       "      <td>7954.0</td>\n",
       "      <td>52644.0</td>\n",
       "      <td>10982.0</td>\n",
       "      <td>82</td>\n",
       "      <td>medium_airport</td>\n",
       "      <td>large_airport</td>\n",
       "      <td>Scranton/Wilkes-Barre, PA TO Atlanta, GA</td>\n",
       "    </tr>\n",
       "  </tbody>\n",
       "</table>\n",
       "</div>"
      ],
      "text/plain": [
       "  ORIGIN DESTINATION ORIGIN_STATE_NM  PASSENGERS     ITIN_FARE  \\\n",
       "0    ABE         ATL    Pennsylvania   54.844939  25820.000000   \n",
       "1    ABQ         ATL      New Mexico   61.767409  24876.945610   \n",
       "2    ABY         ATL         Georgia    5.000000   1729.000000   \n",
       "3    AEX         ATL       Louisiana   13.961235   5623.000000   \n",
       "4    AGS         ATL         Georgia    3.000000    723.000000   \n",
       "5    ALB         ATL        New York   79.573582  33832.891221   \n",
       "6    ASE         ATL        Colorado    7.000000   2670.836831   \n",
       "7    AUS         ATL           Texas  200.945443  67383.836831   \n",
       "8    AVL         ATL  North Carolina   12.961235   4391.000000   \n",
       "9    AVP         ATL    Pennsylvania   21.961235  10407.000000   \n",
       "\n",
       "                 ORIGIN_CITY_NAME DEST_CITY_NAME    DEP_DELAY    ARR_DELAY  \\\n",
       "0  Allentown/Bethlehem/Easton, PA    Atlanta, GA   218.259122   441.825018   \n",
       "1                 Albuquerque, NM    Atlanta, GA   103.932915   115.716076   \n",
       "2                      Albany, GA    Atlanta, GA   374.158496   305.069655   \n",
       "3                  Alexandria, LA    Atlanta, GA   384.551787   357.667872   \n",
       "4                     Augusta, GA    Atlanta, GA   935.396239   904.689323   \n",
       "5                      Albany, NY    Atlanta, GA   197.472539   252.471439   \n",
       "6                       Aspen, CO    Atlanta, GA   218.259122   231.432152   \n",
       "7                      Austin, TX    Atlanta, GA   800.283449   788.973246   \n",
       "8                   Asheville, NC    Atlanta, GA  1112.082195  1293.916124   \n",
       "9       Scranton/Wilkes-Barre, PA    Atlanta, GA    10.393292    73.637503   \n",
       "\n",
       "   AIR_TIME  DISTANCE  OCCUPANCY_RATE  total_count       TYPE_left  \\\n",
       "0   21049.0  139314.0         27844.0          217  medium_airport   \n",
       "1   16005.0  105930.0         21348.0          165   large_airport   \n",
       "2   24153.0  159858.0         32362.0          249  medium_airport   \n",
       "3   31040.0  205440.0         41078.0          320  medium_airport   \n",
       "4   66251.0  438486.0         89280.0          683   large_airport   \n",
       "5   24250.0  160500.0         31998.0          250  medium_airport   \n",
       "6    8148.0   53928.0         10504.0           84  medium_airport   \n",
       "7   81092.0  536712.0        108974.0          836   large_airport   \n",
       "8   55581.0  367866.0         74596.0          573   large_airport   \n",
       "9    7954.0   52644.0         10982.0           82  medium_airport   \n",
       "\n",
       "      TYPE_right                                          route  \n",
       "0  large_airport  Allentown/Bethlehem/Easton, PA TO Atlanta, GA  \n",
       "1  large_airport                 Albuquerque, NM TO Atlanta, GA  \n",
       "2  large_airport                      Albany, GA TO Atlanta, GA  \n",
       "3  large_airport                  Alexandria, LA TO Atlanta, GA  \n",
       "4  large_airport                     Augusta, GA TO Atlanta, GA  \n",
       "5  large_airport                      Albany, NY TO Atlanta, GA  \n",
       "6  large_airport                       Aspen, CO TO Atlanta, GA  \n",
       "7  large_airport                      Austin, TX TO Atlanta, GA  \n",
       "8  large_airport                   Asheville, NC TO Atlanta, GA  \n",
       "9  large_airport       Scranton/Wilkes-Barre, PA TO Atlanta, GA  "
      ]
     },
     "execution_count": 103,
     "metadata": {},
     "output_type": "execute_result"
    }
   ],
   "source": [
    "data.head(10)"
   ]
  },
  {
   "cell_type": "markdown",
   "id": "2fdfab41-1839-4129-9f3f-b9b85bf17b60",
   "metadata": {},
   "source": [
    "## Question 1\n",
    "The 10 busiest round trip routes in terms of number of round trip flights in the quarter.\n",
    "Exclude canceled flights when performing the calculation."
   ]
  },
  {
   "cell_type": "code",
   "execution_count": 104,
   "id": "a21a4fe7",
   "metadata": {},
   "outputs": [
    {
     "data": {
      "text/html": [
       "<div>\n",
       "<style scoped>\n",
       "    .dataframe tbody tr th:only-of-type {\n",
       "        vertical-align: middle;\n",
       "    }\n",
       "\n",
       "    .dataframe tbody tr th {\n",
       "        vertical-align: top;\n",
       "    }\n",
       "\n",
       "    .dataframe thead th {\n",
       "        text-align: right;\n",
       "    }\n",
       "</style>\n",
       "<table border=\"1\" class=\"dataframe\">\n",
       "  <thead>\n",
       "    <tr style=\"text-align: right;\">\n",
       "      <th></th>\n",
       "      <th>ORIGIN</th>\n",
       "      <th>DESTINATION</th>\n",
       "      <th>ORIGIN_STATE_NM</th>\n",
       "      <th>PASSENGERS</th>\n",
       "      <th>ITIN_FARE</th>\n",
       "      <th>ORIGIN_CITY_NAME</th>\n",
       "      <th>DEST_CITY_NAME</th>\n",
       "      <th>DEP_DELAY</th>\n",
       "      <th>ARR_DELAY</th>\n",
       "      <th>AIR_TIME</th>\n",
       "      <th>DISTANCE</th>\n",
       "      <th>OCCUPANCY_RATE</th>\n",
       "      <th>total_count</th>\n",
       "      <th>TYPE_left</th>\n",
       "      <th>TYPE_right</th>\n",
       "      <th>route</th>\n",
       "    </tr>\n",
       "  </thead>\n",
       "  <tbody>\n",
       "    <tr>\n",
       "      <th>1624</th>\n",
       "      <td>SFO</td>\n",
       "      <td>LAX</td>\n",
       "      <td>California</td>\n",
       "      <td>838.424987</td>\n",
       "      <td>178725.782441</td>\n",
       "      <td>San Francisco, CA</td>\n",
       "      <td>Los Angeles, CA</td>\n",
       "      <td>10518.011044</td>\n",
       "      <td>12665.650517</td>\n",
       "      <td>403518.0</td>\n",
       "      <td>2669707.0</td>\n",
       "      <td>545374.0</td>\n",
       "      <td>4176</td>\n",
       "      <td>large_airport</td>\n",
       "      <td>large_airport</td>\n",
       "      <td>San Francisco, CA TO Los Angeles, CA</td>\n",
       "    </tr>\n",
       "    <tr>\n",
       "      <th>2324</th>\n",
       "      <td>LAX</td>\n",
       "      <td>SFO</td>\n",
       "      <td>California</td>\n",
       "      <td>781.308692</td>\n",
       "      <td>145803.619272</td>\n",
       "      <td>Los Angeles, CA</td>\n",
       "      <td>San Francisco, CA</td>\n",
       "      <td>12284.870607</td>\n",
       "      <td>13580.859483</td>\n",
       "      <td>402421.0</td>\n",
       "      <td>2662308.0</td>\n",
       "      <td>537180.0</td>\n",
       "      <td>4164</td>\n",
       "      <td>large_airport</td>\n",
       "      <td>large_airport</td>\n",
       "      <td>Los Angeles, CA TO San Francisco, CA</td>\n",
       "    </tr>\n",
       "    <tr>\n",
       "      <th>4038</th>\n",
       "      <td>ORD</td>\n",
       "      <td>LGA</td>\n",
       "      <td>Illinois</td>\n",
       "      <td>980.765978</td>\n",
       "      <td>254128.184155</td>\n",
       "      <td>Chicago, IL</td>\n",
       "      <td>New York, NY</td>\n",
       "      <td>11359.867659</td>\n",
       "      <td>12392.139791</td>\n",
       "      <td>347431.0</td>\n",
       "      <td>2301818.0</td>\n",
       "      <td>465064.0</td>\n",
       "      <td>3580</td>\n",
       "      <td>large_airport</td>\n",
       "      <td>large_airport</td>\n",
       "      <td>Chicago, IL TO New York, NY</td>\n",
       "    </tr>\n",
       "    <tr>\n",
       "      <th>540</th>\n",
       "      <td>LGA</td>\n",
       "      <td>ORD</td>\n",
       "      <td>New York</td>\n",
       "      <td>941.021543</td>\n",
       "      <td>218687.564883</td>\n",
       "      <td>New York, NY</td>\n",
       "      <td>Chicago, IL</td>\n",
       "      <td>9572.221513</td>\n",
       "      <td>12129.148709</td>\n",
       "      <td>347975.0</td>\n",
       "      <td>2299705.0</td>\n",
       "      <td>463962.0</td>\n",
       "      <td>3576</td>\n",
       "      <td>large_airport</td>\n",
       "      <td>large_airport</td>\n",
       "      <td>New York, NY TO Chicago, IL</td>\n",
       "    </tr>\n",
       "    <tr>\n",
       "      <th>1486</th>\n",
       "      <td>LAX</td>\n",
       "      <td>LAS</td>\n",
       "      <td>California</td>\n",
       "      <td>794.424987</td>\n",
       "      <td>142535.836831</td>\n",
       "      <td>Los Angeles, CA</td>\n",
       "      <td>Las Vegas, NV</td>\n",
       "      <td>6849.179128</td>\n",
       "      <td>6942.964569</td>\n",
       "      <td>315143.0</td>\n",
       "      <td>2084904.0</td>\n",
       "      <td>424822.0</td>\n",
       "      <td>3257</td>\n",
       "      <td>large_airport</td>\n",
       "      <td>large_airport</td>\n",
       "      <td>Los Angeles, CA TO Las Vegas, NV</td>\n",
       "    </tr>\n",
       "    <tr>\n",
       "      <th>1587</th>\n",
       "      <td>LAS</td>\n",
       "      <td>LAX</td>\n",
       "      <td>Nevada</td>\n",
       "      <td>277.898781</td>\n",
       "      <td>38982.000000</td>\n",
       "      <td>Las Vegas, NV</td>\n",
       "      <td>Los Angeles, CA</td>\n",
       "      <td>6298.334676</td>\n",
       "      <td>7216.475294</td>\n",
       "      <td>314710.0</td>\n",
       "      <td>2082166.0</td>\n",
       "      <td>420856.0</td>\n",
       "      <td>3254</td>\n",
       "      <td>large_airport</td>\n",
       "      <td>large_airport</td>\n",
       "      <td>Las Vegas, NV TO Los Angeles, CA</td>\n",
       "    </tr>\n",
       "    <tr>\n",
       "      <th>1399</th>\n",
       "      <td>LAX</td>\n",
       "      <td>JFK</td>\n",
       "      <td>California</td>\n",
       "      <td>978.300796</td>\n",
       "      <td>329201.134484</td>\n",
       "      <td>Los Angeles, CA</td>\n",
       "      <td>New York, NY</td>\n",
       "      <td>5809.849974</td>\n",
       "      <td>4491.887683</td>\n",
       "      <td>306714.0</td>\n",
       "      <td>2030004.0</td>\n",
       "      <td>413148.0</td>\n",
       "      <td>3162</td>\n",
       "      <td>large_airport</td>\n",
       "      <td>large_airport</td>\n",
       "      <td>Los Angeles, CA TO New York, NY</td>\n",
       "    </tr>\n",
       "    <tr>\n",
       "      <th>1585</th>\n",
       "      <td>JFK</td>\n",
       "      <td>LAX</td>\n",
       "      <td>New York</td>\n",
       "      <td>1184.858586</td>\n",
       "      <td>406789.381597</td>\n",
       "      <td>New York, NY</td>\n",
       "      <td>Los Angeles, CA</td>\n",
       "      <td>3887.091038</td>\n",
       "      <td>6395.943118</td>\n",
       "      <td>306326.0</td>\n",
       "      <td>2027436.0</td>\n",
       "      <td>408546.0</td>\n",
       "      <td>3158</td>\n",
       "      <td>large_airport</td>\n",
       "      <td>large_airport</td>\n",
       "      <td>New York, NY TO Los Angeles, CA</td>\n",
       "    </tr>\n",
       "    <tr>\n",
       "      <th>2245</th>\n",
       "      <td>LAX</td>\n",
       "      <td>SEA</td>\n",
       "      <td>California</td>\n",
       "      <td>618.293615</td>\n",
       "      <td>163586.945610</td>\n",
       "      <td>Los Angeles, CA</td>\n",
       "      <td>Seattle, WA</td>\n",
       "      <td>4209.283076</td>\n",
       "      <td>4860.075198</td>\n",
       "      <td>242694.0</td>\n",
       "      <td>1606284.0</td>\n",
       "      <td>328038.0</td>\n",
       "      <td>2502</td>\n",
       "      <td>large_airport</td>\n",
       "      <td>large_airport</td>\n",
       "      <td>Los Angeles, CA TO Seattle, WA</td>\n",
       "    </tr>\n",
       "    <tr>\n",
       "      <th>1623</th>\n",
       "      <td>SEA</td>\n",
       "      <td>LAX</td>\n",
       "      <td>Washington</td>\n",
       "      <td>747.665475</td>\n",
       "      <td>186010.782441</td>\n",
       "      <td>Seattle, WA</td>\n",
       "      <td>Los Angeles, CA</td>\n",
       "      <td>4198.889784</td>\n",
       "      <td>5691.127018</td>\n",
       "      <td>242209.0</td>\n",
       "      <td>1603074.0</td>\n",
       "      <td>326246.0</td>\n",
       "      <td>2497</td>\n",
       "      <td>large_airport</td>\n",
       "      <td>large_airport</td>\n",
       "      <td>Seattle, WA TO Los Angeles, CA</td>\n",
       "    </tr>\n",
       "  </tbody>\n",
       "</table>\n",
       "</div>"
      ],
      "text/plain": [
       "     ORIGIN DESTINATION ORIGIN_STATE_NM   PASSENGERS      ITIN_FARE  \\\n",
       "1624    SFO         LAX      California   838.424987  178725.782441   \n",
       "2324    LAX         SFO      California   781.308692  145803.619272   \n",
       "4038    ORD         LGA        Illinois   980.765978  254128.184155   \n",
       "540     LGA         ORD        New York   941.021543  218687.564883   \n",
       "1486    LAX         LAS      California   794.424987  142535.836831   \n",
       "1587    LAS         LAX          Nevada   277.898781   38982.000000   \n",
       "1399    LAX         JFK      California   978.300796  329201.134484   \n",
       "1585    JFK         LAX        New York  1184.858586  406789.381597   \n",
       "2245    LAX         SEA      California   618.293615  163586.945610   \n",
       "1623    SEA         LAX      Washington   747.665475  186010.782441   \n",
       "\n",
       "       ORIGIN_CITY_NAME     DEST_CITY_NAME     DEP_DELAY     ARR_DELAY  \\\n",
       "1624  San Francisco, CA    Los Angeles, CA  10518.011044  12665.650517   \n",
       "2324    Los Angeles, CA  San Francisco, CA  12284.870607  13580.859483   \n",
       "4038        Chicago, IL       New York, NY  11359.867659  12392.139791   \n",
       "540        New York, NY        Chicago, IL   9572.221513  12129.148709   \n",
       "1486    Los Angeles, CA      Las Vegas, NV   6849.179128   6942.964569   \n",
       "1587      Las Vegas, NV    Los Angeles, CA   6298.334676   7216.475294   \n",
       "1399    Los Angeles, CA       New York, NY   5809.849974   4491.887683   \n",
       "1585       New York, NY    Los Angeles, CA   3887.091038   6395.943118   \n",
       "2245    Los Angeles, CA        Seattle, WA   4209.283076   4860.075198   \n",
       "1623        Seattle, WA    Los Angeles, CA   4198.889784   5691.127018   \n",
       "\n",
       "      AIR_TIME   DISTANCE  OCCUPANCY_RATE  total_count      TYPE_left  \\\n",
       "1624  403518.0  2669707.0        545374.0         4176  large_airport   \n",
       "2324  402421.0  2662308.0        537180.0         4164  large_airport   \n",
       "4038  347431.0  2301818.0        465064.0         3580  large_airport   \n",
       "540   347975.0  2299705.0        463962.0         3576  large_airport   \n",
       "1486  315143.0  2084904.0        424822.0         3257  large_airport   \n",
       "1587  314710.0  2082166.0        420856.0         3254  large_airport   \n",
       "1399  306714.0  2030004.0        413148.0         3162  large_airport   \n",
       "1585  306326.0  2027436.0        408546.0         3158  large_airport   \n",
       "2245  242694.0  1606284.0        328038.0         2502  large_airport   \n",
       "1623  242209.0  1603074.0        326246.0         2497  large_airport   \n",
       "\n",
       "         TYPE_right                                 route  \n",
       "1624  large_airport  San Francisco, CA TO Los Angeles, CA  \n",
       "2324  large_airport  Los Angeles, CA TO San Francisco, CA  \n",
       "4038  large_airport           Chicago, IL TO New York, NY  \n",
       "540   large_airport           New York, NY TO Chicago, IL  \n",
       "1486  large_airport      Los Angeles, CA TO Las Vegas, NV  \n",
       "1587  large_airport      Las Vegas, NV TO Los Angeles, CA  \n",
       "1399  large_airport       Los Angeles, CA TO New York, NY  \n",
       "1585  large_airport       New York, NY TO Los Angeles, CA  \n",
       "2245  large_airport        Los Angeles, CA TO Seattle, WA  \n",
       "1623  large_airport        Seattle, WA TO Los Angeles, CA  "
      ]
     },
     "execution_count": 104,
     "metadata": {},
     "output_type": "execute_result"
    }
   ],
   "source": [
    "top_ten_busy_rounds=data.sort_values(by='OCCUPANCY_RATE',ascending=False)[:10]\n",
    "top_ten_busy_rounds"
   ]
  },
  {
   "cell_type": "markdown",
   "id": "02f64b3b",
   "metadata": {},
   "source": [
    "### Vidulaization for question 1: Top 10 busiest roundtrip rounds in terms of roundtrip flights"
   ]
  },
  {
   "cell_type": "code",
   "execution_count": 105,
   "id": "99e3321c-bf56-4651-bd4c-73f100c3cc96",
   "metadata": {},
   "outputs": [
    {
     "data": {
      "text/plain": [
       "[Text(0, 0, 'San Francisco, CA TO Los Angeles, CA'),\n",
       " Text(1, 0, 'Los Angeles, CA TO San Francisco, CA'),\n",
       " Text(2, 0, 'Chicago, IL TO New York, NY'),\n",
       " Text(3, 0, 'New York, NY TO Chicago, IL'),\n",
       " Text(4, 0, 'Los Angeles, CA TO Las Vegas, NV'),\n",
       " Text(5, 0, 'Las Vegas, NV TO Los Angeles, CA'),\n",
       " Text(6, 0, 'Los Angeles, CA TO New York, NY'),\n",
       " Text(7, 0, 'New York, NY TO Los Angeles, CA'),\n",
       " Text(8, 0, 'Los Angeles, CA TO Seattle, WA'),\n",
       " Text(9, 0, 'Seattle, WA TO Los Angeles, CA')]"
      ]
     },
     "execution_count": 105,
     "metadata": {},
     "output_type": "execute_result"
    },
    {
     "data": {
      "image/png": "[encoded data removed]",
      "text/plain": [
       "<Figure size 1440x360 with 1 Axes>"
      ]
     },
     "metadata": {
      "needs_background": "light"
     },
     "output_type": "display_data"
    }
   ],
   "source": [
    "ax=sns.barplot(x=top_ten_busy_rounds['route'],y=top_ten_busy_rounds['OCCUPANCY_RATE'])\n",
    "ax.set_xticklabels(ax.get_xticklabels(),rotation = 60)"
   ]
  },
  {
   "cell_type": "code",
   "execution_count": 106,
   "id": "c6aa3b22",
   "metadata": {},
   "outputs": [
    {
     "data": {
      "text/plain": [
       "[Text(0, 0, 'San Francisco, CA TO Los Angeles, CA'),\n",
       " Text(1, 0, 'Los Angeles, CA TO San Francisco, CA'),\n",
       " Text(2, 0, 'Chicago, IL TO New York, NY'),\n",
       " Text(3, 0, 'New York, NY TO Chicago, IL'),\n",
       " Text(4, 0, 'Los Angeles, CA TO Las Vegas, NV'),\n",
       " Text(5, 0, 'Las Vegas, NV TO Los Angeles, CA'),\n",
       " Text(6, 0, 'Los Angeles, CA TO New York, NY'),\n",
       " Text(7, 0, 'New York, NY TO Los Angeles, CA'),\n",
       " Text(8, 0, 'Los Angeles, CA TO Seattle, WA'),\n",
       " Text(9, 0, 'Seattle, WA TO Los Angeles, CA')]"
      ]
     },
     "execution_count": 106,
     "metadata": {},
     "output_type": "execute_result"
    },
    {
     "data": {
      "image/png": "[encoded data removed]",
      "text/plain": [
       "<Figure size 1440x360 with 1 Axes>"
      ]
     },
     "metadata": {
      "needs_background": "light"
     },
     "output_type": "display_data"
    }
   ],
   "source": [
    "ax=sns.barplot(x=top_ten_busy_rounds['route'],y=top_ten_busy_rounds['DISTANCE'])\n",
    "ax.set_xticklabels(ax.get_xticklabels(),rotation = 60)"
   ]
  },
  {
   "cell_type": "code",
   "execution_count": 107,
   "id": "4600d977",
   "metadata": {},
   "outputs": [
    {
     "data": {
      "text/plain": [
       "[Text(0, 0, 'San Francisco, CA TO Los Angeles, CA'),\n",
       " Text(1, 0, 'Los Angeles, CA TO San Francisco, CA'),\n",
       " Text(2, 0, 'Chicago, IL TO New York, NY'),\n",
       " Text(3, 0, 'New York, NY TO Chicago, IL'),\n",
       " Text(4, 0, 'Los Angeles, CA TO Las Vegas, NV'),\n",
       " Text(5, 0, 'Las Vegas, NV TO Los Angeles, CA'),\n",
       " Text(6, 0, 'Los Angeles, CA TO New York, NY'),\n",
       " Text(7, 0, 'New York, NY TO Los Angeles, CA'),\n",
       " Text(8, 0, 'Los Angeles, CA TO Seattle, WA'),\n",
       " Text(9, 0, 'Seattle, WA TO Los Angeles, CA')]"
      ]
     },
     "execution_count": 107,
     "metadata": {},
     "output_type": "execute_result"
    },
    {
     "data": {
      "image/png": "[encoded data removed]",
      "text/plain": [
       "<Figure size 1440x360 with 1 Axes>"
      ]
     },
     "metadata": {
      "needs_background": "light"
     },
     "output_type": "display_data"
    }
   ],
   "source": [
    "ax=sns.barplot(x=top_ten_busy_rounds['route'],y=top_ten_busy_rounds['PASSENGERS'])\n",
    "ax.set_xticklabels(ax.get_xticklabels(),rotation = 60)"
   ]
  },
  {
   "cell_type": "code",
   "execution_count": 108,
   "id": "480e0ead",
   "metadata": {},
   "outputs": [
    {
     "data": {
      "text/plain": [
       "[Text(0, 0, 'San Francisco, CA TO Los Angeles, CA'),\n",
       " Text(1, 0, 'Los Angeles, CA TO San Francisco, CA'),\n",
       " Text(2, 0, 'Chicago, IL TO New York, NY'),\n",
       " Text(3, 0, 'New York, NY TO Chicago, IL'),\n",
       " Text(4, 0, 'Los Angeles, CA TO Las Vegas, NV'),\n",
       " Text(5, 0, 'Las Vegas, NV TO Los Angeles, CA'),\n",
       " Text(6, 0, 'Los Angeles, CA TO New York, NY'),\n",
       " Text(7, 0, 'New York, NY TO Los Angeles, CA'),\n",
       " Text(8, 0, 'Los Angeles, CA TO Seattle, WA'),\n",
       " Text(9, 0, 'Seattle, WA TO Los Angeles, CA')]"
      ]
     },
     "execution_count": 108,
     "metadata": {},
     "output_type": "execute_result"
    },
    {
     "data": {
      "image/png": "[encoded data removed]",
      "text/plain": [
       "<Figure size 1440x360 with 1 Axes>"
      ]
     },
     "metadata": {
      "needs_background": "light"
     },
     "output_type": "display_data"
    }
   ],
   "source": [
    "ax=sns.barplot(x=top_ten_busy_rounds['route'],y=top_ten_busy_rounds['ITIN_FARE'])\n",
    "ax.set_xticklabels(ax.get_xticklabels(),rotation = 60)"
   ]
  },
  {
   "cell_type": "markdown",
   "id": "418e896a-f387-487a-85a4-86521208c1d3",
   "metadata": {},
   "source": [
    "The question asked for 10 busiest round trips. So Even if the origin and destination are reversed. Still I am considering this route as a new one because we are doing round trips."
   ]
  },
  {
   "cell_type": "markdown",
   "id": "83c785c1-2eec-4df4-b4b6-f5ab9887cfeb",
   "metadata": {},
   "source": [
    "## Question 2\n",
    "The 10 most profitable round trip routes (without considering the upfront airplane cost) in the quarter.  \n",
    "Along with the profit, show total revenue, total cost, summary values of other key components and total round trip flights in the quarter for the top 10 most profitable routes.  Exclude canceled flights from these calculations."
   ]
  },
  {
   "cell_type": "code",
   "execution_count": 109,
   "id": "116b9dfc",
   "metadata": {},
   "outputs": [],
   "source": [
    "#selecting needed fields\n",
    "data=data[['route','PASSENGERS','ITIN_FARE','DEP_DELAY','ARR_DELAY','DISTANCE','OCCUPANCY_RATE','total_count','TYPE_left','TYPE_right']]"
   ]
  },
  {
   "cell_type": "code",
   "execution_count": 110,
   "id": "0a7a667a-ed9c-4e7d-af66-262e38ffe2d0",
   "metadata": {},
   "outputs": [],
   "source": [
    "## Getting new fields based on the given assumptions\n",
    "data['total_fare']=data['PASSENGERS']*data['ITIN_FARE']"
   ]
  },
  {
   "cell_type": "code",
   "execution_count": 111,
   "id": "1551e7b0",
   "metadata": {},
   "outputs": [],
   "source": [
    "#Baggage fee is $35 for each checked bag per flight. We expect 50% of passengers to check an average of 1 bag per flight. \n",
    "#The fee is charged separately for each leg of a round trip flight, thus 50% of passengers will be charged a total of $70 in baggage fees for a round trip flight.\n",
    "data['baggage_cost']=data['OCCUPANCY_RATE']*70*0.5"
   ]
  },
  {
   "cell_type": "code",
   "execution_count": 112,
   "id": "f8315f47",
   "metadata": {},
   "outputs": [],
   "source": [
    "# For each individual departure, the first 15 minutes of delays are free, otherwise each minute costs the airline $75 in added operational costs.\n",
    "data['arr_delay_cost']=data['ARR_DELAY']*75\n",
    "# For each individual arrival, the first 15 minutes of delays are free, otherwise each minute costs the airline $75 in added operational costs\n",
    "data['dep_delay_cost']=data['DEP_DELAY']*75"
   ]
  },
  {
   "cell_type": "code",
   "execution_count": 113,
   "id": "64805f14",
   "metadata": {},
   "outputs": [],
   "source": [
    "#Airport operational costs for the right to use the airports and related services are fixed at $5,000 for medium airports and $10,000 for large airports. \n",
    "#There is one charge for each airport where a flight lands.  Thus, a round trip flight has a total of two airport charges\n",
    "data['airport_cost']=np.where((data['TYPE_left']=='medium_airport'),data['total_count']*5000 , data['total_count']*10000)\n",
    "data['airport_cost']=np.where((data['TYPE_right']=='medium_airport'),data['airport_cost']+data['total_count']*5000 , data['airport_cost']+data['total_count']*10000)\n",
    "\n",
    "#Fuel, Oil, Maintenance, Crew - $8 per mile total\n",
    "#Depreciation, Insurance, Other - $1.18 per mile total\n",
    "# other cost = 8 + 1.18 = 9.18\n",
    "data['other_cost']=data['DISTANCE']*9.18"
   ]
  },
  {
   "cell_type": "code",
   "execution_count": 114,
   "id": "1c1b5076",
   "metadata": {},
   "outputs": [],
   "source": [
    "data['income']=data['total_fare']+data['baggage_cost']\n",
    "data['cost']=data['arr_delay_cost']+data['dep_delay_cost']+data['airport_cost']+data['other_cost']\n",
    "# data['profit'] = data['income'] - data['cost']\n",
    "# data['profit'][:10]"
   ]
  },
  {
   "cell_type": "markdown",
   "id": "00015c21-37f0-4224-a762-981acce56e46",
   "metadata": {},
   "source": [
    "## Total Profit generated by a route in a quarter."
   ]
  },
  {
   "cell_type": "code",
   "execution_count": 115,
   "id": "ead8da5b",
   "metadata": {},
   "outputs": [
    {
     "data": {
      "application/vnd.plotly.v1+json": {
       "config": {
        "plotlyServerURL": "https://plot.ly"
       },
       "data": [
        {
         "alignmentgroup": "True",
         "hovertemplate": "route=%{x}<br>PASSENGERS=%{y}<extra></extra>",
         "legendgroup": "New York, NY TO Los Angeles, CA",
         "marker": {
          "color": "#636efa"
         },
         "name": "New York, NY TO Los Angeles, CA",
         "notched": false,
         "offsetgroup": "New York, NY TO Los Angeles, CA",
         "orientation": "v",
         "showlegend": true,
         "type": "box",
         "x": [
          "New York, NY TO Los Angeles, CA"
         ],
         "x0": " ",
         "xaxis": "x",
         "y": [
          1184.8585859810082
         ],
         "y0": " ",
         "yaxis": "y"
        },
        {
         "alignmentgroup": "True",
         "hovertemplate": "route=%{x}<br>PASSENGERS=%{y}<extra></extra>",
         "legendgroup": "Minneapolis, MN TO Phoenix, AZ",
         "marker": {
          "color": "#EF553B"
         },
         "name": "Minneapolis, MN TO Phoenix, AZ",
         "notched": false,
         "offsetgroup": "Minneapolis, MN TO Phoenix, AZ",
         "orientation": "v",
         "showlegend": true,
         "type": "box",
         "x": [
          "Minneapolis, MN TO Phoenix, AZ"
         ],
         "x0": " ",
         "xaxis": "x",
         "y": [
          1126.8348977996473
         ],
         "y0": " ",
         "yaxis": "y"
        },
        {
         "alignmentgroup": "True",
         "hovertemplate": "route=%{x}<br>PASSENGERS=%{y}<extra></extra>",
         "legendgroup": "New York, NY TO San Francisco, CA",
         "marker": {
          "color": "#00cc96"
         },
         "name": "New York, NY TO San Francisco, CA",
         "notched": false,
         "offsetgroup": "New York, NY TO San Francisco, CA",
         "orientation": "v",
         "showlegend": true,
         "type": "box",
         "x": [
          "New York, NY TO San Francisco, CA"
         ],
         "x0": " ",
         "xaxis": "x",
         "y": [
          1027.4637526587849
         ],
         "y0": " ",
         "yaxis": "y"
        },
        {
         "alignmentgroup": "True",
         "hovertemplate": "route=%{x}<br>PASSENGERS=%{y}<extra></extra>",
         "legendgroup": "Minneapolis, MN TO Orlando, FL",
         "marker": {
          "color": "#ab63fa"
         },
         "name": "Minneapolis, MN TO Orlando, FL",
         "notched": false,
         "offsetgroup": "Minneapolis, MN TO Orlando, FL",
         "orientation": "v",
         "showlegend": true,
         "type": "box",
         "x": [
          "Minneapolis, MN TO Orlando, FL"
         ],
         "x0": " ",
         "xaxis": "x",
         "y": [
          987.2928996055
         ],
         "y0": " ",
         "yaxis": "y"
        },
        {
         "alignmentgroup": "True",
         "hovertemplate": "route=%{x}<br>PASSENGERS=%{y}<extra></extra>",
         "legendgroup": "Chicago, IL TO New York, NY",
         "marker": {
          "color": "#FFA15A"
         },
         "name": "Chicago, IL TO New York, NY",
         "notched": false,
         "offsetgroup": "Chicago, IL TO New York, NY",
         "orientation": "v",
         "showlegend": true,
         "type": "box",
         "x": [
          "Chicago, IL TO New York, NY"
         ],
         "x0": " ",
         "xaxis": "x",
         "y": [
          980.7659784630861
         ],
         "y0": " ",
         "yaxis": "y"
        },
        {
         "alignmentgroup": "True",
         "hovertemplate": "route=%{x}<br>PASSENGERS=%{y}<extra></extra>",
         "legendgroup": "Los Angeles, CA TO New York, NY",
         "marker": {
          "color": "#19d3f3"
         },
         "name": "Los Angeles, CA TO New York, NY",
         "notched": false,
         "offsetgroup": "Los Angeles, CA TO New York, NY",
         "orientation": "v",
         "showlegend": true,
         "type": "box",
         "x": [
          "Los Angeles, CA TO New York, NY"
         ],
         "x0": " ",
         "xaxis": "x",
         "y": [
          978.3007956659536
         ],
         "y0": " ",
         "yaxis": "y"
        },
        {
         "alignmentgroup": "True",
         "hovertemplate": "route=%{x}<br>PASSENGERS=%{y}<extra></extra>",
         "legendgroup": "Chicago, IL TO Los Angeles, CA",
         "marker": {
          "color": "#FF6692"
         },
         "name": "Chicago, IL TO Los Angeles, CA",
         "notched": false,
         "offsetgroup": "Chicago, IL TO Los Angeles, CA",
         "orientation": "v",
         "showlegend": true,
         "type": "box",
         "x": [
          "Chicago, IL TO Los Angeles, CA"
         ],
         "x0": " ",
         "xaxis": "x",
         "y": [
          958.6884479968974
         ],
         "y0": " ",
         "yaxis": "y"
        },
        {
         "alignmentgroup": "True",
         "hovertemplate": "route=%{x}<br>PASSENGERS=%{y}<extra></extra>",
         "legendgroup": "New York, NY TO Chicago, IL",
         "marker": {
          "color": "#B6E880"
         },
         "name": "New York, NY TO Chicago, IL",
         "notched": false,
         "offsetgroup": "New York, NY TO Chicago, IL",
         "orientation": "v",
         "showlegend": true,
         "type": "box",
         "x": [
          "New York, NY TO Chicago, IL"
         ],
         "x0": " ",
         "xaxis": "x",
         "y": [
          941.0215429738394
         ],
         "y0": " ",
         "yaxis": "y"
        },
        {
         "alignmentgroup": "True",
         "hovertemplate": "route=%{x}<br>PASSENGERS=%{y}<extra></extra>",
         "legendgroup": "Minneapolis, MN TO Fort Myers, FL",
         "marker": {
          "color": "#FF97FF"
         },
         "name": "Minneapolis, MN TO Fort Myers, FL",
         "notched": false,
         "offsetgroup": "Minneapolis, MN TO Fort Myers, FL",
         "orientation": "v",
         "showlegend": true,
         "type": "box",
         "x": [
          "Minneapolis, MN TO Fort Myers, FL"
         ],
         "x0": " ",
         "xaxis": "x",
         "y": [
          926.719317169538
         ],
         "y0": " ",
         "yaxis": "y"
        },
        {
         "alignmentgroup": "True",
         "hovertemplate": "route=%{x}<br>PASSENGERS=%{y}<extra></extra>",
         "legendgroup": "Newark, NJ TO Fort Lauderdale, FL",
         "marker": {
          "color": "#FECB52"
         },
         "name": "Newark, NJ TO Fort Lauderdale, FL",
         "notched": false,
         "offsetgroup": "Newark, NJ TO Fort Lauderdale, FL",
         "orientation": "v",
         "showlegend": true,
         "type": "box",
         "x": [
          "Newark, NJ TO Fort Lauderdale, FL"
         ],
         "x0": " ",
         "xaxis": "x",
         "y": [
          889.5254910040662
         ],
         "y0": " ",
         "yaxis": "y"
        }
       ],
       "layout": {
        "boxmode": "overlay",
        "legend": {
         "title": {
          "text": "route"
         },
         "tracegroupgap": 0
        },
        "margin": {
         "t": 60
        },
        "template": {
         "data": {
          "bar": [
           {
            "error_x": {
             "color": "#2a3f5f"
            },
            "error_y": {
             "color": "#2a3f5f"
            },
            "marker": {
             "line": {
              "color": "#E5ECF6",
              "width": 0.5
             },
             "pattern": {
              "fillmode": "overlay",
              "size": 10,
              "solidity": 0.2
             }
            },
            "type": "bar"
           }
          ],
          "barpolar": [
           {
            "marker": {
             "line": {
              "color": "#E5ECF6",
              "width": 0.5
             },
             "pattern": {
              "fillmode": "overlay",
              "size": 10,
              "solidity": 0.2
             }
            },
            "type": "barpolar"
           }
          ],
          "carpet": [
           {
            "aaxis": {
             "endlinecolor": "#2a3f5f",
             "gridcolor": "white",
             "linecolor": "white",
             "minorgridcolor": "white",
             "startlinecolor": "#2a3f5f"
            },
            "baxis": {
             "endlinecolor": "#2a3f5f",
             "gridcolor": "white",
             "linecolor": "white",
             "minorgridcolor": "white",
             "startlinecolor": "#2a3f5f"
            },
            "type": "carpet"
           }
          ],
          "choropleth": [
           {
            "colorbar": {
             "outlinewidth": 0,
             "ticks": ""
            },
            "type": "choropleth"
           }
          ],
          "contour": [
           {
            "colorbar": {
             "outlinewidth": 0,
             "ticks": ""
            },
            "colorscale": [
             [
              0,
              "#0d0887"
             ],
             [
              0.1111111111111111,
              "#46039f"
             ],
             [
              0.2222222222222222,
              "#7201a8"
             ],
             [
              0.3333333333333333,
              "#9c179e"
             ],
             [
              0.4444444444444444,
              "#bd3786"
             ],
             [
              0.5555555555555556,
              "#d8576b"
             ],
             [
              0.6666666666666666,
              "#ed7953"
             ],
             [
              0.7777777777777778,
              "#fb9f3a"
             ],
             [
              0.8888888888888888,
              "#fdca26"
             ],
             [
              1,
              "#f0f921"
             ]
            ],
            "type": "contour"
           }
          ],
          "contourcarpet": [
           {
            "colorbar": {
             "outlinewidth": 0,
             "ticks": ""
            },
            "type": "contourcarpet"
           }
          ],
          "heatmap": [
           {
            "colorbar": {
             "outlinewidth": 0,
             "ticks": ""
            },
            "colorscale": [
             [
              0,
              "#0d0887"
             ],
             [
              0.1111111111111111,
              "#46039f"
             ],
             [
              0.2222222222222222,
              "#7201a8"
             ],
             [
              0.3333333333333333,
              "#9c179e"
             ],
             [
              0.4444444444444444,
              "#bd3786"
             ],
             [
              0.5555555555555556,
              "#d8576b"
             ],
             [
              0.6666666666666666,
              "#ed7953"
             ],
             [
              0.7777777777777778,
              "#fb9f3a"
             ],
             [
              0.8888888888888888,
              "#fdca26"
             ],
             [
              1,
              "#f0f921"
             ]
            ],
            "type": "heatmap"
           }
          ],
          "heatmapgl": [
           {
            "colorbar": {
             "outlinewidth": 0,
             "ticks": ""
            },
            "colorscale": [
             [
              0,
              "#0d0887"
             ],
             [
              0.1111111111111111,
              "#46039f"
             ],
             [
              0.2222222222222222,
              "#7201a8"
             ],
             [
              0.3333333333333333,
              "#9c179e"
             ],
             [
              0.4444444444444444,
              "#bd3786"
             ],
             [
              0.5555555555555556,
              "#d8576b"
             ],
             [
              0.6666666666666666,
              "#ed7953"
             ],
             [
              0.7777777777777778,
              "#fb9f3a"
             ],
             [
              0.8888888888888888,
              "#fdca26"
             ],
             [
              1,
              "#f0f921"
             ]
            ],
            "type": "heatmapgl"
           }
          ],
          "histogram": [
           {
            "marker": {
             "pattern": {
              "fillmode": "overlay",
              "size": 10,
              "solidity": 0.2
             }
            },
            "type": "histogram"
           }
          ],
          "histogram2d": [
           {
            "colorbar": {
             "outlinewidth": 0,
             "ticks": ""
            },
            "colorscale": [
             [
              0,
              "#0d0887"
             ],
             [
              0.1111111111111111,
              "#46039f"
             ],
             [
              0.2222222222222222,
              "#7201a8"
             ],
             [
              0.3333333333333333,
              "#9c179e"
             ],
             [
              0.4444444444444444,
              "#bd3786"
             ],
             [
              0.5555555555555556,
              "#d8576b"
             ],
             [
              0.6666666666666666,
              "#ed7953"
             ],
             [
              0.7777777777777778,
              "#fb9f3a"
             ],
             [
              0.8888888888888888,
              "#fdca26"
             ],
             [
              1,
              "#f0f921"
             ]
            ],
            "type": "histogram2d"
           }
          ],
          "histogram2dcontour": [
           {
            "colorbar": {
             "outlinewidth": 0,
             "ticks": ""
            },
            "colorscale": [
             [
              0,
              "#0d0887"
             ],
             [
              0.1111111111111111,
              "#46039f"
             ],
             [
              0.2222222222222222,
              "#7201a8"
             ],
             [
              0.3333333333333333,
              "#9c179e"
             ],
             [
              0.4444444444444444,
              "#bd3786"
             ],
             [
              0.5555555555555556,
              "#d8576b"
             ],
             [
              0.6666666666666666,
              "#ed7953"
             ],
             [
              0.7777777777777778,
              "#fb9f3a"
             ],
             [
              0.8888888888888888,
              "#fdca26"
             ],
             [
              1,
              "#f0f921"
             ]
            ],
            "type": "histogram2dcontour"
           }
          ],
          "mesh3d": [
           {
            "colorbar": {
             "outlinewidth": 0,
             "ticks": ""
            },
            "type": "mesh3d"
           }
          ],
          "parcoords": [
           {
            "line": {
             "colorbar": {
              "outlinewidth": 0,
              "ticks": ""
             }
            },
            "type": "parcoords"
           }
          ],
          "pie": [
           {
            "automargin": true,
            "type": "pie"
           }
          ],
          "scatter": [
           {
            "marker": {
             "colorbar": {
              "outlinewidth": 0,
              "ticks": ""
             }
            },
            "type": "scatter"
           }
          ],
          "scatter3d": [
           {
            "line": {
             "colorbar": {
              "outlinewidth": 0,
              "ticks": ""
             }
            },
            "marker": {
             "colorbar": {
              "outlinewidth": 0,
              "ticks": ""
             }
            },
            "type": "scatter3d"
           }
          ],
          "scattercarpet": [
           {
            "marker": {
             "colorbar": {
              "outlinewidth": 0,
              "ticks": ""
             }
            },
            "type": "scattercarpet"
           }
          ],
          "scattergeo": [
           {
            "marker": {
             "colorbar": {
              "outlinewidth": 0,
              "ticks": ""
             }
            },
            "type": "scattergeo"
           }
          ],
          "scattergl": [
           {
            "marker": {
             "colorbar": {
              "outlinewidth": 0,
              "ticks": ""
             }
            },
            "type": "scattergl"
           }
          ],
          "scattermapbox": [
           {
            "marker": {
             "colorbar": {
              "outlinewidth": 0,
              "ticks": ""
             }
            },
            "type": "scattermapbox"
           }
          ],
          "scatterpolar": [
           {
            "marker": {
             "colorbar": {
              "outlinewidth": 0,
              "ticks": ""
             }
            },
            "type": "scatterpolar"
           }
          ],
          "scatterpolargl": [
           {
            "marker": {
             "colorbar": {
              "outlinewidth": 0,
              "ticks": ""
             }
            },
            "type": "scatterpolargl"
           }
          ],
          "scatterternary": [
           {
            "marker": {
             "colorbar": {
              "outlinewidth": 0,
              "ticks": ""
             }
            },
            "type": "scatterternary"
           }
          ],
          "surface": [
           {
            "colorbar": {
             "outlinewidth": 0,
             "ticks": ""
            },
            "colorscale": [
             [
              0,
              "#0d0887"
             ],
             [
              0.1111111111111111,
              "#46039f"
             ],
             [
              0.2222222222222222,
              "#7201a8"
             ],
             [
              0.3333333333333333,
              "#9c179e"
             ],
             [
              0.4444444444444444,
              "#bd3786"
             ],
             [
              0.5555555555555556,
              "#d8576b"
             ],
             [
              0.6666666666666666,
              "#ed7953"
             ],
             [
              0.7777777777777778,
              "#fb9f3a"
             ],
             [
              0.8888888888888888,
              "#fdca26"
             ],
             [
              1,
              "#f0f921"
             ]
            ],
            "type": "surface"
           }
          ],
          "table": [
           {
            "cells": {
             "fill": {
              "color": "#EBF0F8"
             },
             "line": {
              "color": "white"
             }
            },
            "header": {
             "fill": {
              "color": "#C8D4E3"
             },
             "line": {
              "color": "white"
             }
            },
            "type": "table"
           }
          ]
         },
         "layout": {
          "annotationdefaults": {
           "arrowcolor": "#2a3f5f",
           "arrowhead": 0,
           "arrowwidth": 1
          },
          "autotypenumbers": "strict",
          "coloraxis": {
           "colorbar": {
            "outlinewidth": 0,
            "ticks": ""
           }
          },
          "colorscale": {
           "diverging": [
            [
             0,
             "#8e0152"
            ],
            [
             0.1,
             "#c51b7d"
            ],
            [
             0.2,
             "#de77ae"
            ],
            [
             0.3,
             "#f1b6da"
            ],
            [
             0.4,
             "#fde0ef"
            ],
            [
             0.5,
             "#f7f7f7"
            ],
            [
             0.6,
             "#e6f5d0"
            ],
            [
             0.7,
             "#b8e186"
            ],
            [
             0.8,
             "#7fbc41"
            ],
            [
             0.9,
             "#4d9221"
            ],
            [
             1,
             "#276419"
            ]
           ],
           "sequential": [
            [
             0,
             "#0d0887"
            ],
            [
             0.1111111111111111,
             "#46039f"
            ],
            [
             0.2222222222222222,
             "#7201a8"
            ],
            [
             0.3333333333333333,
             "#9c179e"
            ],
            [
             0.4444444444444444,
             "#bd3786"
            ],
            [
             0.5555555555555556,
             "#d8576b"
            ],
            [
             0.6666666666666666,
             "#ed7953"
            ],
            [
             0.7777777777777778,
             "#fb9f3a"
            ],
            [
             0.8888888888888888,
             "#fdca26"
            ],
            [
             1,
             "#f0f921"
            ]
           ],
           "sequentialminus": [
            [
             0,
             "#0d0887"
            ],
            [
             0.1111111111111111,
             "#46039f"
            ],
            [
             0.2222222222222222,
             "#7201a8"
            ],
            [
             0.3333333333333333,
             "#9c179e"
            ],
            [
             0.4444444444444444,
             "#bd3786"
            ],
            [
             0.5555555555555556,
             "#d8576b"
            ],
            [
             0.6666666666666666,
             "#ed7953"
            ],
            [
             0.7777777777777778,
             "#fb9f3a"
            ],
            [
             0.8888888888888888,
             "#fdca26"
            ],
            [
             1,
             "#f0f921"
            ]
           ]
          },
          "colorway": [
           "#636efa",
           "#EF553B",
           "#00cc96",
           "#ab63fa",
           "#FFA15A",
           "#19d3f3",
           "#FF6692",
           "#B6E880",
           "#FF97FF",
           "#FECB52"
          ],
          "font": {
           "color": "#2a3f5f"
          },
          "geo": {
           "bgcolor": "white",
           "lakecolor": "white",
           "landcolor": "#E5ECF6",
           "showlakes": true,
           "showland": true,
           "subunitcolor": "white"
          },
          "hoverlabel": {
           "align": "left"
          },
          "hovermode": "closest",
          "mapbox": {
           "style": "light"
          },
          "paper_bgcolor": "white",
          "plot_bgcolor": "#E5ECF6",
          "polar": {
           "angularaxis": {
            "gridcolor": "white",
            "linecolor": "white",
            "ticks": ""
           },
           "bgcolor": "#E5ECF6",
           "radialaxis": {
            "gridcolor": "white",
            "linecolor": "white",
            "ticks": ""
           }
          },
          "scene": {
           "xaxis": {
            "backgroundcolor": "#E5ECF6",
            "gridcolor": "white",
            "gridwidth": 2,
            "linecolor": "white",
            "showbackground": true,
            "ticks": "",
            "zerolinecolor": "white"
           },
           "yaxis": {
            "backgroundcolor": "#E5ECF6",
            "gridcolor": "white",
            "gridwidth": 2,
            "linecolor": "white",
            "showbackground": true,
            "ticks": "",
            "zerolinecolor": "white"
           },
           "zaxis": {
            "backgroundcolor": "#E5ECF6",
            "gridcolor": "white",
            "gridwidth": 2,
            "linecolor": "white",
            "showbackground": true,
            "ticks": "",
            "zerolinecolor": "white"
           }
          },
          "shapedefaults": {
           "line": {
            "color": "#2a3f5f"
           }
          },
          "ternary": {
           "aaxis": {
            "gridcolor": "white",
            "linecolor": "white",
            "ticks": ""
           },
           "baxis": {
            "gridcolor": "white",
            "linecolor": "white",
            "ticks": ""
           },
           "bgcolor": "#E5ECF6",
           "caxis": {
            "gridcolor": "white",
            "linecolor": "white",
            "ticks": ""
           }
          },
          "title": {
           "x": 0.05
          },
          "xaxis": {
           "automargin": true,
           "gridcolor": "white",
           "linecolor": "white",
           "ticks": "",
           "title": {
            "standoff": 15
           },
           "zerolinecolor": "white",
           "zerolinewidth": 2
          },
          "yaxis": {
           "automargin": true,
           "gridcolor": "white",
           "linecolor": "white",
           "ticks": "",
           "title": {
            "standoff": 15
           },
           "zerolinecolor": "white",
           "zerolinewidth": 2
          }
         }
        },
        "xaxis": {
         "anchor": "y",
         "categoryarray": [
          "New York, NY TO Los Angeles, CA",
          "Minneapolis, MN TO Phoenix, AZ",
          "New York, NY TO San Francisco, CA",
          "Minneapolis, MN TO Orlando, FL",
          "Chicago, IL TO New York, NY",
          "Los Angeles, CA TO New York, NY",
          "Chicago, IL TO Los Angeles, CA",
          "New York, NY TO Chicago, IL",
          "Minneapolis, MN TO Fort Myers, FL",
          "Newark, NJ TO Fort Lauderdale, FL"
         ],
         "categoryorder": "array",
         "domain": [
          0,
          1
         ],
         "title": {
          "text": "route"
         }
        },
        "yaxis": {
         "anchor": "x",
         "domain": [
          0,
          1
         ],
         "title": {
          "text": "PASSENGERS"
         }
        }
       }
      },
      "text/html": [
       "<div>                            <div id=\"af9595fe-1bf6-41ed-9b6b-85d839de19a2\" class=\"plotly-graph-div\" style=\"height:525px; width:100%;\"></div>            <script type=\"text/javascript\">                require([\"plotly\"], function(Plotly) {                    window.PLOTLYENV=window.PLOTLYENV || {};                                    if (document.getElementById(\"af9595fe-1bf6-41ed-9b6b-85d839de19a2\")) {                    Plotly.newPlot(                        \"af9595fe-1bf6-41ed-9b6b-85d839de19a2\",                        [{\"alignmentgroup\":\"True\",\"hovertemplate\":\"route=%{x}<br>PASSENGERS=%{y}<extra></extra>\",\"legendgroup\":\"New York, NY TO Los Angeles, CA\",\"marker\":{\"color\":\"#636efa\"},\"name\":\"New York, NY TO Los Angeles, CA\",\"notched\":false,\"offsetgroup\":\"New York, NY TO Los Angeles, CA\",\"orientation\":\"v\",\"showlegend\":true,\"x\":[\"New York, NY TO Los Angeles, CA\"],\"x0\":\" \",\"xaxis\":\"x\",\"y\":[1184.8585859810082],\"y0\":\" \",\"yaxis\":\"y\",\"type\":\"box\"},{\"alignmentgroup\":\"True\",\"hovertemplate\":\"route=%{x}<br>PASSENGERS=%{y}<extra></extra>\",\"legendgroup\":\"Minneapolis, MN TO Phoenix, AZ\",\"marker\":{\"color\":\"#EF553B\"},\"name\":\"Minneapolis, MN TO Phoenix, AZ\",\"notched\":false,\"offsetgroup\":\"Minneapolis, MN TO Phoenix, AZ\",\"orientation\":\"v\",\"showlegend\":true,\"x\":[\"Minneapolis, MN TO Phoenix, AZ\"],\"x0\":\" \",\"xaxis\":\"x\",\"y\":[1126.8348977996473],\"y0\":\" \",\"yaxis\":\"y\",\"type\":\"box\"},{\"alignmentgroup\":\"True\",\"hovertemplate\":\"route=%{x}<br>PASSENGERS=%{y}<extra></extra>\",\"legendgroup\":\"New York, NY TO San Francisco, CA\",\"marker\":{\"color\":\"#00cc96\"},\"name\":\"New York, NY TO San Francisco, CA\",\"notched\":false,\"offsetgroup\":\"New York, NY TO San Francisco, CA\",\"orientation\":\"v\",\"showlegend\":true,\"x\":[\"New York, NY TO San Francisco, CA\"],\"x0\":\" \",\"xaxis\":\"x\",\"y\":[1027.4637526587849],\"y0\":\" \",\"yaxis\":\"y\",\"type\":\"box\"},{\"alignmentgroup\":\"True\",\"hovertemplate\":\"route=%{x}<br>PASSENGERS=%{y}<extra></extra>\",\"legendgroup\":\"Minneapolis, MN TO Orlando, FL\",\"marker\":{\"color\":\"#ab63fa\"},\"name\":\"Minneapolis, MN TO Orlando, FL\",\"notched\":false,\"offsetgroup\":\"Minneapolis, MN TO Orlando, FL\",\"orientation\":\"v\",\"showlegend\":true,\"x\":[\"Minneapolis, MN TO Orlando, FL\"],\"x0\":\" \",\"xaxis\":\"x\",\"y\":[987.2928996055],\"y0\":\" \",\"yaxis\":\"y\",\"type\":\"box\"},{\"alignmentgroup\":\"True\",\"hovertemplate\":\"route=%{x}<br>PASSENGERS=%{y}<extra></extra>\",\"legendgroup\":\"Chicago, IL TO New York, NY\",\"marker\":{\"color\":\"#FFA15A\"},\"name\":\"Chicago, IL TO New York, NY\",\"notched\":false,\"offsetgroup\":\"Chicago, IL TO New York, NY\",\"orientation\":\"v\",\"showlegend\":true,\"x\":[\"Chicago, IL TO New York, NY\"],\"x0\":\" \",\"xaxis\":\"x\",\"y\":[980.7659784630861],\"y0\":\" \",\"yaxis\":\"y\",\"type\":\"box\"},{\"alignmentgroup\":\"True\",\"hovertemplate\":\"route=%{x}<br>PASSENGERS=%{y}<extra></extra>\",\"legendgroup\":\"Los Angeles, CA TO New York, NY\",\"marker\":{\"color\":\"#19d3f3\"},\"name\":\"Los Angeles, CA TO New York, NY\",\"notched\":false,\"offsetgroup\":\"Los Angeles, CA TO New York, NY\",\"orientation\":\"v\",\"showlegend\":true,\"x\":[\"Los Angeles, CA TO New York, NY\"],\"x0\":\" \",\"xaxis\":\"x\",\"y\":[978.3007956659536],\"y0\":\" \",\"yaxis\":\"y\",\"type\":\"box\"},{\"alignmentgroup\":\"True\",\"hovertemplate\":\"route=%{x}<br>PASSENGERS=%{y}<extra></extra>\",\"legendgroup\":\"Chicago, IL TO Los Angeles, CA\",\"marker\":{\"color\":\"#FF6692\"},\"name\":\"Chicago, IL TO Los Angeles, CA\",\"notched\":false,\"offsetgroup\":\"Chicago, IL TO Los Angeles, CA\",\"orientation\":\"v\",\"showlegend\":true,\"x\":[\"Chicago, IL TO Los Angeles, CA\"],\"x0\":\" \",\"xaxis\":\"x\",\"y\":[958.6884479968974],\"y0\":\" \",\"yaxis\":\"y\",\"type\":\"box\"},{\"alignmentgroup\":\"True\",\"hovertemplate\":\"route=%{x}<br>PASSENGERS=%{y}<extra></extra>\",\"legendgroup\":\"New York, NY TO Chicago, IL\",\"marker\":{\"color\":\"#B6E880\"},\"name\":\"New York, NY TO Chicago, IL\",\"notched\":false,\"offsetgroup\":\"New York, NY TO Chicago, IL\",\"orientation\":\"v\",\"showlegend\":true,\"x\":[\"New York, NY TO Chicago, IL\"],\"x0\":\" \",\"xaxis\":\"x\",\"y\":[941.0215429738394],\"y0\":\" \",\"yaxis\":\"y\",\"type\":\"box\"},{\"alignmentgroup\":\"True\",\"hovertemplate\":\"route=%{x}<br>PASSENGERS=%{y}<extra></extra>\",\"legendgroup\":\"Minneapolis, MN TO Fort Myers, FL\",\"marker\":{\"color\":\"#FF97FF\"},\"name\":\"Minneapolis, MN TO Fort Myers, FL\",\"notched\":false,\"offsetgroup\":\"Minneapolis, MN TO Fort Myers, FL\",\"orientation\":\"v\",\"showlegend\":true,\"x\":[\"Minneapolis, MN TO Fort Myers, FL\"],\"x0\":\" \",\"xaxis\":\"x\",\"y\":[926.719317169538],\"y0\":\" \",\"yaxis\":\"y\",\"type\":\"box\"},{\"alignmentgroup\":\"True\",\"hovertemplate\":\"route=%{x}<br>PASSENGERS=%{y}<extra></extra>\",\"legendgroup\":\"Newark, NJ TO Fort Lauderdale, FL\",\"marker\":{\"color\":\"#FECB52\"},\"name\":\"Newark, NJ TO Fort Lauderdale, FL\",\"notched\":false,\"offsetgroup\":\"Newark, NJ TO Fort Lauderdale, FL\",\"orientation\":\"v\",\"showlegend\":true,\"x\":[\"Newark, NJ TO Fort Lauderdale, FL\"],\"x0\":\" \",\"xaxis\":\"x\",\"y\":[889.5254910040662],\"y0\":\" \",\"yaxis\":\"y\",\"type\":\"box\"}],                        {\"template\":{\"data\":{\"bar\":[{\"error_x\":{\"color\":\"#2a3f5f\"},\"error_y\":{\"color\":\"#2a3f5f\"},\"marker\":{\"line\":{\"color\":\"#E5ECF6\",\"width\":0.5},\"pattern\":{\"fillmode\":\"overlay\",\"size\":10,\"solidity\":0.2}},\"type\":\"bar\"}],\"barpolar\":[{\"marker\":{\"line\":{\"color\":\"#E5ECF6\",\"width\":0.5},\"pattern\":{\"fillmode\":\"overlay\",\"size\":10,\"solidity\":0.2}},\"type\":\"barpolar\"}],\"carpet\":[{\"aaxis\":{\"endlinecolor\":\"#2a3f5f\",\"gridcolor\":\"white\",\"linecolor\":\"white\",\"minorgridcolor\":\"white\",\"startlinecolor\":\"#2a3f5f\"},\"baxis\":{\"endlinecolor\":\"#2a3f5f\",\"gridcolor\":\"white\",\"linecolor\":\"white\",\"minorgridcolor\":\"white\",\"startlinecolor\":\"#2a3f5f\"},\"type\":\"carpet\"}],\"choropleth\":[{\"colorbar\":{\"outlinewidth\":0,\"ticks\":\"\"},\"type\":\"choropleth\"}],\"contour\":[{\"colorbar\":{\"outlinewidth\":0,\"ticks\":\"\"},\"colorscale\":[[0.0,\"#0d0887\"],[0.1111111111111111,\"#46039f\"],[0.2222222222222222,\"#7201a8\"],[0.3333333333333333,\"#9c179e\"],[0.4444444444444444,\"#bd3786\"],[0.5555555555555556,\"#d8576b\"],[0.6666666666666666,\"#ed7953\"],[0.7777777777777778,\"#fb9f3a\"],[0.8888888888888888,\"#fdca26\"],[1.0,\"#f0f921\"]],\"type\":\"contour\"}],\"contourcarpet\":[{\"colorbar\":{\"outlinewidth\":0,\"ticks\":\"\"},\"type\":\"contourcarpet\"}],\"heatmap\":[{\"colorbar\":{\"outlinewidth\":0,\"ticks\":\"\"},\"colorscale\":[[0.0,\"#0d0887\"],[0.1111111111111111,\"#46039f\"],[0.2222222222222222,\"#7201a8\"],[0.3333333333333333,\"#9c179e\"],[0.4444444444444444,\"#bd3786\"],[0.5555555555555556,\"#d8576b\"],[0.6666666666666666,\"#ed7953\"],[0.7777777777777778,\"#fb9f3a\"],[0.8888888888888888,\"#fdca26\"],[1.0,\"#f0f921\"]],\"type\":\"heatmap\"}],\"heatmapgl\":[{\"colorbar\":{\"outlinewidth\":0,\"ticks\":\"\"},\"colorscale\":[[0.0,\"#0d0887\"],[0.1111111111111111,\"#46039f\"],[0.2222222222222222,\"#7201a8\"],[0.3333333333333333,\"#9c179e\"],[0.4444444444444444,\"#bd3786\"],[0.5555555555555556,\"#d8576b\"],[0.6666666666666666,\"#ed7953\"],[0.7777777777777778,\"#fb9f3a\"],[0.8888888888888888,\"#fdca26\"],[1.0,\"#f0f921\"]],\"type\":\"heatmapgl\"}],\"histogram\":[{\"marker\":{\"pattern\":{\"fillmode\":\"overlay\",\"size\":10,\"solidity\":0.2}},\"type\":\"histogram\"}],\"histogram2d\":[{\"colorbar\":{\"outlinewidth\":0,\"ticks\":\"\"},\"colorscale\":[[0.0,\"#0d0887\"],[0.1111111111111111,\"#46039f\"],[0.2222222222222222,\"#7201a8\"],[0.3333333333333333,\"#9c179e\"],[0.4444444444444444,\"#bd3786\"],[0.5555555555555556,\"#d8576b\"],[0.6666666666666666,\"#ed7953\"],[0.7777777777777778,\"#fb9f3a\"],[0.8888888888888888,\"#fdca26\"],[1.0,\"#f0f921\"]],\"type\":\"histogram2d\"}],\"histogram2dcontour\":[{\"colorbar\":{\"outlinewidth\":0,\"ticks\":\"\"},\"colorscale\":[[0.0,\"#0d0887\"],[0.1111111111111111,\"#46039f\"],[0.2222222222222222,\"#7201a8\"],[0.3333333333333333,\"#9c179e\"],[0.4444444444444444,\"#bd3786\"],[0.5555555555555556,\"#d8576b\"],[0.6666666666666666,\"#ed7953\"],[0.7777777777777778,\"#fb9f3a\"],[0.8888888888888888,\"#fdca26\"],[1.0,\"#f0f921\"]],\"type\":\"histogram2dcontour\"}],\"mesh3d\":[{\"colorbar\":{\"outlinewidth\":0,\"ticks\":\"\"},\"type\":\"mesh3d\"}],\"parcoords\":[{\"line\":{\"colorbar\":{\"outlinewidth\":0,\"ticks\":\"\"}},\"type\":\"parcoords\"}],\"pie\":[{\"automargin\":true,\"type\":\"pie\"}],\"scatter\":[{\"marker\":{\"colorbar\":{\"outlinewidth\":0,\"ticks\":\"\"}},\"type\":\"scatter\"}],\"scatter3d\":[{\"line\":{\"colorbar\":{\"outlinewidth\":0,\"ticks\":\"\"}},\"marker\":{\"colorbar\":{\"outlinewidth\":0,\"ticks\":\"\"}},\"type\":\"scatter3d\"}],\"scattercarpet\":[{\"marker\":{\"colorbar\":{\"outlinewidth\":0,\"ticks\":\"\"}},\"type\":\"scattercarpet\"}],\"scattergeo\":[{\"marker\":{\"colorbar\":{\"outlinewidth\":0,\"ticks\":\"\"}},\"type\":\"scattergeo\"}],\"scattergl\":[{\"marker\":{\"colorbar\":{\"outlinewidth\":0,\"ticks\":\"\"}},\"type\":\"scattergl\"}],\"scattermapbox\":[{\"marker\":{\"colorbar\":{\"outlinewidth\":0,\"ticks\":\"\"}},\"type\":\"scattermapbox\"}],\"scatterpolar\":[{\"marker\":{\"colorbar\":{\"outlinewidth\":0,\"ticks\":\"\"}},\"type\":\"scatterpolar\"}],\"scatterpolargl\":[{\"marker\":{\"colorbar\":{\"outlinewidth\":0,\"ticks\":\"\"}},\"type\":\"scatterpolargl\"}],\"scatterternary\":[{\"marker\":{\"colorbar\":{\"outlinewidth\":0,\"ticks\":\"\"}},\"type\":\"scatterternary\"}],\"surface\":[{\"colorbar\":{\"outlinewidth\":0,\"ticks\":\"\"},\"colorscale\":[[0.0,\"#0d0887\"],[0.1111111111111111,\"#46039f\"],[0.2222222222222222,\"#7201a8\"],[0.3333333333333333,\"#9c179e\"],[0.4444444444444444,\"#bd3786\"],[0.5555555555555556,\"#d8576b\"],[0.6666666666666666,\"#ed7953\"],[0.7777777777777778,\"#fb9f3a\"],[0.8888888888888888,\"#fdca26\"],[1.0,\"#f0f921\"]],\"type\":\"surface\"}],\"table\":[{\"cells\":{\"fill\":{\"color\":\"#EBF0F8\"},\"line\":{\"color\":\"white\"}},\"header\":{\"fill\":{\"color\":\"#C8D4E3\"},\"line\":{\"color\":\"white\"}},\"type\":\"table\"}]},\"layout\":{\"annotationdefaults\":{\"arrowcolor\":\"#2a3f5f\",\"arrowhead\":0,\"arrowwidth\":1},\"autotypenumbers\":\"strict\",\"coloraxis\":{\"colorbar\":{\"outlinewidth\":0,\"ticks\":\"\"}},\"colorscale\":{\"diverging\":[[0,\"#8e0152\"],[0.1,\"#c51b7d\"],[0.2,\"#de77ae\"],[0.3,\"#f1b6da\"],[0.4,\"#fde0ef\"],[0.5,\"#f7f7f7\"],[0.6,\"#e6f5d0\"],[0.7,\"#b8e186\"],[0.8,\"#7fbc41\"],[0.9,\"#4d9221\"],[1,\"#276419\"]],\"sequential\":[[0.0,\"#0d0887\"],[0.1111111111111111,\"#46039f\"],[0.2222222222222222,\"#7201a8\"],[0.3333333333333333,\"#9c179e\"],[0.4444444444444444,\"#bd3786\"],[0.5555555555555556,\"#d8576b\"],[0.6666666666666666,\"#ed7953\"],[0.7777777777777778,\"#fb9f3a\"],[0.8888888888888888,\"#fdca26\"],[1.0,\"#f0f921\"]],\"sequentialminus\":[[0.0,\"#0d0887\"],[0.1111111111111111,\"#46039f\"],[0.2222222222222222,\"#7201a8\"],[0.3333333333333333,\"#9c179e\"],[0.4444444444444444,\"#bd3786\"],[0.5555555555555556,\"#d8576b\"],[0.6666666666666666,\"#ed7953\"],[0.7777777777777778,\"#fb9f3a\"],[0.8888888888888888,\"#fdca26\"],[1.0,\"#f0f921\"]]},\"colorway\":[\"#636efa\",\"#EF553B\",\"#00cc96\",\"#ab63fa\",\"#FFA15A\",\"#19d3f3\",\"#FF6692\",\"#B6E880\",\"#FF97FF\",\"#FECB52\"],\"font\":{\"color\":\"#2a3f5f\"},\"geo\":{\"bgcolor\":\"white\",\"lakecolor\":\"white\",\"landcolor\":\"#E5ECF6\",\"showlakes\":true,\"showland\":true,\"subunitcolor\":\"white\"},\"hoverlabel\":{\"align\":\"left\"},\"hovermode\":\"closest\",\"mapbox\":{\"style\":\"light\"},\"paper_bgcolor\":\"white\",\"plot_bgcolor\":\"#E5ECF6\",\"polar\":{\"angularaxis\":{\"gridcolor\":\"white\",\"linecolor\":\"white\",\"ticks\":\"\"},\"bgcolor\":\"#E5ECF6\",\"radialaxis\":{\"gridcolor\":\"white\",\"linecolor\":\"white\",\"ticks\":\"\"}},\"scene\":{\"xaxis\":{\"backgroundcolor\":\"#E5ECF6\",\"gridcolor\":\"white\",\"gridwidth\":2,\"linecolor\":\"white\",\"showbackground\":true,\"ticks\":\"\",\"zerolinecolor\":\"white\"},\"yaxis\":{\"backgroundcolor\":\"#E5ECF6\",\"gridcolor\":\"white\",\"gridwidth\":2,\"linecolor\":\"white\",\"showbackground\":true,\"ticks\":\"\",\"zerolinecolor\":\"white\"},\"zaxis\":{\"backgroundcolor\":\"#E5ECF6\",\"gridcolor\":\"white\",\"gridwidth\":2,\"linecolor\":\"white\",\"showbackground\":true,\"ticks\":\"\",\"zerolinecolor\":\"white\"}},\"shapedefaults\":{\"line\":{\"color\":\"#2a3f5f\"}},\"ternary\":{\"aaxis\":{\"gridcolor\":\"white\",\"linecolor\":\"white\",\"ticks\":\"\"},\"baxis\":{\"gridcolor\":\"white\",\"linecolor\":\"white\",\"ticks\":\"\"},\"bgcolor\":\"#E5ECF6\",\"caxis\":{\"gridcolor\":\"white\",\"linecolor\":\"white\",\"ticks\":\"\"}},\"title\":{\"x\":0.05},\"xaxis\":{\"automargin\":true,\"gridcolor\":\"white\",\"linecolor\":\"white\",\"ticks\":\"\",\"title\":{\"standoff\":15},\"zerolinecolor\":\"white\",\"zerolinewidth\":2},\"yaxis\":{\"automargin\":true,\"gridcolor\":\"white\",\"linecolor\":\"white\",\"ticks\":\"\",\"title\":{\"standoff\":15},\"zerolinecolor\":\"white\",\"zerolinewidth\":2}}},\"xaxis\":{\"anchor\":\"y\",\"domain\":[0.0,1.0],\"title\":{\"text\":\"route\"},\"categoryorder\":\"array\",\"categoryarray\":[\"New York, NY TO Los Angeles, CA\",\"Minneapolis, MN TO Phoenix, AZ\",\"New York, NY TO San Francisco, CA\",\"Minneapolis, MN TO Orlando, FL\",\"Chicago, IL TO New York, NY\",\"Los Angeles, CA TO New York, NY\",\"Chicago, IL TO Los Angeles, CA\",\"New York, NY TO Chicago, IL\",\"Minneapolis, MN TO Fort Myers, FL\",\"Newark, NJ TO Fort Lauderdale, FL\"]},\"yaxis\":{\"anchor\":\"x\",\"domain\":[0.0,1.0],\"title\":{\"text\":\"PASSENGERS\"}},\"legend\":{\"title\":{\"text\":\"route\"},\"tracegroupgap\":0},\"margin\":{\"t\":60},\"boxmode\":\"overlay\"},                        {\"responsive\": true}                    ).then(function(){\n",
       "                            \n",
       "var gd = document.getElementById('af9595fe-1bf6-41ed-9b6b-85d839de19a2');\n",
       "var x = new MutationObserver(function (mutations, observer) {{\n",
       "        var display = window.getComputedStyle(gd).display;\n",
       "        if (!display || display === 'none') {{\n",
       "            console.log([gd, 'removed!']);\n",
       "            Plotly.purge(gd);\n",
       "            observer.disconnect();\n",
       "        }}\n",
       "}});\n",
       "\n",
       "// Listen for the removal of the full notebook cells\n",
       "var notebookContainer = gd.closest('#notebook-container');\n",
       "if (notebookContainer) {{\n",
       "    x.observe(notebookContainer, {childList: true});\n",
       "}}\n",
       "\n",
       "// Listen for the clearing of the current output cell\n",
       "var outputEl = gd.closest('.output');\n",
       "if (outputEl) {{\n",
       "    x.observe(outputEl, {childList: true});\n",
       "}}\n",
       "\n",
       "                        })                };                });            </script>        </div>"
      ]
     },
     "metadata": {},
     "output_type": "display_data"
    }
   ],
   "source": [
    "# df = px.data.tips()\n",
    "df_passengres_route=data.sort_values(by='PASSENGERS',ascending=False)[:10]\n",
    "fig = px.box(df_passengres_route, x=\"route\", y=\"PASSENGERS\", color='route')\n",
    "fig.show()"
   ]
  },
  {
   "cell_type": "code",
   "execution_count": 116,
   "id": "c1fc244d",
   "metadata": {},
   "outputs": [
    {
     "data": {
      "application/vnd.plotly.v1+json": {
       "config": {
        "plotlyServerURL": "https://plot.ly"
       },
       "data": [
        {
         "alignmentgroup": "True",
         "hovertemplate": "route=%{x}<br>other_cost=%{y}<extra></extra>",
         "legendgroup": "San Francisco, CA TO Los Angeles, CA",
         "marker": {
          "color": "#636efa"
         },
         "name": "San Francisco, CA TO Los Angeles, CA",
         "notched": false,
         "offsetgroup": "San Francisco, CA TO Los Angeles, CA",
         "orientation": "v",
         "showlegend": true,
         "type": "box",
         "x": [
          "San Francisco, CA TO Los Angeles, CA"
         ],
         "x0": " ",
         "xaxis": "x",
         "y": [
          24507910.259999998
         ],
         "y0": " ",
         "yaxis": "y"
        },
        {
         "alignmentgroup": "True",
         "hovertemplate": "route=%{x}<br>other_cost=%{y}<extra></extra>",
         "legendgroup": "Los Angeles, CA TO San Francisco, CA",
         "marker": {
          "color": "#EF553B"
         },
         "name": "Los Angeles, CA TO San Francisco, CA",
         "notched": false,
         "offsetgroup": "Los Angeles, CA TO San Francisco, CA",
         "orientation": "v",
         "showlegend": true,
         "type": "box",
         "x": [
          "Los Angeles, CA TO San Francisco, CA"
         ],
         "x0": " ",
         "xaxis": "x",
         "y": [
          24439987.439999998
         ],
         "y0": " ",
         "yaxis": "y"
        },
        {
         "alignmentgroup": "True",
         "hovertemplate": "route=%{x}<br>other_cost=%{y}<extra></extra>",
         "legendgroup": "Chicago, IL TO New York, NY",
         "marker": {
          "color": "#00cc96"
         },
         "name": "Chicago, IL TO New York, NY",
         "notched": false,
         "offsetgroup": "Chicago, IL TO New York, NY",
         "orientation": "v",
         "showlegend": true,
         "type": "box",
         "x": [
          "Chicago, IL TO New York, NY"
         ],
         "x0": " ",
         "xaxis": "x",
         "y": [
          21130689.24
         ],
         "y0": " ",
         "yaxis": "y"
        },
        {
         "alignmentgroup": "True",
         "hovertemplate": "route=%{x}<br>other_cost=%{y}<extra></extra>",
         "legendgroup": "New York, NY TO Chicago, IL",
         "marker": {
          "color": "#ab63fa"
         },
         "name": "New York, NY TO Chicago, IL",
         "notched": false,
         "offsetgroup": "New York, NY TO Chicago, IL",
         "orientation": "v",
         "showlegend": true,
         "type": "box",
         "x": [
          "New York, NY TO Chicago, IL"
         ],
         "x0": " ",
         "xaxis": "x",
         "y": [
          21111291.9
         ],
         "y0": " ",
         "yaxis": "y"
        },
        {
         "alignmentgroup": "True",
         "hovertemplate": "route=%{x}<br>other_cost=%{y}<extra></extra>",
         "legendgroup": "Los Angeles, CA TO Las Vegas, NV",
         "marker": {
          "color": "#FFA15A"
         },
         "name": "Los Angeles, CA TO Las Vegas, NV",
         "notched": false,
         "offsetgroup": "Los Angeles, CA TO Las Vegas, NV",
         "orientation": "v",
         "showlegend": true,
         "type": "box",
         "x": [
          "Los Angeles, CA TO Las Vegas, NV"
         ],
         "x0": " ",
         "xaxis": "x",
         "y": [
          19139418.72
         ],
         "y0": " ",
         "yaxis": "y"
        },
        {
         "alignmentgroup": "True",
         "hovertemplate": "route=%{x}<br>other_cost=%{y}<extra></extra>",
         "legendgroup": "Las Vegas, NV TO Los Angeles, CA",
         "marker": {
          "color": "#19d3f3"
         },
         "name": "Las Vegas, NV TO Los Angeles, CA",
         "notched": false,
         "offsetgroup": "Las Vegas, NV TO Los Angeles, CA",
         "orientation": "v",
         "showlegend": true,
         "type": "box",
         "x": [
          "Las Vegas, NV TO Los Angeles, CA"
         ],
         "x0": " ",
         "xaxis": "x",
         "y": [
          19114283.88
         ],
         "y0": " ",
         "yaxis": "y"
        },
        {
         "alignmentgroup": "True",
         "hovertemplate": "route=%{x}<br>other_cost=%{y}<extra></extra>",
         "legendgroup": "Los Angeles, CA TO New York, NY",
         "marker": {
          "color": "#FF6692"
         },
         "name": "Los Angeles, CA TO New York, NY",
         "notched": false,
         "offsetgroup": "Los Angeles, CA TO New York, NY",
         "orientation": "v",
         "showlegend": true,
         "type": "box",
         "x": [
          "Los Angeles, CA TO New York, NY"
         ],
         "x0": " ",
         "xaxis": "x",
         "y": [
          18635436.72
         ],
         "y0": " ",
         "yaxis": "y"
        },
        {
         "alignmentgroup": "True",
         "hovertemplate": "route=%{x}<br>other_cost=%{y}<extra></extra>",
         "legendgroup": "New York, NY TO Los Angeles, CA",
         "marker": {
          "color": "#B6E880"
         },
         "name": "New York, NY TO Los Angeles, CA",
         "notched": false,
         "offsetgroup": "New York, NY TO Los Angeles, CA",
         "orientation": "v",
         "showlegend": true,
         "type": "box",
         "x": [
          "New York, NY TO Los Angeles, CA"
         ],
         "x0": " ",
         "xaxis": "x",
         "y": [
          18611862.48
         ],
         "y0": " ",
         "yaxis": "y"
        },
        {
         "alignmentgroup": "True",
         "hovertemplate": "route=%{x}<br>other_cost=%{y}<extra></extra>",
         "legendgroup": "Los Angeles, CA TO Seattle, WA",
         "marker": {
          "color": "#FF97FF"
         },
         "name": "Los Angeles, CA TO Seattle, WA",
         "notched": false,
         "offsetgroup": "Los Angeles, CA TO Seattle, WA",
         "orientation": "v",
         "showlegend": true,
         "type": "box",
         "x": [
          "Los Angeles, CA TO Seattle, WA"
         ],
         "x0": " ",
         "xaxis": "x",
         "y": [
          14745687.12
         ],
         "y0": " ",
         "yaxis": "y"
        },
        {
         "alignmentgroup": "True",
         "hovertemplate": "route=%{x}<br>other_cost=%{y}<extra></extra>",
         "legendgroup": "Seattle, WA TO Los Angeles, CA",
         "marker": {
          "color": "#FECB52"
         },
         "name": "Seattle, WA TO Los Angeles, CA",
         "notched": false,
         "offsetgroup": "Seattle, WA TO Los Angeles, CA",
         "orientation": "v",
         "showlegend": true,
         "type": "box",
         "x": [
          "Seattle, WA TO Los Angeles, CA"
         ],
         "x0": " ",
         "xaxis": "x",
         "y": [
          14716219.32
         ],
         "y0": " ",
         "yaxis": "y"
        }
       ],
       "layout": {
        "boxmode": "overlay",
        "legend": {
         "title": {
          "text": "route"
         },
         "tracegroupgap": 0
        },
        "margin": {
         "t": 60
        },
        "template": {
         "data": {
          "bar": [
           {
            "error_x": {
             "color": "#2a3f5f"
            },
            "error_y": {
             "color": "#2a3f5f"
            },
            "marker": {
             "line": {
              "color": "#E5ECF6",
              "width": 0.5
             },
             "pattern": {
              "fillmode": "overlay",
              "size": 10,
              "solidity": 0.2
             }
            },
            "type": "bar"
           }
          ],
          "barpolar": [
           {
            "marker": {
             "line": {
              "color": "#E5ECF6",
              "width": 0.5
             },
             "pattern": {
              "fillmode": "overlay",
              "size": 10,
              "solidity": 0.2
             }
            },
            "type": "barpolar"
           }
          ],
          "carpet": [
           {
            "aaxis": {
             "endlinecolor": "#2a3f5f",
             "gridcolor": "white",
             "linecolor": "white",
             "minorgridcolor": "white",
             "startlinecolor": "#2a3f5f"
            },
            "baxis": {
             "endlinecolor": "#2a3f5f",
             "gridcolor": "white",
             "linecolor": "white",
             "minorgridcolor": "white",
             "startlinecolor": "#2a3f5f"
            },
            "type": "carpet"
           }
          ],
          "choropleth": [
           {
            "colorbar": {
             "outlinewidth": 0,
             "ticks": ""
            },
            "type": "choropleth"
           }
          ],
          "contour": [
           {
            "colorbar": {
             "outlinewidth": 0,
             "ticks": ""
            },
            "colorscale": [
             [
              0,
              "#0d0887"
             ],
             [
              0.1111111111111111,
              "#46039f"
             ],
             [
              0.2222222222222222,
              "#7201a8"
             ],
             [
              0.3333333333333333,
              "#9c179e"
             ],
             [
              0.4444444444444444,
              "#bd3786"
             ],
             [
              0.5555555555555556,
              "#d8576b"
             ],
             [
              0.6666666666666666,
              "#ed7953"
             ],
             [
              0.7777777777777778,
              "#fb9f3a"
             ],
             [
              0.8888888888888888,
              "#fdca26"
             ],
             [
              1,
              "#f0f921"
             ]
            ],
            "type": "contour"
           }
          ],
          "contourcarpet": [
           {
            "colorbar": {
             "outlinewidth": 0,
             "ticks": ""
            },
            "type": "contourcarpet"
           }
          ],
          "heatmap": [
           {
            "colorbar": {
             "outlinewidth": 0,
             "ticks": ""
            },
            "colorscale": [
             [
              0,
              "#0d0887"
             ],
             [
              0.1111111111111111,
              "#46039f"
             ],
             [
              0.2222222222222222,
              "#7201a8"
             ],
             [
              0.3333333333333333,
              "#9c179e"
             ],
             [
              0.4444444444444444,
              "#bd3786"
             ],
             [
              0.5555555555555556,
              "#d8576b"
             ],
             [
              0.6666666666666666,
              "#ed7953"
             ],
             [
              0.7777777777777778,
              "#fb9f3a"
             ],
             [
              0.8888888888888888,
              "#fdca26"
             ],
             [
              1,
              "#f0f921"
             ]
            ],
            "type": "heatmap"
           }
          ],
          "heatmapgl": [
           {
            "colorbar": {
             "outlinewidth": 0,
             "ticks": ""
            },
            "colorscale": [
             [
              0,
              "#0d0887"
             ],
             [
              0.1111111111111111,
              "#46039f"
             ],
             [
              0.2222222222222222,
              "#7201a8"
             ],
             [
              0.3333333333333333,
              "#9c179e"
             ],
             [
              0.4444444444444444,
              "#bd3786"
             ],
             [
              0.5555555555555556,
              "#d8576b"
             ],
             [
              0.6666666666666666,
              "#ed7953"
             ],
             [
              0.7777777777777778,
              "#fb9f3a"
             ],
             [
              0.8888888888888888,
              "#fdca26"
             ],
             [
              1,
              "#f0f921"
             ]
            ],
            "type": "heatmapgl"
           }
          ],
          "histogram": [
           {
            "marker": {
             "pattern": {
              "fillmode": "overlay",
              "size": 10,
              "solidity": 0.2
             }
            },
            "type": "histogram"
           }
          ],
          "histogram2d": [
           {
            "colorbar": {
             "outlinewidth": 0,
             "ticks": ""
            },
            "colorscale": [
             [
              0,
              "#0d0887"
             ],
             [
              0.1111111111111111,
              "#46039f"
             ],
             [
              0.2222222222222222,
              "#7201a8"
             ],
             [
              0.3333333333333333,
              "#9c179e"
             ],
             [
              0.4444444444444444,
              "#bd3786"
             ],
             [
              0.5555555555555556,
              "#d8576b"
             ],
             [
              0.6666666666666666,
              "#ed7953"
             ],
             [
              0.7777777777777778,
              "#fb9f3a"
             ],
             [
              0.8888888888888888,
              "#fdca26"
             ],
             [
              1,
              "#f0f921"
             ]
            ],
            "type": "histogram2d"
           }
          ],
          "histogram2dcontour": [
           {
            "colorbar": {
             "outlinewidth": 0,
             "ticks": ""
            },
            "colorscale": [
             [
              0,
              "#0d0887"
             ],
             [
              0.1111111111111111,
              "#46039f"
             ],
             [
              0.2222222222222222,
              "#7201a8"
             ],
             [
              0.3333333333333333,
              "#9c179e"
             ],
             [
              0.4444444444444444,
              "#bd3786"
             ],
             [
              0.5555555555555556,
              "#d8576b"
             ],
             [
              0.6666666666666666,
              "#ed7953"
             ],
             [
              0.7777777777777778,
              "#fb9f3a"
             ],
             [
              0.8888888888888888,
              "#fdca26"
             ],
             [
              1,
              "#f0f921"
             ]
            ],
            "type": "histogram2dcontour"
           }
          ],
          "mesh3d": [
           {
            "colorbar": {
             "outlinewidth": 0,
             "ticks": ""
            },
            "type": "mesh3d"
           }
          ],
          "parcoords": [
           {
            "line": {
             "colorbar": {
              "outlinewidth": 0,
              "ticks": ""
             }
            },
            "type": "parcoords"
           }
          ],
          "pie": [
           {
            "automargin": true,
            "type": "pie"
           }
          ],
          "scatter": [
           {
            "marker": {
             "colorbar": {
              "outlinewidth": 0,
              "ticks": ""
             }
            },
            "type": "scatter"
           }
          ],
          "scatter3d": [
           {
            "line": {
             "colorbar": {
              "outlinewidth": 0,
              "ticks": ""
             }
            },
            "marker": {
             "colorbar": {
              "outlinewidth": 0,
              "ticks": ""
             }
            },
            "type": "scatter3d"
           }
          ],
          "scattercarpet": [
           {
            "marker": {
             "colorbar": {
              "outlinewidth": 0,
              "ticks": ""
             }
            },
            "type": "scattercarpet"
           }
          ],
          "scattergeo": [
           {
            "marker": {
             "colorbar": {
              "outlinewidth": 0,
              "ticks": ""
             }
            },
            "type": "scattergeo"
           }
          ],
          "scattergl": [
           {
            "marker": {
             "colorbar": {
              "outlinewidth": 0,
              "ticks": ""
             }
            },
            "type": "scattergl"
           }
          ],
          "scattermapbox": [
           {
            "marker": {
             "colorbar": {
              "outlinewidth": 0,
              "ticks": ""
             }
            },
            "type": "scattermapbox"
           }
          ],
          "scatterpolar": [
           {
            "marker": {
             "colorbar": {
              "outlinewidth": 0,
              "ticks": ""
             }
            },
            "type": "scatterpolar"
           }
          ],
          "scatterpolargl": [
           {
            "marker": {
             "colorbar": {
              "outlinewidth": 0,
              "ticks": ""
             }
            },
            "type": "scatterpolargl"
           }
          ],
          "scatterternary": [
           {
            "marker": {
             "colorbar": {
              "outlinewidth": 0,
              "ticks": ""
             }
            },
            "type": "scatterternary"
           }
          ],
          "surface": [
           {
            "colorbar": {
             "outlinewidth": 0,
             "ticks": ""
            },
            "colorscale": [
             [
              0,
              "#0d0887"
             ],
             [
              0.1111111111111111,
              "#46039f"
             ],
             [
              0.2222222222222222,
              "#7201a8"
             ],
             [
              0.3333333333333333,
              "#9c179e"
             ],
             [
              0.4444444444444444,
              "#bd3786"
             ],
             [
              0.5555555555555556,
              "#d8576b"
             ],
             [
              0.6666666666666666,
              "#ed7953"
             ],
             [
              0.7777777777777778,
              "#fb9f3a"
             ],
             [
              0.8888888888888888,
              "#fdca26"
             ],
             [
              1,
              "#f0f921"
             ]
            ],
            "type": "surface"
           }
          ],
          "table": [
           {
            "cells": {
             "fill": {
              "color": "#EBF0F8"
             },
             "line": {
              "color": "white"
             }
            },
            "header": {
             "fill": {
              "color": "#C8D4E3"
             },
             "line": {
              "color": "white"
             }
            },
            "type": "table"
           }
          ]
         },
         "layout": {
          "annotationdefaults": {
           "arrowcolor": "#2a3f5f",
           "arrowhead": 0,
           "arrowwidth": 1
          },
          "autotypenumbers": "strict",
          "coloraxis": {
           "colorbar": {
            "outlinewidth": 0,
            "ticks": ""
           }
          },
          "colorscale": {
           "diverging": [
            [
             0,
             "#8e0152"
            ],
            [
             0.1,
             "#c51b7d"
            ],
            [
             0.2,
             "#de77ae"
            ],
            [
             0.3,
             "#f1b6da"
            ],
            [
             0.4,
             "#fde0ef"
            ],
            [
             0.5,
             "#f7f7f7"
            ],
            [
             0.6,
             "#e6f5d0"
            ],
            [
             0.7,
             "#b8e186"
            ],
            [
             0.8,
             "#7fbc41"
            ],
            [
             0.9,
             "#4d9221"
            ],
            [
             1,
             "#276419"
            ]
           ],
           "sequential": [
            [
             0,
             "#0d0887"
            ],
            [
             0.1111111111111111,
             "#46039f"
            ],
            [
             0.2222222222222222,
             "#7201a8"
            ],
            [
             0.3333333333333333,
             "#9c179e"
            ],
            [
             0.4444444444444444,
             "#bd3786"
            ],
            [
             0.5555555555555556,
             "#d8576b"
            ],
            [
             0.6666666666666666,
             "#ed7953"
            ],
            [
             0.7777777777777778,
             "#fb9f3a"
            ],
            [
             0.8888888888888888,
             "#fdca26"
            ],
            [
             1,
             "#f0f921"
            ]
           ],
           "sequentialminus": [
            [
             0,
             "#0d0887"
            ],
            [
             0.1111111111111111,
             "#46039f"
            ],
            [
             0.2222222222222222,
             "#7201a8"
            ],
            [
             0.3333333333333333,
             "#9c179e"
            ],
            [
             0.4444444444444444,
             "#bd3786"
            ],
            [
             0.5555555555555556,
             "#d8576b"
            ],
            [
             0.6666666666666666,
             "#ed7953"
            ],
            [
             0.7777777777777778,
             "#fb9f3a"
            ],
            [
             0.8888888888888888,
             "#fdca26"
            ],
            [
             1,
             "#f0f921"
            ]
           ]
          },
          "colorway": [
           "#636efa",
           "#EF553B",
           "#00cc96",
           "#ab63fa",
           "#FFA15A",
           "#19d3f3",
           "#FF6692",
           "#B6E880",
           "#FF97FF",
           "#FECB52"
          ],
          "font": {
           "color": "#2a3f5f"
          },
          "geo": {
           "bgcolor": "white",
           "lakecolor": "white",
           "landcolor": "#E5ECF6",
           "showlakes": true,
           "showland": true,
           "subunitcolor": "white"
          },
          "hoverlabel": {
           "align": "left"
          },
          "hovermode": "closest",
          "mapbox": {
           "style": "light"
          },
          "paper_bgcolor": "white",
          "plot_bgcolor": "#E5ECF6",
          "polar": {
           "angularaxis": {
            "gridcolor": "white",
            "linecolor": "white",
            "ticks": ""
           },
           "bgcolor": "#E5ECF6",
           "radialaxis": {
            "gridcolor": "white",
            "linecolor": "white",
            "ticks": ""
           }
          },
          "scene": {
           "xaxis": {
            "backgroundcolor": "#E5ECF6",
            "gridcolor": "white",
            "gridwidth": 2,
            "linecolor": "white",
            "showbackground": true,
            "ticks": "",
            "zerolinecolor": "white"
           },
           "yaxis": {
            "backgroundcolor": "#E5ECF6",
            "gridcolor": "white",
            "gridwidth": 2,
            "linecolor": "white",
            "showbackground": true,
            "ticks": "",
            "zerolinecolor": "white"
           },
           "zaxis": {
            "backgroundcolor": "#E5ECF6",
            "gridcolor": "white",
            "gridwidth": 2,
            "linecolor": "white",
            "showbackground": true,
            "ticks": "",
            "zerolinecolor": "white"
           }
          },
          "shapedefaults": {
           "line": {
            "color": "#2a3f5f"
           }
          },
          "ternary": {
           "aaxis": {
            "gridcolor": "white",
            "linecolor": "white",
            "ticks": ""
           },
           "baxis": {
            "gridcolor": "white",
            "linecolor": "white",
            "ticks": ""
           },
           "bgcolor": "#E5ECF6",
           "caxis": {
            "gridcolor": "white",
            "linecolor": "white",
            "ticks": ""
           }
          },
          "title": {
           "x": 0.05
          },
          "xaxis": {
           "automargin": true,
           "gridcolor": "white",
           "linecolor": "white",
           "ticks": "",
           "title": {
            "standoff": 15
           },
           "zerolinecolor": "white",
           "zerolinewidth": 2
          },
          "yaxis": {
           "automargin": true,
           "gridcolor": "white",
           "linecolor": "white",
           "ticks": "",
           "title": {
            "standoff": 15
           },
           "zerolinecolor": "white",
           "zerolinewidth": 2
          }
         }
        },
        "xaxis": {
         "anchor": "y",
         "categoryarray": [
          "San Francisco, CA TO Los Angeles, CA",
          "Los Angeles, CA TO San Francisco, CA",
          "Chicago, IL TO New York, NY",
          "New York, NY TO Chicago, IL",
          "Los Angeles, CA TO Las Vegas, NV",
          "Las Vegas, NV TO Los Angeles, CA",
          "Los Angeles, CA TO New York, NY",
          "New York, NY TO Los Angeles, CA",
          "Los Angeles, CA TO Seattle, WA",
          "Seattle, WA TO Los Angeles, CA"
         ],
         "categoryorder": "array",
         "domain": [
          0,
          1
         ],
         "title": {
          "text": "route"
         }
        },
        "yaxis": {
         "anchor": "x",
         "domain": [
          0,
          1
         ],
         "title": {
          "text": "other_cost"
         }
        }
       }
      },
      "text/html": [
       "<div>                            <div id=\"feb1e2d8-a9f5-4666-8899-2fbe44a0c868\" class=\"plotly-graph-div\" style=\"height:525px; width:100%;\"></div>            <script type=\"text/javascript\">                require([\"plotly\"], function(Plotly) {                    window.PLOTLYENV=window.PLOTLYENV || {};                                    if (document.getElementById(\"feb1e2d8-a9f5-4666-8899-2fbe44a0c868\")) {                    Plotly.newPlot(                        \"feb1e2d8-a9f5-4666-8899-2fbe44a0c868\",                        [{\"alignmentgroup\":\"True\",\"hovertemplate\":\"route=%{x}<br>other_cost=%{y}<extra></extra>\",\"legendgroup\":\"San Francisco, CA TO Los Angeles, CA\",\"marker\":{\"color\":\"#636efa\"},\"name\":\"San Francisco, CA TO Los Angeles, CA\",\"notched\":false,\"offsetgroup\":\"San Francisco, CA TO Los Angeles, CA\",\"orientation\":\"v\",\"showlegend\":true,\"x\":[\"San Francisco, CA TO Los Angeles, CA\"],\"x0\":\" \",\"xaxis\":\"x\",\"y\":[24507910.259999998],\"y0\":\" \",\"yaxis\":\"y\",\"type\":\"box\"},{\"alignmentgroup\":\"True\",\"hovertemplate\":\"route=%{x}<br>other_cost=%{y}<extra></extra>\",\"legendgroup\":\"Los Angeles, CA TO San Francisco, CA\",\"marker\":{\"color\":\"#EF553B\"},\"name\":\"Los Angeles, CA TO San Francisco, CA\",\"notched\":false,\"offsetgroup\":\"Los Angeles, CA TO San Francisco, CA\",\"orientation\":\"v\",\"showlegend\":true,\"x\":[\"Los Angeles, CA TO San Francisco, CA\"],\"x0\":\" \",\"xaxis\":\"x\",\"y\":[24439987.439999998],\"y0\":\" \",\"yaxis\":\"y\",\"type\":\"box\"},{\"alignmentgroup\":\"True\",\"hovertemplate\":\"route=%{x}<br>other_cost=%{y}<extra></extra>\",\"legendgroup\":\"Chicago, IL TO New York, NY\",\"marker\":{\"color\":\"#00cc96\"},\"name\":\"Chicago, IL TO New York, NY\",\"notched\":false,\"offsetgroup\":\"Chicago, IL TO New York, NY\",\"orientation\":\"v\",\"showlegend\":true,\"x\":[\"Chicago, IL TO New York, NY\"],\"x0\":\" \",\"xaxis\":\"x\",\"y\":[21130689.24],\"y0\":\" \",\"yaxis\":\"y\",\"type\":\"box\"},{\"alignmentgroup\":\"True\",\"hovertemplate\":\"route=%{x}<br>other_cost=%{y}<extra></extra>\",\"legendgroup\":\"New York, NY TO Chicago, IL\",\"marker\":{\"color\":\"#ab63fa\"},\"name\":\"New York, NY TO Chicago, IL\",\"notched\":false,\"offsetgroup\":\"New York, NY TO Chicago, IL\",\"orientation\":\"v\",\"showlegend\":true,\"x\":[\"New York, NY TO Chicago, IL\"],\"x0\":\" \",\"xaxis\":\"x\",\"y\":[21111291.9],\"y0\":\" \",\"yaxis\":\"y\",\"type\":\"box\"},{\"alignmentgroup\":\"True\",\"hovertemplate\":\"route=%{x}<br>other_cost=%{y}<extra></extra>\",\"legendgroup\":\"Los Angeles, CA TO Las Vegas, NV\",\"marker\":{\"color\":\"#FFA15A\"},\"name\":\"Los Angeles, CA TO Las Vegas, NV\",\"notched\":false,\"offsetgroup\":\"Los Angeles, CA TO Las Vegas, NV\",\"orientation\":\"v\",\"showlegend\":true,\"x\":[\"Los Angeles, CA TO Las Vegas, NV\"],\"x0\":\" \",\"xaxis\":\"x\",\"y\":[19139418.72],\"y0\":\" \",\"yaxis\":\"y\",\"type\":\"box\"},{\"alignmentgroup\":\"True\",\"hovertemplate\":\"route=%{x}<br>other_cost=%{y}<extra></extra>\",\"legendgroup\":\"Las Vegas, NV TO Los Angeles, CA\",\"marker\":{\"color\":\"#19d3f3\"},\"name\":\"Las Vegas, NV TO Los Angeles, CA\",\"notched\":false,\"offsetgroup\":\"Las Vegas, NV TO Los Angeles, CA\",\"orientation\":\"v\",\"showlegend\":true,\"x\":[\"Las Vegas, NV TO Los Angeles, CA\"],\"x0\":\" \",\"xaxis\":\"x\",\"y\":[19114283.88],\"y0\":\" \",\"yaxis\":\"y\",\"type\":\"box\"},{\"alignmentgroup\":\"True\",\"hovertemplate\":\"route=%{x}<br>other_cost=%{y}<extra></extra>\",\"legendgroup\":\"Los Angeles, CA TO New York, NY\",\"marker\":{\"color\":\"#FF6692\"},\"name\":\"Los Angeles, CA TO New York, NY\",\"notched\":false,\"offsetgroup\":\"Los Angeles, CA TO New York, NY\",\"orientation\":\"v\",\"showlegend\":true,\"x\":[\"Los Angeles, CA TO New York, NY\"],\"x0\":\" \",\"xaxis\":\"x\",\"y\":[18635436.72],\"y0\":\" \",\"yaxis\":\"y\",\"type\":\"box\"},{\"alignmentgroup\":\"True\",\"hovertemplate\":\"route=%{x}<br>other_cost=%{y}<extra></extra>\",\"legendgroup\":\"New York, NY TO Los Angeles, CA\",\"marker\":{\"color\":\"#B6E880\"},\"name\":\"New York, NY TO Los Angeles, CA\",\"notched\":false,\"offsetgroup\":\"New York, NY TO Los Angeles, CA\",\"orientation\":\"v\",\"showlegend\":true,\"x\":[\"New York, NY TO Los Angeles, CA\"],\"x0\":\" \",\"xaxis\":\"x\",\"y\":[18611862.48],\"y0\":\" \",\"yaxis\":\"y\",\"type\":\"box\"},{\"alignmentgroup\":\"True\",\"hovertemplate\":\"route=%{x}<br>other_cost=%{y}<extra></extra>\",\"legendgroup\":\"Los Angeles, CA TO Seattle, WA\",\"marker\":{\"color\":\"#FF97FF\"},\"name\":\"Los Angeles, CA TO Seattle, WA\",\"notched\":false,\"offsetgroup\":\"Los Angeles, CA TO Seattle, WA\",\"orientation\":\"v\",\"showlegend\":true,\"x\":[\"Los Angeles, CA TO Seattle, WA\"],\"x0\":\" \",\"xaxis\":\"x\",\"y\":[14745687.12],\"y0\":\" \",\"yaxis\":\"y\",\"type\":\"box\"},{\"alignmentgroup\":\"True\",\"hovertemplate\":\"route=%{x}<br>other_cost=%{y}<extra></extra>\",\"legendgroup\":\"Seattle, WA TO Los Angeles, CA\",\"marker\":{\"color\":\"#FECB52\"},\"name\":\"Seattle, WA TO Los Angeles, CA\",\"notched\":false,\"offsetgroup\":\"Seattle, WA TO Los Angeles, CA\",\"orientation\":\"v\",\"showlegend\":true,\"x\":[\"Seattle, WA TO Los Angeles, CA\"],\"x0\":\" \",\"xaxis\":\"x\",\"y\":[14716219.32],\"y0\":\" \",\"yaxis\":\"y\",\"type\":\"box\"}],                        {\"template\":{\"data\":{\"bar\":[{\"error_x\":{\"color\":\"#2a3f5f\"},\"error_y\":{\"color\":\"#2a3f5f\"},\"marker\":{\"line\":{\"color\":\"#E5ECF6\",\"width\":0.5},\"pattern\":{\"fillmode\":\"overlay\",\"size\":10,\"solidity\":0.2}},\"type\":\"bar\"}],\"barpolar\":[{\"marker\":{\"line\":{\"color\":\"#E5ECF6\",\"width\":0.5},\"pattern\":{\"fillmode\":\"overlay\",\"size\":10,\"solidity\":0.2}},\"type\":\"barpolar\"}],\"carpet\":[{\"aaxis\":{\"endlinecolor\":\"#2a3f5f\",\"gridcolor\":\"white\",\"linecolor\":\"white\",\"minorgridcolor\":\"white\",\"startlinecolor\":\"#2a3f5f\"},\"baxis\":{\"endlinecolor\":\"#2a3f5f\",\"gridcolor\":\"white\",\"linecolor\":\"white\",\"minorgridcolor\":\"white\",\"startlinecolor\":\"#2a3f5f\"},\"type\":\"carpet\"}],\"choropleth\":[{\"colorbar\":{\"outlinewidth\":0,\"ticks\":\"\"},\"type\":\"choropleth\"}],\"contour\":[{\"colorbar\":{\"outlinewidth\":0,\"ticks\":\"\"},\"colorscale\":[[0.0,\"#0d0887\"],[0.1111111111111111,\"#46039f\"],[0.2222222222222222,\"#7201a8\"],[0.3333333333333333,\"#9c179e\"],[0.4444444444444444,\"#bd3786\"],[0.5555555555555556,\"#d8576b\"],[0.6666666666666666,\"#ed7953\"],[0.7777777777777778,\"#fb9f3a\"],[0.8888888888888888,\"#fdca26\"],[1.0,\"#f0f921\"]],\"type\":\"contour\"}],\"contourcarpet\":[{\"colorbar\":{\"outlinewidth\":0,\"ticks\":\"\"},\"type\":\"contourcarpet\"}],\"heatmap\":[{\"colorbar\":{\"outlinewidth\":0,\"ticks\":\"\"},\"colorscale\":[[0.0,\"#0d0887\"],[0.1111111111111111,\"#46039f\"],[0.2222222222222222,\"#7201a8\"],[0.3333333333333333,\"#9c179e\"],[0.4444444444444444,\"#bd3786\"],[0.5555555555555556,\"#d8576b\"],[0.6666666666666666,\"#ed7953\"],[0.7777777777777778,\"#fb9f3a\"],[0.8888888888888888,\"#fdca26\"],[1.0,\"#f0f921\"]],\"type\":\"heatmap\"}],\"heatmapgl\":[{\"colorbar\":{\"outlinewidth\":0,\"ticks\":\"\"},\"colorscale\":[[0.0,\"#0d0887\"],[0.1111111111111111,\"#46039f\"],[0.2222222222222222,\"#7201a8\"],[0.3333333333333333,\"#9c179e\"],[0.4444444444444444,\"#bd3786\"],[0.5555555555555556,\"#d8576b\"],[0.6666666666666666,\"#ed7953\"],[0.7777777777777778,\"#fb9f3a\"],[0.8888888888888888,\"#fdca26\"],[1.0,\"#f0f921\"]],\"type\":\"heatmapgl\"}],\"histogram\":[{\"marker\":{\"pattern\":{\"fillmode\":\"overlay\",\"size\":10,\"solidity\":0.2}},\"type\":\"histogram\"}],\"histogram2d\":[{\"colorbar\":{\"outlinewidth\":0,\"ticks\":\"\"},\"colorscale\":[[0.0,\"#0d0887\"],[0.1111111111111111,\"#46039f\"],[0.2222222222222222,\"#7201a8\"],[0.3333333333333333,\"#9c179e\"],[0.4444444444444444,\"#bd3786\"],[0.5555555555555556,\"#d8576b\"],[0.6666666666666666,\"#ed7953\"],[0.7777777777777778,\"#fb9f3a\"],[0.8888888888888888,\"#fdca26\"],[1.0,\"#f0f921\"]],\"type\":\"histogram2d\"}],\"histogram2dcontour\":[{\"colorbar\":{\"outlinewidth\":0,\"ticks\":\"\"},\"colorscale\":[[0.0,\"#0d0887\"],[0.1111111111111111,\"#46039f\"],[0.2222222222222222,\"#7201a8\"],[0.3333333333333333,\"#9c179e\"],[0.4444444444444444,\"#bd3786\"],[0.5555555555555556,\"#d8576b\"],[0.6666666666666666,\"#ed7953\"],[0.7777777777777778,\"#fb9f3a\"],[0.8888888888888888,\"#fdca26\"],[1.0,\"#f0f921\"]],\"type\":\"histogram2dcontour\"}],\"mesh3d\":[{\"colorbar\":{\"outlinewidth\":0,\"ticks\":\"\"},\"type\":\"mesh3d\"}],\"parcoords\":[{\"line\":{\"colorbar\":{\"outlinewidth\":0,\"ticks\":\"\"}},\"type\":\"parcoords\"}],\"pie\":[{\"automargin\":true,\"type\":\"pie\"}],\"scatter\":[{\"marker\":{\"colorbar\":{\"outlinewidth\":0,\"ticks\":\"\"}},\"type\":\"scatter\"}],\"scatter3d\":[{\"line\":{\"colorbar\":{\"outlinewidth\":0,\"ticks\":\"\"}},\"marker\":{\"colorbar\":{\"outlinewidth\":0,\"ticks\":\"\"}},\"type\":\"scatter3d\"}],\"scattercarpet\":[{\"marker\":{\"colorbar\":{\"outlinewidth\":0,\"ticks\":\"\"}},\"type\":\"scattercarpet\"}],\"scattergeo\":[{\"marker\":{\"colorbar\":{\"outlinewidth\":0,\"ticks\":\"\"}},\"type\":\"scattergeo\"}],\"scattergl\":[{\"marker\":{\"colorbar\":{\"outlinewidth\":0,\"ticks\":\"\"}},\"type\":\"scattergl\"}],\"scattermapbox\":[{\"marker\":{\"colorbar\":{\"outlinewidth\":0,\"ticks\":\"\"}},\"type\":\"scattermapbox\"}],\"scatterpolar\":[{\"marker\":{\"colorbar\":{\"outlinewidth\":0,\"ticks\":\"\"}},\"type\":\"scatterpolar\"}],\"scatterpolargl\":[{\"marker\":{\"colorbar\":{\"outlinewidth\":0,\"ticks\":\"\"}},\"type\":\"scatterpolargl\"}],\"scatterternary\":[{\"marker\":{\"colorbar\":{\"outlinewidth\":0,\"ticks\":\"\"}},\"type\":\"scatterternary\"}],\"surface\":[{\"colorbar\":{\"outlinewidth\":0,\"ticks\":\"\"},\"colorscale\":[[0.0,\"#0d0887\"],[0.1111111111111111,\"#46039f\"],[0.2222222222222222,\"#7201a8\"],[0.3333333333333333,\"#9c179e\"],[0.4444444444444444,\"#bd3786\"],[0.5555555555555556,\"#d8576b\"],[0.6666666666666666,\"#ed7953\"],[0.7777777777777778,\"#fb9f3a\"],[0.8888888888888888,\"#fdca26\"],[1.0,\"#f0f921\"]],\"type\":\"surface\"}],\"table\":[{\"cells\":{\"fill\":{\"color\":\"#EBF0F8\"},\"line\":{\"color\":\"white\"}},\"header\":{\"fill\":{\"color\":\"#C8D4E3\"},\"line\":{\"color\":\"white\"}},\"type\":\"table\"}]},\"layout\":{\"annotationdefaults\":{\"arrowcolor\":\"#2a3f5f\",\"arrowhead\":0,\"arrowwidth\":1},\"autotypenumbers\":\"strict\",\"coloraxis\":{\"colorbar\":{\"outlinewidth\":0,\"ticks\":\"\"}},\"colorscale\":{\"diverging\":[[0,\"#8e0152\"],[0.1,\"#c51b7d\"],[0.2,\"#de77ae\"],[0.3,\"#f1b6da\"],[0.4,\"#fde0ef\"],[0.5,\"#f7f7f7\"],[0.6,\"#e6f5d0\"],[0.7,\"#b8e186\"],[0.8,\"#7fbc41\"],[0.9,\"#4d9221\"],[1,\"#276419\"]],\"sequential\":[[0.0,\"#0d0887\"],[0.1111111111111111,\"#46039f\"],[0.2222222222222222,\"#7201a8\"],[0.3333333333333333,\"#9c179e\"],[0.4444444444444444,\"#bd3786\"],[0.5555555555555556,\"#d8576b\"],[0.6666666666666666,\"#ed7953\"],[0.7777777777777778,\"#fb9f3a\"],[0.8888888888888888,\"#fdca26\"],[1.0,\"#f0f921\"]],\"sequentialminus\":[[0.0,\"#0d0887\"],[0.1111111111111111,\"#46039f\"],[0.2222222222222222,\"#7201a8\"],[0.3333333333333333,\"#9c179e\"],[0.4444444444444444,\"#bd3786\"],[0.5555555555555556,\"#d8576b\"],[0.6666666666666666,\"#ed7953\"],[0.7777777777777778,\"#fb9f3a\"],[0.8888888888888888,\"#fdca26\"],[1.0,\"#f0f921\"]]},\"colorway\":[\"#636efa\",\"#EF553B\",\"#00cc96\",\"#ab63fa\",\"#FFA15A\",\"#19d3f3\",\"#FF6692\",\"#B6E880\",\"#FF97FF\",\"#FECB52\"],\"font\":{\"color\":\"#2a3f5f\"},\"geo\":{\"bgcolor\":\"white\",\"lakecolor\":\"white\",\"landcolor\":\"#E5ECF6\",\"showlakes\":true,\"showland\":true,\"subunitcolor\":\"white\"},\"hoverlabel\":{\"align\":\"left\"},\"hovermode\":\"closest\",\"mapbox\":{\"style\":\"light\"},\"paper_bgcolor\":\"white\",\"plot_bgcolor\":\"#E5ECF6\",\"polar\":{\"angularaxis\":{\"gridcolor\":\"white\",\"linecolor\":\"white\",\"ticks\":\"\"},\"bgcolor\":\"#E5ECF6\",\"radialaxis\":{\"gridcolor\":\"white\",\"linecolor\":\"white\",\"ticks\":\"\"}},\"scene\":{\"xaxis\":{\"backgroundcolor\":\"#E5ECF6\",\"gridcolor\":\"white\",\"gridwidth\":2,\"linecolor\":\"white\",\"showbackground\":true,\"ticks\":\"\",\"zerolinecolor\":\"white\"},\"yaxis\":{\"backgroundcolor\":\"#E5ECF6\",\"gridcolor\":\"white\",\"gridwidth\":2,\"linecolor\":\"white\",\"showbackground\":true,\"ticks\":\"\",\"zerolinecolor\":\"white\"},\"zaxis\":{\"backgroundcolor\":\"#E5ECF6\",\"gridcolor\":\"white\",\"gridwidth\":2,\"linecolor\":\"white\",\"showbackground\":true,\"ticks\":\"\",\"zerolinecolor\":\"white\"}},\"shapedefaults\":{\"line\":{\"color\":\"#2a3f5f\"}},\"ternary\":{\"aaxis\":{\"gridcolor\":\"white\",\"linecolor\":\"white\",\"ticks\":\"\"},\"baxis\":{\"gridcolor\":\"white\",\"linecolor\":\"white\",\"ticks\":\"\"},\"bgcolor\":\"#E5ECF6\",\"caxis\":{\"gridcolor\":\"white\",\"linecolor\":\"white\",\"ticks\":\"\"}},\"title\":{\"x\":0.05},\"xaxis\":{\"automargin\":true,\"gridcolor\":\"white\",\"linecolor\":\"white\",\"ticks\":\"\",\"title\":{\"standoff\":15},\"zerolinecolor\":\"white\",\"zerolinewidth\":2},\"yaxis\":{\"automargin\":true,\"gridcolor\":\"white\",\"linecolor\":\"white\",\"ticks\":\"\",\"title\":{\"standoff\":15},\"zerolinecolor\":\"white\",\"zerolinewidth\":2}}},\"xaxis\":{\"anchor\":\"y\",\"domain\":[0.0,1.0],\"title\":{\"text\":\"route\"},\"categoryorder\":\"array\",\"categoryarray\":[\"San Francisco, CA TO Los Angeles, CA\",\"Los Angeles, CA TO San Francisco, CA\",\"Chicago, IL TO New York, NY\",\"New York, NY TO Chicago, IL\",\"Los Angeles, CA TO Las Vegas, NV\",\"Las Vegas, NV TO Los Angeles, CA\",\"Los Angeles, CA TO New York, NY\",\"New York, NY TO Los Angeles, CA\",\"Los Angeles, CA TO Seattle, WA\",\"Seattle, WA TO Los Angeles, CA\"]},\"yaxis\":{\"anchor\":\"x\",\"domain\":[0.0,1.0],\"title\":{\"text\":\"other_cost\"}},\"legend\":{\"title\":{\"text\":\"route\"},\"tracegroupgap\":0},\"margin\":{\"t\":60},\"boxmode\":\"overlay\"},                        {\"responsive\": true}                    ).then(function(){\n",
       "                            \n",
       "var gd = document.getElementById('feb1e2d8-a9f5-4666-8899-2fbe44a0c868');\n",
       "var x = new MutationObserver(function (mutations, observer) {{\n",
       "        var display = window.getComputedStyle(gd).display;\n",
       "        if (!display || display === 'none') {{\n",
       "            console.log([gd, 'removed!']);\n",
       "            Plotly.purge(gd);\n",
       "            observer.disconnect();\n",
       "        }}\n",
       "}});\n",
       "\n",
       "// Listen for the removal of the full notebook cells\n",
       "var notebookContainer = gd.closest('#notebook-container');\n",
       "if (notebookContainer) {{\n",
       "    x.observe(notebookContainer, {childList: true});\n",
       "}}\n",
       "\n",
       "// Listen for the clearing of the current output cell\n",
       "var outputEl = gd.closest('.output');\n",
       "if (outputEl) {{\n",
       "    x.observe(outputEl, {childList: true});\n",
       "}}\n",
       "\n",
       "                        })                };                });            </script>        </div>"
      ]
     },
     "metadata": {},
     "output_type": "display_data"
    }
   ],
   "source": [
    "df_other_cost_route=data.sort_values(by='other_cost',ascending=False)[:10]\n",
    "fig = px.box(df_other_cost_route, x=\"route\", y=\"other_cost\", color='route')\n",
    "fig.show()"
   ]
  },
  {
   "cell_type": "code",
   "execution_count": 50,
   "id": "f95bee7a",
   "metadata": {},
   "outputs": [
    {
     "data": {
      "application/vnd.plotly.v1+json": {
       "config": {
        "plotlyServerURL": "https://plot.ly"
       },
       "data": [
        {
         "alignmentgroup": "True",
         "hovertemplate": "route=%{x}<br>DISTANCE=%{y}<extra></extra>",
         "legendgroup": "Yuma, AZ TO Phoenix, AZ",
         "marker": {
          "color": "#636efa"
         },
         "name": "Yuma, AZ TO Phoenix, AZ",
         "notched": false,
         "offsetgroup": "Yuma, AZ TO Phoenix, AZ",
         "orientation": "v",
         "showlegend": true,
         "type": "box",
         "x": [
          "Yuma, AZ TO Phoenix, AZ"
         ],
         "x0": " ",
         "xaxis": "x",
         "y": [
          222774
         ],
         "y0": " ",
         "yaxis": "y"
        },
        {
         "alignmentgroup": "True",
         "hovertemplate": "route=%{x}<br>DISTANCE=%{y}<extra></extra>",
         "legendgroup": "Yuma, AZ TO Dallas/Fort Worth, TX",
         "marker": {
          "color": "#EF553B"
         },
         "name": "Yuma, AZ TO Dallas/Fort Worth, TX",
         "notched": false,
         "offsetgroup": "Yuma, AZ TO Dallas/Fort Worth, TX",
         "orientation": "v",
         "showlegend": true,
         "type": "box",
         "x": [
          "Yuma, AZ TO Dallas/Fort Worth, TX"
         ],
         "x0": " ",
         "xaxis": "x",
         "y": [
          17976
         ],
         "y0": " ",
         "yaxis": "y"
        },
        {
         "alignmentgroup": "True",
         "hovertemplate": "route=%{x}<br>DISTANCE=%{y}<extra></extra>",
         "legendgroup": "Yakutat, AK TO Juneau, AK",
         "marker": {
          "color": "#00cc96"
         },
         "name": "Yakutat, AK TO Juneau, AK",
         "notched": false,
         "offsetgroup": "Yakutat, AK TO Juneau, AK",
         "orientation": "v",
         "showlegend": true,
         "type": "box",
         "x": [
          "Yakutat, AK TO Juneau, AK"
         ],
         "x0": " ",
         "xaxis": "x",
         "y": [
          56496
         ],
         "y0": " ",
         "yaxis": "y"
        },
        {
         "alignmentgroup": "True",
         "hovertemplate": "route=%{x}<br>DISTANCE=%{y}<extra></extra>",
         "legendgroup": "Yakutat, AK TO Cordova, AK",
         "marker": {
          "color": "#ab63fa"
         },
         "name": "Yakutat, AK TO Cordova, AK",
         "notched": false,
         "offsetgroup": "Yakutat, AK TO Cordova, AK",
         "orientation": "v",
         "showlegend": true,
         "type": "box",
         "x": [
          "Yakutat, AK TO Cordova, AK"
         ],
         "x0": " ",
         "xaxis": "x",
         "y": [
          53286
         ],
         "y0": " ",
         "yaxis": "y"
        },
        {
         "alignmentgroup": "True",
         "hovertemplate": "route=%{x}<br>DISTANCE=%{y}<extra></extra>",
         "legendgroup": "Yakima, WA TO Seattle, WA",
         "marker": {
          "color": "#FFA15A"
         },
         "name": "Yakima, WA TO Seattle, WA",
         "notched": false,
         "offsetgroup": "Yakima, WA TO Seattle, WA",
         "orientation": "v",
         "showlegend": true,
         "type": "box",
         "x": [
          "Yakima, WA TO Seattle, WA"
         ],
         "x0": " ",
         "xaxis": "x",
         "y": [
          195810
         ],
         "y0": " ",
         "yaxis": "y"
        },
        {
         "alignmentgroup": "True",
         "hovertemplate": "route=%{x}<br>DISTANCE=%{y}<extra></extra>",
         "legendgroup": "Wrangell, AK TO Petersburg, AK",
         "marker": {
          "color": "#19d3f3"
         },
         "name": "Wrangell, AK TO Petersburg, AK",
         "notched": false,
         "offsetgroup": "Wrangell, AK TO Petersburg, AK",
         "orientation": "v",
         "showlegend": true,
         "type": "box",
         "x": [
          "Wrangell, AK TO Petersburg, AK"
         ],
         "x0": " ",
         "xaxis": "x",
         "y": [
          55854
         ],
         "y0": " ",
         "yaxis": "y"
        },
        {
         "alignmentgroup": "True",
         "hovertemplate": "route=%{x}<br>DISTANCE=%{y}<extra></extra>",
         "legendgroup": "Wrangell, AK TO Ketchikan, AK",
         "marker": {
          "color": "#FF6692"
         },
         "name": "Wrangell, AK TO Ketchikan, AK",
         "notched": false,
         "offsetgroup": "Wrangell, AK TO Ketchikan, AK",
         "orientation": "v",
         "showlegend": true,
         "type": "box",
         "x": [
          "Wrangell, AK TO Ketchikan, AK"
         ],
         "x0": " ",
         "xaxis": "x",
         "y": [
          56496
         ],
         "y0": " ",
         "yaxis": "y"
        },
        {
         "alignmentgroup": "True",
         "hovertemplate": "route=%{x}<br>DISTANCE=%{y}<extra></extra>",
         "legendgroup": "Worcester, MA TO Philadelphia, PA",
         "marker": {
          "color": "#B6E880"
         },
         "name": "Worcester, MA TO Philadelphia, PA",
         "notched": false,
         "offsetgroup": "Worcester, MA TO Philadelphia, PA",
         "orientation": "v",
         "showlegend": true,
         "type": "box",
         "x": [
          "Worcester, MA TO Philadelphia, PA"
         ],
         "x0": " ",
         "xaxis": "x",
         "y": [
          102720
         ],
         "y0": " ",
         "yaxis": "y"
        },
        {
         "alignmentgroup": "True",
         "hovertemplate": "route=%{x}<br>DISTANCE=%{y}<extra></extra>",
         "legendgroup": "Worcester, MA TO Orlando, FL",
         "marker": {
          "color": "#FF97FF"
         },
         "name": "Worcester, MA TO Orlando, FL",
         "notched": false,
         "offsetgroup": "Worcester, MA TO Orlando, FL",
         "orientation": "v",
         "showlegend": true,
         "type": "box",
         "x": [
          "Worcester, MA TO Orlando, FL"
         ],
         "x0": " ",
         "xaxis": "x",
         "y": [
          57138
         ],
         "y0": " ",
         "yaxis": "y"
        },
        {
         "alignmentgroup": "True",
         "hovertemplate": "route=%{x}<br>DISTANCE=%{y}<extra></extra>",
         "legendgroup": "Worcester, MA TO New York, NY",
         "marker": {
          "color": "#FECB52"
         },
         "name": "Worcester, MA TO New York, NY",
         "notched": false,
         "offsetgroup": "Worcester, MA TO New York, NY",
         "orientation": "v",
         "showlegend": true,
         "type": "box",
         "x": [
          "Worcester, MA TO New York, NY"
         ],
         "x0": " ",
         "xaxis": "x",
         "y": [
          52644
         ],
         "y0": " ",
         "yaxis": "y"
        }
       ],
       "layout": {
        "boxmode": "overlay",
        "legend": {
         "title": {
          "text": "route"
         },
         "tracegroupgap": 0
        },
        "margin": {
         "t": 60
        },
        "template": {
         "data": {
          "bar": [
           {
            "error_x": {
             "color": "#2a3f5f"
            },
            "error_y": {
             "color": "#2a3f5f"
            },
            "marker": {
             "line": {
              "color": "#E5ECF6",
              "width": 0.5
             },
             "pattern": {
              "fillmode": "overlay",
              "size": 10,
              "solidity": 0.2
             }
            },
            "type": "bar"
           }
          ],
          "barpolar": [
           {
            "marker": {
             "line": {
              "color": "#E5ECF6",
              "width": 0.5
             },
             "pattern": {
              "fillmode": "overlay",
              "size": 10,
              "solidity": 0.2
             }
            },
            "type": "barpolar"
           }
          ],
          "carpet": [
           {
            "aaxis": {
             "endlinecolor": "#2a3f5f",
             "gridcolor": "white",
             "linecolor": "white",
             "minorgridcolor": "white",
             "startlinecolor": "#2a3f5f"
            },
            "baxis": {
             "endlinecolor": "#2a3f5f",
             "gridcolor": "white",
             "linecolor": "white",
             "minorgridcolor": "white",
             "startlinecolor": "#2a3f5f"
            },
            "type": "carpet"
           }
          ],
          "choropleth": [
           {
            "colorbar": {
             "outlinewidth": 0,
             "ticks": ""
            },
            "type": "choropleth"
           }
          ],
          "contour": [
           {
            "colorbar": {
             "outlinewidth": 0,
             "ticks": ""
            },
            "colorscale": [
             [
              0,
              "#0d0887"
             ],
             [
              0.1111111111111111,
              "#46039f"
             ],
             [
              0.2222222222222222,
              "#7201a8"
             ],
             [
              0.3333333333333333,
              "#9c179e"
             ],
             [
              0.4444444444444444,
              "#bd3786"
             ],
             [
              0.5555555555555556,
              "#d8576b"
             ],
             [
              0.6666666666666666,
              "#ed7953"
             ],
             [
              0.7777777777777778,
              "#fb9f3a"
             ],
             [
              0.8888888888888888,
              "#fdca26"
             ],
             [
              1,
              "#f0f921"
             ]
            ],
            "type": "contour"
           }
          ],
          "contourcarpet": [
           {
            "colorbar": {
             "outlinewidth": 0,
             "ticks": ""
            },
            "type": "contourcarpet"
           }
          ],
          "heatmap": [
           {
            "colorbar": {
             "outlinewidth": 0,
             "ticks": ""
            },
            "colorscale": [
             [
              0,
              "#0d0887"
             ],
             [
              0.1111111111111111,
              "#46039f"
             ],
             [
              0.2222222222222222,
              "#7201a8"
             ],
             [
              0.3333333333333333,
              "#9c179e"
             ],
             [
              0.4444444444444444,
              "#bd3786"
             ],
             [
              0.5555555555555556,
              "#d8576b"
             ],
             [
              0.6666666666666666,
              "#ed7953"
             ],
             [
              0.7777777777777778,
              "#fb9f3a"
             ],
             [
              0.8888888888888888,
              "#fdca26"
             ],
             [
              1,
              "#f0f921"
             ]
            ],
            "type": "heatmap"
           }
          ],
          "heatmapgl": [
           {
            "colorbar": {
             "outlinewidth": 0,
             "ticks": ""
            },
            "colorscale": [
             [
              0,
              "#0d0887"
             ],
             [
              0.1111111111111111,
              "#46039f"
             ],
             [
              0.2222222222222222,
              "#7201a8"
             ],
             [
              0.3333333333333333,
              "#9c179e"
             ],
             [
              0.4444444444444444,
              "#bd3786"
             ],
             [
              0.5555555555555556,
              "#d8576b"
             ],
             [
              0.6666666666666666,
              "#ed7953"
             ],
             [
              0.7777777777777778,
              "#fb9f3a"
             ],
             [
              0.8888888888888888,
              "#fdca26"
             ],
             [
              1,
              "#f0f921"
             ]
            ],
            "type": "heatmapgl"
           }
          ],
          "histogram": [
           {
            "marker": {
             "pattern": {
              "fillmode": "overlay",
              "size": 10,
              "solidity": 0.2
             }
            },
            "type": "histogram"
           }
          ],
          "histogram2d": [
           {
            "colorbar": {
             "outlinewidth": 0,
             "ticks": ""
            },
            "colorscale": [
             [
              0,
              "#0d0887"
             ],
             [
              0.1111111111111111,
              "#46039f"
             ],
             [
              0.2222222222222222,
              "#7201a8"
             ],
             [
              0.3333333333333333,
              "#9c179e"
             ],
             [
              0.4444444444444444,
              "#bd3786"
             ],
             [
              0.5555555555555556,
              "#d8576b"
             ],
             [
              0.6666666666666666,
              "#ed7953"
             ],
             [
              0.7777777777777778,
              "#fb9f3a"
             ],
             [
              0.8888888888888888,
              "#fdca26"
             ],
             [
              1,
              "#f0f921"
             ]
            ],
            "type": "histogram2d"
           }
          ],
          "histogram2dcontour": [
           {
            "colorbar": {
             "outlinewidth": 0,
             "ticks": ""
            },
            "colorscale": [
             [
              0,
              "#0d0887"
             ],
             [
              0.1111111111111111,
              "#46039f"
             ],
             [
              0.2222222222222222,
              "#7201a8"
             ],
             [
              0.3333333333333333,
              "#9c179e"
             ],
             [
              0.4444444444444444,
              "#bd3786"
             ],
             [
              0.5555555555555556,
              "#d8576b"
             ],
             [
              0.6666666666666666,
              "#ed7953"
             ],
             [
              0.7777777777777778,
              "#fb9f3a"
             ],
             [
              0.8888888888888888,
              "#fdca26"
             ],
             [
              1,
              "#f0f921"
             ]
            ],
            "type": "histogram2dcontour"
           }
          ],
          "mesh3d": [
           {
            "colorbar": {
             "outlinewidth": 0,
             "ticks": ""
            },
            "type": "mesh3d"
           }
          ],
          "parcoords": [
           {
            "line": {
             "colorbar": {
              "outlinewidth": 0,
              "ticks": ""
             }
            },
            "type": "parcoords"
           }
          ],
          "pie": [
           {
            "automargin": true,
            "type": "pie"
           }
          ],
          "scatter": [
           {
            "marker": {
             "colorbar": {
              "outlinewidth": 0,
              "ticks": ""
             }
            },
            "type": "scatter"
           }
          ],
          "scatter3d": [
           {
            "line": {
             "colorbar": {
              "outlinewidth": 0,
              "ticks": ""
             }
            },
            "marker": {
             "colorbar": {
              "outlinewidth": 0,
              "ticks": ""
             }
            },
            "type": "scatter3d"
           }
          ],
          "scattercarpet": [
           {
            "marker": {
             "colorbar": {
              "outlinewidth": 0,
              "ticks": ""
             }
            },
            "type": "scattercarpet"
           }
          ],
          "scattergeo": [
           {
            "marker": {
             "colorbar": {
              "outlinewidth": 0,
              "ticks": ""
             }
            },
            "type": "scattergeo"
           }
          ],
          "scattergl": [
           {
            "marker": {
             "colorbar": {
              "outlinewidth": 0,
              "ticks": ""
             }
            },
            "type": "scattergl"
           }
          ],
          "scattermapbox": [
           {
            "marker": {
             "colorbar": {
              "outlinewidth": 0,
              "ticks": ""
             }
            },
            "type": "scattermapbox"
           }
          ],
          "scatterpolar": [
           {
            "marker": {
             "colorbar": {
              "outlinewidth": 0,
              "ticks": ""
             }
            },
            "type": "scatterpolar"
           }
          ],
          "scatterpolargl": [
           {
            "marker": {
             "colorbar": {
              "outlinewidth": 0,
              "ticks": ""
             }
            },
            "type": "scatterpolargl"
           }
          ],
          "scatterternary": [
           {
            "marker": {
             "colorbar": {
              "outlinewidth": 0,
              "ticks": ""
             }
            },
            "type": "scatterternary"
           }
          ],
          "surface": [
           {
            "colorbar": {
             "outlinewidth": 0,
             "ticks": ""
            },
            "colorscale": [
             [
              0,
              "#0d0887"
             ],
             [
              0.1111111111111111,
              "#46039f"
             ],
             [
              0.2222222222222222,
              "#7201a8"
             ],
             [
              0.3333333333333333,
              "#9c179e"
             ],
             [
              0.4444444444444444,
              "#bd3786"
             ],
             [
              0.5555555555555556,
              "#d8576b"
             ],
             [
              0.6666666666666666,
              "#ed7953"
             ],
             [
              0.7777777777777778,
              "#fb9f3a"
             ],
             [
              0.8888888888888888,
              "#fdca26"
             ],
             [
              1,
              "#f0f921"
             ]
            ],
            "type": "surface"
           }
          ],
          "table": [
           {
            "cells": {
             "fill": {
              "color": "#EBF0F8"
             },
             "line": {
              "color": "white"
             }
            },
            "header": {
             "fill": {
              "color": "#C8D4E3"
             },
             "line": {
              "color": "white"
             }
            },
            "type": "table"
           }
          ]
         },
         "layout": {
          "annotationdefaults": {
           "arrowcolor": "#2a3f5f",
           "arrowhead": 0,
           "arrowwidth": 1
          },
          "autotypenumbers": "strict",
          "coloraxis": {
           "colorbar": {
            "outlinewidth": 0,
            "ticks": ""
           }
          },
          "colorscale": {
           "diverging": [
            [
             0,
             "#8e0152"
            ],
            [
             0.1,
             "#c51b7d"
            ],
            [
             0.2,
             "#de77ae"
            ],
            [
             0.3,
             "#f1b6da"
            ],
            [
             0.4,
             "#fde0ef"
            ],
            [
             0.5,
             "#f7f7f7"
            ],
            [
             0.6,
             "#e6f5d0"
            ],
            [
             0.7,
             "#b8e186"
            ],
            [
             0.8,
             "#7fbc41"
            ],
            [
             0.9,
             "#4d9221"
            ],
            [
             1,
             "#276419"
            ]
           ],
           "sequential": [
            [
             0,
             "#0d0887"
            ],
            [
             0.1111111111111111,
             "#46039f"
            ],
            [
             0.2222222222222222,
             "#7201a8"
            ],
            [
             0.3333333333333333,
             "#9c179e"
            ],
            [
             0.4444444444444444,
             "#bd3786"
            ],
            [
             0.5555555555555556,
             "#d8576b"
            ],
            [
             0.6666666666666666,
             "#ed7953"
            ],
            [
             0.7777777777777778,
             "#fb9f3a"
            ],
            [
             0.8888888888888888,
             "#fdca26"
            ],
            [
             1,
             "#f0f921"
            ]
           ],
           "sequentialminus": [
            [
             0,
             "#0d0887"
            ],
            [
             0.1111111111111111,
             "#46039f"
            ],
            [
             0.2222222222222222,
             "#7201a8"
            ],
            [
             0.3333333333333333,
             "#9c179e"
            ],
            [
             0.4444444444444444,
             "#bd3786"
            ],
            [
             0.5555555555555556,
             "#d8576b"
            ],
            [
             0.6666666666666666,
             "#ed7953"
            ],
            [
             0.7777777777777778,
             "#fb9f3a"
            ],
            [
             0.8888888888888888,
             "#fdca26"
            ],
            [
             1,
             "#f0f921"
            ]
           ]
          },
          "colorway": [
           "#636efa",
           "#EF553B",
           "#00cc96",
           "#ab63fa",
           "#FFA15A",
           "#19d3f3",
           "#FF6692",
           "#B6E880",
           "#FF97FF",
           "#FECB52"
          ],
          "font": {
           "color": "#2a3f5f"
          },
          "geo": {
           "bgcolor": "white",
           "lakecolor": "white",
           "landcolor": "#E5ECF6",
           "showlakes": true,
           "showland": true,
           "subunitcolor": "white"
          },
          "hoverlabel": {
           "align": "left"
          },
          "hovermode": "closest",
          "mapbox": {
           "style": "light"
          },
          "paper_bgcolor": "white",
          "plot_bgcolor": "#E5ECF6",
          "polar": {
           "angularaxis": {
            "gridcolor": "white",
            "linecolor": "white",
            "ticks": ""
           },
           "bgcolor": "#E5ECF6",
           "radialaxis": {
            "gridcolor": "white",
            "linecolor": "white",
            "ticks": ""
           }
          },
          "scene": {
           "xaxis": {
            "backgroundcolor": "#E5ECF6",
            "gridcolor": "white",
            "gridwidth": 2,
            "linecolor": "white",
            "showbackground": true,
            "ticks": "",
            "zerolinecolor": "white"
           },
           "yaxis": {
            "backgroundcolor": "#E5ECF6",
            "gridcolor": "white",
            "gridwidth": 2,
            "linecolor": "white",
            "showbackground": true,
            "ticks": "",
            "zerolinecolor": "white"
           },
           "zaxis": {
            "backgroundcolor": "#E5ECF6",
            "gridcolor": "white",
            "gridwidth": 2,
            "linecolor": "white",
            "showbackground": true,
            "ticks": "",
            "zerolinecolor": "white"
           }
          },
          "shapedefaults": {
           "line": {
            "color": "#2a3f5f"
           }
          },
          "ternary": {
           "aaxis": {
            "gridcolor": "white",
            "linecolor": "white",
            "ticks": ""
           },
           "baxis": {
            "gridcolor": "white",
            "linecolor": "white",
            "ticks": ""
           },
           "bgcolor": "#E5ECF6",
           "caxis": {
            "gridcolor": "white",
            "linecolor": "white",
            "ticks": ""
           }
          },
          "title": {
           "x": 0.05
          },
          "xaxis": {
           "automargin": true,
           "gridcolor": "white",
           "linecolor": "white",
           "ticks": "",
           "title": {
            "standoff": 15
           },
           "zerolinecolor": "white",
           "zerolinewidth": 2
          },
          "yaxis": {
           "automargin": true,
           "gridcolor": "white",
           "linecolor": "white",
           "ticks": "",
           "title": {
            "standoff": 15
           },
           "zerolinecolor": "white",
           "zerolinewidth": 2
          }
         }
        },
        "xaxis": {
         "anchor": "y",
         "categoryarray": [
          "Yuma, AZ TO Phoenix, AZ",
          "Yuma, AZ TO Dallas/Fort Worth, TX",
          "Yakutat, AK TO Juneau, AK",
          "Yakutat, AK TO Cordova, AK",
          "Yakima, WA TO Seattle, WA",
          "Wrangell, AK TO Petersburg, AK",
          "Wrangell, AK TO Ketchikan, AK",
          "Worcester, MA TO Philadelphia, PA",
          "Worcester, MA TO Orlando, FL",
          "Worcester, MA TO New York, NY"
         ],
         "categoryorder": "array",
         "domain": [
          0,
          1
         ],
         "title": {
          "text": "route"
         }
        },
        "yaxis": {
         "anchor": "x",
         "domain": [
          0,
          1
         ],
         "title": {
          "text": "DISTANCE"
         }
        }
       }
      },
      "text/html": [
       "<div>                            <div id=\"5eeb29de-fb0e-43d4-9a71-0b96945302b1\" class=\"plotly-graph-div\" style=\"height:525px; width:100%;\"></div>            <script type=\"text/javascript\">                require([\"plotly\"], function(Plotly) {                    window.PLOTLYENV=window.PLOTLYENV || {};                                    if (document.getElementById(\"5eeb29de-fb0e-43d4-9a71-0b96945302b1\")) {                    Plotly.newPlot(                        \"5eeb29de-fb0e-43d4-9a71-0b96945302b1\",                        [{\"alignmentgroup\":\"True\",\"hovertemplate\":\"route=%{x}<br>DISTANCE=%{y}<extra></extra>\",\"legendgroup\":\"Yuma, AZ TO Phoenix, AZ\",\"marker\":{\"color\":\"#636efa\"},\"name\":\"Yuma, AZ TO Phoenix, AZ\",\"notched\":false,\"offsetgroup\":\"Yuma, AZ TO Phoenix, AZ\",\"orientation\":\"v\",\"showlegend\":true,\"x\":[\"Yuma, AZ TO Phoenix, AZ\"],\"x0\":\" \",\"xaxis\":\"x\",\"y\":[222774.0],\"y0\":\" \",\"yaxis\":\"y\",\"type\":\"box\"},{\"alignmentgroup\":\"True\",\"hovertemplate\":\"route=%{x}<br>DISTANCE=%{y}<extra></extra>\",\"legendgroup\":\"Yuma, AZ TO Dallas/Fort Worth, TX\",\"marker\":{\"color\":\"#EF553B\"},\"name\":\"Yuma, AZ TO Dallas/Fort Worth, TX\",\"notched\":false,\"offsetgroup\":\"Yuma, AZ TO Dallas/Fort Worth, TX\",\"orientation\":\"v\",\"showlegend\":true,\"x\":[\"Yuma, AZ TO Dallas/Fort Worth, TX\"],\"x0\":\" \",\"xaxis\":\"x\",\"y\":[17976.0],\"y0\":\" \",\"yaxis\":\"y\",\"type\":\"box\"},{\"alignmentgroup\":\"True\",\"hovertemplate\":\"route=%{x}<br>DISTANCE=%{y}<extra></extra>\",\"legendgroup\":\"Yakutat, AK TO Juneau, AK\",\"marker\":{\"color\":\"#00cc96\"},\"name\":\"Yakutat, AK TO Juneau, AK\",\"notched\":false,\"offsetgroup\":\"Yakutat, AK TO Juneau, AK\",\"orientation\":\"v\",\"showlegend\":true,\"x\":[\"Yakutat, AK TO Juneau, AK\"],\"x0\":\" \",\"xaxis\":\"x\",\"y\":[56496.0],\"y0\":\" \",\"yaxis\":\"y\",\"type\":\"box\"},{\"alignmentgroup\":\"True\",\"hovertemplate\":\"route=%{x}<br>DISTANCE=%{y}<extra></extra>\",\"legendgroup\":\"Yakutat, AK TO Cordova, AK\",\"marker\":{\"color\":\"#ab63fa\"},\"name\":\"Yakutat, AK TO Cordova, AK\",\"notched\":false,\"offsetgroup\":\"Yakutat, AK TO Cordova, AK\",\"orientation\":\"v\",\"showlegend\":true,\"x\":[\"Yakutat, AK TO Cordova, AK\"],\"x0\":\" \",\"xaxis\":\"x\",\"y\":[53286.0],\"y0\":\" \",\"yaxis\":\"y\",\"type\":\"box\"},{\"alignmentgroup\":\"True\",\"hovertemplate\":\"route=%{x}<br>DISTANCE=%{y}<extra></extra>\",\"legendgroup\":\"Yakima, WA TO Seattle, WA\",\"marker\":{\"color\":\"#FFA15A\"},\"name\":\"Yakima, WA TO Seattle, WA\",\"notched\":false,\"offsetgroup\":\"Yakima, WA TO Seattle, WA\",\"orientation\":\"v\",\"showlegend\":true,\"x\":[\"Yakima, WA TO Seattle, WA\"],\"x0\":\" \",\"xaxis\":\"x\",\"y\":[195810.0],\"y0\":\" \",\"yaxis\":\"y\",\"type\":\"box\"},{\"alignmentgroup\":\"True\",\"hovertemplate\":\"route=%{x}<br>DISTANCE=%{y}<extra></extra>\",\"legendgroup\":\"Wrangell, AK TO Petersburg, AK\",\"marker\":{\"color\":\"#19d3f3\"},\"name\":\"Wrangell, AK TO Petersburg, AK\",\"notched\":false,\"offsetgroup\":\"Wrangell, AK TO Petersburg, AK\",\"orientation\":\"v\",\"showlegend\":true,\"x\":[\"Wrangell, AK TO Petersburg, AK\"],\"x0\":\" \",\"xaxis\":\"x\",\"y\":[55854.0],\"y0\":\" \",\"yaxis\":\"y\",\"type\":\"box\"},{\"alignmentgroup\":\"True\",\"hovertemplate\":\"route=%{x}<br>DISTANCE=%{y}<extra></extra>\",\"legendgroup\":\"Wrangell, AK TO Ketchikan, AK\",\"marker\":{\"color\":\"#FF6692\"},\"name\":\"Wrangell, AK TO Ketchikan, AK\",\"notched\":false,\"offsetgroup\":\"Wrangell, AK TO Ketchikan, AK\",\"orientation\":\"v\",\"showlegend\":true,\"x\":[\"Wrangell, AK TO Ketchikan, AK\"],\"x0\":\" \",\"xaxis\":\"x\",\"y\":[56496.0],\"y0\":\" \",\"yaxis\":\"y\",\"type\":\"box\"},{\"alignmentgroup\":\"True\",\"hovertemplate\":\"route=%{x}<br>DISTANCE=%{y}<extra></extra>\",\"legendgroup\":\"Worcester, MA TO Philadelphia, PA\",\"marker\":{\"color\":\"#B6E880\"},\"name\":\"Worcester, MA TO Philadelphia, PA\",\"notched\":false,\"offsetgroup\":\"Worcester, MA TO Philadelphia, PA\",\"orientation\":\"v\",\"showlegend\":true,\"x\":[\"Worcester, MA TO Philadelphia, PA\"],\"x0\":\" \",\"xaxis\":\"x\",\"y\":[102720.0],\"y0\":\" \",\"yaxis\":\"y\",\"type\":\"box\"},{\"alignmentgroup\":\"True\",\"hovertemplate\":\"route=%{x}<br>DISTANCE=%{y}<extra></extra>\",\"legendgroup\":\"Worcester, MA TO Orlando, FL\",\"marker\":{\"color\":\"#FF97FF\"},\"name\":\"Worcester, MA TO Orlando, FL\",\"notched\":false,\"offsetgroup\":\"Worcester, MA TO Orlando, FL\",\"orientation\":\"v\",\"showlegend\":true,\"x\":[\"Worcester, MA TO Orlando, FL\"],\"x0\":\" \",\"xaxis\":\"x\",\"y\":[57138.0],\"y0\":\" \",\"yaxis\":\"y\",\"type\":\"box\"},{\"alignmentgroup\":\"True\",\"hovertemplate\":\"route=%{x}<br>DISTANCE=%{y}<extra></extra>\",\"legendgroup\":\"Worcester, MA TO New York, NY\",\"marker\":{\"color\":\"#FECB52\"},\"name\":\"Worcester, MA TO New York, NY\",\"notched\":false,\"offsetgroup\":\"Worcester, MA TO New York, NY\",\"orientation\":\"v\",\"showlegend\":true,\"x\":[\"Worcester, MA TO New York, NY\"],\"x0\":\" \",\"xaxis\":\"x\",\"y\":[52644.0],\"y0\":\" \",\"yaxis\":\"y\",\"type\":\"box\"}],                        {\"template\":{\"data\":{\"bar\":[{\"error_x\":{\"color\":\"#2a3f5f\"},\"error_y\":{\"color\":\"#2a3f5f\"},\"marker\":{\"line\":{\"color\":\"#E5ECF6\",\"width\":0.5},\"pattern\":{\"fillmode\":\"overlay\",\"size\":10,\"solidity\":0.2}},\"type\":\"bar\"}],\"barpolar\":[{\"marker\":{\"line\":{\"color\":\"#E5ECF6\",\"width\":0.5},\"pattern\":{\"fillmode\":\"overlay\",\"size\":10,\"solidity\":0.2}},\"type\":\"barpolar\"}],\"carpet\":[{\"aaxis\":{\"endlinecolor\":\"#2a3f5f\",\"gridcolor\":\"white\",\"linecolor\":\"white\",\"minorgridcolor\":\"white\",\"startlinecolor\":\"#2a3f5f\"},\"baxis\":{\"endlinecolor\":\"#2a3f5f\",\"gridcolor\":\"white\",\"linecolor\":\"white\",\"minorgridcolor\":\"white\",\"startlinecolor\":\"#2a3f5f\"},\"type\":\"carpet\"}],\"choropleth\":[{\"colorbar\":{\"outlinewidth\":0,\"ticks\":\"\"},\"type\":\"choropleth\"}],\"contour\":[{\"colorbar\":{\"outlinewidth\":0,\"ticks\":\"\"},\"colorscale\":[[0.0,\"#0d0887\"],[0.1111111111111111,\"#46039f\"],[0.2222222222222222,\"#7201a8\"],[0.3333333333333333,\"#9c179e\"],[0.4444444444444444,\"#bd3786\"],[0.5555555555555556,\"#d8576b\"],[0.6666666666666666,\"#ed7953\"],[0.7777777777777778,\"#fb9f3a\"],[0.8888888888888888,\"#fdca26\"],[1.0,\"#f0f921\"]],\"type\":\"contour\"}],\"contourcarpet\":[{\"colorbar\":{\"outlinewidth\":0,\"ticks\":\"\"},\"type\":\"contourcarpet\"}],\"heatmap\":[{\"colorbar\":{\"outlinewidth\":0,\"ticks\":\"\"},\"colorscale\":[[0.0,\"#0d0887\"],[0.1111111111111111,\"#46039f\"],[0.2222222222222222,\"#7201a8\"],[0.3333333333333333,\"#9c179e\"],[0.4444444444444444,\"#bd3786\"],[0.5555555555555556,\"#d8576b\"],[0.6666666666666666,\"#ed7953\"],[0.7777777777777778,\"#fb9f3a\"],[0.8888888888888888,\"#fdca26\"],[1.0,\"#f0f921\"]],\"type\":\"heatmap\"}],\"heatmapgl\":[{\"colorbar\":{\"outlinewidth\":0,\"ticks\":\"\"},\"colorscale\":[[0.0,\"#0d0887\"],[0.1111111111111111,\"#46039f\"],[0.2222222222222222,\"#7201a8\"],[0.3333333333333333,\"#9c179e\"],[0.4444444444444444,\"#bd3786\"],[0.5555555555555556,\"#d8576b\"],[0.6666666666666666,\"#ed7953\"],[0.7777777777777778,\"#fb9f3a\"],[0.8888888888888888,\"#fdca26\"],[1.0,\"#f0f921\"]],\"type\":\"heatmapgl\"}],\"histogram\":[{\"marker\":{\"pattern\":{\"fillmode\":\"overlay\",\"size\":10,\"solidity\":0.2}},\"type\":\"histogram\"}],\"histogram2d\":[{\"colorbar\":{\"outlinewidth\":0,\"ticks\":\"\"},\"colorscale\":[[0.0,\"#0d0887\"],[0.1111111111111111,\"#46039f\"],[0.2222222222222222,\"#7201a8\"],[0.3333333333333333,\"#9c179e\"],[0.4444444444444444,\"#bd3786\"],[0.5555555555555556,\"#d8576b\"],[0.6666666666666666,\"#ed7953\"],[0.7777777777777778,\"#fb9f3a\"],[0.8888888888888888,\"#fdca26\"],[1.0,\"#f0f921\"]],\"type\":\"histogram2d\"}],\"histogram2dcontour\":[{\"colorbar\":{\"outlinewidth\":0,\"ticks\":\"\"},\"colorscale\":[[0.0,\"#0d0887\"],[0.1111111111111111,\"#46039f\"],[0.2222222222222222,\"#7201a8\"],[0.3333333333333333,\"#9c179e\"],[0.4444444444444444,\"#bd3786\"],[0.5555555555555556,\"#d8576b\"],[0.6666666666666666,\"#ed7953\"],[0.7777777777777778,\"#fb9f3a\"],[0.8888888888888888,\"#fdca26\"],[1.0,\"#f0f921\"]],\"type\":\"histogram2dcontour\"}],\"mesh3d\":[{\"colorbar\":{\"outlinewidth\":0,\"ticks\":\"\"},\"type\":\"mesh3d\"}],\"parcoords\":[{\"line\":{\"colorbar\":{\"outlinewidth\":0,\"ticks\":\"\"}},\"type\":\"parcoords\"}],\"pie\":[{\"automargin\":true,\"type\":\"pie\"}],\"scatter\":[{\"marker\":{\"colorbar\":{\"outlinewidth\":0,\"ticks\":\"\"}},\"type\":\"scatter\"}],\"scatter3d\":[{\"line\":{\"colorbar\":{\"outlinewidth\":0,\"ticks\":\"\"}},\"marker\":{\"colorbar\":{\"outlinewidth\":0,\"ticks\":\"\"}},\"type\":\"scatter3d\"}],\"scattercarpet\":[{\"marker\":{\"colorbar\":{\"outlinewidth\":0,\"ticks\":\"\"}},\"type\":\"scattercarpet\"}],\"scattergeo\":[{\"marker\":{\"colorbar\":{\"outlinewidth\":0,\"ticks\":\"\"}},\"type\":\"scattergeo\"}],\"scattergl\":[{\"marker\":{\"colorbar\":{\"outlinewidth\":0,\"ticks\":\"\"}},\"type\":\"scattergl\"}],\"scattermapbox\":[{\"marker\":{\"colorbar\":{\"outlinewidth\":0,\"ticks\":\"\"}},\"type\":\"scattermapbox\"}],\"scatterpolar\":[{\"marker\":{\"colorbar\":{\"outlinewidth\":0,\"ticks\":\"\"}},\"type\":\"scatterpolar\"}],\"scatterpolargl\":[{\"marker\":{\"colorbar\":{\"outlinewidth\":0,\"ticks\":\"\"}},\"type\":\"scatterpolargl\"}],\"scatterternary\":[{\"marker\":{\"colorbar\":{\"outlinewidth\":0,\"ticks\":\"\"}},\"type\":\"scatterternary\"}],\"surface\":[{\"colorbar\":{\"outlinewidth\":0,\"ticks\":\"\"},\"colorscale\":[[0.0,\"#0d0887\"],[0.1111111111111111,\"#46039f\"],[0.2222222222222222,\"#7201a8\"],[0.3333333333333333,\"#9c179e\"],[0.4444444444444444,\"#bd3786\"],[0.5555555555555556,\"#d8576b\"],[0.6666666666666666,\"#ed7953\"],[0.7777777777777778,\"#fb9f3a\"],[0.8888888888888888,\"#fdca26\"],[1.0,\"#f0f921\"]],\"type\":\"surface\"}],\"table\":[{\"cells\":{\"fill\":{\"color\":\"#EBF0F8\"},\"line\":{\"color\":\"white\"}},\"header\":{\"fill\":{\"color\":\"#C8D4E3\"},\"line\":{\"color\":\"white\"}},\"type\":\"table\"}]},\"layout\":{\"annotationdefaults\":{\"arrowcolor\":\"#2a3f5f\",\"arrowhead\":0,\"arrowwidth\":1},\"autotypenumbers\":\"strict\",\"coloraxis\":{\"colorbar\":{\"outlinewidth\":0,\"ticks\":\"\"}},\"colorscale\":{\"diverging\":[[0,\"#8e0152\"],[0.1,\"#c51b7d\"],[0.2,\"#de77ae\"],[0.3,\"#f1b6da\"],[0.4,\"#fde0ef\"],[0.5,\"#f7f7f7\"],[0.6,\"#e6f5d0\"],[0.7,\"#b8e186\"],[0.8,\"#7fbc41\"],[0.9,\"#4d9221\"],[1,\"#276419\"]],\"sequential\":[[0.0,\"#0d0887\"],[0.1111111111111111,\"#46039f\"],[0.2222222222222222,\"#7201a8\"],[0.3333333333333333,\"#9c179e\"],[0.4444444444444444,\"#bd3786\"],[0.5555555555555556,\"#d8576b\"],[0.6666666666666666,\"#ed7953\"],[0.7777777777777778,\"#fb9f3a\"],[0.8888888888888888,\"#fdca26\"],[1.0,\"#f0f921\"]],\"sequentialminus\":[[0.0,\"#0d0887\"],[0.1111111111111111,\"#46039f\"],[0.2222222222222222,\"#7201a8\"],[0.3333333333333333,\"#9c179e\"],[0.4444444444444444,\"#bd3786\"],[0.5555555555555556,\"#d8576b\"],[0.6666666666666666,\"#ed7953\"],[0.7777777777777778,\"#fb9f3a\"],[0.8888888888888888,\"#fdca26\"],[1.0,\"#f0f921\"]]},\"colorway\":[\"#636efa\",\"#EF553B\",\"#00cc96\",\"#ab63fa\",\"#FFA15A\",\"#19d3f3\",\"#FF6692\",\"#B6E880\",\"#FF97FF\",\"#FECB52\"],\"font\":{\"color\":\"#2a3f5f\"},\"geo\":{\"bgcolor\":\"white\",\"lakecolor\":\"white\",\"landcolor\":\"#E5ECF6\",\"showlakes\":true,\"showland\":true,\"subunitcolor\":\"white\"},\"hoverlabel\":{\"align\":\"left\"},\"hovermode\":\"closest\",\"mapbox\":{\"style\":\"light\"},\"paper_bgcolor\":\"white\",\"plot_bgcolor\":\"#E5ECF6\",\"polar\":{\"angularaxis\":{\"gridcolor\":\"white\",\"linecolor\":\"white\",\"ticks\":\"\"},\"bgcolor\":\"#E5ECF6\",\"radialaxis\":{\"gridcolor\":\"white\",\"linecolor\":\"white\",\"ticks\":\"\"}},\"scene\":{\"xaxis\":{\"backgroundcolor\":\"#E5ECF6\",\"gridcolor\":\"white\",\"gridwidth\":2,\"linecolor\":\"white\",\"showbackground\":true,\"ticks\":\"\",\"zerolinecolor\":\"white\"},\"yaxis\":{\"backgroundcolor\":\"#E5ECF6\",\"gridcolor\":\"white\",\"gridwidth\":2,\"linecolor\":\"white\",\"showbackground\":true,\"ticks\":\"\",\"zerolinecolor\":\"white\"},\"zaxis\":{\"backgroundcolor\":\"#E5ECF6\",\"gridcolor\":\"white\",\"gridwidth\":2,\"linecolor\":\"white\",\"showbackground\":true,\"ticks\":\"\",\"zerolinecolor\":\"white\"}},\"shapedefaults\":{\"line\":{\"color\":\"#2a3f5f\"}},\"ternary\":{\"aaxis\":{\"gridcolor\":\"white\",\"linecolor\":\"white\",\"ticks\":\"\"},\"baxis\":{\"gridcolor\":\"white\",\"linecolor\":\"white\",\"ticks\":\"\"},\"bgcolor\":\"#E5ECF6\",\"caxis\":{\"gridcolor\":\"white\",\"linecolor\":\"white\",\"ticks\":\"\"}},\"title\":{\"x\":0.05},\"xaxis\":{\"automargin\":true,\"gridcolor\":\"white\",\"linecolor\":\"white\",\"ticks\":\"\",\"title\":{\"standoff\":15},\"zerolinecolor\":\"white\",\"zerolinewidth\":2},\"yaxis\":{\"automargin\":true,\"gridcolor\":\"white\",\"linecolor\":\"white\",\"ticks\":\"\",\"title\":{\"standoff\":15},\"zerolinecolor\":\"white\",\"zerolinewidth\":2}}},\"xaxis\":{\"anchor\":\"y\",\"domain\":[0.0,1.0],\"title\":{\"text\":\"route\"},\"categoryorder\":\"array\",\"categoryarray\":[\"Yuma, AZ TO Phoenix, AZ\",\"Yuma, AZ TO Dallas/Fort Worth, TX\",\"Yakutat, AK TO Juneau, AK\",\"Yakutat, AK TO Cordova, AK\",\"Yakima, WA TO Seattle, WA\",\"Wrangell, AK TO Petersburg, AK\",\"Wrangell, AK TO Ketchikan, AK\",\"Worcester, MA TO Philadelphia, PA\",\"Worcester, MA TO Orlando, FL\",\"Worcester, MA TO New York, NY\"]},\"yaxis\":{\"anchor\":\"x\",\"domain\":[0.0,1.0],\"title\":{\"text\":\"DISTANCE\"}},\"legend\":{\"title\":{\"text\":\"route\"},\"tracegroupgap\":0},\"margin\":{\"t\":60},\"boxmode\":\"overlay\"},                        {\"responsive\": true}                    ).then(function(){\n",
       "                            \n",
       "var gd = document.getElementById('5eeb29de-fb0e-43d4-9a71-0b96945302b1');\n",
       "var x = new MutationObserver(function (mutations, observer) {{\n",
       "        var display = window.getComputedStyle(gd).display;\n",
       "        if (!display || display === 'none') {{\n",
       "            console.log([gd, 'removed!']);\n",
       "            Plotly.purge(gd);\n",
       "            observer.disconnect();\n",
       "        }}\n",
       "}});\n",
       "\n",
       "// Listen for the removal of the full notebook cells\n",
       "var notebookContainer = gd.closest('#notebook-container');\n",
       "if (notebookContainer) {{\n",
       "    x.observe(notebookContainer, {childList: true});\n",
       "}}\n",
       "\n",
       "// Listen for the clearing of the current output cell\n",
       "var outputEl = gd.closest('.output');\n",
       "if (outputEl) {{\n",
       "    x.observe(outputEl, {childList: true});\n",
       "}}\n",
       "\n",
       "                        })                };                });            </script>        </div>"
      ]
     },
     "metadata": {},
     "output_type": "display_data"
    }
   ],
   "source": [
    "df = px.data.tips()\n",
    "df_distance_route=data.sort_values(by='route',ascending=False)[:10]\n",
    "fig = px.box(df_distance_route, x=\"route\", y=\"DISTANCE\", color='route')\n",
    "fig.show()"
   ]
  },
  {
   "cell_type": "code",
   "execution_count": 51,
   "id": "f23c48cd",
   "metadata": {},
   "outputs": [
    {
     "data": {
      "application/vnd.plotly.v1+json": {
       "config": {
        "plotlyServerURL": "https://plot.ly"
       },
       "data": [
        {
         "alignmentgroup": "True",
         "hovertemplate": "route=%{x}<br>total_count=%{y}<extra></extra>",
         "legendgroup": "Yuma, AZ TO Phoenix, AZ",
         "marker": {
          "color": "#636efa"
         },
         "name": "Yuma, AZ TO Phoenix, AZ",
         "notched": false,
         "offsetgroup": "Yuma, AZ TO Phoenix, AZ",
         "orientation": "v",
         "showlegend": true,
         "type": "box",
         "x": [
          "Yuma, AZ TO Phoenix, AZ"
         ],
         "x0": " ",
         "xaxis": "x",
         "y": [
          347
         ],
         "y0": " ",
         "yaxis": "y"
        },
        {
         "alignmentgroup": "True",
         "hovertemplate": "route=%{x}<br>total_count=%{y}<extra></extra>",
         "legendgroup": "Yuma, AZ TO Dallas/Fort Worth, TX",
         "marker": {
          "color": "#EF553B"
         },
         "name": "Yuma, AZ TO Dallas/Fort Worth, TX",
         "notched": false,
         "offsetgroup": "Yuma, AZ TO Dallas/Fort Worth, TX",
         "orientation": "v",
         "showlegend": true,
         "type": "box",
         "x": [
          "Yuma, AZ TO Dallas/Fort Worth, TX"
         ],
         "x0": " ",
         "xaxis": "x",
         "y": [
          28
         ],
         "y0": " ",
         "yaxis": "y"
        },
        {
         "alignmentgroup": "True",
         "hovertemplate": "route=%{x}<br>total_count=%{y}<extra></extra>",
         "legendgroup": "Yakutat, AK TO Juneau, AK",
         "marker": {
          "color": "#00cc96"
         },
         "name": "Yakutat, AK TO Juneau, AK",
         "notched": false,
         "offsetgroup": "Yakutat, AK TO Juneau, AK",
         "orientation": "v",
         "showlegend": true,
         "type": "box",
         "x": [
          "Yakutat, AK TO Juneau, AK"
         ],
         "x0": " ",
         "xaxis": "x",
         "y": [
          88
         ],
         "y0": " ",
         "yaxis": "y"
        },
        {
         "alignmentgroup": "True",
         "hovertemplate": "route=%{x}<br>total_count=%{y}<extra></extra>",
         "legendgroup": "Yakutat, AK TO Cordova, AK",
         "marker": {
          "color": "#ab63fa"
         },
         "name": "Yakutat, AK TO Cordova, AK",
         "notched": false,
         "offsetgroup": "Yakutat, AK TO Cordova, AK",
         "orientation": "v",
         "showlegend": true,
         "type": "box",
         "x": [
          "Yakutat, AK TO Cordova, AK"
         ],
         "x0": " ",
         "xaxis": "x",
         "y": [
          83
         ],
         "y0": " ",
         "yaxis": "y"
        },
        {
         "alignmentgroup": "True",
         "hovertemplate": "route=%{x}<br>total_count=%{y}<extra></extra>",
         "legendgroup": "Yakima, WA TO Seattle, WA",
         "marker": {
          "color": "#FFA15A"
         },
         "name": "Yakima, WA TO Seattle, WA",
         "notched": false,
         "offsetgroup": "Yakima, WA TO Seattle, WA",
         "orientation": "v",
         "showlegend": true,
         "type": "box",
         "x": [
          "Yakima, WA TO Seattle, WA"
         ],
         "x0": " ",
         "xaxis": "x",
         "y": [
          305
         ],
         "y0": " ",
         "yaxis": "y"
        },
        {
         "alignmentgroup": "True",
         "hovertemplate": "route=%{x}<br>total_count=%{y}<extra></extra>",
         "legendgroup": "Wrangell, AK TO Petersburg, AK",
         "marker": {
          "color": "#19d3f3"
         },
         "name": "Wrangell, AK TO Petersburg, AK",
         "notched": false,
         "offsetgroup": "Wrangell, AK TO Petersburg, AK",
         "orientation": "v",
         "showlegend": true,
         "type": "box",
         "x": [
          "Wrangell, AK TO Petersburg, AK"
         ],
         "x0": " ",
         "xaxis": "x",
         "y": [
          87
         ],
         "y0": " ",
         "yaxis": "y"
        },
        {
         "alignmentgroup": "True",
         "hovertemplate": "route=%{x}<br>total_count=%{y}<extra></extra>",
         "legendgroup": "Wrangell, AK TO Ketchikan, AK",
         "marker": {
          "color": "#FF6692"
         },
         "name": "Wrangell, AK TO Ketchikan, AK",
         "notched": false,
         "offsetgroup": "Wrangell, AK TO Ketchikan, AK",
         "orientation": "v",
         "showlegend": true,
         "type": "box",
         "x": [
          "Wrangell, AK TO Ketchikan, AK"
         ],
         "x0": " ",
         "xaxis": "x",
         "y": [
          88
         ],
         "y0": " ",
         "yaxis": "y"
        },
        {
         "alignmentgroup": "True",
         "hovertemplate": "route=%{x}<br>total_count=%{y}<extra></extra>",
         "legendgroup": "Worcester, MA TO Philadelphia, PA",
         "marker": {
          "color": "#B6E880"
         },
         "name": "Worcester, MA TO Philadelphia, PA",
         "notched": false,
         "offsetgroup": "Worcester, MA TO Philadelphia, PA",
         "orientation": "v",
         "showlegend": true,
         "type": "box",
         "x": [
          "Worcester, MA TO Philadelphia, PA"
         ],
         "x0": " ",
         "xaxis": "x",
         "y": [
          160
         ],
         "y0": " ",
         "yaxis": "y"
        },
        {
         "alignmentgroup": "True",
         "hovertemplate": "route=%{x}<br>total_count=%{y}<extra></extra>",
         "legendgroup": "Worcester, MA TO Orlando, FL",
         "marker": {
          "color": "#FF97FF"
         },
         "name": "Worcester, MA TO Orlando, FL",
         "notched": false,
         "offsetgroup": "Worcester, MA TO Orlando, FL",
         "orientation": "v",
         "showlegend": true,
         "type": "box",
         "x": [
          "Worcester, MA TO Orlando, FL"
         ],
         "x0": " ",
         "xaxis": "x",
         "y": [
          89
         ],
         "y0": " ",
         "yaxis": "y"
        },
        {
         "alignmentgroup": "True",
         "hovertemplate": "route=%{x}<br>total_count=%{y}<extra></extra>",
         "legendgroup": "Worcester, MA TO New York, NY",
         "marker": {
          "color": "#FECB52"
         },
         "name": "Worcester, MA TO New York, NY",
         "notched": false,
         "offsetgroup": "Worcester, MA TO New York, NY",
         "orientation": "v",
         "showlegend": true,
         "type": "box",
         "x": [
          "Worcester, MA TO New York, NY"
         ],
         "x0": " ",
         "xaxis": "x",
         "y": [
          82
         ],
         "y0": " ",
         "yaxis": "y"
        }
       ],
       "layout": {
        "boxmode": "overlay",
        "legend": {
         "title": {
          "text": "route"
         },
         "tracegroupgap": 0
        },
        "margin": {
         "t": 60
        },
        "template": {
         "data": {
          "bar": [
           {
            "error_x": {
             "color": "#2a3f5f"
            },
            "error_y": {
             "color": "#2a3f5f"
            },
            "marker": {
             "line": {
              "color": "#E5ECF6",
              "width": 0.5
             },
             "pattern": {
              "fillmode": "overlay",
              "size": 10,
              "solidity": 0.2
             }
            },
            "type": "bar"
           }
          ],
          "barpolar": [
           {
            "marker": {
             "line": {
              "color": "#E5ECF6",
              "width": 0.5
             },
             "pattern": {
              "fillmode": "overlay",
              "size": 10,
              "solidity": 0.2
             }
            },
            "type": "barpolar"
           }
          ],
          "carpet": [
           {
            "aaxis": {
             "endlinecolor": "#2a3f5f",
             "gridcolor": "white",
             "linecolor": "white",
             "minorgridcolor": "white",
             "startlinecolor": "#2a3f5f"
            },
            "baxis": {
             "endlinecolor": "#2a3f5f",
             "gridcolor": "white",
             "linecolor": "white",
             "minorgridcolor": "white",
             "startlinecolor": "#2a3f5f"
            },
            "type": "carpet"
           }
          ],
          "choropleth": [
           {
            "colorbar": {
             "outlinewidth": 0,
             "ticks": ""
            },
            "type": "choropleth"
           }
          ],
          "contour": [
           {
            "colorbar": {
             "outlinewidth": 0,
             "ticks": ""
            },
            "colorscale": [
             [
              0,
              "#0d0887"
             ],
             [
              0.1111111111111111,
              "#46039f"
             ],
             [
              0.2222222222222222,
              "#7201a8"
             ],
             [
              0.3333333333333333,
              "#9c179e"
             ],
             [
              0.4444444444444444,
              "#bd3786"
             ],
             [
              0.5555555555555556,
              "#d8576b"
             ],
             [
              0.6666666666666666,
              "#ed7953"
             ],
             [
              0.7777777777777778,
              "#fb9f3a"
             ],
             [
              0.8888888888888888,
              "#fdca26"
             ],
             [
              1,
              "#f0f921"
             ]
            ],
            "type": "contour"
           }
          ],
          "contourcarpet": [
           {
            "colorbar": {
             "outlinewidth": 0,
             "ticks": ""
            },
            "type": "contourcarpet"
           }
          ],
          "heatmap": [
           {
            "colorbar": {
             "outlinewidth": 0,
             "ticks": ""
            },
            "colorscale": [
             [
              0,
              "#0d0887"
             ],
             [
              0.1111111111111111,
              "#46039f"
             ],
             [
              0.2222222222222222,
              "#7201a8"
             ],
             [
              0.3333333333333333,
              "#9c179e"
             ],
             [
              0.4444444444444444,
              "#bd3786"
             ],
             [
              0.5555555555555556,
              "#d8576b"
             ],
             [
              0.6666666666666666,
              "#ed7953"
             ],
             [
              0.7777777777777778,
              "#fb9f3a"
             ],
             [
              0.8888888888888888,
              "#fdca26"
             ],
             [
              1,
              "#f0f921"
             ]
            ],
            "type": "heatmap"
           }
          ],
          "heatmapgl": [
           {
            "colorbar": {
             "outlinewidth": 0,
             "ticks": ""
            },
            "colorscale": [
             [
              0,
              "#0d0887"
             ],
             [
              0.1111111111111111,
              "#46039f"
             ],
             [
              0.2222222222222222,
              "#7201a8"
             ],
             [
              0.3333333333333333,
              "#9c179e"
             ],
             [
              0.4444444444444444,
              "#bd3786"
             ],
             [
              0.5555555555555556,
              "#d8576b"
             ],
             [
              0.6666666666666666,
              "#ed7953"
             ],
             [
              0.7777777777777778,
              "#fb9f3a"
             ],
             [
              0.8888888888888888,
              "#fdca26"
             ],
             [
              1,
              "#f0f921"
             ]
            ],
            "type": "heatmapgl"
           }
          ],
          "histogram": [
           {
            "marker": {
             "pattern": {
              "fillmode": "overlay",
              "size": 10,
              "solidity": 0.2
             }
            },
            "type": "histogram"
           }
          ],
          "histogram2d": [
           {
            "colorbar": {
             "outlinewidth": 0,
             "ticks": ""
            },
            "colorscale": [
             [
              0,
              "#0d0887"
             ],
             [
              0.1111111111111111,
              "#46039f"
             ],
             [
              0.2222222222222222,
              "#7201a8"
             ],
             [
              0.3333333333333333,
              "#9c179e"
             ],
             [
              0.4444444444444444,
              "#bd3786"
             ],
             [
              0.5555555555555556,
              "#d8576b"
             ],
             [
              0.6666666666666666,
              "#ed7953"
             ],
             [
              0.7777777777777778,
              "#fb9f3a"
             ],
             [
              0.8888888888888888,
              "#fdca26"
             ],
             [
              1,
              "#f0f921"
             ]
            ],
            "type": "histogram2d"
           }
          ],
          "histogram2dcontour": [
           {
            "colorbar": {
             "outlinewidth": 0,
             "ticks": ""
            },
            "colorscale": [
             [
              0,
              "#0d0887"
             ],
             [
              0.1111111111111111,
              "#46039f"
             ],
             [
              0.2222222222222222,
              "#7201a8"
             ],
             [
              0.3333333333333333,
              "#9c179e"
             ],
             [
              0.4444444444444444,
              "#bd3786"
             ],
             [
              0.5555555555555556,
              "#d8576b"
             ],
             [
              0.6666666666666666,
              "#ed7953"
             ],
             [
              0.7777777777777778,
              "#fb9f3a"
             ],
             [
              0.8888888888888888,
              "#fdca26"
             ],
             [
              1,
              "#f0f921"
             ]
            ],
            "type": "histogram2dcontour"
           }
          ],
          "mesh3d": [
           {
            "colorbar": {
             "outlinewidth": 0,
             "ticks": ""
            },
            "type": "mesh3d"
           }
          ],
          "parcoords": [
           {
            "line": {
             "colorbar": {
              "outlinewidth": 0,
              "ticks": ""
             }
            },
            "type": "parcoords"
           }
          ],
          "pie": [
           {
            "automargin": true,
            "type": "pie"
           }
          ],
          "scatter": [
           {
            "marker": {
             "colorbar": {
              "outlinewidth": 0,
              "ticks": ""
             }
            },
            "type": "scatter"
           }
          ],
          "scatter3d": [
           {
            "line": {
             "colorbar": {
              "outlinewidth": 0,
              "ticks": ""
             }
            },
            "marker": {
             "colorbar": {
              "outlinewidth": 0,
              "ticks": ""
             }
            },
            "type": "scatter3d"
           }
          ],
          "scattercarpet": [
           {
            "marker": {
             "colorbar": {
              "outlinewidth": 0,
              "ticks": ""
             }
            },
            "type": "scattercarpet"
           }
          ],
          "scattergeo": [
           {
            "marker": {
             "colorbar": {
              "outlinewidth": 0,
              "ticks": ""
             }
            },
            "type": "scattergeo"
           }
          ],
          "scattergl": [
           {
            "marker": {
             "colorbar": {
              "outlinewidth": 0,
              "ticks": ""
             }
            },
            "type": "scattergl"
           }
          ],
          "scattermapbox": [
           {
            "marker": {
             "colorbar": {
              "outlinewidth": 0,
              "ticks": ""
             }
            },
            "type": "scattermapbox"
           }
          ],
          "scatterpolar": [
           {
            "marker": {
             "colorbar": {
              "outlinewidth": 0,
              "ticks": ""
             }
            },
            "type": "scatterpolar"
           }
          ],
          "scatterpolargl": [
           {
            "marker": {
             "colorbar": {
              "outlinewidth": 0,
              "ticks": ""
             }
            },
            "type": "scatterpolargl"
           }
          ],
          "scatterternary": [
           {
            "marker": {
             "colorbar": {
              "outlinewidth": 0,
              "ticks": ""
             }
            },
            "type": "scatterternary"
           }
          ],
          "surface": [
           {
            "colorbar": {
             "outlinewidth": 0,
             "ticks": ""
            },
            "colorscale": [
             [
              0,
              "#0d0887"
             ],
             [
              0.1111111111111111,
              "#46039f"
             ],
             [
              0.2222222222222222,
              "#7201a8"
             ],
             [
              0.3333333333333333,
              "#9c179e"
             ],
             [
              0.4444444444444444,
              "#bd3786"
             ],
             [
              0.5555555555555556,
              "#d8576b"
             ],
             [
              0.6666666666666666,
              "#ed7953"
             ],
             [
              0.7777777777777778,
              "#fb9f3a"
             ],
             [
              0.8888888888888888,
              "#fdca26"
             ],
             [
              1,
              "#f0f921"
             ]
            ],
            "type": "surface"
           }
          ],
          "table": [
           {
            "cells": {
             "fill": {
              "color": "#EBF0F8"
             },
             "line": {
              "color": "white"
             }
            },
            "header": {
             "fill": {
              "color": "#C8D4E3"
             },
             "line": {
              "color": "white"
             }
            },
            "type": "table"
           }
          ]
         },
         "layout": {
          "annotationdefaults": {
           "arrowcolor": "#2a3f5f",
           "arrowhead": 0,
           "arrowwidth": 1
          },
          "autotypenumbers": "strict",
          "coloraxis": {
           "colorbar": {
            "outlinewidth": 0,
            "ticks": ""
           }
          },
          "colorscale": {
           "diverging": [
            [
             0,
             "#8e0152"
            ],
            [
             0.1,
             "#c51b7d"
            ],
            [
             0.2,
             "#de77ae"
            ],
            [
             0.3,
             "#f1b6da"
            ],
            [
             0.4,
             "#fde0ef"
            ],
            [
             0.5,
             "#f7f7f7"
            ],
            [
             0.6,
             "#e6f5d0"
            ],
            [
             0.7,
             "#b8e186"
            ],
            [
             0.8,
             "#7fbc41"
            ],
            [
             0.9,
             "#4d9221"
            ],
            [
             1,
             "#276419"
            ]
           ],
           "sequential": [
            [
             0,
             "#0d0887"
            ],
            [
             0.1111111111111111,
             "#46039f"
            ],
            [
             0.2222222222222222,
             "#7201a8"
            ],
            [
             0.3333333333333333,
             "#9c179e"
            ],
            [
             0.4444444444444444,
             "#bd3786"
            ],
            [
             0.5555555555555556,
             "#d8576b"
            ],
            [
             0.6666666666666666,
             "#ed7953"
            ],
            [
             0.7777777777777778,
             "#fb9f3a"
            ],
            [
             0.8888888888888888,
             "#fdca26"
            ],
            [
             1,
             "#f0f921"
            ]
           ],
           "sequentialminus": [
            [
             0,
             "#0d0887"
            ],
            [
             0.1111111111111111,
             "#46039f"
            ],
            [
             0.2222222222222222,
             "#7201a8"
            ],
            [
             0.3333333333333333,
             "#9c179e"
            ],
            [
             0.4444444444444444,
             "#bd3786"
            ],
            [
             0.5555555555555556,
             "#d8576b"
            ],
            [
             0.6666666666666666,
             "#ed7953"
            ],
            [
             0.7777777777777778,
             "#fb9f3a"
            ],
            [
             0.8888888888888888,
             "#fdca26"
            ],
            [
             1,
             "#f0f921"
            ]
           ]
          },
          "colorway": [
           "#636efa",
           "#EF553B",
           "#00cc96",
           "#ab63fa",
           "#FFA15A",
           "#19d3f3",
           "#FF6692",
           "#B6E880",
           "#FF97FF",
           "#FECB52"
          ],
          "font": {
           "color": "#2a3f5f"
          },
          "geo": {
           "bgcolor": "white",
           "lakecolor": "white",
           "landcolor": "#E5ECF6",
           "showlakes": true,
           "showland": true,
           "subunitcolor": "white"
          },
          "hoverlabel": {
           "align": "left"
          },
          "hovermode": "closest",
          "mapbox": {
           "style": "light"
          },
          "paper_bgcolor": "white",
          "plot_bgcolor": "#E5ECF6",
          "polar": {
           "angularaxis": {
            "gridcolor": "white",
            "linecolor": "white",
            "ticks": ""
           },
           "bgcolor": "#E5ECF6",
           "radialaxis": {
            "gridcolor": "white",
            "linecolor": "white",
            "ticks": ""
           }
          },
          "scene": {
           "xaxis": {
            "backgroundcolor": "#E5ECF6",
            "gridcolor": "white",
            "gridwidth": 2,
            "linecolor": "white",
            "showbackground": true,
            "ticks": "",
            "zerolinecolor": "white"
           },
           "yaxis": {
            "backgroundcolor": "#E5ECF6",
            "gridcolor": "white",
            "gridwidth": 2,
            "linecolor": "white",
            "showbackground": true,
            "ticks": "",
            "zerolinecolor": "white"
           },
           "zaxis": {
            "backgroundcolor": "#E5ECF6",
            "gridcolor": "white",
            "gridwidth": 2,
            "linecolor": "white",
            "showbackground": true,
            "ticks": "",
            "zerolinecolor": "white"
           }
          },
          "shapedefaults": {
           "line": {
            "color": "#2a3f5f"
           }
          },
          "ternary": {
           "aaxis": {
            "gridcolor": "white",
            "linecolor": "white",
            "ticks": ""
           },
           "baxis": {
            "gridcolor": "white",
            "linecolor": "white",
            "ticks": ""
           },
           "bgcolor": "#E5ECF6",
           "caxis": {
            "gridcolor": "white",
            "linecolor": "white",
            "ticks": ""
           }
          },
          "title": {
           "x": 0.05
          },
          "xaxis": {
           "automargin": true,
           "gridcolor": "white",
           "linecolor": "white",
           "ticks": "",
           "title": {
            "standoff": 15
           },
           "zerolinecolor": "white",
           "zerolinewidth": 2
          },
          "yaxis": {
           "automargin": true,
           "gridcolor": "white",
           "linecolor": "white",
           "ticks": "",
           "title": {
            "standoff": 15
           },
           "zerolinecolor": "white",
           "zerolinewidth": 2
          }
         }
        },
        "xaxis": {
         "anchor": "y",
         "categoryarray": [
          "Yuma, AZ TO Phoenix, AZ",
          "Yuma, AZ TO Dallas/Fort Worth, TX",
          "Yakutat, AK TO Juneau, AK",
          "Yakutat, AK TO Cordova, AK",
          "Yakima, WA TO Seattle, WA",
          "Wrangell, AK TO Petersburg, AK",
          "Wrangell, AK TO Ketchikan, AK",
          "Worcester, MA TO Philadelphia, PA",
          "Worcester, MA TO Orlando, FL",
          "Worcester, MA TO New York, NY"
         ],
         "categoryorder": "array",
         "domain": [
          0,
          1
         ],
         "title": {
          "text": "route"
         }
        },
        "yaxis": {
         "anchor": "x",
         "domain": [
          0,
          1
         ],
         "title": {
          "text": "total_count"
         }
        }
       }
      },
      "text/html": [
       "<div>                            <div id=\"deef8a1c-e421-4b0c-932f-9d58b536a9bb\" class=\"plotly-graph-div\" style=\"height:525px; width:100%;\"></div>            <script type=\"text/javascript\">                require([\"plotly\"], function(Plotly) {                    window.PLOTLYENV=window.PLOTLYENV || {};                                    if (document.getElementById(\"deef8a1c-e421-4b0c-932f-9d58b536a9bb\")) {                    Plotly.newPlot(                        \"deef8a1c-e421-4b0c-932f-9d58b536a9bb\",                        [{\"alignmentgroup\":\"True\",\"hovertemplate\":\"route=%{x}<br>total_count=%{y}<extra></extra>\",\"legendgroup\":\"Yuma, AZ TO Phoenix, AZ\",\"marker\":{\"color\":\"#636efa\"},\"name\":\"Yuma, AZ TO Phoenix, AZ\",\"notched\":false,\"offsetgroup\":\"Yuma, AZ TO Phoenix, AZ\",\"orientation\":\"v\",\"showlegend\":true,\"x\":[\"Yuma, AZ TO Phoenix, AZ\"],\"x0\":\" \",\"xaxis\":\"x\",\"y\":[347],\"y0\":\" \",\"yaxis\":\"y\",\"type\":\"box\"},{\"alignmentgroup\":\"True\",\"hovertemplate\":\"route=%{x}<br>total_count=%{y}<extra></extra>\",\"legendgroup\":\"Yuma, AZ TO Dallas/Fort Worth, TX\",\"marker\":{\"color\":\"#EF553B\"},\"name\":\"Yuma, AZ TO Dallas/Fort Worth, TX\",\"notched\":false,\"offsetgroup\":\"Yuma, AZ TO Dallas/Fort Worth, TX\",\"orientation\":\"v\",\"showlegend\":true,\"x\":[\"Yuma, AZ TO Dallas/Fort Worth, TX\"],\"x0\":\" \",\"xaxis\":\"x\",\"y\":[28],\"y0\":\" \",\"yaxis\":\"y\",\"type\":\"box\"},{\"alignmentgroup\":\"True\",\"hovertemplate\":\"route=%{x}<br>total_count=%{y}<extra></extra>\",\"legendgroup\":\"Yakutat, AK TO Juneau, AK\",\"marker\":{\"color\":\"#00cc96\"},\"name\":\"Yakutat, AK TO Juneau, AK\",\"notched\":false,\"offsetgroup\":\"Yakutat, AK TO Juneau, AK\",\"orientation\":\"v\",\"showlegend\":true,\"x\":[\"Yakutat, AK TO Juneau, AK\"],\"x0\":\" \",\"xaxis\":\"x\",\"y\":[88],\"y0\":\" \",\"yaxis\":\"y\",\"type\":\"box\"},{\"alignmentgroup\":\"True\",\"hovertemplate\":\"route=%{x}<br>total_count=%{y}<extra></extra>\",\"legendgroup\":\"Yakutat, AK TO Cordova, AK\",\"marker\":{\"color\":\"#ab63fa\"},\"name\":\"Yakutat, AK TO Cordova, AK\",\"notched\":false,\"offsetgroup\":\"Yakutat, AK TO Cordova, AK\",\"orientation\":\"v\",\"showlegend\":true,\"x\":[\"Yakutat, AK TO Cordova, AK\"],\"x0\":\" \",\"xaxis\":\"x\",\"y\":[83],\"y0\":\" \",\"yaxis\":\"y\",\"type\":\"box\"},{\"alignmentgroup\":\"True\",\"hovertemplate\":\"route=%{x}<br>total_count=%{y}<extra></extra>\",\"legendgroup\":\"Yakima, WA TO Seattle, WA\",\"marker\":{\"color\":\"#FFA15A\"},\"name\":\"Yakima, WA TO Seattle, WA\",\"notched\":false,\"offsetgroup\":\"Yakima, WA TO Seattle, WA\",\"orientation\":\"v\",\"showlegend\":true,\"x\":[\"Yakima, WA TO Seattle, WA\"],\"x0\":\" \",\"xaxis\":\"x\",\"y\":[305],\"y0\":\" \",\"yaxis\":\"y\",\"type\":\"box\"},{\"alignmentgroup\":\"True\",\"hovertemplate\":\"route=%{x}<br>total_count=%{y}<extra></extra>\",\"legendgroup\":\"Wrangell, AK TO Petersburg, AK\",\"marker\":{\"color\":\"#19d3f3\"},\"name\":\"Wrangell, AK TO Petersburg, AK\",\"notched\":false,\"offsetgroup\":\"Wrangell, AK TO Petersburg, AK\",\"orientation\":\"v\",\"showlegend\":true,\"x\":[\"Wrangell, AK TO Petersburg, AK\"],\"x0\":\" \",\"xaxis\":\"x\",\"y\":[87],\"y0\":\" \",\"yaxis\":\"y\",\"type\":\"box\"},{\"alignmentgroup\":\"True\",\"hovertemplate\":\"route=%{x}<br>total_count=%{y}<extra></extra>\",\"legendgroup\":\"Wrangell, AK TO Ketchikan, AK\",\"marker\":{\"color\":\"#FF6692\"},\"name\":\"Wrangell, AK TO Ketchikan, AK\",\"notched\":false,\"offsetgroup\":\"Wrangell, AK TO Ketchikan, AK\",\"orientation\":\"v\",\"showlegend\":true,\"x\":[\"Wrangell, AK TO Ketchikan, AK\"],\"x0\":\" \",\"xaxis\":\"x\",\"y\":[88],\"y0\":\" \",\"yaxis\":\"y\",\"type\":\"box\"},{\"alignmentgroup\":\"True\",\"hovertemplate\":\"route=%{x}<br>total_count=%{y}<extra></extra>\",\"legendgroup\":\"Worcester, MA TO Philadelphia, PA\",\"marker\":{\"color\":\"#B6E880\"},\"name\":\"Worcester, MA TO Philadelphia, PA\",\"notched\":false,\"offsetgroup\":\"Worcester, MA TO Philadelphia, PA\",\"orientation\":\"v\",\"showlegend\":true,\"x\":[\"Worcester, MA TO Philadelphia, PA\"],\"x0\":\" \",\"xaxis\":\"x\",\"y\":[160],\"y0\":\" \",\"yaxis\":\"y\",\"type\":\"box\"},{\"alignmentgroup\":\"True\",\"hovertemplate\":\"route=%{x}<br>total_count=%{y}<extra></extra>\",\"legendgroup\":\"Worcester, MA TO Orlando, FL\",\"marker\":{\"color\":\"#FF97FF\"},\"name\":\"Worcester, MA TO Orlando, FL\",\"notched\":false,\"offsetgroup\":\"Worcester, MA TO Orlando, FL\",\"orientation\":\"v\",\"showlegend\":true,\"x\":[\"Worcester, MA TO Orlando, FL\"],\"x0\":\" \",\"xaxis\":\"x\",\"y\":[89],\"y0\":\" \",\"yaxis\":\"y\",\"type\":\"box\"},{\"alignmentgroup\":\"True\",\"hovertemplate\":\"route=%{x}<br>total_count=%{y}<extra></extra>\",\"legendgroup\":\"Worcester, MA TO New York, NY\",\"marker\":{\"color\":\"#FECB52\"},\"name\":\"Worcester, MA TO New York, NY\",\"notched\":false,\"offsetgroup\":\"Worcester, MA TO New York, NY\",\"orientation\":\"v\",\"showlegend\":true,\"x\":[\"Worcester, MA TO New York, NY\"],\"x0\":\" \",\"xaxis\":\"x\",\"y\":[82],\"y0\":\" \",\"yaxis\":\"y\",\"type\":\"box\"}],                        {\"template\":{\"data\":{\"bar\":[{\"error_x\":{\"color\":\"#2a3f5f\"},\"error_y\":{\"color\":\"#2a3f5f\"},\"marker\":{\"line\":{\"color\":\"#E5ECF6\",\"width\":0.5},\"pattern\":{\"fillmode\":\"overlay\",\"size\":10,\"solidity\":0.2}},\"type\":\"bar\"}],\"barpolar\":[{\"marker\":{\"line\":{\"color\":\"#E5ECF6\",\"width\":0.5},\"pattern\":{\"fillmode\":\"overlay\",\"size\":10,\"solidity\":0.2}},\"type\":\"barpolar\"}],\"carpet\":[{\"aaxis\":{\"endlinecolor\":\"#2a3f5f\",\"gridcolor\":\"white\",\"linecolor\":\"white\",\"minorgridcolor\":\"white\",\"startlinecolor\":\"#2a3f5f\"},\"baxis\":{\"endlinecolor\":\"#2a3f5f\",\"gridcolor\":\"white\",\"linecolor\":\"white\",\"minorgridcolor\":\"white\",\"startlinecolor\":\"#2a3f5f\"},\"type\":\"carpet\"}],\"choropleth\":[{\"colorbar\":{\"outlinewidth\":0,\"ticks\":\"\"},\"type\":\"choropleth\"}],\"contour\":[{\"colorbar\":{\"outlinewidth\":0,\"ticks\":\"\"},\"colorscale\":[[0.0,\"#0d0887\"],[0.1111111111111111,\"#46039f\"],[0.2222222222222222,\"#7201a8\"],[0.3333333333333333,\"#9c179e\"],[0.4444444444444444,\"#bd3786\"],[0.5555555555555556,\"#d8576b\"],[0.6666666666666666,\"#ed7953\"],[0.7777777777777778,\"#fb9f3a\"],[0.8888888888888888,\"#fdca26\"],[1.0,\"#f0f921\"]],\"type\":\"contour\"}],\"contourcarpet\":[{\"colorbar\":{\"outlinewidth\":0,\"ticks\":\"\"},\"type\":\"contourcarpet\"}],\"heatmap\":[{\"colorbar\":{\"outlinewidth\":0,\"ticks\":\"\"},\"colorscale\":[[0.0,\"#0d0887\"],[0.1111111111111111,\"#46039f\"],[0.2222222222222222,\"#7201a8\"],[0.3333333333333333,\"#9c179e\"],[0.4444444444444444,\"#bd3786\"],[0.5555555555555556,\"#d8576b\"],[0.6666666666666666,\"#ed7953\"],[0.7777777777777778,\"#fb9f3a\"],[0.8888888888888888,\"#fdca26\"],[1.0,\"#f0f921\"]],\"type\":\"heatmap\"}],\"heatmapgl\":[{\"colorbar\":{\"outlinewidth\":0,\"ticks\":\"\"},\"colorscale\":[[0.0,\"#0d0887\"],[0.1111111111111111,\"#46039f\"],[0.2222222222222222,\"#7201a8\"],[0.3333333333333333,\"#9c179e\"],[0.4444444444444444,\"#bd3786\"],[0.5555555555555556,\"#d8576b\"],[0.6666666666666666,\"#ed7953\"],[0.7777777777777778,\"#fb9f3a\"],[0.8888888888888888,\"#fdca26\"],[1.0,\"#f0f921\"]],\"type\":\"heatmapgl\"}],\"histogram\":[{\"marker\":{\"pattern\":{\"fillmode\":\"overlay\",\"size\":10,\"solidity\":0.2}},\"type\":\"histogram\"}],\"histogram2d\":[{\"colorbar\":{\"outlinewidth\":0,\"ticks\":\"\"},\"colorscale\":[[0.0,\"#0d0887\"],[0.1111111111111111,\"#46039f\"],[0.2222222222222222,\"#7201a8\"],[0.3333333333333333,\"#9c179e\"],[0.4444444444444444,\"#bd3786\"],[0.5555555555555556,\"#d8576b\"],[0.6666666666666666,\"#ed7953\"],[0.7777777777777778,\"#fb9f3a\"],[0.8888888888888888,\"#fdca26\"],[1.0,\"#f0f921\"]],\"type\":\"histogram2d\"}],\"histogram2dcontour\":[{\"colorbar\":{\"outlinewidth\":0,\"ticks\":\"\"},\"colorscale\":[[0.0,\"#0d0887\"],[0.1111111111111111,\"#46039f\"],[0.2222222222222222,\"#7201a8\"],[0.3333333333333333,\"#9c179e\"],[0.4444444444444444,\"#bd3786\"],[0.5555555555555556,\"#d8576b\"],[0.6666666666666666,\"#ed7953\"],[0.7777777777777778,\"#fb9f3a\"],[0.8888888888888888,\"#fdca26\"],[1.0,\"#f0f921\"]],\"type\":\"histogram2dcontour\"}],\"mesh3d\":[{\"colorbar\":{\"outlinewidth\":0,\"ticks\":\"\"},\"type\":\"mesh3d\"}],\"parcoords\":[{\"line\":{\"colorbar\":{\"outlinewidth\":0,\"ticks\":\"\"}},\"type\":\"parcoords\"}],\"pie\":[{\"automargin\":true,\"type\":\"pie\"}],\"scatter\":[{\"marker\":{\"colorbar\":{\"outlinewidth\":0,\"ticks\":\"\"}},\"type\":\"scatter\"}],\"scatter3d\":[{\"line\":{\"colorbar\":{\"outlinewidth\":0,\"ticks\":\"\"}},\"marker\":{\"colorbar\":{\"outlinewidth\":0,\"ticks\":\"\"}},\"type\":\"scatter3d\"}],\"scattercarpet\":[{\"marker\":{\"colorbar\":{\"outlinewidth\":0,\"ticks\":\"\"}},\"type\":\"scattercarpet\"}],\"scattergeo\":[{\"marker\":{\"colorbar\":{\"outlinewidth\":0,\"ticks\":\"\"}},\"type\":\"scattergeo\"}],\"scattergl\":[{\"marker\":{\"colorbar\":{\"outlinewidth\":0,\"ticks\":\"\"}},\"type\":\"scattergl\"}],\"scattermapbox\":[{\"marker\":{\"colorbar\":{\"outlinewidth\":0,\"ticks\":\"\"}},\"type\":\"scattermapbox\"}],\"scatterpolar\":[{\"marker\":{\"colorbar\":{\"outlinewidth\":0,\"ticks\":\"\"}},\"type\":\"scatterpolar\"}],\"scatterpolargl\":[{\"marker\":{\"colorbar\":{\"outlinewidth\":0,\"ticks\":\"\"}},\"type\":\"scatterpolargl\"}],\"scatterternary\":[{\"marker\":{\"colorbar\":{\"outlinewidth\":0,\"ticks\":\"\"}},\"type\":\"scatterternary\"}],\"surface\":[{\"colorbar\":{\"outlinewidth\":0,\"ticks\":\"\"},\"colorscale\":[[0.0,\"#0d0887\"],[0.1111111111111111,\"#46039f\"],[0.2222222222222222,\"#7201a8\"],[0.3333333333333333,\"#9c179e\"],[0.4444444444444444,\"#bd3786\"],[0.5555555555555556,\"#d8576b\"],[0.6666666666666666,\"#ed7953\"],[0.7777777777777778,\"#fb9f3a\"],[0.8888888888888888,\"#fdca26\"],[1.0,\"#f0f921\"]],\"type\":\"surface\"}],\"table\":[{\"cells\":{\"fill\":{\"color\":\"#EBF0F8\"},\"line\":{\"color\":\"white\"}},\"header\":{\"fill\":{\"color\":\"#C8D4E3\"},\"line\":{\"color\":\"white\"}},\"type\":\"table\"}]},\"layout\":{\"annotationdefaults\":{\"arrowcolor\":\"#2a3f5f\",\"arrowhead\":0,\"arrowwidth\":1},\"autotypenumbers\":\"strict\",\"coloraxis\":{\"colorbar\":{\"outlinewidth\":0,\"ticks\":\"\"}},\"colorscale\":{\"diverging\":[[0,\"#8e0152\"],[0.1,\"#c51b7d\"],[0.2,\"#de77ae\"],[0.3,\"#f1b6da\"],[0.4,\"#fde0ef\"],[0.5,\"#f7f7f7\"],[0.6,\"#e6f5d0\"],[0.7,\"#b8e186\"],[0.8,\"#7fbc41\"],[0.9,\"#4d9221\"],[1,\"#276419\"]],\"sequential\":[[0.0,\"#0d0887\"],[0.1111111111111111,\"#46039f\"],[0.2222222222222222,\"#7201a8\"],[0.3333333333333333,\"#9c179e\"],[0.4444444444444444,\"#bd3786\"],[0.5555555555555556,\"#d8576b\"],[0.6666666666666666,\"#ed7953\"],[0.7777777777777778,\"#fb9f3a\"],[0.8888888888888888,\"#fdca26\"],[1.0,\"#f0f921\"]],\"sequentialminus\":[[0.0,\"#0d0887\"],[0.1111111111111111,\"#46039f\"],[0.2222222222222222,\"#7201a8\"],[0.3333333333333333,\"#9c179e\"],[0.4444444444444444,\"#bd3786\"],[0.5555555555555556,\"#d8576b\"],[0.6666666666666666,\"#ed7953\"],[0.7777777777777778,\"#fb9f3a\"],[0.8888888888888888,\"#fdca26\"],[1.0,\"#f0f921\"]]},\"colorway\":[\"#636efa\",\"#EF553B\",\"#00cc96\",\"#ab63fa\",\"#FFA15A\",\"#19d3f3\",\"#FF6692\",\"#B6E880\",\"#FF97FF\",\"#FECB52\"],\"font\":{\"color\":\"#2a3f5f\"},\"geo\":{\"bgcolor\":\"white\",\"lakecolor\":\"white\",\"landcolor\":\"#E5ECF6\",\"showlakes\":true,\"showland\":true,\"subunitcolor\":\"white\"},\"hoverlabel\":{\"align\":\"left\"},\"hovermode\":\"closest\",\"mapbox\":{\"style\":\"light\"},\"paper_bgcolor\":\"white\",\"plot_bgcolor\":\"#E5ECF6\",\"polar\":{\"angularaxis\":{\"gridcolor\":\"white\",\"linecolor\":\"white\",\"ticks\":\"\"},\"bgcolor\":\"#E5ECF6\",\"radialaxis\":{\"gridcolor\":\"white\",\"linecolor\":\"white\",\"ticks\":\"\"}},\"scene\":{\"xaxis\":{\"backgroundcolor\":\"#E5ECF6\",\"gridcolor\":\"white\",\"gridwidth\":2,\"linecolor\":\"white\",\"showbackground\":true,\"ticks\":\"\",\"zerolinecolor\":\"white\"},\"yaxis\":{\"backgroundcolor\":\"#E5ECF6\",\"gridcolor\":\"white\",\"gridwidth\":2,\"linecolor\":\"white\",\"showbackground\":true,\"ticks\":\"\",\"zerolinecolor\":\"white\"},\"zaxis\":{\"backgroundcolor\":\"#E5ECF6\",\"gridcolor\":\"white\",\"gridwidth\":2,\"linecolor\":\"white\",\"showbackground\":true,\"ticks\":\"\",\"zerolinecolor\":\"white\"}},\"shapedefaults\":{\"line\":{\"color\":\"#2a3f5f\"}},\"ternary\":{\"aaxis\":{\"gridcolor\":\"white\",\"linecolor\":\"white\",\"ticks\":\"\"},\"baxis\":{\"gridcolor\":\"white\",\"linecolor\":\"white\",\"ticks\":\"\"},\"bgcolor\":\"#E5ECF6\",\"caxis\":{\"gridcolor\":\"white\",\"linecolor\":\"white\",\"ticks\":\"\"}},\"title\":{\"x\":0.05},\"xaxis\":{\"automargin\":true,\"gridcolor\":\"white\",\"linecolor\":\"white\",\"ticks\":\"\",\"title\":{\"standoff\":15},\"zerolinecolor\":\"white\",\"zerolinewidth\":2},\"yaxis\":{\"automargin\":true,\"gridcolor\":\"white\",\"linecolor\":\"white\",\"ticks\":\"\",\"title\":{\"standoff\":15},\"zerolinecolor\":\"white\",\"zerolinewidth\":2}}},\"xaxis\":{\"anchor\":\"y\",\"domain\":[0.0,1.0],\"title\":{\"text\":\"route\"},\"categoryorder\":\"array\",\"categoryarray\":[\"Yuma, AZ TO Phoenix, AZ\",\"Yuma, AZ TO Dallas/Fort Worth, TX\",\"Yakutat, AK TO Juneau, AK\",\"Yakutat, AK TO Cordova, AK\",\"Yakima, WA TO Seattle, WA\",\"Wrangell, AK TO Petersburg, AK\",\"Wrangell, AK TO Ketchikan, AK\",\"Worcester, MA TO Philadelphia, PA\",\"Worcester, MA TO Orlando, FL\",\"Worcester, MA TO New York, NY\"]},\"yaxis\":{\"anchor\":\"x\",\"domain\":[0.0,1.0],\"title\":{\"text\":\"total_count\"}},\"legend\":{\"title\":{\"text\":\"route\"},\"tracegroupgap\":0},\"margin\":{\"t\":60},\"boxmode\":\"overlay\"},                        {\"responsive\": true}                    ).then(function(){\n",
       "                            \n",
       "var gd = document.getElementById('deef8a1c-e421-4b0c-932f-9d58b536a9bb');\n",
       "var x = new MutationObserver(function (mutations, observer) {{\n",
       "        var display = window.getComputedStyle(gd).display;\n",
       "        if (!display || display === 'none') {{\n",
       "            console.log([gd, 'removed!']);\n",
       "            Plotly.purge(gd);\n",
       "            observer.disconnect();\n",
       "        }}\n",
       "}});\n",
       "\n",
       "// Listen for the removal of the full notebook cells\n",
       "var notebookContainer = gd.closest('#notebook-container');\n",
       "if (notebookContainer) {{\n",
       "    x.observe(notebookContainer, {childList: true});\n",
       "}}\n",
       "\n",
       "// Listen for the clearing of the current output cell\n",
       "var outputEl = gd.closest('.output');\n",
       "if (outputEl) {{\n",
       "    x.observe(outputEl, {childList: true});\n",
       "}}\n",
       "\n",
       "                        })                };                });            </script>        </div>"
      ]
     },
     "metadata": {},
     "output_type": "display_data"
    }
   ],
   "source": [
    "df = px.data.tips()\n",
    "df_total_count_rout=data.sort_values(by='route',ascending=False)[:10]\n",
    "fig = px.box(df_total_count_rout, x=\"route\", y=\"total_count\", color='route')\n",
    "fig.show()"
   ]
  },
  {
   "cell_type": "code",
   "execution_count": 52,
   "id": "bec28696",
   "metadata": {},
   "outputs": [
    {
     "data": {
      "text/plain": [
       "[Text(0, 0, 'New York, NY TO Los Angeles, CA'),\n",
       " Text(1, 0, 'New York, NY TO San Francisco, CA'),\n",
       " Text(2, 0, 'Minneapolis, MN TO Phoenix, AZ'),\n",
       " Text(3, 0, 'Los Angeles, CA TO New York, NY'),\n",
       " Text(4, 0, 'Los Angeles, CA TO Honolulu, HI'),\n",
       " Text(5, 0, 'Chicago, IL TO Los Angeles, CA'),\n",
       " Text(6, 0, 'Minneapolis, MN TO Orlando, FL'),\n",
       " Text(7, 0, 'Minneapolis, MN TO Fort Myers, FL'),\n",
       " Text(8, 0, 'Newark, NJ TO San Francisco, CA'),\n",
       " Text(9, 0, 'New York, NY TO Las Vegas, NV')]"
      ]
     },
     "execution_count": 52,
     "metadata": {},
     "output_type": "execute_result"
    },
    {
     "data": {
      "image/png": "[encoded data removed]",
      "text/plain": [
       "<Figure size 1440x360 with 1 Axes>"
      ]
     },
     "metadata": {
      "needs_background": "light"
     },
     "output_type": "display_data"
    }
   ],
   "source": [
    "data['profit']=data['income']-data['cost']\n",
    "df_profit_route=data.sort_values(by='profit',ascending=False)[:10]\n",
    "ax=sns.barplot(x=df_profit_route['route'],y=df_profit_route['profit'])\n",
    "ax.set_xticklabels(ax.get_xticklabels(),rotation = 60)"
   ]
  },
  {
   "cell_type": "code",
   "execution_count": 53,
   "id": "fc269be1",
   "metadata": {},
   "outputs": [
    {
     "data": {
      "application/vnd.plotly.v1+json": {
       "config": {
        "plotlyServerURL": "https://plot.ly"
       },
       "data": [
        {
         "alignmentgroup": "True",
         "hovertemplate": "route=%{x}<br>cost=%{y}<extra></extra>",
         "legendgroup": "San Francisco, CA TO Los Angeles, CA",
         "marker": {
          "color": "#636efa"
         },
         "name": "San Francisco, CA TO Los Angeles, CA",
         "notched": false,
         "offsetgroup": "San Francisco, CA TO Los Angeles, CA",
         "orientation": "v",
         "showlegend": true,
         "type": "box",
         "x": [
          "San Francisco, CA TO Los Angeles, CA"
         ],
         "x0": " ",
         "xaxis": "x",
         "y": [
          109766684.87704647
         ],
         "y0": " ",
         "yaxis": "y"
        },
        {
         "alignmentgroup": "True",
         "hovertemplate": "route=%{x}<br>cost=%{y}<extra></extra>",
         "legendgroup": "Los Angeles, CA TO San Francisco, CA",
         "marker": {
          "color": "#EF553B"
         },
         "name": "Los Angeles, CA TO San Francisco, CA",
         "notched": false,
         "offsetgroup": "Los Angeles, CA TO San Francisco, CA",
         "orientation": "v",
         "showlegend": true,
         "type": "box",
         "x": [
          "Los Angeles, CA TO San Francisco, CA"
         ],
         "x0": " ",
         "xaxis": "x",
         "y": [
          109659917.19669245
         ],
         "y0": " ",
         "yaxis": "y"
        },
        {
         "alignmentgroup": "True",
         "hovertemplate": "route=%{x}<br>cost=%{y}<extra></extra>",
         "legendgroup": "Chicago, IL TO New York, NY",
         "marker": {
          "color": "#00cc96"
         },
         "name": "Chicago, IL TO New York, NY",
         "notched": false,
         "offsetgroup": "Chicago, IL TO New York, NY",
         "orientation": "v",
         "showlegend": true,
         "type": "box",
         "x": [
          "Chicago, IL TO New York, NY"
         ],
         "x0": " ",
         "xaxis": "x",
         "y": [
          94512089.79877567
         ],
         "y0": " ",
         "yaxis": "y"
        },
        {
         "alignmentgroup": "True",
         "hovertemplate": "route=%{x}<br>cost=%{y}<extra></extra>",
         "legendgroup": "New York, NY TO Chicago, IL",
         "marker": {
          "color": "#ab63fa"
         },
         "name": "New York, NY TO Chicago, IL",
         "notched": false,
         "offsetgroup": "New York, NY TO Chicago, IL",
         "orientation": "v",
         "showlegend": true,
         "type": "box",
         "x": [
          "New York, NY TO Chicago, IL"
         ],
         "x0": " ",
         "xaxis": "x",
         "y": [
          94258894.66667953
         ],
         "y0": " ",
         "yaxis": "y"
        },
        {
         "alignmentgroup": "True",
         "hovertemplate": "route=%{x}<br>cost=%{y}<extra></extra>",
         "legendgroup": "Los Angeles, CA TO Las Vegas, NV",
         "marker": {
          "color": "#FFA15A"
         },
         "name": "Los Angeles, CA TO Las Vegas, NV",
         "notched": false,
         "offsetgroup": "Los Angeles, CA TO Las Vegas, NV",
         "orientation": "v",
         "showlegend": true,
         "type": "box",
         "x": [
          "Los Angeles, CA TO Las Vegas, NV"
         ],
         "x0": " ",
         "xaxis": "x",
         "y": [
          85313829.49730112
         ],
         "y0": " ",
         "yaxis": "y"
        },
        {
         "alignmentgroup": "True",
         "hovertemplate": "route=%{x}<br>cost=%{y}<extra></extra>",
         "legendgroup": "Las Vegas, NV TO Los Angeles, CA",
         "marker": {
          "color": "#19d3f3"
         },
         "name": "Las Vegas, NV TO Los Angeles, CA",
         "notched": false,
         "offsetgroup": "Las Vegas, NV TO Los Angeles, CA",
         "orientation": "v",
         "showlegend": true,
         "type": "box",
         "x": [
          "Las Vegas, NV TO Los Angeles, CA"
         ],
         "x0": " ",
         "xaxis": "x",
         "y": [
          85207894.62781702
         ],
         "y0": " ",
         "yaxis": "y"
        },
        {
         "alignmentgroup": "True",
         "hovertemplate": "route=%{x}<br>cost=%{y}<extra></extra>",
         "legendgroup": "Los Angeles, CA TO New York, NY",
         "marker": {
          "color": "#FF6692"
         },
         "name": "Los Angeles, CA TO New York, NY",
         "notched": false,
         "offsetgroup": "Los Angeles, CA TO New York, NY",
         "orientation": "v",
         "showlegend": true,
         "type": "box",
         "x": [
          "Los Angeles, CA TO New York, NY"
         ],
         "x0": " ",
         "xaxis": "x",
         "y": [
          82648067.04428214
         ],
         "y0": " ",
         "yaxis": "y"
        },
        {
         "alignmentgroup": "True",
         "hovertemplate": "route=%{x}<br>cost=%{y}<extra></extra>",
         "legendgroup": "New York, NY TO Los Angeles, CA",
         "marker": {
          "color": "#B6E880"
         },
         "name": "New York, NY TO Los Angeles, CA",
         "notched": false,
         "offsetgroup": "New York, NY TO Los Angeles, CA",
         "orientation": "v",
         "showlegend": true,
         "type": "box",
         "x": [
          "New York, NY TO Los Angeles, CA"
         ],
         "x0": " ",
         "xaxis": "x",
         "y": [
          82543090.04170378
         ],
         "y0": " ",
         "yaxis": "y"
        },
        {
         "alignmentgroup": "True",
         "hovertemplate": "route=%{x}<br>cost=%{y}<extra></extra>",
         "legendgroup": "Los Angeles, CA TO Seattle, WA",
         "marker": {
          "color": "#FF97FF"
         },
         "name": "Los Angeles, CA TO Seattle, WA",
         "notched": false,
         "offsetgroup": "Los Angeles, CA TO Seattle, WA",
         "orientation": "v",
         "showlegend": true,
         "type": "box",
         "x": [
          "Los Angeles, CA TO Seattle, WA"
         ],
         "x0": " ",
         "xaxis": "x",
         "y": [
          65465888.99056081
         ],
         "y0": " ",
         "yaxis": "y"
        },
        {
         "alignmentgroup": "True",
         "hovertemplate": "route=%{x}<br>cost=%{y}<extra></extra>",
         "legendgroup": "Seattle, WA TO Los Angeles, CA",
         "marker": {
          "color": "#FECB52"
         },
         "name": "Seattle, WA TO Los Angeles, CA",
         "notched": false,
         "offsetgroup": "Seattle, WA TO Los Angeles, CA",
         "orientation": "v",
         "showlegend": true,
         "type": "box",
         "x": [
          "Seattle, WA TO Los Angeles, CA"
         ],
         "x0": " ",
         "xaxis": "x",
         "y": [
          65397970.58016665
         ],
         "y0": " ",
         "yaxis": "y"
        }
       ],
       "layout": {
        "boxmode": "overlay",
        "legend": {
         "title": {
          "text": "route"
         },
         "tracegroupgap": 0
        },
        "margin": {
         "t": 60
        },
        "template": {
         "data": {
          "bar": [
           {
            "error_x": {
             "color": "#2a3f5f"
            },
            "error_y": {
             "color": "#2a3f5f"
            },
            "marker": {
             "line": {
              "color": "#E5ECF6",
              "width": 0.5
             },
             "pattern": {
              "fillmode": "overlay",
              "size": 10,
              "solidity": 0.2
             }
            },
            "type": "bar"
           }
          ],
          "barpolar": [
           {
            "marker": {
             "line": {
              "color": "#E5ECF6",
              "width": 0.5
             },
             "pattern": {
              "fillmode": "overlay",
              "size": 10,
              "solidity": 0.2
             }
            },
            "type": "barpolar"
           }
          ],
          "carpet": [
           {
            "aaxis": {
             "endlinecolor": "#2a3f5f",
             "gridcolor": "white",
             "linecolor": "white",
             "minorgridcolor": "white",
             "startlinecolor": "#2a3f5f"
            },
            "baxis": {
             "endlinecolor": "#2a3f5f",
             "gridcolor": "white",
             "linecolor": "white",
             "minorgridcolor": "white",
             "startlinecolor": "#2a3f5f"
            },
            "type": "carpet"
           }
          ],
          "choropleth": [
           {
            "colorbar": {
             "outlinewidth": 0,
             "ticks": ""
            },
            "type": "choropleth"
           }
          ],
          "contour": [
           {
            "colorbar": {
             "outlinewidth": 0,
             "ticks": ""
            },
            "colorscale": [
             [
              0,
              "#0d0887"
             ],
             [
              0.1111111111111111,
              "#46039f"
             ],
             [
              0.2222222222222222,
              "#7201a8"
             ],
             [
              0.3333333333333333,
              "#9c179e"
             ],
             [
              0.4444444444444444,
              "#bd3786"
             ],
             [
              0.5555555555555556,
              "#d8576b"
             ],
             [
              0.6666666666666666,
              "#ed7953"
             ],
             [
              0.7777777777777778,
              "#fb9f3a"
             ],
             [
              0.8888888888888888,
              "#fdca26"
             ],
             [
              1,
              "#f0f921"
             ]
            ],
            "type": "contour"
           }
          ],
          "contourcarpet": [
           {
            "colorbar": {
             "outlinewidth": 0,
             "ticks": ""
            },
            "type": "contourcarpet"
           }
          ],
          "heatmap": [
           {
            "colorbar": {
             "outlinewidth": 0,
             "ticks": ""
            },
            "colorscale": [
             [
              0,
              "#0d0887"
             ],
             [
              0.1111111111111111,
              "#46039f"
             ],
             [
              0.2222222222222222,
              "#7201a8"
             ],
             [
              0.3333333333333333,
              "#9c179e"
             ],
             [
              0.4444444444444444,
              "#bd3786"
             ],
             [
              0.5555555555555556,
              "#d8576b"
             ],
             [
              0.6666666666666666,
              "#ed7953"
             ],
             [
              0.7777777777777778,
              "#fb9f3a"
             ],
             [
              0.8888888888888888,
              "#fdca26"
             ],
             [
              1,
              "#f0f921"
             ]
            ],
            "type": "heatmap"
           }
          ],
          "heatmapgl": [
           {
            "colorbar": {
             "outlinewidth": 0,
             "ticks": ""
            },
            "colorscale": [
             [
              0,
              "#0d0887"
             ],
             [
              0.1111111111111111,
              "#46039f"
             ],
             [
              0.2222222222222222,
              "#7201a8"
             ],
             [
              0.3333333333333333,
              "#9c179e"
             ],
             [
              0.4444444444444444,
              "#bd3786"
             ],
             [
              0.5555555555555556,
              "#d8576b"
             ],
             [
              0.6666666666666666,
              "#ed7953"
             ],
             [
              0.7777777777777778,
              "#fb9f3a"
             ],
             [
              0.8888888888888888,
              "#fdca26"
             ],
             [
              1,
              "#f0f921"
             ]
            ],
            "type": "heatmapgl"
           }
          ],
          "histogram": [
           {
            "marker": {
             "pattern": {
              "fillmode": "overlay",
              "size": 10,
              "solidity": 0.2
             }
            },
            "type": "histogram"
           }
          ],
          "histogram2d": [
           {
            "colorbar": {
             "outlinewidth": 0,
             "ticks": ""
            },
            "colorscale": [
             [
              0,
              "#0d0887"
             ],
             [
              0.1111111111111111,
              "#46039f"
             ],
             [
              0.2222222222222222,
              "#7201a8"
             ],
             [
              0.3333333333333333,
              "#9c179e"
             ],
             [
              0.4444444444444444,
              "#bd3786"
             ],
             [
              0.5555555555555556,
              "#d8576b"
             ],
             [
              0.6666666666666666,
              "#ed7953"
             ],
             [
              0.7777777777777778,
              "#fb9f3a"
             ],
             [
              0.8888888888888888,
              "#fdca26"
             ],
             [
              1,
              "#f0f921"
             ]
            ],
            "type": "histogram2d"
           }
          ],
          "histogram2dcontour": [
           {
            "colorbar": {
             "outlinewidth": 0,
             "ticks": ""
            },
            "colorscale": [
             [
              0,
              "#0d0887"
             ],
             [
              0.1111111111111111,
              "#46039f"
             ],
             [
              0.2222222222222222,
              "#7201a8"
             ],
             [
              0.3333333333333333,
              "#9c179e"
             ],
             [
              0.4444444444444444,
              "#bd3786"
             ],
             [
              0.5555555555555556,
              "#d8576b"
             ],
             [
              0.6666666666666666,
              "#ed7953"
             ],
             [
              0.7777777777777778,
              "#fb9f3a"
             ],
             [
              0.8888888888888888,
              "#fdca26"
             ],
             [
              1,
              "#f0f921"
             ]
            ],
            "type": "histogram2dcontour"
           }
          ],
          "mesh3d": [
           {
            "colorbar": {
             "outlinewidth": 0,
             "ticks": ""
            },
            "type": "mesh3d"
           }
          ],
          "parcoords": [
           {
            "line": {
             "colorbar": {
              "outlinewidth": 0,
              "ticks": ""
             }
            },
            "type": "parcoords"
           }
          ],
          "pie": [
           {
            "automargin": true,
            "type": "pie"
           }
          ],
          "scatter": [
           {
            "marker": {
             "colorbar": {
              "outlinewidth": 0,
              "ticks": ""
             }
            },
            "type": "scatter"
           }
          ],
          "scatter3d": [
           {
            "line": {
             "colorbar": {
              "outlinewidth": 0,
              "ticks": ""
             }
            },
            "marker": {
             "colorbar": {
              "outlinewidth": 0,
              "ticks": ""
             }
            },
            "type": "scatter3d"
           }
          ],
          "scattercarpet": [
           {
            "marker": {
             "colorbar": {
              "outlinewidth": 0,
              "ticks": ""
             }
            },
            "type": "scattercarpet"
           }
          ],
          "scattergeo": [
           {
            "marker": {
             "colorbar": {
              "outlinewidth": 0,
              "ticks": ""
             }
            },
            "type": "scattergeo"
           }
          ],
          "scattergl": [
           {
            "marker": {
             "colorbar": {
              "outlinewidth": 0,
              "ticks": ""
             }
            },
            "type": "scattergl"
           }
          ],
          "scattermapbox": [
           {
            "marker": {
             "colorbar": {
              "outlinewidth": 0,
              "ticks": ""
             }
            },
            "type": "scattermapbox"
           }
          ],
          "scatterpolar": [
           {
            "marker": {
             "colorbar": {
              "outlinewidth": 0,
              "ticks": ""
             }
            },
            "type": "scatterpolar"
           }
          ],
          "scatterpolargl": [
           {
            "marker": {
             "colorbar": {
              "outlinewidth": 0,
              "ticks": ""
             }
            },
            "type": "scatterpolargl"
           }
          ],
          "scatterternary": [
           {
            "marker": {
             "colorbar": {
              "outlinewidth": 0,
              "ticks": ""
             }
            },
            "type": "scatterternary"
           }
          ],
          "surface": [
           {
            "colorbar": {
             "outlinewidth": 0,
             "ticks": ""
            },
            "colorscale": [
             [
              0,
              "#0d0887"
             ],
             [
              0.1111111111111111,
              "#46039f"
             ],
             [
              0.2222222222222222,
              "#7201a8"
             ],
             [
              0.3333333333333333,
              "#9c179e"
             ],
             [
              0.4444444444444444,
              "#bd3786"
             ],
             [
              0.5555555555555556,
              "#d8576b"
             ],
             [
              0.6666666666666666,
              "#ed7953"
             ],
             [
              0.7777777777777778,
              "#fb9f3a"
             ],
             [
              0.8888888888888888,
              "#fdca26"
             ],
             [
              1,
              "#f0f921"
             ]
            ],
            "type": "surface"
           }
          ],
          "table": [
           {
            "cells": {
             "fill": {
              "color": "#EBF0F8"
             },
             "line": {
              "color": "white"
             }
            },
            "header": {
             "fill": {
              "color": "#C8D4E3"
             },
             "line": {
              "color": "white"
             }
            },
            "type": "table"
           }
          ]
         },
         "layout": {
          "annotationdefaults": {
           "arrowcolor": "#2a3f5f",
           "arrowhead": 0,
           "arrowwidth": 1
          },
          "autotypenumbers": "strict",
          "coloraxis": {
           "colorbar": {
            "outlinewidth": 0,
            "ticks": ""
           }
          },
          "colorscale": {
           "diverging": [
            [
             0,
             "#8e0152"
            ],
            [
             0.1,
             "#c51b7d"
            ],
            [
             0.2,
             "#de77ae"
            ],
            [
             0.3,
             "#f1b6da"
            ],
            [
             0.4,
             "#fde0ef"
            ],
            [
             0.5,
             "#f7f7f7"
            ],
            [
             0.6,
             "#e6f5d0"
            ],
            [
             0.7,
             "#b8e186"
            ],
            [
             0.8,
             "#7fbc41"
            ],
            [
             0.9,
             "#4d9221"
            ],
            [
             1,
             "#276419"
            ]
           ],
           "sequential": [
            [
             0,
             "#0d0887"
            ],
            [
             0.1111111111111111,
             "#46039f"
            ],
            [
             0.2222222222222222,
             "#7201a8"
            ],
            [
             0.3333333333333333,
             "#9c179e"
            ],
            [
             0.4444444444444444,
             "#bd3786"
            ],
            [
             0.5555555555555556,
             "#d8576b"
            ],
            [
             0.6666666666666666,
             "#ed7953"
            ],
            [
             0.7777777777777778,
             "#fb9f3a"
            ],
            [
             0.8888888888888888,
             "#fdca26"
            ],
            [
             1,
             "#f0f921"
            ]
           ],
           "sequentialminus": [
            [
             0,
             "#0d0887"
            ],
            [
             0.1111111111111111,
             "#46039f"
            ],
            [
             0.2222222222222222,
             "#7201a8"
            ],
            [
             0.3333333333333333,
             "#9c179e"
            ],
            [
             0.4444444444444444,
             "#bd3786"
            ],
            [
             0.5555555555555556,
             "#d8576b"
            ],
            [
             0.6666666666666666,
             "#ed7953"
            ],
            [
             0.7777777777777778,
             "#fb9f3a"
            ],
            [
             0.8888888888888888,
             "#fdca26"
            ],
            [
             1,
             "#f0f921"
            ]
           ]
          },
          "colorway": [
           "#636efa",
           "#EF553B",
           "#00cc96",
           "#ab63fa",
           "#FFA15A",
           "#19d3f3",
           "#FF6692",
           "#B6E880",
           "#FF97FF",
           "#FECB52"
          ],
          "font": {
           "color": "#2a3f5f"
          },
          "geo": {
           "bgcolor": "white",
           "lakecolor": "white",
           "landcolor": "#E5ECF6",
           "showlakes": true,
           "showland": true,
           "subunitcolor": "white"
          },
          "hoverlabel": {
           "align": "left"
          },
          "hovermode": "closest",
          "mapbox": {
           "style": "light"
          },
          "paper_bgcolor": "white",
          "plot_bgcolor": "#E5ECF6",
          "polar": {
           "angularaxis": {
            "gridcolor": "white",
            "linecolor": "white",
            "ticks": ""
           },
           "bgcolor": "#E5ECF6",
           "radialaxis": {
            "gridcolor": "white",
            "linecolor": "white",
            "ticks": ""
           }
          },
          "scene": {
           "xaxis": {
            "backgroundcolor": "#E5ECF6",
            "gridcolor": "white",
            "gridwidth": 2,
            "linecolor": "white",
            "showbackground": true,
            "ticks": "",
            "zerolinecolor": "white"
           },
           "yaxis": {
            "backgroundcolor": "#E5ECF6",
            "gridcolor": "white",
            "gridwidth": 2,
            "linecolor": "white",
            "showbackground": true,
            "ticks": "",
            "zerolinecolor": "white"
           },
           "zaxis": {
            "backgroundcolor": "#E5ECF6",
            "gridcolor": "white",
            "gridwidth": 2,
            "linecolor": "white",
            "showbackground": true,
            "ticks": "",
            "zerolinecolor": "white"
           }
          },
          "shapedefaults": {
           "line": {
            "color": "#2a3f5f"
           }
          },
          "ternary": {
           "aaxis": {
            "gridcolor": "white",
            "linecolor": "white",
            "ticks": ""
           },
           "baxis": {
            "gridcolor": "white",
            "linecolor": "white",
            "ticks": ""
           },
           "bgcolor": "#E5ECF6",
           "caxis": {
            "gridcolor": "white",
            "linecolor": "white",
            "ticks": ""
           }
          },
          "title": {
           "x": 0.05
          },
          "xaxis": {
           "automargin": true,
           "gridcolor": "white",
           "linecolor": "white",
           "ticks": "",
           "title": {
            "standoff": 15
           },
           "zerolinecolor": "white",
           "zerolinewidth": 2
          },
          "yaxis": {
           "automargin": true,
           "gridcolor": "white",
           "linecolor": "white",
           "ticks": "",
           "title": {
            "standoff": 15
           },
           "zerolinecolor": "white",
           "zerolinewidth": 2
          }
         }
        },
        "xaxis": {
         "anchor": "y",
         "categoryarray": [
          "San Francisco, CA TO Los Angeles, CA",
          "Los Angeles, CA TO San Francisco, CA",
          "Chicago, IL TO New York, NY",
          "New York, NY TO Chicago, IL",
          "Los Angeles, CA TO Las Vegas, NV",
          "Las Vegas, NV TO Los Angeles, CA",
          "Los Angeles, CA TO New York, NY",
          "New York, NY TO Los Angeles, CA",
          "Los Angeles, CA TO Seattle, WA",
          "Seattle, WA TO Los Angeles, CA"
         ],
         "categoryorder": "array",
         "domain": [
          0,
          1
         ],
         "title": {
          "text": "route"
         }
        },
        "yaxis": {
         "anchor": "x",
         "domain": [
          0,
          1
         ],
         "title": {
          "text": "cost"
         }
        }
       }
      },
      "text/html": [
       "<div>                            <div id=\"5e820a96-13a7-4e8a-9e64-90dbf23fd867\" class=\"plotly-graph-div\" style=\"height:525px; width:100%;\"></div>            <script type=\"text/javascript\">                require([\"plotly\"], function(Plotly) {                    window.PLOTLYENV=window.PLOTLYENV || {};                                    if (document.getElementById(\"5e820a96-13a7-4e8a-9e64-90dbf23fd867\")) {                    Plotly.newPlot(                        \"5e820a96-13a7-4e8a-9e64-90dbf23fd867\",                        [{\"alignmentgroup\":\"True\",\"hovertemplate\":\"route=%{x}<br>cost=%{y}<extra></extra>\",\"legendgroup\":\"San Francisco, CA TO Los Angeles, CA\",\"marker\":{\"color\":\"#636efa\"},\"name\":\"San Francisco, CA TO Los Angeles, CA\",\"notched\":false,\"offsetgroup\":\"San Francisco, CA TO Los Angeles, CA\",\"orientation\":\"v\",\"showlegend\":true,\"x\":[\"San Francisco, CA TO Los Angeles, CA\"],\"x0\":\" \",\"xaxis\":\"x\",\"y\":[109766684.87704647],\"y0\":\" \",\"yaxis\":\"y\",\"type\":\"box\"},{\"alignmentgroup\":\"True\",\"hovertemplate\":\"route=%{x}<br>cost=%{y}<extra></extra>\",\"legendgroup\":\"Los Angeles, CA TO San Francisco, CA\",\"marker\":{\"color\":\"#EF553B\"},\"name\":\"Los Angeles, CA TO San Francisco, CA\",\"notched\":false,\"offsetgroup\":\"Los Angeles, CA TO San Francisco, CA\",\"orientation\":\"v\",\"showlegend\":true,\"x\":[\"Los Angeles, CA TO San Francisco, CA\"],\"x0\":\" \",\"xaxis\":\"x\",\"y\":[109659917.19669245],\"y0\":\" \",\"yaxis\":\"y\",\"type\":\"box\"},{\"alignmentgroup\":\"True\",\"hovertemplate\":\"route=%{x}<br>cost=%{y}<extra></extra>\",\"legendgroup\":\"Chicago, IL TO New York, NY\",\"marker\":{\"color\":\"#00cc96\"},\"name\":\"Chicago, IL TO New York, NY\",\"notched\":false,\"offsetgroup\":\"Chicago, IL TO New York, NY\",\"orientation\":\"v\",\"showlegend\":true,\"x\":[\"Chicago, IL TO New York, NY\"],\"x0\":\" \",\"xaxis\":\"x\",\"y\":[94512089.79877567],\"y0\":\" \",\"yaxis\":\"y\",\"type\":\"box\"},{\"alignmentgroup\":\"True\",\"hovertemplate\":\"route=%{x}<br>cost=%{y}<extra></extra>\",\"legendgroup\":\"New York, NY TO Chicago, IL\",\"marker\":{\"color\":\"#ab63fa\"},\"name\":\"New York, NY TO Chicago, IL\",\"notched\":false,\"offsetgroup\":\"New York, NY TO Chicago, IL\",\"orientation\":\"v\",\"showlegend\":true,\"x\":[\"New York, NY TO Chicago, IL\"],\"x0\":\" \",\"xaxis\":\"x\",\"y\":[94258894.66667953],\"y0\":\" \",\"yaxis\":\"y\",\"type\":\"box\"},{\"alignmentgroup\":\"True\",\"hovertemplate\":\"route=%{x}<br>cost=%{y}<extra></extra>\",\"legendgroup\":\"Los Angeles, CA TO Las Vegas, NV\",\"marker\":{\"color\":\"#FFA15A\"},\"name\":\"Los Angeles, CA TO Las Vegas, NV\",\"notched\":false,\"offsetgroup\":\"Los Angeles, CA TO Las Vegas, NV\",\"orientation\":\"v\",\"showlegend\":true,\"x\":[\"Los Angeles, CA TO Las Vegas, NV\"],\"x0\":\" \",\"xaxis\":\"x\",\"y\":[85313829.49730112],\"y0\":\" \",\"yaxis\":\"y\",\"type\":\"box\"},{\"alignmentgroup\":\"True\",\"hovertemplate\":\"route=%{x}<br>cost=%{y}<extra></extra>\",\"legendgroup\":\"Las Vegas, NV TO Los Angeles, CA\",\"marker\":{\"color\":\"#19d3f3\"},\"name\":\"Las Vegas, NV TO Los Angeles, CA\",\"notched\":false,\"offsetgroup\":\"Las Vegas, NV TO Los Angeles, CA\",\"orientation\":\"v\",\"showlegend\":true,\"x\":[\"Las Vegas, NV TO Los Angeles, CA\"],\"x0\":\" \",\"xaxis\":\"x\",\"y\":[85207894.62781702],\"y0\":\" \",\"yaxis\":\"y\",\"type\":\"box\"},{\"alignmentgroup\":\"True\",\"hovertemplate\":\"route=%{x}<br>cost=%{y}<extra></extra>\",\"legendgroup\":\"Los Angeles, CA TO New York, NY\",\"marker\":{\"color\":\"#FF6692\"},\"name\":\"Los Angeles, CA TO New York, NY\",\"notched\":false,\"offsetgroup\":\"Los Angeles, CA TO New York, NY\",\"orientation\":\"v\",\"showlegend\":true,\"x\":[\"Los Angeles, CA TO New York, NY\"],\"x0\":\" \",\"xaxis\":\"x\",\"y\":[82648067.04428214],\"y0\":\" \",\"yaxis\":\"y\",\"type\":\"box\"},{\"alignmentgroup\":\"True\",\"hovertemplate\":\"route=%{x}<br>cost=%{y}<extra></extra>\",\"legendgroup\":\"New York, NY TO Los Angeles, CA\",\"marker\":{\"color\":\"#B6E880\"},\"name\":\"New York, NY TO Los Angeles, CA\",\"notched\":false,\"offsetgroup\":\"New York, NY TO Los Angeles, CA\",\"orientation\":\"v\",\"showlegend\":true,\"x\":[\"New York, NY TO Los Angeles, CA\"],\"x0\":\" \",\"xaxis\":\"x\",\"y\":[82543090.04170378],\"y0\":\" \",\"yaxis\":\"y\",\"type\":\"box\"},{\"alignmentgroup\":\"True\",\"hovertemplate\":\"route=%{x}<br>cost=%{y}<extra></extra>\",\"legendgroup\":\"Los Angeles, CA TO Seattle, WA\",\"marker\":{\"color\":\"#FF97FF\"},\"name\":\"Los Angeles, CA TO Seattle, WA\",\"notched\":false,\"offsetgroup\":\"Los Angeles, CA TO Seattle, WA\",\"orientation\":\"v\",\"showlegend\":true,\"x\":[\"Los Angeles, CA TO Seattle, WA\"],\"x0\":\" \",\"xaxis\":\"x\",\"y\":[65465888.99056081],\"y0\":\" \",\"yaxis\":\"y\",\"type\":\"box\"},{\"alignmentgroup\":\"True\",\"hovertemplate\":\"route=%{x}<br>cost=%{y}<extra></extra>\",\"legendgroup\":\"Seattle, WA TO Los Angeles, CA\",\"marker\":{\"color\":\"#FECB52\"},\"name\":\"Seattle, WA TO Los Angeles, CA\",\"notched\":false,\"offsetgroup\":\"Seattle, WA TO Los Angeles, CA\",\"orientation\":\"v\",\"showlegend\":true,\"x\":[\"Seattle, WA TO Los Angeles, CA\"],\"x0\":\" \",\"xaxis\":\"x\",\"y\":[65397970.58016665],\"y0\":\" \",\"yaxis\":\"y\",\"type\":\"box\"}],                        {\"template\":{\"data\":{\"bar\":[{\"error_x\":{\"color\":\"#2a3f5f\"},\"error_y\":{\"color\":\"#2a3f5f\"},\"marker\":{\"line\":{\"color\":\"#E5ECF6\",\"width\":0.5},\"pattern\":{\"fillmode\":\"overlay\",\"size\":10,\"solidity\":0.2}},\"type\":\"bar\"}],\"barpolar\":[{\"marker\":{\"line\":{\"color\":\"#E5ECF6\",\"width\":0.5},\"pattern\":{\"fillmode\":\"overlay\",\"size\":10,\"solidity\":0.2}},\"type\":\"barpolar\"}],\"carpet\":[{\"aaxis\":{\"endlinecolor\":\"#2a3f5f\",\"gridcolor\":\"white\",\"linecolor\":\"white\",\"minorgridcolor\":\"white\",\"startlinecolor\":\"#2a3f5f\"},\"baxis\":{\"endlinecolor\":\"#2a3f5f\",\"gridcolor\":\"white\",\"linecolor\":\"white\",\"minorgridcolor\":\"white\",\"startlinecolor\":\"#2a3f5f\"},\"type\":\"carpet\"}],\"choropleth\":[{\"colorbar\":{\"outlinewidth\":0,\"ticks\":\"\"},\"type\":\"choropleth\"}],\"contour\":[{\"colorbar\":{\"outlinewidth\":0,\"ticks\":\"\"},\"colorscale\":[[0.0,\"#0d0887\"],[0.1111111111111111,\"#46039f\"],[0.2222222222222222,\"#7201a8\"],[0.3333333333333333,\"#9c179e\"],[0.4444444444444444,\"#bd3786\"],[0.5555555555555556,\"#d8576b\"],[0.6666666666666666,\"#ed7953\"],[0.7777777777777778,\"#fb9f3a\"],[0.8888888888888888,\"#fdca26\"],[1.0,\"#f0f921\"]],\"type\":\"contour\"}],\"contourcarpet\":[{\"colorbar\":{\"outlinewidth\":0,\"ticks\":\"\"},\"type\":\"contourcarpet\"}],\"heatmap\":[{\"colorbar\":{\"outlinewidth\":0,\"ticks\":\"\"},\"colorscale\":[[0.0,\"#0d0887\"],[0.1111111111111111,\"#46039f\"],[0.2222222222222222,\"#7201a8\"],[0.3333333333333333,\"#9c179e\"],[0.4444444444444444,\"#bd3786\"],[0.5555555555555556,\"#d8576b\"],[0.6666666666666666,\"#ed7953\"],[0.7777777777777778,\"#fb9f3a\"],[0.8888888888888888,\"#fdca26\"],[1.0,\"#f0f921\"]],\"type\":\"heatmap\"}],\"heatmapgl\":[{\"colorbar\":{\"outlinewidth\":0,\"ticks\":\"\"},\"colorscale\":[[0.0,\"#0d0887\"],[0.1111111111111111,\"#46039f\"],[0.2222222222222222,\"#7201a8\"],[0.3333333333333333,\"#9c179e\"],[0.4444444444444444,\"#bd3786\"],[0.5555555555555556,\"#d8576b\"],[0.6666666666666666,\"#ed7953\"],[0.7777777777777778,\"#fb9f3a\"],[0.8888888888888888,\"#fdca26\"],[1.0,\"#f0f921\"]],\"type\":\"heatmapgl\"}],\"histogram\":[{\"marker\":{\"pattern\":{\"fillmode\":\"overlay\",\"size\":10,\"solidity\":0.2}},\"type\":\"histogram\"}],\"histogram2d\":[{\"colorbar\":{\"outlinewidth\":0,\"ticks\":\"\"},\"colorscale\":[[0.0,\"#0d0887\"],[0.1111111111111111,\"#46039f\"],[0.2222222222222222,\"#7201a8\"],[0.3333333333333333,\"#9c179e\"],[0.4444444444444444,\"#bd3786\"],[0.5555555555555556,\"#d8576b\"],[0.6666666666666666,\"#ed7953\"],[0.7777777777777778,\"#fb9f3a\"],[0.8888888888888888,\"#fdca26\"],[1.0,\"#f0f921\"]],\"type\":\"histogram2d\"}],\"histogram2dcontour\":[{\"colorbar\":{\"outlinewidth\":0,\"ticks\":\"\"},\"colorscale\":[[0.0,\"#0d0887\"],[0.1111111111111111,\"#46039f\"],[0.2222222222222222,\"#7201a8\"],[0.3333333333333333,\"#9c179e\"],[0.4444444444444444,\"#bd3786\"],[0.5555555555555556,\"#d8576b\"],[0.6666666666666666,\"#ed7953\"],[0.7777777777777778,\"#fb9f3a\"],[0.8888888888888888,\"#fdca26\"],[1.0,\"#f0f921\"]],\"type\":\"histogram2dcontour\"}],\"mesh3d\":[{\"colorbar\":{\"outlinewidth\":0,\"ticks\":\"\"},\"type\":\"mesh3d\"}],\"parcoords\":[{\"line\":{\"colorbar\":{\"outlinewidth\":0,\"ticks\":\"\"}},\"type\":\"parcoords\"}],\"pie\":[{\"automargin\":true,\"type\":\"pie\"}],\"scatter\":[{\"marker\":{\"colorbar\":{\"outlinewidth\":0,\"ticks\":\"\"}},\"type\":\"scatter\"}],\"scatter3d\":[{\"line\":{\"colorbar\":{\"outlinewidth\":0,\"ticks\":\"\"}},\"marker\":{\"colorbar\":{\"outlinewidth\":0,\"ticks\":\"\"}},\"type\":\"scatter3d\"}],\"scattercarpet\":[{\"marker\":{\"colorbar\":{\"outlinewidth\":0,\"ticks\":\"\"}},\"type\":\"scattercarpet\"}],\"scattergeo\":[{\"marker\":{\"colorbar\":{\"outlinewidth\":0,\"ticks\":\"\"}},\"type\":\"scattergeo\"}],\"scattergl\":[{\"marker\":{\"colorbar\":{\"outlinewidth\":0,\"ticks\":\"\"}},\"type\":\"scattergl\"}],\"scattermapbox\":[{\"marker\":{\"colorbar\":{\"outlinewidth\":0,\"ticks\":\"\"}},\"type\":\"scattermapbox\"}],\"scatterpolar\":[{\"marker\":{\"colorbar\":{\"outlinewidth\":0,\"ticks\":\"\"}},\"type\":\"scatterpolar\"}],\"scatterpolargl\":[{\"marker\":{\"colorbar\":{\"outlinewidth\":0,\"ticks\":\"\"}},\"type\":\"scatterpolargl\"}],\"scatterternary\":[{\"marker\":{\"colorbar\":{\"outlinewidth\":0,\"ticks\":\"\"}},\"type\":\"scatterternary\"}],\"surface\":[{\"colorbar\":{\"outlinewidth\":0,\"ticks\":\"\"},\"colorscale\":[[0.0,\"#0d0887\"],[0.1111111111111111,\"#46039f\"],[0.2222222222222222,\"#7201a8\"],[0.3333333333333333,\"#9c179e\"],[0.4444444444444444,\"#bd3786\"],[0.5555555555555556,\"#d8576b\"],[0.6666666666666666,\"#ed7953\"],[0.7777777777777778,\"#fb9f3a\"],[0.8888888888888888,\"#fdca26\"],[1.0,\"#f0f921\"]],\"type\":\"surface\"}],\"table\":[{\"cells\":{\"fill\":{\"color\":\"#EBF0F8\"},\"line\":{\"color\":\"white\"}},\"header\":{\"fill\":{\"color\":\"#C8D4E3\"},\"line\":{\"color\":\"white\"}},\"type\":\"table\"}]},\"layout\":{\"annotationdefaults\":{\"arrowcolor\":\"#2a3f5f\",\"arrowhead\":0,\"arrowwidth\":1},\"autotypenumbers\":\"strict\",\"coloraxis\":{\"colorbar\":{\"outlinewidth\":0,\"ticks\":\"\"}},\"colorscale\":{\"diverging\":[[0,\"#8e0152\"],[0.1,\"#c51b7d\"],[0.2,\"#de77ae\"],[0.3,\"#f1b6da\"],[0.4,\"#fde0ef\"],[0.5,\"#f7f7f7\"],[0.6,\"#e6f5d0\"],[0.7,\"#b8e186\"],[0.8,\"#7fbc41\"],[0.9,\"#4d9221\"],[1,\"#276419\"]],\"sequential\":[[0.0,\"#0d0887\"],[0.1111111111111111,\"#46039f\"],[0.2222222222222222,\"#7201a8\"],[0.3333333333333333,\"#9c179e\"],[0.4444444444444444,\"#bd3786\"],[0.5555555555555556,\"#d8576b\"],[0.6666666666666666,\"#ed7953\"],[0.7777777777777778,\"#fb9f3a\"],[0.8888888888888888,\"#fdca26\"],[1.0,\"#f0f921\"]],\"sequentialminus\":[[0.0,\"#0d0887\"],[0.1111111111111111,\"#46039f\"],[0.2222222222222222,\"#7201a8\"],[0.3333333333333333,\"#9c179e\"],[0.4444444444444444,\"#bd3786\"],[0.5555555555555556,\"#d8576b\"],[0.6666666666666666,\"#ed7953\"],[0.7777777777777778,\"#fb9f3a\"],[0.8888888888888888,\"#fdca26\"],[1.0,\"#f0f921\"]]},\"colorway\":[\"#636efa\",\"#EF553B\",\"#00cc96\",\"#ab63fa\",\"#FFA15A\",\"#19d3f3\",\"#FF6692\",\"#B6E880\",\"#FF97FF\",\"#FECB52\"],\"font\":{\"color\":\"#2a3f5f\"},\"geo\":{\"bgcolor\":\"white\",\"lakecolor\":\"white\",\"landcolor\":\"#E5ECF6\",\"showlakes\":true,\"showland\":true,\"subunitcolor\":\"white\"},\"hoverlabel\":{\"align\":\"left\"},\"hovermode\":\"closest\",\"mapbox\":{\"style\":\"light\"},\"paper_bgcolor\":\"white\",\"plot_bgcolor\":\"#E5ECF6\",\"polar\":{\"angularaxis\":{\"gridcolor\":\"white\",\"linecolor\":\"white\",\"ticks\":\"\"},\"bgcolor\":\"#E5ECF6\",\"radialaxis\":{\"gridcolor\":\"white\",\"linecolor\":\"white\",\"ticks\":\"\"}},\"scene\":{\"xaxis\":{\"backgroundcolor\":\"#E5ECF6\",\"gridcolor\":\"white\",\"gridwidth\":2,\"linecolor\":\"white\",\"showbackground\":true,\"ticks\":\"\",\"zerolinecolor\":\"white\"},\"yaxis\":{\"backgroundcolor\":\"#E5ECF6\",\"gridcolor\":\"white\",\"gridwidth\":2,\"linecolor\":\"white\",\"showbackground\":true,\"ticks\":\"\",\"zerolinecolor\":\"white\"},\"zaxis\":{\"backgroundcolor\":\"#E5ECF6\",\"gridcolor\":\"white\",\"gridwidth\":2,\"linecolor\":\"white\",\"showbackground\":true,\"ticks\":\"\",\"zerolinecolor\":\"white\"}},\"shapedefaults\":{\"line\":{\"color\":\"#2a3f5f\"}},\"ternary\":{\"aaxis\":{\"gridcolor\":\"white\",\"linecolor\":\"white\",\"ticks\":\"\"},\"baxis\":{\"gridcolor\":\"white\",\"linecolor\":\"white\",\"ticks\":\"\"},\"bgcolor\":\"#E5ECF6\",\"caxis\":{\"gridcolor\":\"white\",\"linecolor\":\"white\",\"ticks\":\"\"}},\"title\":{\"x\":0.05},\"xaxis\":{\"automargin\":true,\"gridcolor\":\"white\",\"linecolor\":\"white\",\"ticks\":\"\",\"title\":{\"standoff\":15},\"zerolinecolor\":\"white\",\"zerolinewidth\":2},\"yaxis\":{\"automargin\":true,\"gridcolor\":\"white\",\"linecolor\":\"white\",\"ticks\":\"\",\"title\":{\"standoff\":15},\"zerolinecolor\":\"white\",\"zerolinewidth\":2}}},\"xaxis\":{\"anchor\":\"y\",\"domain\":[0.0,1.0],\"title\":{\"text\":\"route\"},\"categoryorder\":\"array\",\"categoryarray\":[\"San Francisco, CA TO Los Angeles, CA\",\"Los Angeles, CA TO San Francisco, CA\",\"Chicago, IL TO New York, NY\",\"New York, NY TO Chicago, IL\",\"Los Angeles, CA TO Las Vegas, NV\",\"Las Vegas, NV TO Los Angeles, CA\",\"Los Angeles, CA TO New York, NY\",\"New York, NY TO Los Angeles, CA\",\"Los Angeles, CA TO Seattle, WA\",\"Seattle, WA TO Los Angeles, CA\"]},\"yaxis\":{\"anchor\":\"x\",\"domain\":[0.0,1.0],\"title\":{\"text\":\"cost\"}},\"legend\":{\"title\":{\"text\":\"route\"},\"tracegroupgap\":0},\"margin\":{\"t\":60},\"boxmode\":\"overlay\"},                        {\"responsive\": true}                    ).then(function(){\n",
       "                            \n",
       "var gd = document.getElementById('5e820a96-13a7-4e8a-9e64-90dbf23fd867');\n",
       "var x = new MutationObserver(function (mutations, observer) {{\n",
       "        var display = window.getComputedStyle(gd).display;\n",
       "        if (!display || display === 'none') {{\n",
       "            console.log([gd, 'removed!']);\n",
       "            Plotly.purge(gd);\n",
       "            observer.disconnect();\n",
       "        }}\n",
       "}});\n",
       "\n",
       "// Listen for the removal of the full notebook cells\n",
       "var notebookContainer = gd.closest('#notebook-container');\n",
       "if (notebookContainer) {{\n",
       "    x.observe(notebookContainer, {childList: true});\n",
       "}}\n",
       "\n",
       "// Listen for the clearing of the current output cell\n",
       "var outputEl = gd.closest('.output');\n",
       "if (outputEl) {{\n",
       "    x.observe(outputEl, {childList: true});\n",
       "}}\n",
       "\n",
       "                        })                };                });            </script>        </div>"
      ]
     },
     "metadata": {},
     "output_type": "display_data"
    }
   ],
   "source": [
    "#total cost\n",
    "df_cost_rout=data.sort_values(by='cost',ascending=False)[:10]\n",
    "df = px.data.tips()\n",
    "fig = px.box(df_cost_rout, x=\"route\", y=\"cost\", color='route')\n",
    "fig.show()"
   ]
  },
  {
   "cell_type": "code",
   "execution_count": 54,
   "id": "ff446633",
   "metadata": {},
   "outputs": [
    {
     "data": {
      "application/vnd.plotly.v1+json": {
       "config": {
        "plotlyServerURL": "https://plot.ly"
       },
       "data": [
        {
         "alignmentgroup": "True",
         "hovertemplate": "route=%{x}<br>income=%{y}<extra></extra>",
         "legendgroup": "San Francisco, CA TO Los Angeles, CA",
         "marker": {
          "color": "#636efa"
         },
         "name": "San Francisco, CA TO Los Angeles, CA",
         "notched": false,
         "offsetgroup": "San Francisco, CA TO Los Angeles, CA",
         "orientation": "v",
         "showlegend": true,
         "type": "box",
         "x": [
          "San Francisco, CA TO Los Angeles, CA"
         ],
         "x0": " ",
         "xaxis": "x",
         "y": [
          168936251.89601117
         ],
         "y0": " ",
         "yaxis": "y"
        },
        {
         "alignmentgroup": "True",
         "hovertemplate": "route=%{x}<br>income=%{y}<extra></extra>",
         "legendgroup": "Los Angeles, CA TO San Francisco, CA",
         "marker": {
          "color": "#EF553B"
         },
         "name": "Los Angeles, CA TO San Francisco, CA",
         "notched": false,
         "offsetgroup": "Los Angeles, CA TO San Francisco, CA",
         "orientation": "v",
         "showlegend": true,
         "type": "box",
         "x": [
          "Los Angeles, CA TO San Francisco, CA"
         ],
         "x0": " ",
         "xaxis": "x",
         "y": [
          132718935.022625
         ],
         "y0": " ",
         "yaxis": "y"
        },
        {
         "alignmentgroup": "True",
         "hovertemplate": "route=%{x}<br>income=%{y}<extra></extra>",
         "legendgroup": "Chicago, IL TO New York, NY",
         "marker": {
          "color": "#00cc96"
         },
         "name": "Chicago, IL TO New York, NY",
         "notched": false,
         "offsetgroup": "Chicago, IL TO New York, NY",
         "orientation": "v",
         "showlegend": true,
         "type": "box",
         "x": [
          "Chicago, IL TO New York, NY"
         ],
         "x0": " ",
         "xaxis": "x",
         "y": [
          265517517.18778038
         ],
         "y0": " ",
         "yaxis": "y"
        },
        {
         "alignmentgroup": "True",
         "hovertemplate": "route=%{x}<br>income=%{y}<extra></extra>",
         "legendgroup": "New York, NY TO Chicago, IL",
         "marker": {
          "color": "#ab63fa"
         },
         "name": "New York, NY TO Chicago, IL",
         "notched": false,
         "offsetgroup": "New York, NY TO Chicago, IL",
         "orientation": "v",
         "showlegend": true,
         "type": "box",
         "x": [
          "New York, NY TO Chicago, IL"
         ],
         "x0": " ",
         "xaxis": "x",
         "y": [
          222028379.73505527
         ],
         "y0": " ",
         "yaxis": "y"
        },
        {
         "alignmentgroup": "True",
         "hovertemplate": "route=%{x}<br>income=%{y}<extra></extra>",
         "legendgroup": "Los Angeles, CA TO Las Vegas, NV",
         "marker": {
          "color": "#FFA15A"
         },
         "name": "Los Angeles, CA TO Las Vegas, NV",
         "notched": false,
         "offsetgroup": "Los Angeles, CA TO Las Vegas, NV",
         "orientation": "v",
         "showlegend": true,
         "type": "box",
         "x": [
          "Los Angeles, CA TO Las Vegas, NV"
         ],
         "x0": " ",
         "xaxis": "x",
         "y": [
          128102800.38217005
         ],
         "y0": " ",
         "yaxis": "y"
        },
        {
         "alignmentgroup": "True",
         "hovertemplate": "route=%{x}<br>income=%{y}<extra></extra>",
         "legendgroup": "Las Vegas, NV TO Los Angeles, CA",
         "marker": {
          "color": "#19d3f3"
         },
         "name": "Las Vegas, NV TO Los Angeles, CA",
         "notched": false,
         "offsetgroup": "Las Vegas, NV TO Los Angeles, CA",
         "orientation": "v",
         "showlegend": true,
         "type": "box",
         "x": [
          "Las Vegas, NV TO Los Angeles, CA"
         ],
         "x0": " ",
         "xaxis": "x",
         "y": [
          25563010.29468122
         ],
         "y0": " ",
         "yaxis": "y"
        },
        {
         "alignmentgroup": "True",
         "hovertemplate": "route=%{x}<br>income=%{y}<extra></extra>",
         "legendgroup": "Los Angeles, CA TO New York, NY",
         "marker": {
          "color": "#FF6692"
         },
         "name": "Los Angeles, CA TO New York, NY",
         "notched": false,
         "offsetgroup": "Los Angeles, CA TO New York, NY",
         "orientation": "v",
         "showlegend": true,
         "type": "box",
         "x": [
          "Los Angeles, CA TO New York, NY"
         ],
         "x0": " ",
         "xaxis": "x",
         "y": [
          336517911.79966426
         ],
         "y0": " ",
         "yaxis": "y"
        },
        {
         "alignmentgroup": "True",
         "hovertemplate": "route=%{x}<br>income=%{y}<extra></extra>",
         "legendgroup": "New York, NY TO Los Angeles, CA",
         "marker": {
          "color": "#B6E880"
         },
         "name": "New York, NY TO Los Angeles, CA",
         "notched": false,
         "offsetgroup": "New York, NY TO Los Angeles, CA",
         "orientation": "v",
         "showlegend": true,
         "type": "box",
         "x": [
          "New York, NY TO Los Angeles, CA"
         ],
         "x0": " ",
         "xaxis": "x",
         "y": [
          496287001.4706542
         ],
         "y0": " ",
         "yaxis": "y"
        },
        {
         "alignmentgroup": "True",
         "hovertemplate": "route=%{x}<br>income=%{y}<extra></extra>",
         "legendgroup": "Los Angeles, CA TO Seattle, WA",
         "marker": {
          "color": "#FF97FF"
         },
         "name": "Los Angeles, CA TO Seattle, WA",
         "notched": false,
         "offsetgroup": "Los Angeles, CA TO Seattle, WA",
         "orientation": "v",
         "showlegend": true,
         "type": "box",
         "x": [
          "Los Angeles, CA TO Seattle, WA"
         ],
         "x0": " ",
         "xaxis": "x",
         "y": [
          112626093.91500035
         ],
         "y0": " ",
         "yaxis": "y"
        },
        {
         "alignmentgroup": "True",
         "hovertemplate": "route=%{x}<br>income=%{y}<extra></extra>",
         "legendgroup": "Seattle, WA TO Los Angeles, CA",
         "marker": {
          "color": "#FECB52"
         },
         "name": "Seattle, WA TO Los Angeles, CA",
         "notched": false,
         "offsetgroup": "Seattle, WA TO Los Angeles, CA",
         "orientation": "v",
         "showlegend": true,
         "type": "box",
         "x": [
          "Seattle, WA TO Los Angeles, CA"
         ],
         "x0": " ",
         "xaxis": "x",
         "y": [
          150492449.98766676
         ],
         "y0": " ",
         "yaxis": "y"
        }
       ],
       "layout": {
        "boxmode": "overlay",
        "legend": {
         "title": {
          "text": "route"
         },
         "tracegroupgap": 0
        },
        "margin": {
         "t": 60
        },
        "template": {
         "data": {
          "bar": [
           {
            "error_x": {
             "color": "#2a3f5f"
            },
            "error_y": {
             "color": "#2a3f5f"
            },
            "marker": {
             "line": {
              "color": "#E5ECF6",
              "width": 0.5
             },
             "pattern": {
              "fillmode": "overlay",
              "size": 10,
              "solidity": 0.2
             }
            },
            "type": "bar"
           }
          ],
          "barpolar": [
           {
            "marker": {
             "line": {
              "color": "#E5ECF6",
              "width": 0.5
             },
             "pattern": {
              "fillmode": "overlay",
              "size": 10,
              "solidity": 0.2
             }
            },
            "type": "barpolar"
           }
          ],
          "carpet": [
           {
            "aaxis": {
             "endlinecolor": "#2a3f5f",
             "gridcolor": "white",
             "linecolor": "white",
             "minorgridcolor": "white",
             "startlinecolor": "#2a3f5f"
            },
            "baxis": {
             "endlinecolor": "#2a3f5f",
             "gridcolor": "white",
             "linecolor": "white",
             "minorgridcolor": "white",
             "startlinecolor": "#2a3f5f"
            },
            "type": "carpet"
           }
          ],
          "choropleth": [
           {
            "colorbar": {
             "outlinewidth": 0,
             "ticks": ""
            },
            "type": "choropleth"
           }
          ],
          "contour": [
           {
            "colorbar": {
             "outlinewidth": 0,
             "ticks": ""
            },
            "colorscale": [
             [
              0,
              "#0d0887"
             ],
             [
              0.1111111111111111,
              "#46039f"
             ],
             [
              0.2222222222222222,
              "#7201a8"
             ],
             [
              0.3333333333333333,
              "#9c179e"
             ],
             [
              0.4444444444444444,
              "#bd3786"
             ],
             [
              0.5555555555555556,
              "#d8576b"
             ],
             [
              0.6666666666666666,
              "#ed7953"
             ],
             [
              0.7777777777777778,
              "#fb9f3a"
             ],
             [
              0.8888888888888888,
              "#fdca26"
             ],
             [
              1,
              "#f0f921"
             ]
            ],
            "type": "contour"
           }
          ],
          "contourcarpet": [
           {
            "colorbar": {
             "outlinewidth": 0,
             "ticks": ""
            },
            "type": "contourcarpet"
           }
          ],
          "heatmap": [
           {
            "colorbar": {
             "outlinewidth": 0,
             "ticks": ""
            },
            "colorscale": [
             [
              0,
              "#0d0887"
             ],
             [
              0.1111111111111111,
              "#46039f"
             ],
             [
              0.2222222222222222,
              "#7201a8"
             ],
             [
              0.3333333333333333,
              "#9c179e"
             ],
             [
              0.4444444444444444,
              "#bd3786"
             ],
             [
              0.5555555555555556,
              "#d8576b"
             ],
             [
              0.6666666666666666,
              "#ed7953"
             ],
             [
              0.7777777777777778,
              "#fb9f3a"
             ],
             [
              0.8888888888888888,
              "#fdca26"
             ],
             [
              1,
              "#f0f921"
             ]
            ],
            "type": "heatmap"
           }
          ],
          "heatmapgl": [
           {
            "colorbar": {
             "outlinewidth": 0,
             "ticks": ""
            },
            "colorscale": [
             [
              0,
              "#0d0887"
             ],
             [
              0.1111111111111111,
              "#46039f"
             ],
             [
              0.2222222222222222,
              "#7201a8"
             ],
             [
              0.3333333333333333,
              "#9c179e"
             ],
             [
              0.4444444444444444,
              "#bd3786"
             ],
             [
              0.5555555555555556,
              "#d8576b"
             ],
             [
              0.6666666666666666,
              "#ed7953"
             ],
             [
              0.7777777777777778,
              "#fb9f3a"
             ],
             [
              0.8888888888888888,
              "#fdca26"
             ],
             [
              1,
              "#f0f921"
             ]
            ],
            "type": "heatmapgl"
           }
          ],
          "histogram": [
           {
            "marker": {
             "pattern": {
              "fillmode": "overlay",
              "size": 10,
              "solidity": 0.2
             }
            },
            "type": "histogram"
           }
          ],
          "histogram2d": [
           {
            "colorbar": {
             "outlinewidth": 0,
             "ticks": ""
            },
            "colorscale": [
             [
              0,
              "#0d0887"
             ],
             [
              0.1111111111111111,
              "#46039f"
             ],
             [
              0.2222222222222222,
              "#7201a8"
             ],
             [
              0.3333333333333333,
              "#9c179e"
             ],
             [
              0.4444444444444444,
              "#bd3786"
             ],
             [
              0.5555555555555556,
              "#d8576b"
             ],
             [
              0.6666666666666666,
              "#ed7953"
             ],
             [
              0.7777777777777778,
              "#fb9f3a"
             ],
             [
              0.8888888888888888,
              "#fdca26"
             ],
             [
              1,
              "#f0f921"
             ]
            ],
            "type": "histogram2d"
           }
          ],
          "histogram2dcontour": [
           {
            "colorbar": {
             "outlinewidth": 0,
             "ticks": ""
            },
            "colorscale": [
             [
              0,
              "#0d0887"
             ],
             [
              0.1111111111111111,
              "#46039f"
             ],
             [
              0.2222222222222222,
              "#7201a8"
             ],
             [
              0.3333333333333333,
              "#9c179e"
             ],
             [
              0.4444444444444444,
              "#bd3786"
             ],
             [
              0.5555555555555556,
              "#d8576b"
             ],
             [
              0.6666666666666666,
              "#ed7953"
             ],
             [
              0.7777777777777778,
              "#fb9f3a"
             ],
             [
              0.8888888888888888,
              "#fdca26"
             ],
             [
              1,
              "#f0f921"
             ]
            ],
            "type": "histogram2dcontour"
           }
          ],
          "mesh3d": [
           {
            "colorbar": {
             "outlinewidth": 0,
             "ticks": ""
            },
            "type": "mesh3d"
           }
          ],
          "parcoords": [
           {
            "line": {
             "colorbar": {
              "outlinewidth": 0,
              "ticks": ""
             }
            },
            "type": "parcoords"
           }
          ],
          "pie": [
           {
            "automargin": true,
            "type": "pie"
           }
          ],
          "scatter": [
           {
            "marker": {
             "colorbar": {
              "outlinewidth": 0,
              "ticks": ""
             }
            },
            "type": "scatter"
           }
          ],
          "scatter3d": [
           {
            "line": {
             "colorbar": {
              "outlinewidth": 0,
              "ticks": ""
             }
            },
            "marker": {
             "colorbar": {
              "outlinewidth": 0,
              "ticks": ""
             }
            },
            "type": "scatter3d"
           }
          ],
          "scattercarpet": [
           {
            "marker": {
             "colorbar": {
              "outlinewidth": 0,
              "ticks": ""
             }
            },
            "type": "scattercarpet"
           }
          ],
          "scattergeo": [
           {
            "marker": {
             "colorbar": {
              "outlinewidth": 0,
              "ticks": ""
             }
            },
            "type": "scattergeo"
           }
          ],
          "scattergl": [
           {
            "marker": {
             "colorbar": {
              "outlinewidth": 0,
              "ticks": ""
             }
            },
            "type": "scattergl"
           }
          ],
          "scattermapbox": [
           {
            "marker": {
             "colorbar": {
              "outlinewidth": 0,
              "ticks": ""
             }
            },
            "type": "scattermapbox"
           }
          ],
          "scatterpolar": [
           {
            "marker": {
             "colorbar": {
              "outlinewidth": 0,
              "ticks": ""
             }
            },
            "type": "scatterpolar"
           }
          ],
          "scatterpolargl": [
           {
            "marker": {
             "colorbar": {
              "outlinewidth": 0,
              "ticks": ""
             }
            },
            "type": "scatterpolargl"
           }
          ],
          "scatterternary": [
           {
            "marker": {
             "colorbar": {
              "outlinewidth": 0,
              "ticks": ""
             }
            },
            "type": "scatterternary"
           }
          ],
          "surface": [
           {
            "colorbar": {
             "outlinewidth": 0,
             "ticks": ""
            },
            "colorscale": [
             [
              0,
              "#0d0887"
             ],
             [
              0.1111111111111111,
              "#46039f"
             ],
             [
              0.2222222222222222,
              "#7201a8"
             ],
             [
              0.3333333333333333,
              "#9c179e"
             ],
             [
              0.4444444444444444,
              "#bd3786"
             ],
             [
              0.5555555555555556,
              "#d8576b"
             ],
             [
              0.6666666666666666,
              "#ed7953"
             ],
             [
              0.7777777777777778,
              "#fb9f3a"
             ],
             [
              0.8888888888888888,
              "#fdca26"
             ],
             [
              1,
              "#f0f921"
             ]
            ],
            "type": "surface"
           }
          ],
          "table": [
           {
            "cells": {
             "fill": {
              "color": "#EBF0F8"
             },
             "line": {
              "color": "white"
             }
            },
            "header": {
             "fill": {
              "color": "#C8D4E3"
             },
             "line": {
              "color": "white"
             }
            },
            "type": "table"
           }
          ]
         },
         "layout": {
          "annotationdefaults": {
           "arrowcolor": "#2a3f5f",
           "arrowhead": 0,
           "arrowwidth": 1
          },
          "autotypenumbers": "strict",
          "coloraxis": {
           "colorbar": {
            "outlinewidth": 0,
            "ticks": ""
           }
          },
          "colorscale": {
           "diverging": [
            [
             0,
             "#8e0152"
            ],
            [
             0.1,
             "#c51b7d"
            ],
            [
             0.2,
             "#de77ae"
            ],
            [
             0.3,
             "#f1b6da"
            ],
            [
             0.4,
             "#fde0ef"
            ],
            [
             0.5,
             "#f7f7f7"
            ],
            [
             0.6,
             "#e6f5d0"
            ],
            [
             0.7,
             "#b8e186"
            ],
            [
             0.8,
             "#7fbc41"
            ],
            [
             0.9,
             "#4d9221"
            ],
            [
             1,
             "#276419"
            ]
           ],
           "sequential": [
            [
             0,
             "#0d0887"
            ],
            [
             0.1111111111111111,
             "#46039f"
            ],
            [
             0.2222222222222222,
             "#7201a8"
            ],
            [
             0.3333333333333333,
             "#9c179e"
            ],
            [
             0.4444444444444444,
             "#bd3786"
            ],
            [
             0.5555555555555556,
             "#d8576b"
            ],
            [
             0.6666666666666666,
             "#ed7953"
            ],
            [
             0.7777777777777778,
             "#fb9f3a"
            ],
            [
             0.8888888888888888,
             "#fdca26"
            ],
            [
             1,
             "#f0f921"
            ]
           ],
           "sequentialminus": [
            [
             0,
             "#0d0887"
            ],
            [
             0.1111111111111111,
             "#46039f"
            ],
            [
             0.2222222222222222,
             "#7201a8"
            ],
            [
             0.3333333333333333,
             "#9c179e"
            ],
            [
             0.4444444444444444,
             "#bd3786"
            ],
            [
             0.5555555555555556,
             "#d8576b"
            ],
            [
             0.6666666666666666,
             "#ed7953"
            ],
            [
             0.7777777777777778,
             "#fb9f3a"
            ],
            [
             0.8888888888888888,
             "#fdca26"
            ],
            [
             1,
             "#f0f921"
            ]
           ]
          },
          "colorway": [
           "#636efa",
           "#EF553B",
           "#00cc96",
           "#ab63fa",
           "#FFA15A",
           "#19d3f3",
           "#FF6692",
           "#B6E880",
           "#FF97FF",
           "#FECB52"
          ],
          "font": {
           "color": "#2a3f5f"
          },
          "geo": {
           "bgcolor": "white",
           "lakecolor": "white",
           "landcolor": "#E5ECF6",
           "showlakes": true,
           "showland": true,
           "subunitcolor": "white"
          },
          "hoverlabel": {
           "align": "left"
          },
          "hovermode": "closest",
          "mapbox": {
           "style": "light"
          },
          "paper_bgcolor": "white",
          "plot_bgcolor": "#E5ECF6",
          "polar": {
           "angularaxis": {
            "gridcolor": "white",
            "linecolor": "white",
            "ticks": ""
           },
           "bgcolor": "#E5ECF6",
           "radialaxis": {
            "gridcolor": "white",
            "linecolor": "white",
            "ticks": ""
           }
          },
          "scene": {
           "xaxis": {
            "backgroundcolor": "#E5ECF6",
            "gridcolor": "white",
            "gridwidth": 2,
            "linecolor": "white",
            "showbackground": true,
            "ticks": "",
            "zerolinecolor": "white"
           },
           "yaxis": {
            "backgroundcolor": "#E5ECF6",
            "gridcolor": "white",
            "gridwidth": 2,
            "linecolor": "white",
            "showbackground": true,
            "ticks": "",
            "zerolinecolor": "white"
           },
           "zaxis": {
            "backgroundcolor": "#E5ECF6",
            "gridcolor": "white",
            "gridwidth": 2,
            "linecolor": "white",
            "showbackground": true,
            "ticks": "",
            "zerolinecolor": "white"
           }
          },
          "shapedefaults": {
           "line": {
            "color": "#2a3f5f"
           }
          },
          "ternary": {
           "aaxis": {
            "gridcolor": "white",
            "linecolor": "white",
            "ticks": ""
           },
           "baxis": {
            "gridcolor": "white",
            "linecolor": "white",
            "ticks": ""
           },
           "bgcolor": "#E5ECF6",
           "caxis": {
            "gridcolor": "white",
            "linecolor": "white",
            "ticks": ""
           }
          },
          "title": {
           "x": 0.05
          },
          "xaxis": {
           "automargin": true,
           "gridcolor": "white",
           "linecolor": "white",
           "ticks": "",
           "title": {
            "standoff": 15
           },
           "zerolinecolor": "white",
           "zerolinewidth": 2
          },
          "yaxis": {
           "automargin": true,
           "gridcolor": "white",
           "linecolor": "white",
           "ticks": "",
           "title": {
            "standoff": 15
           },
           "zerolinecolor": "white",
           "zerolinewidth": 2
          }
         }
        },
        "xaxis": {
         "anchor": "y",
         "categoryarray": [
          "San Francisco, CA TO Los Angeles, CA",
          "Los Angeles, CA TO San Francisco, CA",
          "Chicago, IL TO New York, NY",
          "New York, NY TO Chicago, IL",
          "Los Angeles, CA TO Las Vegas, NV",
          "Las Vegas, NV TO Los Angeles, CA",
          "Los Angeles, CA TO New York, NY",
          "New York, NY TO Los Angeles, CA",
          "Los Angeles, CA TO Seattle, WA",
          "Seattle, WA TO Los Angeles, CA"
         ],
         "categoryorder": "array",
         "domain": [
          0,
          1
         ],
         "title": {
          "text": "route"
         }
        },
        "yaxis": {
         "anchor": "x",
         "domain": [
          0,
          1
         ],
         "title": {
          "text": "income"
         }
        }
       }
      },
      "text/html": [
       "<div>                            <div id=\"92bcc6d7-309c-4daa-ba3e-079bdade38e3\" class=\"plotly-graph-div\" style=\"height:525px; width:100%;\"></div>            <script type=\"text/javascript\">                require([\"plotly\"], function(Plotly) {                    window.PLOTLYENV=window.PLOTLYENV || {};                                    if (document.getElementById(\"92bcc6d7-309c-4daa-ba3e-079bdade38e3\")) {                    Plotly.newPlot(                        \"92bcc6d7-309c-4daa-ba3e-079bdade38e3\",                        [{\"alignmentgroup\":\"True\",\"hovertemplate\":\"route=%{x}<br>income=%{y}<extra></extra>\",\"legendgroup\":\"San Francisco, CA TO Los Angeles, CA\",\"marker\":{\"color\":\"#636efa\"},\"name\":\"San Francisco, CA TO Los Angeles, CA\",\"notched\":false,\"offsetgroup\":\"San Francisco, CA TO Los Angeles, CA\",\"orientation\":\"v\",\"showlegend\":true,\"x\":[\"San Francisco, CA TO Los Angeles, CA\"],\"x0\":\" \",\"xaxis\":\"x\",\"y\":[168936251.89601117],\"y0\":\" \",\"yaxis\":\"y\",\"type\":\"box\"},{\"alignmentgroup\":\"True\",\"hovertemplate\":\"route=%{x}<br>income=%{y}<extra></extra>\",\"legendgroup\":\"Los Angeles, CA TO San Francisco, CA\",\"marker\":{\"color\":\"#EF553B\"},\"name\":\"Los Angeles, CA TO San Francisco, CA\",\"notched\":false,\"offsetgroup\":\"Los Angeles, CA TO San Francisco, CA\",\"orientation\":\"v\",\"showlegend\":true,\"x\":[\"Los Angeles, CA TO San Francisco, CA\"],\"x0\":\" \",\"xaxis\":\"x\",\"y\":[132718935.022625],\"y0\":\" \",\"yaxis\":\"y\",\"type\":\"box\"},{\"alignmentgroup\":\"True\",\"hovertemplate\":\"route=%{x}<br>income=%{y}<extra></extra>\",\"legendgroup\":\"Chicago, IL TO New York, NY\",\"marker\":{\"color\":\"#00cc96\"},\"name\":\"Chicago, IL TO New York, NY\",\"notched\":false,\"offsetgroup\":\"Chicago, IL TO New York, NY\",\"orientation\":\"v\",\"showlegend\":true,\"x\":[\"Chicago, IL TO New York, NY\"],\"x0\":\" \",\"xaxis\":\"x\",\"y\":[265517517.18778038],\"y0\":\" \",\"yaxis\":\"y\",\"type\":\"box\"},{\"alignmentgroup\":\"True\",\"hovertemplate\":\"route=%{x}<br>income=%{y}<extra></extra>\",\"legendgroup\":\"New York, NY TO Chicago, IL\",\"marker\":{\"color\":\"#ab63fa\"},\"name\":\"New York, NY TO Chicago, IL\",\"notched\":false,\"offsetgroup\":\"New York, NY TO Chicago, IL\",\"orientation\":\"v\",\"showlegend\":true,\"x\":[\"New York, NY TO Chicago, IL\"],\"x0\":\" \",\"xaxis\":\"x\",\"y\":[222028379.73505527],\"y0\":\" \",\"yaxis\":\"y\",\"type\":\"box\"},{\"alignmentgroup\":\"True\",\"hovertemplate\":\"route=%{x}<br>income=%{y}<extra></extra>\",\"legendgroup\":\"Los Angeles, CA TO Las Vegas, NV\",\"marker\":{\"color\":\"#FFA15A\"},\"name\":\"Los Angeles, CA TO Las Vegas, NV\",\"notched\":false,\"offsetgroup\":\"Los Angeles, CA TO Las Vegas, NV\",\"orientation\":\"v\",\"showlegend\":true,\"x\":[\"Los Angeles, CA TO Las Vegas, NV\"],\"x0\":\" \",\"xaxis\":\"x\",\"y\":[128102800.38217005],\"y0\":\" \",\"yaxis\":\"y\",\"type\":\"box\"},{\"alignmentgroup\":\"True\",\"hovertemplate\":\"route=%{x}<br>income=%{y}<extra></extra>\",\"legendgroup\":\"Las Vegas, NV TO Los Angeles, CA\",\"marker\":{\"color\":\"#19d3f3\"},\"name\":\"Las Vegas, NV TO Los Angeles, CA\",\"notched\":false,\"offsetgroup\":\"Las Vegas, NV TO Los Angeles, CA\",\"orientation\":\"v\",\"showlegend\":true,\"x\":[\"Las Vegas, NV TO Los Angeles, CA\"],\"x0\":\" \",\"xaxis\":\"x\",\"y\":[25563010.29468122],\"y0\":\" \",\"yaxis\":\"y\",\"type\":\"box\"},{\"alignmentgroup\":\"True\",\"hovertemplate\":\"route=%{x}<br>income=%{y}<extra></extra>\",\"legendgroup\":\"Los Angeles, CA TO New York, NY\",\"marker\":{\"color\":\"#FF6692\"},\"name\":\"Los Angeles, CA TO New York, NY\",\"notched\":false,\"offsetgroup\":\"Los Angeles, CA TO New York, NY\",\"orientation\":\"v\",\"showlegend\":true,\"x\":[\"Los Angeles, CA TO New York, NY\"],\"x0\":\" \",\"xaxis\":\"x\",\"y\":[336517911.79966426],\"y0\":\" \",\"yaxis\":\"y\",\"type\":\"box\"},{\"alignmentgroup\":\"True\",\"hovertemplate\":\"route=%{x}<br>income=%{y}<extra></extra>\",\"legendgroup\":\"New York, NY TO Los Angeles, CA\",\"marker\":{\"color\":\"#B6E880\"},\"name\":\"New York, NY TO Los Angeles, CA\",\"notched\":false,\"offsetgroup\":\"New York, NY TO Los Angeles, CA\",\"orientation\":\"v\",\"showlegend\":true,\"x\":[\"New York, NY TO Los Angeles, CA\"],\"x0\":\" \",\"xaxis\":\"x\",\"y\":[496287001.4706542],\"y0\":\" \",\"yaxis\":\"y\",\"type\":\"box\"},{\"alignmentgroup\":\"True\",\"hovertemplate\":\"route=%{x}<br>income=%{y}<extra></extra>\",\"legendgroup\":\"Los Angeles, CA TO Seattle, WA\",\"marker\":{\"color\":\"#FF97FF\"},\"name\":\"Los Angeles, CA TO Seattle, WA\",\"notched\":false,\"offsetgroup\":\"Los Angeles, CA TO Seattle, WA\",\"orientation\":\"v\",\"showlegend\":true,\"x\":[\"Los Angeles, CA TO Seattle, WA\"],\"x0\":\" \",\"xaxis\":\"x\",\"y\":[112626093.91500035],\"y0\":\" \",\"yaxis\":\"y\",\"type\":\"box\"},{\"alignmentgroup\":\"True\",\"hovertemplate\":\"route=%{x}<br>income=%{y}<extra></extra>\",\"legendgroup\":\"Seattle, WA TO Los Angeles, CA\",\"marker\":{\"color\":\"#FECB52\"},\"name\":\"Seattle, WA TO Los Angeles, CA\",\"notched\":false,\"offsetgroup\":\"Seattle, WA TO Los Angeles, CA\",\"orientation\":\"v\",\"showlegend\":true,\"x\":[\"Seattle, WA TO Los Angeles, CA\"],\"x0\":\" \",\"xaxis\":\"x\",\"y\":[150492449.98766676],\"y0\":\" \",\"yaxis\":\"y\",\"type\":\"box\"}],                        {\"template\":{\"data\":{\"bar\":[{\"error_x\":{\"color\":\"#2a3f5f\"},\"error_y\":{\"color\":\"#2a3f5f\"},\"marker\":{\"line\":{\"color\":\"#E5ECF6\",\"width\":0.5},\"pattern\":{\"fillmode\":\"overlay\",\"size\":10,\"solidity\":0.2}},\"type\":\"bar\"}],\"barpolar\":[{\"marker\":{\"line\":{\"color\":\"#E5ECF6\",\"width\":0.5},\"pattern\":{\"fillmode\":\"overlay\",\"size\":10,\"solidity\":0.2}},\"type\":\"barpolar\"}],\"carpet\":[{\"aaxis\":{\"endlinecolor\":\"#2a3f5f\",\"gridcolor\":\"white\",\"linecolor\":\"white\",\"minorgridcolor\":\"white\",\"startlinecolor\":\"#2a3f5f\"},\"baxis\":{\"endlinecolor\":\"#2a3f5f\",\"gridcolor\":\"white\",\"linecolor\":\"white\",\"minorgridcolor\":\"white\",\"startlinecolor\":\"#2a3f5f\"},\"type\":\"carpet\"}],\"choropleth\":[{\"colorbar\":{\"outlinewidth\":0,\"ticks\":\"\"},\"type\":\"choropleth\"}],\"contour\":[{\"colorbar\":{\"outlinewidth\":0,\"ticks\":\"\"},\"colorscale\":[[0.0,\"#0d0887\"],[0.1111111111111111,\"#46039f\"],[0.2222222222222222,\"#7201a8\"],[0.3333333333333333,\"#9c179e\"],[0.4444444444444444,\"#bd3786\"],[0.5555555555555556,\"#d8576b\"],[0.6666666666666666,\"#ed7953\"],[0.7777777777777778,\"#fb9f3a\"],[0.8888888888888888,\"#fdca26\"],[1.0,\"#f0f921\"]],\"type\":\"contour\"}],\"contourcarpet\":[{\"colorbar\":{\"outlinewidth\":0,\"ticks\":\"\"},\"type\":\"contourcarpet\"}],\"heatmap\":[{\"colorbar\":{\"outlinewidth\":0,\"ticks\":\"\"},\"colorscale\":[[0.0,\"#0d0887\"],[0.1111111111111111,\"#46039f\"],[0.2222222222222222,\"#7201a8\"],[0.3333333333333333,\"#9c179e\"],[0.4444444444444444,\"#bd3786\"],[0.5555555555555556,\"#d8576b\"],[0.6666666666666666,\"#ed7953\"],[0.7777777777777778,\"#fb9f3a\"],[0.8888888888888888,\"#fdca26\"],[1.0,\"#f0f921\"]],\"type\":\"heatmap\"}],\"heatmapgl\":[{\"colorbar\":{\"outlinewidth\":0,\"ticks\":\"\"},\"colorscale\":[[0.0,\"#0d0887\"],[0.1111111111111111,\"#46039f\"],[0.2222222222222222,\"#7201a8\"],[0.3333333333333333,\"#9c179e\"],[0.4444444444444444,\"#bd3786\"],[0.5555555555555556,\"#d8576b\"],[0.6666666666666666,\"#ed7953\"],[0.7777777777777778,\"#fb9f3a\"],[0.8888888888888888,\"#fdca26\"],[1.0,\"#f0f921\"]],\"type\":\"heatmapgl\"}],\"histogram\":[{\"marker\":{\"pattern\":{\"fillmode\":\"overlay\",\"size\":10,\"solidity\":0.2}},\"type\":\"histogram\"}],\"histogram2d\":[{\"colorbar\":{\"outlinewidth\":0,\"ticks\":\"\"},\"colorscale\":[[0.0,\"#0d0887\"],[0.1111111111111111,\"#46039f\"],[0.2222222222222222,\"#7201a8\"],[0.3333333333333333,\"#9c179e\"],[0.4444444444444444,\"#bd3786\"],[0.5555555555555556,\"#d8576b\"],[0.6666666666666666,\"#ed7953\"],[0.7777777777777778,\"#fb9f3a\"],[0.8888888888888888,\"#fdca26\"],[1.0,\"#f0f921\"]],\"type\":\"histogram2d\"}],\"histogram2dcontour\":[{\"colorbar\":{\"outlinewidth\":0,\"ticks\":\"\"},\"colorscale\":[[0.0,\"#0d0887\"],[0.1111111111111111,\"#46039f\"],[0.2222222222222222,\"#7201a8\"],[0.3333333333333333,\"#9c179e\"],[0.4444444444444444,\"#bd3786\"],[0.5555555555555556,\"#d8576b\"],[0.6666666666666666,\"#ed7953\"],[0.7777777777777778,\"#fb9f3a\"],[0.8888888888888888,\"#fdca26\"],[1.0,\"#f0f921\"]],\"type\":\"histogram2dcontour\"}],\"mesh3d\":[{\"colorbar\":{\"outlinewidth\":0,\"ticks\":\"\"},\"type\":\"mesh3d\"}],\"parcoords\":[{\"line\":{\"colorbar\":{\"outlinewidth\":0,\"ticks\":\"\"}},\"type\":\"parcoords\"}],\"pie\":[{\"automargin\":true,\"type\":\"pie\"}],\"scatter\":[{\"marker\":{\"colorbar\":{\"outlinewidth\":0,\"ticks\":\"\"}},\"type\":\"scatter\"}],\"scatter3d\":[{\"line\":{\"colorbar\":{\"outlinewidth\":0,\"ticks\":\"\"}},\"marker\":{\"colorbar\":{\"outlinewidth\":0,\"ticks\":\"\"}},\"type\":\"scatter3d\"}],\"scattercarpet\":[{\"marker\":{\"colorbar\":{\"outlinewidth\":0,\"ticks\":\"\"}},\"type\":\"scattercarpet\"}],\"scattergeo\":[{\"marker\":{\"colorbar\":{\"outlinewidth\":0,\"ticks\":\"\"}},\"type\":\"scattergeo\"}],\"scattergl\":[{\"marker\":{\"colorbar\":{\"outlinewidth\":0,\"ticks\":\"\"}},\"type\":\"scattergl\"}],\"scattermapbox\":[{\"marker\":{\"colorbar\":{\"outlinewidth\":0,\"ticks\":\"\"}},\"type\":\"scattermapbox\"}],\"scatterpolar\":[{\"marker\":{\"colorbar\":{\"outlinewidth\":0,\"ticks\":\"\"}},\"type\":\"scatterpolar\"}],\"scatterpolargl\":[{\"marker\":{\"colorbar\":{\"outlinewidth\":0,\"ticks\":\"\"}},\"type\":\"scatterpolargl\"}],\"scatterternary\":[{\"marker\":{\"colorbar\":{\"outlinewidth\":0,\"ticks\":\"\"}},\"type\":\"scatterternary\"}],\"surface\":[{\"colorbar\":{\"outlinewidth\":0,\"ticks\":\"\"},\"colorscale\":[[0.0,\"#0d0887\"],[0.1111111111111111,\"#46039f\"],[0.2222222222222222,\"#7201a8\"],[0.3333333333333333,\"#9c179e\"],[0.4444444444444444,\"#bd3786\"],[0.5555555555555556,\"#d8576b\"],[0.6666666666666666,\"#ed7953\"],[0.7777777777777778,\"#fb9f3a\"],[0.8888888888888888,\"#fdca26\"],[1.0,\"#f0f921\"]],\"type\":\"surface\"}],\"table\":[{\"cells\":{\"fill\":{\"color\":\"#EBF0F8\"},\"line\":{\"color\":\"white\"}},\"header\":{\"fill\":{\"color\":\"#C8D4E3\"},\"line\":{\"color\":\"white\"}},\"type\":\"table\"}]},\"layout\":{\"annotationdefaults\":{\"arrowcolor\":\"#2a3f5f\",\"arrowhead\":0,\"arrowwidth\":1},\"autotypenumbers\":\"strict\",\"coloraxis\":{\"colorbar\":{\"outlinewidth\":0,\"ticks\":\"\"}},\"colorscale\":{\"diverging\":[[0,\"#8e0152\"],[0.1,\"#c51b7d\"],[0.2,\"#de77ae\"],[0.3,\"#f1b6da\"],[0.4,\"#fde0ef\"],[0.5,\"#f7f7f7\"],[0.6,\"#e6f5d0\"],[0.7,\"#b8e186\"],[0.8,\"#7fbc41\"],[0.9,\"#4d9221\"],[1,\"#276419\"]],\"sequential\":[[0.0,\"#0d0887\"],[0.1111111111111111,\"#46039f\"],[0.2222222222222222,\"#7201a8\"],[0.3333333333333333,\"#9c179e\"],[0.4444444444444444,\"#bd3786\"],[0.5555555555555556,\"#d8576b\"],[0.6666666666666666,\"#ed7953\"],[0.7777777777777778,\"#fb9f3a\"],[0.8888888888888888,\"#fdca26\"],[1.0,\"#f0f921\"]],\"sequentialminus\":[[0.0,\"#0d0887\"],[0.1111111111111111,\"#46039f\"],[0.2222222222222222,\"#7201a8\"],[0.3333333333333333,\"#9c179e\"],[0.4444444444444444,\"#bd3786\"],[0.5555555555555556,\"#d8576b\"],[0.6666666666666666,\"#ed7953\"],[0.7777777777777778,\"#fb9f3a\"],[0.8888888888888888,\"#fdca26\"],[1.0,\"#f0f921\"]]},\"colorway\":[\"#636efa\",\"#EF553B\",\"#00cc96\",\"#ab63fa\",\"#FFA15A\",\"#19d3f3\",\"#FF6692\",\"#B6E880\",\"#FF97FF\",\"#FECB52\"],\"font\":{\"color\":\"#2a3f5f\"},\"geo\":{\"bgcolor\":\"white\",\"lakecolor\":\"white\",\"landcolor\":\"#E5ECF6\",\"showlakes\":true,\"showland\":true,\"subunitcolor\":\"white\"},\"hoverlabel\":{\"align\":\"left\"},\"hovermode\":\"closest\",\"mapbox\":{\"style\":\"light\"},\"paper_bgcolor\":\"white\",\"plot_bgcolor\":\"#E5ECF6\",\"polar\":{\"angularaxis\":{\"gridcolor\":\"white\",\"linecolor\":\"white\",\"ticks\":\"\"},\"bgcolor\":\"#E5ECF6\",\"radialaxis\":{\"gridcolor\":\"white\",\"linecolor\":\"white\",\"ticks\":\"\"}},\"scene\":{\"xaxis\":{\"backgroundcolor\":\"#E5ECF6\",\"gridcolor\":\"white\",\"gridwidth\":2,\"linecolor\":\"white\",\"showbackground\":true,\"ticks\":\"\",\"zerolinecolor\":\"white\"},\"yaxis\":{\"backgroundcolor\":\"#E5ECF6\",\"gridcolor\":\"white\",\"gridwidth\":2,\"linecolor\":\"white\",\"showbackground\":true,\"ticks\":\"\",\"zerolinecolor\":\"white\"},\"zaxis\":{\"backgroundcolor\":\"#E5ECF6\",\"gridcolor\":\"white\",\"gridwidth\":2,\"linecolor\":\"white\",\"showbackground\":true,\"ticks\":\"\",\"zerolinecolor\":\"white\"}},\"shapedefaults\":{\"line\":{\"color\":\"#2a3f5f\"}},\"ternary\":{\"aaxis\":{\"gridcolor\":\"white\",\"linecolor\":\"white\",\"ticks\":\"\"},\"baxis\":{\"gridcolor\":\"white\",\"linecolor\":\"white\",\"ticks\":\"\"},\"bgcolor\":\"#E5ECF6\",\"caxis\":{\"gridcolor\":\"white\",\"linecolor\":\"white\",\"ticks\":\"\"}},\"title\":{\"x\":0.05},\"xaxis\":{\"automargin\":true,\"gridcolor\":\"white\",\"linecolor\":\"white\",\"ticks\":\"\",\"title\":{\"standoff\":15},\"zerolinecolor\":\"white\",\"zerolinewidth\":2},\"yaxis\":{\"automargin\":true,\"gridcolor\":\"white\",\"linecolor\":\"white\",\"ticks\":\"\",\"title\":{\"standoff\":15},\"zerolinecolor\":\"white\",\"zerolinewidth\":2}}},\"xaxis\":{\"anchor\":\"y\",\"domain\":[0.0,1.0],\"title\":{\"text\":\"route\"},\"categoryorder\":\"array\",\"categoryarray\":[\"San Francisco, CA TO Los Angeles, CA\",\"Los Angeles, CA TO San Francisco, CA\",\"Chicago, IL TO New York, NY\",\"New York, NY TO Chicago, IL\",\"Los Angeles, CA TO Las Vegas, NV\",\"Las Vegas, NV TO Los Angeles, CA\",\"Los Angeles, CA TO New York, NY\",\"New York, NY TO Los Angeles, CA\",\"Los Angeles, CA TO Seattle, WA\",\"Seattle, WA TO Los Angeles, CA\"]},\"yaxis\":{\"anchor\":\"x\",\"domain\":[0.0,1.0],\"title\":{\"text\":\"income\"}},\"legend\":{\"title\":{\"text\":\"route\"},\"tracegroupgap\":0},\"margin\":{\"t\":60},\"boxmode\":\"overlay\"},                        {\"responsive\": true}                    ).then(function(){\n",
       "                            \n",
       "var gd = document.getElementById('92bcc6d7-309c-4daa-ba3e-079bdade38e3');\n",
       "var x = new MutationObserver(function (mutations, observer) {{\n",
       "        var display = window.getComputedStyle(gd).display;\n",
       "        if (!display || display === 'none') {{\n",
       "            console.log([gd, 'removed!']);\n",
       "            Plotly.purge(gd);\n",
       "            observer.disconnect();\n",
       "        }}\n",
       "}});\n",
       "\n",
       "// Listen for the removal of the full notebook cells\n",
       "var notebookContainer = gd.closest('#notebook-container');\n",
       "if (notebookContainer) {{\n",
       "    x.observe(notebookContainer, {childList: true});\n",
       "}}\n",
       "\n",
       "// Listen for the clearing of the current output cell\n",
       "var outputEl = gd.closest('.output');\n",
       "if (outputEl) {{\n",
       "    x.observe(outputEl, {childList: true});\n",
       "}}\n",
       "\n",
       "                        })                };                });            </script>        </div>"
      ]
     },
     "metadata": {},
     "output_type": "display_data"
    }
   ],
   "source": [
    "#total cost\n",
    "\n",
    "df_income_rout=data.sort_values(by='income',ascending=False)[:10]\n",
    "df = px.data.tips()\n",
    "fig = px.box(df_cost_rout, x=\"route\", y=\"income\", color='route')\n",
    "fig.show()"
   ]
  },
  {
   "cell_type": "markdown",
   "id": "778af463-72a8-4500-84c4-43b36eb18bcc",
   "metadata": {},
   "source": [
    "## Q3 The 5 round trip routes that you recommend to invest in based on any factors that you choose."
   ]
  },
  {
   "cell_type": "markdown",
   "id": "b995e551-3436-48b4-9fa5-8d637fb42533",
   "metadata": {},
   "source": [
    "### The top routes based on multiple criteria to invest on for additional profit are as follows:\n",
    "\n",
    "according to the top roundtrips flights based on profit and rout the top 5 choices would be:\n",
    " \n",
    "1) New York,NY to Los Angeles,CA \n",
    "2) Minnepolis,MN to Orlando,FL \n",
    "3) New York,NY to Las Vegas,NV \n",
    "4) Los Angeles,CA to New York,CA \n",
    "5) Minnepolis,MN to Pheonix,AZ \n",
    "\n",
    "and according to the top roundtrips flights based on income and rout the top 5 choices would be:\n",
    "1) San Francisco, CA TO Los Angeles, CA\n",
    "2) Los Angeles, CA TO San Francisco, CA\n",
    "3) Chicago, IL TO New York, NY\n",
    "4) New York, NY TO Chicago, IL\n",
    "5) Los Angeles, CA TO Las Vegas, NV\n",
    "\n",
    "and according to the top roundtrips flights based on income and rout the top 5 choices would be:\n",
    "1) New York, NY TO Los Angeles, CA\n",
    "2) Minneapolis, MN TO Phoenix, AZ\n",
    "3) New York, NY TO San Francisco, CA\n",
    "4) Minnepolis,MN to Orlando,FL \n",
    "5) Chicago, IL TO New York, NY"
   ]
  },
  {
   "cell_type": "code",
   "execution_count": 55,
   "id": "e5b4482c",
   "metadata": {},
   "outputs": [
    {
     "data": {
      "text/plain": [
       "1585      New York, NY TO Los Angeles, CA\n",
       "2103       Minneapolis, MN TO Phoenix, AZ\n",
       "2321    New York, NY TO San Francisco, CA\n",
       "1739       Minneapolis, MN TO Orlando, FL\n",
       "4038          Chicago, IL TO New York, NY\n",
       "1399      Los Angeles, CA TO New York, NY\n",
       "1606       Chicago, IL TO Los Angeles, CA\n",
       "540           New York, NY TO Chicago, IL\n",
       "2597    Minneapolis, MN TO Fort Myers, FL\n",
       "403     Newark, NJ TO Fort Lauderdale, FL\n",
       "Name: route, dtype: object"
      ]
     },
     "execution_count": 55,
     "metadata": {},
     "output_type": "execute_result"
    }
   ],
   "source": [
    "df_passengres_route['route']"
   ]
  },
  {
   "cell_type": "code",
   "execution_count": 56,
   "id": "cf28b120",
   "metadata": {},
   "outputs": [
    {
     "data": {
      "text/plain": [
       "1585      New York, NY TO Los Angeles, CA\n",
       "2321    New York, NY TO San Francisco, CA\n",
       "1399      Los Angeles, CA TO New York, NY\n",
       "2103       Minneapolis, MN TO Phoenix, AZ\n",
       "1606       Chicago, IL TO Los Angeles, CA\n",
       "2968      Los Angeles, CA TO Honolulu, HI\n",
       "4038          Chicago, IL TO New York, NY\n",
       "1739       Minneapolis, MN TO Orlando, FL\n",
       "2311      Newark, NJ TO San Francisco, CA\n",
       "2597    Minneapolis, MN TO Fort Myers, FL\n",
       "Name: route, dtype: object"
      ]
     },
     "execution_count": 56,
     "metadata": {},
     "output_type": "execute_result"
    }
   ],
   "source": [
    "df_income_rout['route']"
   ]
  },
  {
   "cell_type": "code",
   "execution_count": 118,
   "id": "8855ee1a",
   "metadata": {},
   "outputs": [
    {
     "data": {
      "text/plain": [
       "1585      New York, NY TO Los Angeles, CA\n",
       "2321    New York, NY TO San Francisco, CA\n",
       "2103       Minneapolis, MN TO Phoenix, AZ\n",
       "1399      Los Angeles, CA TO New York, NY\n",
       "2968      Los Angeles, CA TO Honolulu, HI\n",
       "1606       Chicago, IL TO Los Angeles, CA\n",
       "1739       Minneapolis, MN TO Orlando, FL\n",
       "2597    Minneapolis, MN TO Fort Myers, FL\n",
       "2311      Newark, NJ TO San Francisco, CA\n",
       "1485        New York, NY TO Las Vegas, NV\n",
       "Name: route, dtype: object"
      ]
     },
     "execution_count": 118,
     "metadata": {},
     "output_type": "execute_result"
    }
   ],
   "source": [
    "df_profit_route['route']"
   ]
  },
  {
   "cell_type": "markdown",
   "id": "4ed1b8a9-16e1-4aeb-b7c5-4ee1de73843e",
   "metadata": {},
   "source": [
    "## Q4 The number of round trip flights it will take to breakeven on the upfront airplane cost for each of the 5 round trip routes that you recommend. Print key summary components for these routes."
   ]
  },
  {
   "cell_type": "raw",
   "id": "141b4376",
   "metadata": {},
   "source": [
    "upfront_cost=90,000,000\n",
    "\n",
    "# top routs:\n",
    "1) New York,NY to Los Angeles,CA \n",
    "2) Minnepolis,MN to Orlando,FL \n",
    "3) New York,NY to Las Vegas,NV \n",
    "4) Los Angeles,CA to New York,CA \n",
    "5) Minnepolis,MN to Pheonix,AZ "
   ]
  },
  {
   "cell_type": "code",
   "execution_count": 57,
   "id": "28392523",
   "metadata": {},
   "outputs": [
    {
     "data": {
      "text/html": [
       "<div>\n",
       "<style scoped>\n",
       "    .dataframe tbody tr th:only-of-type {\n",
       "        vertical-align: middle;\n",
       "    }\n",
       "\n",
       "    .dataframe tbody tr th {\n",
       "        vertical-align: top;\n",
       "    }\n",
       "\n",
       "    .dataframe thead th {\n",
       "        text-align: right;\n",
       "    }\n",
       "</style>\n",
       "<table border=\"1\" class=\"dataframe\">\n",
       "  <thead>\n",
       "    <tr style=\"text-align: right;\">\n",
       "      <th></th>\n",
       "      <th>route</th>\n",
       "      <th>profit</th>\n",
       "    </tr>\n",
       "  </thead>\n",
       "  <tbody>\n",
       "    <tr>\n",
       "      <th>1585</th>\n",
       "      <td>New York, NY TO Los Angeles, CA</td>\n",
       "      <td>4.137439e+08</td>\n",
       "    </tr>\n",
       "    <tr>\n",
       "      <th>2321</th>\n",
       "      <td>New York, NY TO San Francisco, CA</td>\n",
       "      <td>3.515525e+08</td>\n",
       "    </tr>\n",
       "    <tr>\n",
       "      <th>2103</th>\n",
       "      <td>Minneapolis, MN TO Phoenix, AZ</td>\n",
       "      <td>2.817086e+08</td>\n",
       "    </tr>\n",
       "    <tr>\n",
       "      <th>1399</th>\n",
       "      <td>Los Angeles, CA TO New York, NY</td>\n",
       "      <td>2.538698e+08</td>\n",
       "    </tr>\n",
       "    <tr>\n",
       "      <th>2968</th>\n",
       "      <td>Los Angeles, CA TO Honolulu, HI</td>\n",
       "      <td>2.520551e+08</td>\n",
       "    </tr>\n",
       "    <tr>\n",
       "      <th>1606</th>\n",
       "      <td>Chicago, IL TO Los Angeles, CA</td>\n",
       "      <td>2.441413e+08</td>\n",
       "    </tr>\n",
       "    <tr>\n",
       "      <th>1739</th>\n",
       "      <td>Minneapolis, MN TO Orlando, FL</td>\n",
       "      <td>2.438537e+08</td>\n",
       "    </tr>\n",
       "    <tr>\n",
       "      <th>2597</th>\n",
       "      <td>Minneapolis, MN TO Fort Myers, FL</td>\n",
       "      <td>2.285145e+08</td>\n",
       "    </tr>\n",
       "    <tr>\n",
       "      <th>2311</th>\n",
       "      <td>Newark, NJ TO San Francisco, CA</td>\n",
       "      <td>2.258509e+08</td>\n",
       "    </tr>\n",
       "    <tr>\n",
       "      <th>1485</th>\n",
       "      <td>New York, NY TO Las Vegas, NV</td>\n",
       "      <td>2.139447e+08</td>\n",
       "    </tr>\n",
       "  </tbody>\n",
       "</table>\n",
       "</div>"
      ],
      "text/plain": [
       "                                  route        profit\n",
       "1585    New York, NY TO Los Angeles, CA  4.137439e+08\n",
       "2321  New York, NY TO San Francisco, CA  3.515525e+08\n",
       "2103     Minneapolis, MN TO Phoenix, AZ  2.817086e+08\n",
       "1399    Los Angeles, CA TO New York, NY  2.538698e+08\n",
       "2968    Los Angeles, CA TO Honolulu, HI  2.520551e+08\n",
       "1606     Chicago, IL TO Los Angeles, CA  2.441413e+08\n",
       "1739     Minneapolis, MN TO Orlando, FL  2.438537e+08\n",
       "2597  Minneapolis, MN TO Fort Myers, FL  2.285145e+08\n",
       "2311    Newark, NJ TO San Francisco, CA  2.258509e+08\n",
       "1485      New York, NY TO Las Vegas, NV  2.139447e+08"
      ]
     },
     "execution_count": 57,
     "metadata": {},
     "output_type": "execute_result"
    }
   ],
   "source": [
    "df_profit_route[['route','profit']]"
   ]
  },
  {
   "cell_type": "code",
   "execution_count": 124,
   "id": "0b6e12be",
   "metadata": {},
   "outputs": [
    {
     "data": {
      "text/plain": [
       "130724.77093206951"
      ]
     },
     "execution_count": 124,
     "metadata": {},
     "output_type": "execute_result"
    }
   ],
   "source": [
    "4.137439e+08/3165"
   ]
  },
  {
   "cell_type": "code",
   "execution_count": 123,
   "id": "29191a68",
   "metadata": {},
   "outputs": [
    {
     "data": {
      "text/html": [
       "<div>\n",
       "<style scoped>\n",
       "    .dataframe tbody tr th:only-of-type {\n",
       "        vertical-align: middle;\n",
       "    }\n",
       "\n",
       "    .dataframe tbody tr th {\n",
       "        vertical-align: top;\n",
       "    }\n",
       "\n",
       "    .dataframe thead th {\n",
       "        text-align: right;\n",
       "    }\n",
       "</style>\n",
       "<table border=\"1\" class=\"dataframe\">\n",
       "  <thead>\n",
       "    <tr style=\"text-align: right;\">\n",
       "      <th></th>\n",
       "      <th>route</th>\n",
       "      <th>total_count</th>\n",
       "    </tr>\n",
       "  </thead>\n",
       "  <tbody>\n",
       "    <tr>\n",
       "      <th>1585</th>\n",
       "      <td>New York, NY TO Los Angeles, CA</td>\n",
       "      <td>3158</td>\n",
       "    </tr>\n",
       "    <tr>\n",
       "      <th>2321</th>\n",
       "      <td>New York, NY TO San Francisco, CA</td>\n",
       "      <td>1860</td>\n",
       "    </tr>\n",
       "    <tr>\n",
       "      <th>2103</th>\n",
       "      <td>Minneapolis, MN TO Phoenix, AZ</td>\n",
       "      <td>1124</td>\n",
       "    </tr>\n",
       "    <tr>\n",
       "      <th>1399</th>\n",
       "      <td>Los Angeles, CA TO New York, NY</td>\n",
       "      <td>3162</td>\n",
       "    </tr>\n",
       "    <tr>\n",
       "      <th>2968</th>\n",
       "      <td>Los Angeles, CA TO Honolulu, HI</td>\n",
       "      <td>1365</td>\n",
       "    </tr>\n",
       "    <tr>\n",
       "      <th>1606</th>\n",
       "      <td>Chicago, IL TO Los Angeles, CA</td>\n",
       "      <td>1857</td>\n",
       "    </tr>\n",
       "    <tr>\n",
       "      <th>1739</th>\n",
       "      <td>Minneapolis, MN TO Orlando, FL</td>\n",
       "      <td>628</td>\n",
       "    </tr>\n",
       "    <tr>\n",
       "      <th>2597</th>\n",
       "      <td>Minneapolis, MN TO Fort Myers, FL</td>\n",
       "      <td>516</td>\n",
       "    </tr>\n",
       "    <tr>\n",
       "      <th>2311</th>\n",
       "      <td>Newark, NJ TO San Francisco, CA</td>\n",
       "      <td>1212</td>\n",
       "    </tr>\n",
       "    <tr>\n",
       "      <th>1485</th>\n",
       "      <td>New York, NY TO Las Vegas, NV</td>\n",
       "      <td>871</td>\n",
       "    </tr>\n",
       "  </tbody>\n",
       "</table>\n",
       "</div>"
      ],
      "text/plain": [
       "                                  route  total_count\n",
       "1585    New York, NY TO Los Angeles, CA         3158\n",
       "2321  New York, NY TO San Francisco, CA         1860\n",
       "2103     Minneapolis, MN TO Phoenix, AZ         1124\n",
       "1399    Los Angeles, CA TO New York, NY         3162\n",
       "2968    Los Angeles, CA TO Honolulu, HI         1365\n",
       "1606     Chicago, IL TO Los Angeles, CA         1857\n",
       "1739     Minneapolis, MN TO Orlando, FL          628\n",
       "2597  Minneapolis, MN TO Fort Myers, FL          516\n",
       "2311    Newark, NJ TO San Francisco, CA         1212\n",
       "1485      New York, NY TO Las Vegas, NV          871"
      ]
     },
     "execution_count": 123,
     "metadata": {},
     "output_type": "execute_result"
    }
   ],
   "source": [
    "df_profit_route[['route','total_count']]"
   ]
  },
  {
   "cell_type": "code",
   "execution_count": 120,
   "id": "36399304",
   "metadata": {},
   "outputs": [
    {
     "name": "stdout",
     "output_type": "stream",
     "text": [
      "1585    131014.538135\n",
      "2321    189006.723270\n",
      "2103    250630.420585\n",
      "1399     80287.743439\n",
      "2968    184655.757794\n",
      "1606    131470.825862\n",
      "1739    388302.005606\n",
      "2597    442857.582321\n",
      "2311    186345.622576\n",
      "1485    245631.091860\n",
      "Name: average_profit, dtype: float64\n"
     ]
    },
    {
     "data": {
      "text/html": [
       "<div>\n",
       "<style scoped>\n",
       "    .dataframe tbody tr th:only-of-type {\n",
       "        vertical-align: middle;\n",
       "    }\n",
       "\n",
       "    .dataframe tbody tr th {\n",
       "        vertical-align: top;\n",
       "    }\n",
       "\n",
       "    .dataframe thead th {\n",
       "        text-align: right;\n",
       "    }\n",
       "</style>\n",
       "<table border=\"1\" class=\"dataframe\">\n",
       "  <thead>\n",
       "    <tr style=\"text-align: right;\">\n",
       "      <th></th>\n",
       "      <th>route</th>\n",
       "      <th>number_of_round_trip_flights_to_cost_breakdown</th>\n",
       "    </tr>\n",
       "  </thead>\n",
       "  <tbody>\n",
       "    <tr>\n",
       "      <th>1585</th>\n",
       "      <td>New York, NY TO Los Angeles, CA</td>\n",
       "      <td>69.0</td>\n",
       "    </tr>\n",
       "    <tr>\n",
       "      <th>2321</th>\n",
       "      <td>New York, NY TO San Francisco, CA</td>\n",
       "      <td>48.0</td>\n",
       "    </tr>\n",
       "    <tr>\n",
       "      <th>2103</th>\n",
       "      <td>Minneapolis, MN TO Phoenix, AZ</td>\n",
       "      <td>36.0</td>\n",
       "    </tr>\n",
       "    <tr>\n",
       "      <th>1399</th>\n",
       "      <td>Los Angeles, CA TO New York, NY</td>\n",
       "      <td>112.0</td>\n",
       "    </tr>\n",
       "    <tr>\n",
       "      <th>2968</th>\n",
       "      <td>Los Angeles, CA TO Honolulu, HI</td>\n",
       "      <td>49.0</td>\n",
       "    </tr>\n",
       "    <tr>\n",
       "      <th>1606</th>\n",
       "      <td>Chicago, IL TO Los Angeles, CA</td>\n",
       "      <td>68.0</td>\n",
       "    </tr>\n",
       "    <tr>\n",
       "      <th>1739</th>\n",
       "      <td>Minneapolis, MN TO Orlando, FL</td>\n",
       "      <td>23.0</td>\n",
       "    </tr>\n",
       "    <tr>\n",
       "      <th>2597</th>\n",
       "      <td>Minneapolis, MN TO Fort Myers, FL</td>\n",
       "      <td>20.0</td>\n",
       "    </tr>\n",
       "    <tr>\n",
       "      <th>2311</th>\n",
       "      <td>Newark, NJ TO San Francisco, CA</td>\n",
       "      <td>48.0</td>\n",
       "    </tr>\n",
       "    <tr>\n",
       "      <th>1485</th>\n",
       "      <td>New York, NY TO Las Vegas, NV</td>\n",
       "      <td>37.0</td>\n",
       "    </tr>\n",
       "  </tbody>\n",
       "</table>\n",
       "</div>"
      ],
      "text/plain": [
       "                                  route  \\\n",
       "1585    New York, NY TO Los Angeles, CA   \n",
       "2321  New York, NY TO San Francisco, CA   \n",
       "2103     Minneapolis, MN TO Phoenix, AZ   \n",
       "1399    Los Angeles, CA TO New York, NY   \n",
       "2968    Los Angeles, CA TO Honolulu, HI   \n",
       "1606     Chicago, IL TO Los Angeles, CA   \n",
       "1739     Minneapolis, MN TO Orlando, FL   \n",
       "2597  Minneapolis, MN TO Fort Myers, FL   \n",
       "2311    Newark, NJ TO San Francisco, CA   \n",
       "1485      New York, NY TO Las Vegas, NV   \n",
       "\n",
       "      number_of_round_trip_flights_to_cost_breakdown  \n",
       "1585                                            69.0  \n",
       "2321                                            48.0  \n",
       "2103                                            36.0  \n",
       "1399                                           112.0  \n",
       "2968                                            49.0  \n",
       "1606                                            68.0  \n",
       "1739                                            23.0  \n",
       "2597                                            20.0  \n",
       "2311                                            48.0  \n",
       "1485                                            37.0  "
      ]
     },
     "execution_count": 120,
     "metadata": {},
     "output_type": "execute_result"
    }
   ],
   "source": [
    "df_profit_route['average_profit']=df_profit_route['profit']/df_profit_route['total_count']\n",
    "print(df_profit_route['average_profit'])\n",
    "df_profit_route['number_of_round_trip_flights_to_cost_breakdown']=(round(9000000/df_profit_route['average_profit']))\n",
    "df_profit_route[['route', 'number_of_round_trip_flights_to_cost_breakdown']]"
   ]
  },
  {
   "cell_type": "code",
   "execution_count": 59,
   "id": "6f21d947",
   "metadata": {},
   "outputs": [
    {
     "data": {
      "text/plain": [
       "1585     69.0\n",
       "2321     48.0\n",
       "2103     36.0\n",
       "1399    112.0\n",
       "2968     49.0\n",
       "1606     68.0\n",
       "1739     23.0\n",
       "2597     20.0\n",
       "2311     48.0\n",
       "1485     37.0\n",
       "Name: average_profit, dtype: float64"
      ]
     },
     "execution_count": 59,
     "metadata": {},
     "output_type": "execute_result"
    }
   ],
   "source": [
    "(round(9000000/df_profit_route['average_profit']))"
   ]
  },
  {
   "cell_type": "markdown",
   "id": "685045c1-4047-4096-8363-e3a52165bdd1",
   "metadata": {},
   "source": [
    "## Q5) Key Performance Indicators (KPI’s) that you recommend tracking in the future to measure the success of the round trip routes that you recommend."
   ]
  },
  {
   "cell_type": "code",
   "execution_count": 125,
   "id": "930554ad-6afe-419b-a211-f756d6e198cd",
   "metadata": {},
   "outputs": [
    {
     "data": {
      "text/plain": [
       "Index(['route', 'PASSENGERS', 'ITIN_FARE', 'DEP_DELAY', 'ARR_DELAY',\n",
       "       'DISTANCE', 'OCCUPANCY_RATE', 'total_count', 'TYPE_left', 'TYPE_right',\n",
       "       'total_fare', 'baggage_cost', 'arr_delay_cost', 'dep_delay_cost',\n",
       "       'airport_cost', 'other_cost', 'income', 'cost'],\n",
       "      dtype='object')"
      ]
     },
     "execution_count": 125,
     "metadata": {},
     "output_type": "execute_result"
    }
   ],
   "source": [
    "data.columns"
   ]
  },
  {
   "cell_type": "code",
   "execution_count": 129,
   "id": "3472e596",
   "metadata": {},
   "outputs": [
    {
     "name": "stdout",
     "output_type": "stream",
     "text": [
      "                PASSENGERS  ITIN_FARE  DEP_DELAY  ARR_DELAY  DISTANCE  \\\n",
      "PASSENGERS        1.000000   0.958365   0.628690   0.639851  0.653207   \n",
      "ITIN_FARE         0.958365   1.000000   0.553698   0.572454  0.574705   \n",
      "DEP_DELAY         0.628690   0.553698   1.000000   0.979894  0.927546   \n",
      "ARR_DELAY         0.639851   0.572454   0.979894   1.000000  0.920173   \n",
      "DISTANCE          0.653207   0.574705   0.927546   0.920173  1.000000   \n",
      "OCCUPANCY_RATE    0.650750   0.571796   0.927521   0.920137  0.999833   \n",
      "total_count       0.650928   0.571927   0.927520   0.920286  0.999938   \n",
      "total_fare        0.883142   0.879640   0.537335   0.568567  0.545060   \n",
      "baggage_cost      0.650750   0.571796   0.927521   0.920137  0.999833   \n",
      "arr_delay_cost    0.639851   0.572454   0.979894   1.000000  0.920173   \n",
      "dep_delay_cost    0.628690   0.553698   1.000000   0.979894  0.927546   \n",
      "airport_cost      0.667397   0.589526   0.928989   0.920085  0.995564   \n",
      "other_cost        0.653207   0.574705   0.927546   0.920173  1.000000   \n",
      "income            0.893131   0.884535   0.578591   0.608165  0.590811   \n",
      "cost              0.664925   0.586865   0.931033   0.922583  0.997359   \n",
      "\n",
      "                OCCUPANCY_RATE  total_count  total_fare  baggage_cost  \\\n",
      "PASSENGERS            0.650750     0.650928    0.883142      0.650750   \n",
      "ITIN_FARE             0.571796     0.571927    0.879640      0.571796   \n",
      "DEP_DELAY             0.927521     0.927520    0.537335      0.927521   \n",
      "ARR_DELAY             0.920137     0.920286    0.568567      0.920137   \n",
      "DISTANCE              0.999833     0.999938    0.545060      0.999833   \n",
      "OCCUPANCY_RATE        1.000000     0.999892    0.542576      1.000000   \n",
      "total_count           0.999892     1.000000    0.542767      0.999892   \n",
      "total_fare            0.542576     0.542767    1.000000      0.542576   \n",
      "baggage_cost          1.000000     0.999892    0.542576      1.000000   \n",
      "arr_delay_cost        0.920137     0.920286    0.568567      0.920137   \n",
      "dep_delay_cost        0.927521     0.927520    0.537335      0.927521   \n",
      "airport_cost          0.995417     0.995506    0.553760      0.995417   \n",
      "other_cost            0.999833     0.999938    0.545060      0.999833   \n",
      "income                0.588432     0.588608    0.998454      0.588432   \n",
      "cost                  0.997209     0.997301    0.552749      0.997209   \n",
      "\n",
      "                arr_delay_cost  dep_delay_cost  airport_cost  other_cost  \\\n",
      "PASSENGERS            0.639851        0.628690      0.667397    0.653207   \n",
      "ITIN_FARE             0.572454        0.553698      0.589526    0.574705   \n",
      "DEP_DELAY             0.979894        1.000000      0.928989    0.927546   \n",
      "ARR_DELAY             1.000000        0.979894      0.920085    0.920173   \n",
      "DISTANCE              0.920173        0.927546      0.995564    1.000000   \n",
      "OCCUPANCY_RATE        0.920137        0.927521      0.995417    0.999833   \n",
      "total_count           0.920286        0.927520      0.995506    0.999938   \n",
      "total_fare            0.568567        0.537335      0.553760    0.545060   \n",
      "baggage_cost          0.920137        0.927521      0.995417    0.999833   \n",
      "arr_delay_cost        1.000000        0.979894      0.920085    0.920173   \n",
      "dep_delay_cost        0.979894        1.000000      0.928989    0.927546   \n",
      "airport_cost          0.920085        0.928989      1.000000    0.995564   \n",
      "other_cost            0.920173        0.927546      0.995564    1.000000   \n",
      "income                0.608165        0.578591      0.598894    0.590811   \n",
      "cost                  0.922583        0.931033      0.999754    0.997359   \n",
      "\n",
      "                  income      cost  \n",
      "PASSENGERS      0.893131  0.664925  \n",
      "ITIN_FARE       0.884535  0.586865  \n",
      "DEP_DELAY       0.578591  0.931033  \n",
      "ARR_DELAY       0.608165  0.922583  \n",
      "DISTANCE        0.590811  0.997359  \n",
      "OCCUPANCY_RATE  0.588432  0.997209  \n",
      "total_count     0.588608  0.997301  \n",
      "total_fare      0.998454  0.552749  \n",
      "baggage_cost    0.588432  0.997209  \n",
      "arr_delay_cost  0.608165  0.922583  \n",
      "dep_delay_cost  0.578591  0.931033  \n",
      "airport_cost    0.598894  0.999754  \n",
      "other_cost      0.590811  0.997359  \n",
      "income          1.000000  0.598038  \n",
      "cost            0.598038  1.000000  \n"
     ]
    },
    {
     "data": {
      "image/png": "[encoded data removed]",
      "text/plain": [
       "<Figure size 1440x360 with 2 Axes>"
      ]
     },
     "metadata": {
      "needs_background": "light"
     },
     "output_type": "display_data"
    }
   ],
   "source": [
    "# checking correlation using heatmap\n",
    "print(data.corr()) \n",
    "#plotting the heatmap for correlation\n",
    "ax = sns.heatmap(data.corr(), annot=True)"
   ]
  },
  {
   "cell_type": "code",
   "execution_count": 62,
   "id": "198652bb",
   "metadata": {},
   "outputs": [],
   "source": [
    "#finding the statistically significant variables\n",
    "#checking if the varaible has correlation with income and cost\n",
    "#checking if p-value is less than .05, then we would conclude that there is a statistically significant correlation \n",
    "#between the two variables"
   ]
  },
  {
   "cell_type": "code",
   "execution_count": 136,
   "id": "cc09fb39",
   "metadata": {},
   "outputs": [
    {
     "name": "stdout",
     "output_type": "stream",
     "text": [
      "PASSENGERS (0.8931310930705971, 0.0)\n",
      "ITIN_FARE (0.8845352000272768, 0.0)\n",
      "DEP_DELAY (0.5785905647006495, 0.0)\n",
      "ARR_DELAY (0.6081645373391363, 0.0)\n",
      "DISTANCE (0.5908110702937105, 0.0)\n",
      "OCCUPANCY_RATE (0.5884319341895171, 0.0)\n",
      "total_count (0.5886080279323117, 0.0)\n",
      "total_fare (0.9984537793431376, 0.0)\n",
      "baggage_cost (0.5884319341895171, 0.0)\n",
      "arr_delay_cost (0.6081645373391363, 0.0)\n",
      "dep_delay_cost (0.5785905647006495, 0.0)\n",
      "airport_cost (0.5988938641139073, 0.0)\n",
      "other_cost (0.5908110702937105, 0.0)\n",
      "income (1.0, 0.0)\n",
      "cost (0.5980384662163519, 0.0)\n"
     ]
    }
   ],
   "source": [
    "data1=data[['PASSENGERS', 'ITIN_FARE', 'DEP_DELAY', 'ARR_DELAY',\n",
    "       'DISTANCE', 'OCCUPANCY_RATE', 'total_count',\n",
    "       'total_fare', 'baggage_cost', 'arr_delay_cost', 'dep_delay_cost',\n",
    "       'airport_cost', 'other_cost', 'income', 'cost']]\n",
    "for c in data1.columns:\n",
    "    print(c, pearsonr(data1[c], data['income']))"
   ]
  },
  {
   "cell_type": "code",
   "execution_count": 64,
   "id": "ebd555a7-4776-4b84-87bb-2ff7b6ab495e",
   "metadata": {},
   "outputs": [
    {
     "name": "stdout",
     "output_type": "stream",
     "text": [
      "(0.8845352000272768, 0.0)\n",
      "(0.5908110702937105, 0.0)\n",
      "(0.5884319341895171, 0.0)\n",
      "(0.6081645373391363, 0.0)\n",
      "(0.5785905647006495, 0.0)\n"
     ]
    }
   ],
   "source": [
    "correlation_pvalue_init_fare=pearsonr(data['ITIN_FARE'], data['income'])\n",
    "correlation_pvalue_distance=pearsonr(data['DISTANCE'], data['income'])\n",
    "correlation_pvalue_occupancy_rate=pearsonr(data['OCCUPANCY_RATE'], data['income'])\n",
    "\n",
    "correlation_pvalue_occupancy_rate=pearsonr(data['OCCUPANCY_RATE'], data['income'])\n",
    "correlation_pvalue_arrival_delay=pearsonr(data['ARR_DELAY'], data['income'])\n",
    "\n",
    "correlation_pvalue_departure_delay=pearsonr(data['DEP_DELAY'], data['income'])\n",
    "\n",
    "print(correlation_pvalue_init_fare)\n",
    "print(correlation_pvalue_distance)\n",
    "print(correlation_pvalue_occupancy_rate)\n",
    "print(correlation_pvalue_arrival_delay)\n",
    "print(correlation_pvalue_departure_delay)"
   ]
  },
  {
   "cell_type": "markdown",
   "id": "7763f474-3b8e-4830-93d1-1e20f0123198",
   "metadata": {},
   "source": [
    "Significant KPI's in the data based on our analysis:\n",
    "\n",
    "1) Distance\n",
    "2) Fare amount\n",
    "3) Fuel, oil, insurance and other costs\n",
    "4) Arrival Delay\n",
    "5) Departure Delay\n",
    "6) Occupancy Rate\n",
    "\n",
    "KPI's not provided in this study that focusing on them may have return in investmen and improve the quality of the service:   \n",
    "\n",
    "1) Flight cancelleation rate and policy for cancelling before and up to 24 hours before the flight\n",
    "\n",
    "2) Flight cancelleation rate and no-show rate (if any) prediction\n",
    "\n",
    "3) Population and median housholde income of the city. Bigger population and income means more premium travel requirement\n",
    "\n",
    "4) Tourism and seasonal attractions of the cities, for example more passengers may fly to warmer cities with a beach during new year holidays\n",
    "\n",
    "5) Business or industry facilities in a city, for example many passengers may flight in and out from cities that have a large companies headquarters\n",
    "\n",
    "6) Flight change, delay and cancelletion information to be shared with passengers in more than 24 hours from flight departure time \n",
    "\n",
    "7) Promotion and discounted ticket information can be a motivaional factpr for passengers especially during holiday season\n",
    "\n",
    "8) Distribution of Business and Economy level seats"
   ]
  }
 ],
 "metadata": {
  "kernelspec": {
   "display_name": "Python 3 (ipykernel)",
   "language": "python",
   "name": "python3"
  },
  "language_info": {
   "codemirror_mode": {
    "name": "ipython",
    "version": 3
   },
   "file_extension": ".py",
   "mimetype": "text/x-python",
   "name": "python",
   "nbconvert_exporter": "python",
   "pygments_lexer": "ipython3",
   "version": "3.9.12"
  }
 },
 "nbformat": 4,
 "nbformat_minor": 5
}
